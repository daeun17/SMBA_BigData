{
 "cells": [
  {
   "cell_type": "markdown",
   "id": "e9a85c52",
   "metadata": {},
   "source": [
    "# 다중회귀 (Multiple Regression)"
   ]
  },
  {
   "cell_type": "code",
   "execution_count": 2,
   "id": "96c4824b",
   "metadata": {},
   "outputs": [],
   "source": [
    "# 여러개의 특성 ( 독립변수 = 컬럼 = 항목 = 변수 모두 같은 의미)을 사용한 선형회귀 \n",
    "# 특성이 많을 수록 복잡도가 높아짐 \n",
    "# y = a* 특성1 + b* 특성2 + ... + 절편\n",
    "# 기울기를 계속 곱한다 \n",
    "# 특성이 많을 수록 복잡도가 높아진다 -> 특성이 많으면 다항 회귀를 쓰는 것이 좋다 "
   ]
  },
  {
   "cell_type": "code",
   "execution_count": 3,
   "id": "d6422cd9",
   "metadata": {},
   "outputs": [],
   "source": [
    "# 03_ 농어의 길이 높이 두께 데이터 파일읽어 들이기 \n",
    "# 변수명 = df\n",
    "import pandas as pd "
   ]
  },
  {
   "cell_type": "code",
   "execution_count": 5,
   "id": "a456a600",
   "metadata": {},
   "outputs": [
    {
     "data": {
      "text/html": [
       "<div>\n",
       "<style scoped>\n",
       "    .dataframe tbody tr th:only-of-type {\n",
       "        vertical-align: middle;\n",
       "    }\n",
       "\n",
       "    .dataframe tbody tr th {\n",
       "        vertical-align: top;\n",
       "    }\n",
       "\n",
       "    .dataframe thead th {\n",
       "        text-align: right;\n",
       "    }\n",
       "</style>\n",
       "<table border=\"1\" class=\"dataframe\">\n",
       "  <thead>\n",
       "    <tr style=\"text-align: right;\">\n",
       "      <th></th>\n",
       "      <th>length</th>\n",
       "      <th>height</th>\n",
       "      <th>width</th>\n",
       "    </tr>\n",
       "  </thead>\n",
       "  <tbody>\n",
       "    <tr>\n",
       "      <th>0</th>\n",
       "      <td>8.4</td>\n",
       "      <td>2.11</td>\n",
       "      <td>1.41</td>\n",
       "    </tr>\n",
       "    <tr>\n",
       "      <th>1</th>\n",
       "      <td>13.7</td>\n",
       "      <td>3.53</td>\n",
       "      <td>2.00</td>\n",
       "    </tr>\n",
       "    <tr>\n",
       "      <th>2</th>\n",
       "      <td>15.0</td>\n",
       "      <td>3.82</td>\n",
       "      <td>2.43</td>\n",
       "    </tr>\n",
       "    <tr>\n",
       "      <th>3</th>\n",
       "      <td>16.2</td>\n",
       "      <td>4.59</td>\n",
       "      <td>2.63</td>\n",
       "    </tr>\n",
       "    <tr>\n",
       "      <th>4</th>\n",
       "      <td>17.4</td>\n",
       "      <td>4.59</td>\n",
       "      <td>2.94</td>\n",
       "    </tr>\n",
       "    <tr>\n",
       "      <th>5</th>\n",
       "      <td>18.0</td>\n",
       "      <td>5.22</td>\n",
       "      <td>3.32</td>\n",
       "    </tr>\n",
       "    <tr>\n",
       "      <th>6</th>\n",
       "      <td>18.7</td>\n",
       "      <td>5.20</td>\n",
       "      <td>3.12</td>\n",
       "    </tr>\n",
       "    <tr>\n",
       "      <th>7</th>\n",
       "      <td>19.0</td>\n",
       "      <td>5.64</td>\n",
       "      <td>3.05</td>\n",
       "    </tr>\n",
       "    <tr>\n",
       "      <th>8</th>\n",
       "      <td>19.6</td>\n",
       "      <td>5.14</td>\n",
       "      <td>3.04</td>\n",
       "    </tr>\n",
       "    <tr>\n",
       "      <th>9</th>\n",
       "      <td>20.0</td>\n",
       "      <td>5.08</td>\n",
       "      <td>2.77</td>\n",
       "    </tr>\n",
       "    <tr>\n",
       "      <th>10</th>\n",
       "      <td>21.0</td>\n",
       "      <td>5.69</td>\n",
       "      <td>3.56</td>\n",
       "    </tr>\n",
       "    <tr>\n",
       "      <th>11</th>\n",
       "      <td>21.0</td>\n",
       "      <td>5.92</td>\n",
       "      <td>3.31</td>\n",
       "    </tr>\n",
       "    <tr>\n",
       "      <th>12</th>\n",
       "      <td>21.0</td>\n",
       "      <td>5.69</td>\n",
       "      <td>3.67</td>\n",
       "    </tr>\n",
       "    <tr>\n",
       "      <th>13</th>\n",
       "      <td>21.3</td>\n",
       "      <td>6.38</td>\n",
       "      <td>3.53</td>\n",
       "    </tr>\n",
       "    <tr>\n",
       "      <th>14</th>\n",
       "      <td>22.0</td>\n",
       "      <td>6.11</td>\n",
       "      <td>3.41</td>\n",
       "    </tr>\n",
       "    <tr>\n",
       "      <th>15</th>\n",
       "      <td>22.0</td>\n",
       "      <td>5.64</td>\n",
       "      <td>3.52</td>\n",
       "    </tr>\n",
       "    <tr>\n",
       "      <th>16</th>\n",
       "      <td>22.0</td>\n",
       "      <td>6.11</td>\n",
       "      <td>3.52</td>\n",
       "    </tr>\n",
       "    <tr>\n",
       "      <th>17</th>\n",
       "      <td>22.0</td>\n",
       "      <td>5.88</td>\n",
       "      <td>3.52</td>\n",
       "    </tr>\n",
       "    <tr>\n",
       "      <th>18</th>\n",
       "      <td>22.0</td>\n",
       "      <td>5.52</td>\n",
       "      <td>4.00</td>\n",
       "    </tr>\n",
       "    <tr>\n",
       "      <th>19</th>\n",
       "      <td>22.5</td>\n",
       "      <td>5.86</td>\n",
       "      <td>3.62</td>\n",
       "    </tr>\n",
       "    <tr>\n",
       "      <th>20</th>\n",
       "      <td>22.5</td>\n",
       "      <td>6.79</td>\n",
       "      <td>3.62</td>\n",
       "    </tr>\n",
       "    <tr>\n",
       "      <th>21</th>\n",
       "      <td>22.7</td>\n",
       "      <td>5.95</td>\n",
       "      <td>3.63</td>\n",
       "    </tr>\n",
       "    <tr>\n",
       "      <th>22</th>\n",
       "      <td>23.0</td>\n",
       "      <td>5.22</td>\n",
       "      <td>3.63</td>\n",
       "    </tr>\n",
       "    <tr>\n",
       "      <th>23</th>\n",
       "      <td>23.5</td>\n",
       "      <td>6.28</td>\n",
       "      <td>3.72</td>\n",
       "    </tr>\n",
       "    <tr>\n",
       "      <th>24</th>\n",
       "      <td>24.0</td>\n",
       "      <td>7.29</td>\n",
       "      <td>3.72</td>\n",
       "    </tr>\n",
       "    <tr>\n",
       "      <th>25</th>\n",
       "      <td>24.0</td>\n",
       "      <td>6.38</td>\n",
       "      <td>3.82</td>\n",
       "    </tr>\n",
       "    <tr>\n",
       "      <th>26</th>\n",
       "      <td>24.6</td>\n",
       "      <td>6.73</td>\n",
       "      <td>4.17</td>\n",
       "    </tr>\n",
       "    <tr>\n",
       "      <th>27</th>\n",
       "      <td>25.0</td>\n",
       "      <td>6.44</td>\n",
       "      <td>3.68</td>\n",
       "    </tr>\n",
       "    <tr>\n",
       "      <th>28</th>\n",
       "      <td>25.6</td>\n",
       "      <td>6.56</td>\n",
       "      <td>4.24</td>\n",
       "    </tr>\n",
       "    <tr>\n",
       "      <th>29</th>\n",
       "      <td>26.5</td>\n",
       "      <td>7.17</td>\n",
       "      <td>4.14</td>\n",
       "    </tr>\n",
       "    <tr>\n",
       "      <th>30</th>\n",
       "      <td>27.3</td>\n",
       "      <td>8.32</td>\n",
       "      <td>5.14</td>\n",
       "    </tr>\n",
       "    <tr>\n",
       "      <th>31</th>\n",
       "      <td>27.5</td>\n",
       "      <td>7.17</td>\n",
       "      <td>4.34</td>\n",
       "    </tr>\n",
       "    <tr>\n",
       "      <th>32</th>\n",
       "      <td>27.5</td>\n",
       "      <td>7.05</td>\n",
       "      <td>4.34</td>\n",
       "    </tr>\n",
       "    <tr>\n",
       "      <th>33</th>\n",
       "      <td>27.5</td>\n",
       "      <td>7.28</td>\n",
       "      <td>4.57</td>\n",
       "    </tr>\n",
       "    <tr>\n",
       "      <th>34</th>\n",
       "      <td>28.0</td>\n",
       "      <td>7.82</td>\n",
       "      <td>4.20</td>\n",
       "    </tr>\n",
       "    <tr>\n",
       "      <th>35</th>\n",
       "      <td>28.7</td>\n",
       "      <td>7.59</td>\n",
       "      <td>4.64</td>\n",
       "    </tr>\n",
       "    <tr>\n",
       "      <th>36</th>\n",
       "      <td>30.0</td>\n",
       "      <td>7.62</td>\n",
       "      <td>4.77</td>\n",
       "    </tr>\n",
       "    <tr>\n",
       "      <th>37</th>\n",
       "      <td>32.8</td>\n",
       "      <td>10.03</td>\n",
       "      <td>6.02</td>\n",
       "    </tr>\n",
       "    <tr>\n",
       "      <th>38</th>\n",
       "      <td>34.5</td>\n",
       "      <td>10.26</td>\n",
       "      <td>6.39</td>\n",
       "    </tr>\n",
       "    <tr>\n",
       "      <th>39</th>\n",
       "      <td>35.0</td>\n",
       "      <td>11.49</td>\n",
       "      <td>7.80</td>\n",
       "    </tr>\n",
       "    <tr>\n",
       "      <th>40</th>\n",
       "      <td>36.5</td>\n",
       "      <td>10.88</td>\n",
       "      <td>6.86</td>\n",
       "    </tr>\n",
       "    <tr>\n",
       "      <th>41</th>\n",
       "      <td>36.0</td>\n",
       "      <td>10.61</td>\n",
       "      <td>6.74</td>\n",
       "    </tr>\n",
       "    <tr>\n",
       "      <th>42</th>\n",
       "      <td>37.0</td>\n",
       "      <td>10.84</td>\n",
       "      <td>6.26</td>\n",
       "    </tr>\n",
       "    <tr>\n",
       "      <th>43</th>\n",
       "      <td>37.0</td>\n",
       "      <td>10.57</td>\n",
       "      <td>6.37</td>\n",
       "    </tr>\n",
       "    <tr>\n",
       "      <th>44</th>\n",
       "      <td>39.0</td>\n",
       "      <td>11.14</td>\n",
       "      <td>7.49</td>\n",
       "    </tr>\n",
       "    <tr>\n",
       "      <th>45</th>\n",
       "      <td>39.0</td>\n",
       "      <td>11.14</td>\n",
       "      <td>6.00</td>\n",
       "    </tr>\n",
       "    <tr>\n",
       "      <th>46</th>\n",
       "      <td>39.0</td>\n",
       "      <td>12.43</td>\n",
       "      <td>7.35</td>\n",
       "    </tr>\n",
       "    <tr>\n",
       "      <th>47</th>\n",
       "      <td>40.0</td>\n",
       "      <td>11.93</td>\n",
       "      <td>7.11</td>\n",
       "    </tr>\n",
       "    <tr>\n",
       "      <th>48</th>\n",
       "      <td>40.0</td>\n",
       "      <td>11.73</td>\n",
       "      <td>7.22</td>\n",
       "    </tr>\n",
       "    <tr>\n",
       "      <th>49</th>\n",
       "      <td>40.0</td>\n",
       "      <td>12.38</td>\n",
       "      <td>7.46</td>\n",
       "    </tr>\n",
       "    <tr>\n",
       "      <th>50</th>\n",
       "      <td>40.0</td>\n",
       "      <td>11.14</td>\n",
       "      <td>6.63</td>\n",
       "    </tr>\n",
       "    <tr>\n",
       "      <th>51</th>\n",
       "      <td>42.0</td>\n",
       "      <td>12.80</td>\n",
       "      <td>6.87</td>\n",
       "    </tr>\n",
       "    <tr>\n",
       "      <th>52</th>\n",
       "      <td>43.0</td>\n",
       "      <td>11.93</td>\n",
       "      <td>7.28</td>\n",
       "    </tr>\n",
       "    <tr>\n",
       "      <th>53</th>\n",
       "      <td>43.0</td>\n",
       "      <td>12.51</td>\n",
       "      <td>7.42</td>\n",
       "    </tr>\n",
       "    <tr>\n",
       "      <th>54</th>\n",
       "      <td>43.5</td>\n",
       "      <td>12.60</td>\n",
       "      <td>8.14</td>\n",
       "    </tr>\n",
       "    <tr>\n",
       "      <th>55</th>\n",
       "      <td>44.0</td>\n",
       "      <td>12.49</td>\n",
       "      <td>7.60</td>\n",
       "    </tr>\n",
       "  </tbody>\n",
       "</table>\n",
       "</div>"
      ],
      "text/plain": [
       "    length   height   width\n",
       "0      8.4     2.11    1.41\n",
       "1     13.7     3.53    2.00\n",
       "2     15.0     3.82    2.43\n",
       "3     16.2     4.59    2.63\n",
       "4     17.4     4.59    2.94\n",
       "5     18.0     5.22    3.32\n",
       "6     18.7     5.20    3.12\n",
       "7     19.0     5.64    3.05\n",
       "8     19.6     5.14    3.04\n",
       "9     20.0     5.08    2.77\n",
       "10    21.0     5.69    3.56\n",
       "11    21.0     5.92    3.31\n",
       "12    21.0     5.69    3.67\n",
       "13    21.3     6.38    3.53\n",
       "14    22.0     6.11    3.41\n",
       "15    22.0     5.64    3.52\n",
       "16    22.0     6.11    3.52\n",
       "17    22.0     5.88    3.52\n",
       "18    22.0     5.52    4.00\n",
       "19    22.5     5.86    3.62\n",
       "20    22.5     6.79    3.62\n",
       "21    22.7     5.95    3.63\n",
       "22    23.0     5.22    3.63\n",
       "23    23.5     6.28    3.72\n",
       "24    24.0     7.29    3.72\n",
       "25    24.0     6.38    3.82\n",
       "26    24.6     6.73    4.17\n",
       "27    25.0     6.44    3.68\n",
       "28    25.6     6.56    4.24\n",
       "29    26.5     7.17    4.14\n",
       "30    27.3     8.32    5.14\n",
       "31    27.5     7.17    4.34\n",
       "32    27.5     7.05    4.34\n",
       "33    27.5     7.28    4.57\n",
       "34    28.0     7.82    4.20\n",
       "35    28.7     7.59    4.64\n",
       "36    30.0     7.62    4.77\n",
       "37    32.8    10.03    6.02\n",
       "38    34.5    10.26    6.39\n",
       "39    35.0    11.49    7.80\n",
       "40    36.5    10.88    6.86\n",
       "41    36.0    10.61    6.74\n",
       "42    37.0    10.84    6.26\n",
       "43    37.0    10.57    6.37\n",
       "44    39.0    11.14    7.49\n",
       "45    39.0    11.14    6.00\n",
       "46    39.0    12.43    7.35\n",
       "47    40.0    11.93    7.11\n",
       "48    40.0    11.73    7.22\n",
       "49    40.0    12.38    7.46\n",
       "50    40.0    11.14    6.63\n",
       "51    42.0    12.80    6.87\n",
       "52    43.0    11.93    7.28\n",
       "53    43.0    12.51    7.42\n",
       "54    43.5    12.60    8.14\n",
       "55    44.0    12.49    7.60"
      ]
     },
     "execution_count": 5,
     "metadata": {},
     "output_type": "execute_result"
    }
   ],
   "source": [
    "df = pd.read_csv(\"./data/03_농어의_길이_높이_두께_데이터.csv\")\n",
    "df"
   ]
  },
  {
   "cell_type": "code",
   "execution_count": 7,
   "id": "17ed8d07",
   "metadata": {},
   "outputs": [
    {
     "name": "stdout",
     "output_type": "stream",
     "text": [
      "<class 'pandas.core.frame.DataFrame'>\n",
      "RangeIndex: 56 entries, 0 to 55\n",
      "Data columns (total 3 columns):\n",
      " #   Column   Non-Null Count  Dtype  \n",
      "---  ------   --------------  -----  \n",
      " 0   length   56 non-null     float64\n",
      " 1    height  56 non-null     float64\n",
      " 2    width   56 non-null     float64\n",
      "dtypes: float64(3)\n",
      "memory usage: 1.4 KB\n"
     ]
    },
    {
     "data": {
      "text/html": [
       "<div>\n",
       "<style scoped>\n",
       "    .dataframe tbody tr th:only-of-type {\n",
       "        vertical-align: middle;\n",
       "    }\n",
       "\n",
       "    .dataframe tbody tr th {\n",
       "        vertical-align: top;\n",
       "    }\n",
       "\n",
       "    .dataframe thead th {\n",
       "        text-align: right;\n",
       "    }\n",
       "</style>\n",
       "<table border=\"1\" class=\"dataframe\">\n",
       "  <thead>\n",
       "    <tr style=\"text-align: right;\">\n",
       "      <th></th>\n",
       "      <th>length</th>\n",
       "      <th>height</th>\n",
       "      <th>width</th>\n",
       "    </tr>\n",
       "  </thead>\n",
       "  <tbody>\n",
       "    <tr>\n",
       "      <th>count</th>\n",
       "      <td>56.000000</td>\n",
       "      <td>56.000000</td>\n",
       "      <td>56.000000</td>\n",
       "    </tr>\n",
       "    <tr>\n",
       "      <th>mean</th>\n",
       "      <td>27.892857</td>\n",
       "      <td>7.862143</td>\n",
       "      <td>4.745536</td>\n",
       "    </tr>\n",
       "    <tr>\n",
       "      <th>std</th>\n",
       "      <td>9.021668</td>\n",
       "      <td>2.878343</td>\n",
       "      <td>1.775006</td>\n",
       "    </tr>\n",
       "    <tr>\n",
       "      <th>min</th>\n",
       "      <td>8.400000</td>\n",
       "      <td>2.110000</td>\n",
       "      <td>1.410000</td>\n",
       "    </tr>\n",
       "    <tr>\n",
       "      <th>25%</th>\n",
       "      <td>21.825000</td>\n",
       "      <td>5.690000</td>\n",
       "      <td>3.520000</td>\n",
       "    </tr>\n",
       "    <tr>\n",
       "      <th>50%</th>\n",
       "      <td>25.300000</td>\n",
       "      <td>6.920000</td>\n",
       "      <td>4.155000</td>\n",
       "    </tr>\n",
       "    <tr>\n",
       "      <th>75%</th>\n",
       "      <td>36.625000</td>\n",
       "      <td>10.850000</td>\n",
       "      <td>6.450000</td>\n",
       "    </tr>\n",
       "    <tr>\n",
       "      <th>max</th>\n",
       "      <td>44.000000</td>\n",
       "      <td>12.800000</td>\n",
       "      <td>8.140000</td>\n",
       "    </tr>\n",
       "  </tbody>\n",
       "</table>\n",
       "</div>"
      ],
      "text/plain": [
       "          length     height      width\n",
       "count  56.000000  56.000000  56.000000\n",
       "mean   27.892857   7.862143   4.745536\n",
       "std     9.021668   2.878343   1.775006\n",
       "min     8.400000   2.110000   1.410000\n",
       "25%    21.825000   5.690000   3.520000\n",
       "50%    25.300000   6.920000   4.155000\n",
       "75%    36.625000  10.850000   6.450000\n",
       "max    44.000000  12.800000   8.140000"
      ]
     },
     "execution_count": 7,
     "metadata": {},
     "output_type": "execute_result"
    }
   ],
   "source": [
    "df.head()\n",
    "df.info()\n",
    "df.describe()"
   ]
  },
  {
   "cell_type": "code",
   "execution_count": 8,
   "id": "a37dad33",
   "metadata": {},
   "outputs": [
    {
     "data": {
      "text/plain": [
       "array([[ 8.4 ,  2.11,  1.41],\n",
       "       [13.7 ,  3.53,  2.  ],\n",
       "       [15.  ,  3.82,  2.43],\n",
       "       [16.2 ,  4.59,  2.63],\n",
       "       [17.4 ,  4.59,  2.94],\n",
       "       [18.  ,  5.22,  3.32],\n",
       "       [18.7 ,  5.2 ,  3.12],\n",
       "       [19.  ,  5.64,  3.05],\n",
       "       [19.6 ,  5.14,  3.04],\n",
       "       [20.  ,  5.08,  2.77],\n",
       "       [21.  ,  5.69,  3.56],\n",
       "       [21.  ,  5.92,  3.31],\n",
       "       [21.  ,  5.69,  3.67],\n",
       "       [21.3 ,  6.38,  3.53],\n",
       "       [22.  ,  6.11,  3.41],\n",
       "       [22.  ,  5.64,  3.52],\n",
       "       [22.  ,  6.11,  3.52],\n",
       "       [22.  ,  5.88,  3.52],\n",
       "       [22.  ,  5.52,  4.  ],\n",
       "       [22.5 ,  5.86,  3.62],\n",
       "       [22.5 ,  6.79,  3.62],\n",
       "       [22.7 ,  5.95,  3.63],\n",
       "       [23.  ,  5.22,  3.63],\n",
       "       [23.5 ,  6.28,  3.72],\n",
       "       [24.  ,  7.29,  3.72],\n",
       "       [24.  ,  6.38,  3.82],\n",
       "       [24.6 ,  6.73,  4.17],\n",
       "       [25.  ,  6.44,  3.68],\n",
       "       [25.6 ,  6.56,  4.24],\n",
       "       [26.5 ,  7.17,  4.14],\n",
       "       [27.3 ,  8.32,  5.14],\n",
       "       [27.5 ,  7.17,  4.34],\n",
       "       [27.5 ,  7.05,  4.34],\n",
       "       [27.5 ,  7.28,  4.57],\n",
       "       [28.  ,  7.82,  4.2 ],\n",
       "       [28.7 ,  7.59,  4.64],\n",
       "       [30.  ,  7.62,  4.77],\n",
       "       [32.8 , 10.03,  6.02],\n",
       "       [34.5 , 10.26,  6.39],\n",
       "       [35.  , 11.49,  7.8 ],\n",
       "       [36.5 , 10.88,  6.86],\n",
       "       [36.  , 10.61,  6.74],\n",
       "       [37.  , 10.84,  6.26],\n",
       "       [37.  , 10.57,  6.37],\n",
       "       [39.  , 11.14,  7.49],\n",
       "       [39.  , 11.14,  6.  ],\n",
       "       [39.  , 12.43,  7.35],\n",
       "       [40.  , 11.93,  7.11],\n",
       "       [40.  , 11.73,  7.22],\n",
       "       [40.  , 12.38,  7.46],\n",
       "       [40.  , 11.14,  6.63],\n",
       "       [42.  , 12.8 ,  6.87],\n",
       "       [43.  , 11.93,  7.28],\n",
       "       [43.  , 12.51,  7.42],\n",
       "       [43.5 , 12.6 ,  8.14],\n",
       "       [44.  , 12.49,  7.6 ]])"
      ]
     },
     "execution_count": 8,
     "metadata": {},
     "output_type": "execute_result"
    }
   ],
   "source": [
    "# 데이터프레임을 -> 2차원 배열로 변환하기 \n",
    "perch_full = df.to_numpy()\n",
    "perch_full"
   ]
  },
  {
   "cell_type": "code",
   "execution_count": 12,
   "id": "14c5ef97",
   "metadata": {},
   "outputs": [],
   "source": [
    "import numpy as np"
   ]
  },
  {
   "cell_type": "code",
   "execution_count": 13,
   "id": "798a06df",
   "metadata": {},
   "outputs": [],
   "source": [
    "# 종속 변수 = 무게 \n",
    "# 농어무게 \n",
    "perch_weight = np.array(\n",
    "                [5.9, 32.0, 40.0, 51.5, 70.0, 100.0, 78.0, 80.0, 85.0, 85.0, \n",
    "                 110.0, 115.0, 125.0, 130.0, 120.0, 120.0, 130.0, 135.0, 110.0, \n",
    "                 130.0, 150.0, 145.0, 150.0, 170.0, 225.0, 145.0, 188.0, 180.0, \n",
    "                 197.0, 218.0, 300.0, 260.0, 265.0, 250.0, 250.0, 300.0, 320.0, \n",
    "                 514.0, 556.0, 840.0, 685.0, 700.0, 700.0, 690.0, 900.0, 650.0, \n",
    "                 820.0, 850.0, 900.0, 1015.0, 820.0, 1100.0, 1000.0, 1100.0, \n",
    "                 1000.0, 1000.0]\n",
    "                 )"
   ]
  },
  {
   "cell_type": "code",
   "execution_count": 16,
   "id": "244878d8",
   "metadata": {},
   "outputs": [
    {
     "name": "stdout",
     "output_type": "stream",
     "text": [
      "(39, 3) (39,)\n",
      "(17, 3) (17,)\n"
     ]
    }
   ],
   "source": [
    "# 독립 변수 -> 2차원 \n",
    "# 종속변수 -> 1차원 \n",
    "# 데이터 분리하기 (훈련, 테스트) 7 : 3 으로 분리 \n",
    "from sklearn.model_selection import train_test_split\n",
    "\n",
    "train_input, test_input, train_target, test_target =\\\n",
    "                train_test_split(perch_full,perch_weight, test_size = 0.3, random_state= 42)\n",
    "\n",
    "print(train_input.shape, train_target.shape)\n",
    "print(test_input.shape,test_target.shape)"
   ]
  },
  {
   "cell_type": "markdown",
   "id": "8d3304af",
   "metadata": {},
   "source": [
    "## 특성 만들기 : 특성공학이라고 칭한다  "
   ]
  },
  {
   "cell_type": "code",
   "execution_count": 17,
   "id": "71296850",
   "metadata": {},
   "outputs": [],
   "source": [
    "# <특성 생성 패키지 및 라이브러리, 함수>\n",
    "# 사용되는 패키지 : sklearn.preprocessing\n",
    "# 사용되는 클래스 : PolynomialFeatures\n",
    "# 사용되는 함수 : fit(), transform(), fit_transform()\n",
    "# 사용되는 데이터 : train_input, test_inprt (target은 그대로 유지)\n"
   ]
  },
  {
   "cell_type": "code",
   "execution_count": 19,
   "id": "c93b8520",
   "metadata": {},
   "outputs": [
    {
     "data": {
      "text/plain": [
       "array([[1., 2., 3., 4., 6., 9.]])"
      ]
     },
     "execution_count": 19,
     "metadata": {},
     "output_type": "execute_result"
    }
   ],
   "source": [
    "# 특성 만들기 예제 \n",
    "from sklearn.preprocessing import PolynomialFeatures\n",
    "\n",
    "# 객체 생성 \n",
    "poly = PolynomialFeatures()\n",
    "\n",
    "#임의 데이터 사용 \n",
    "temp_data = [[2,3]]\n",
    "\n",
    "#특성조합을 스스로 학습하여 찾기 \n",
    "poly.fit(temp_data)\n",
    "\n",
    "#스스로 찾은 특성 조합으로 변환하기 \n",
    "poly.transform(temp_data)\n",
    "\n",
    "# <특성 조합 패턴>\n",
    "# - 최초 값은 : 선형 방정식 y절편 값을 가장 처음에 추가 \n",
    "#             : 기본값 1을 사용 (선형 방정식 y절편의 기본값은 1 입니다 )\n",
    "# - 두번째 ~ 세번째 값 ㅣ 자기자신 그래도 적용 \n",
    "# - 네번째 값 : 각 특성을 제곱한 항목을 추가 (2^2)\n",
    "# - 다섯번째 값 : 특성끼리 곱한 값 (2 * 3)\n",
    "# - 여섯번째 값 : 각 특성을 제곱한 값 (3^2)\n",
    "\n",
    "# 최초값인 y 절편 값 1은 보통 제외하고 진행함 "
   ]
  },
  {
   "cell_type": "code",
   "execution_count": 20,
   "id": "aa21d5db",
   "metadata": {},
   "outputs": [
    {
     "data": {
      "text/plain": [
       "array([[  55.    ,   12.49  ,    7.6   , 3025.    ,  686.95  ,  418.    ,\n",
       "         156.0001,   94.924 ,   57.76  ]])"
      ]
     },
     "execution_count": 20,
     "metadata": {},
     "output_type": "execute_result"
    }
   ],
   "source": [
    "# 특성 만드기 예시 (절편 제외 시키기)\n",
    "poly = PolynomialFeatures(include_bias = False)\n",
    "#특성 조합 찾기\n",
    "poly.fit([[55, 12.49, 7.6]])\n",
    "# 특성 조합으로 변환하기 \n",
    "poly.transform([[55,12.49,7.6]])"
   ]
  },
  {
   "cell_type": "code",
   "execution_count": 29,
   "id": "36247b82",
   "metadata": {},
   "outputs": [
    {
     "name": "stdout",
     "output_type": "stream",
     "text": [
      "(39, 9) (39,)\n",
      "(17, 9) (17,)\n"
     ]
    }
   ],
   "source": [
    "# trian data와 test data의 input데이터 특성 조합하여 생성하기\n",
    "\n",
    "#특성을 추가한다는 의미 : 차원(degree)을 기준으로 생성하게됨 \n",
    "# 기본적으로 사용되는차원은 2차원(2의 제곱승)을 사용하게 됨\n",
    "#하이퍼파리미터 변수 : degree = 2 (디폴트 생략 가능)\n",
    "\n",
    "# 객체 생성하기 \n",
    "poly = PolynomialFeatures(degree = 2,include_bias = False)\n",
    "#훈련시켜서 조합 찾아내기 \n",
    "poly.fit(train_input)\n",
    "# 훈련데이터를 특성조합으로 변환하여 생성하기 \n",
    "train_poly = poly.transform(train_input)\n",
    "train_poly\n",
    "#테스트 데이터 변환하기 (동일한 훈련 조합을 사용해야함)\n",
    "test_poly = poly.transform(test_input)\n",
    "#차원확인 \n",
    "print(train_poly.shape,train_target.shape)\n",
    "print(test_poly.shape,test_target.shape)"
   ]
  },
  {
   "cell_type": "code",
   "execution_count": 30,
   "id": "b8b556fe",
   "metadata": {},
   "outputs": [
    {
     "name": "stdout",
     "output_type": "stream",
     "text": [
      "['x0' 'x1' 'x2' 'x0^2' 'x0 x1' 'x0 x2' 'x1^2' 'x1 x2' 'x2^2']\n"
     ]
    }
   ],
   "source": [
    "## 특성 9개가 만들어진 계산 값확인하기 \n",
    "print(poly.get_feature_names_out())\n",
    "# print(poly.get_feature_names())\n"
   ]
  },
  {
   "cell_type": "markdown",
   "id": "62ab8b9d",
   "metadata": {},
   "source": [
    "## degree = 2 로 다중호귀 훈련하기 "
   ]
  },
  {
   "cell_type": "code",
   "execution_count": 31,
   "id": "23e17fb4",
   "metadata": {},
   "outputs": [
    {
     "name": "stdout",
     "output_type": "stream",
     "text": [
      "0.9898271546307026\n",
      "0.9713771600629739\n"
     ]
    }
   ],
   "source": [
    "# 훈련 모델  생성 \n",
    "# 훈련 시키기\n",
    "# 훈련 모델과 테스트 모델 검증하여 과적합 확인하기 \n",
    "\n",
    "from sklearn.linear_model import LinearRegression\n",
    "\n",
    "#훈련모델 생성\n",
    "Ir = LinearRegression()\n",
    "\n",
    "#훈련 시키기\n",
    "Ir.fit(train_poly, train_target)\n",
    "\n",
    "# 과적합 확인 -> 최적합 \n",
    "print(Ir.score(train_poly, train_target))\n",
    "print(Ir.score(test_poly, test_target))"
   ]
  },
  {
   "cell_type": "markdown",
   "id": "4ac445b3",
   "metadata": {},
   "source": [
    "### degree = 5로 훈련시켜보기"
   ]
  },
  {
   "cell_type": "code",
   "execution_count": 32,
   "id": "03c44c7b",
   "metadata": {},
   "outputs": [],
   "source": [
    "# 특성을 degree 5로 헤서 최종결과(과적합 여부) 확인하기 "
   ]
  },
  {
   "cell_type": "code",
   "execution_count": 36,
   "id": "f7bfd8a2",
   "metadata": {},
   "outputs": [
    {
     "name": "stdout",
     "output_type": "stream",
     "text": [
      "(39, 55) (39,)\n",
      "(17, 55) (17,)\n"
     ]
    }
   ],
   "source": [
    "# 객체 생성하기 \n",
    "poly = PolynomialFeatures(degree = 5,include_bias = False)\n",
    "#훈련시켜서 조합 찾아내기 \n",
    "poly.fit(train_input)\n",
    "# 훈련데이터를 특성조합으로 변환하여 생성하기 \n",
    "train_poly = poly.transform(train_input)\n",
    "train_poly\n",
    "#테스트 데이터 변환하기 (동일한 훈련 조합을 사용해야함)\n",
    "test_poly = poly.transform(test_input)\n",
    "#차원확인 \n",
    "print(train_poly.shape,train_target.shape)\n",
    "print(test_poly.shape,test_target.shape)"
   ]
  },
  {
   "cell_type": "code",
   "execution_count": 37,
   "id": "8bfe59c9",
   "metadata": {},
   "outputs": [
    {
     "name": "stdout",
     "output_type": "stream",
     "text": [
      "['x0' 'x1' 'x2' 'x0^2' 'x0 x1' 'x0 x2' 'x1^2' 'x1 x2' 'x2^2' 'x0^3'\n",
      " 'x0^2 x1' 'x0^2 x2' 'x0 x1^2' 'x0 x1 x2' 'x0 x2^2' 'x1^3' 'x1^2 x2'\n",
      " 'x1 x2^2' 'x2^3' 'x0^4' 'x0^3 x1' 'x0^3 x2' 'x0^2 x1^2' 'x0^2 x1 x2'\n",
      " 'x0^2 x2^2' 'x0 x1^3' 'x0 x1^2 x2' 'x0 x1 x2^2' 'x0 x2^3' 'x1^4'\n",
      " 'x1^3 x2' 'x1^2 x2^2' 'x1 x2^3' 'x2^4' 'x0^5' 'x0^4 x1' 'x0^4 x2'\n",
      " 'x0^3 x1^2' 'x0^3 x1 x2' 'x0^3 x2^2' 'x0^2 x1^3' 'x0^2 x1^2 x2'\n",
      " 'x0^2 x1 x2^2' 'x0^2 x2^3' 'x0 x1^4' 'x0 x1^3 x2' 'x0 x1^2 x2^2'\n",
      " 'x0 x1 x2^3' 'x0 x2^4' 'x1^5' 'x1^4 x2' 'x1^3 x2^2' 'x1^2 x2^3' 'x1 x2^4'\n",
      " 'x2^5']\n"
     ]
    }
   ],
   "source": [
    "## 특성 9개가 만들어진 계산 값확인하기 \n",
    "print(poly.get_feature_names_out())\n",
    "# print(poly.get_feature_names())\n"
   ]
  },
  {
   "cell_type": "code",
   "execution_count": 39,
   "id": "bb96737a",
   "metadata": {},
   "outputs": [
    {
     "name": "stdout",
     "output_type": "stream",
     "text": [
      "0.9999999999999838\n",
      "-20.194780102190062\n"
     ]
    }
   ],
   "source": [
    "# 훈련 모델  생성 \n",
    "# 훈련 시키기\n",
    "# 훈련 모델과 테스트 모델 검증하여 과적합 확인하기 \n",
    "\n",
    "from sklearn.linear_model import LinearRegression\n",
    "\n",
    "#훈련모델 생성\n",
    "Ir = LinearRegression()\n",
    "\n",
    "#훈련 시키기\n",
    "Ir.fit(train_poly, train_target)\n",
    "\n",
    "# 과적합 확인 -> 완전한 과대적합 \n",
    "# 훈련 모델을 좋으나 테스트 결과가 안 좋음 \n",
    "print(Ir.score(train_poly, train_target))\n",
    "print(Ir.score(test_poly, test_target))\n",
    "\n",
    "#고개적합 발생\n",
    "- 훈련모델은 매우 좋은 성능을 보이고 있지만 테스트 결과가 안 좋음 \n",
    "\n",
    "# 과대 적합 해소 방법\n",
    "# - 과재적합이 일어나지 않도록 제어하는 개념을 적용 : 규제라고 한다 \n",
    "# - 규제의 개념을 적용한 훈련 모델에는 릿지(ridge)와 라쏘(lasso) 회귀 모델이 있다.\n",
    "# (주로 릿지 모델을 선호하는 편이다)\n",
    "\n",
    "## 규제(제어) 하는 방법\n",
    "데이터의 특성들을 모두 정규화(표준화) 하여 처리함 \n",
    "\n",
    "## 정규화 방법 \n",
    "# - 일반적으로 스케일을 통일 시키기 위한 표준점수를 사용 \n",
    "# - 정규화 클래스 생성 : StandardScaler(), MinMaxScaler()... 더 있음 \n",
    "# - 훈련시키기 : fit(), 훈련데이터 사용 -> 표준 점수 생성 \n",
    "# - 변환하기 : transform() 훈련데이터 사용 -> 표준점수로 변환 \n",
    "# - 기본적으로 표준점수는 StandardScaler()를 사용한다\n",
    "# (무엇으로 정규화 할지 모를 경우에는 StandardScaler을 사용하면 됨)"
   ]
  },
  {
   "cell_type": "code",
   "execution_count": 40,
   "id": "9857458d",
   "metadata": {},
   "outputs": [],
   "source": [
    "# <규제가 잘 적용된 향상 모델>\n",
    "# [릿지모델]\n",
    "# - 계수(선형 및 다항방정식에서 x 값을 제외한 값들)를 젝ㅂ한 기준으로 규제 적용\n",
    "# - 사용 패키지 : from sklearn.linear_model\n",
    "# -사용 클래스(모델) : Ridge \n",
    "# -훈련/평가/테스트 : fit(), score(), predict()\n",
    "\n",
    "# [라쏘모델]\n",
    "# - 계수(선형 및 다항방정식에서 x 값을 제외한 값들)를 젝ㅂ한 기준으로 규제 적용\n",
    "# - 사용 패키지 : from sklearn.linear_model\n",
    "# -사용 클래스(모델) : Lasso\n",
    "# -훈련/평가/테스트 : fit(), score(), predict()"
   ]
  },
  {
   "cell_type": "markdown",
   "id": "1d5359f0",
   "metadata": {},
   "source": [
    "## 규제를 위해 데이터 정규화(표준화) 시키기"
   ]
  },
  {
   "cell_type": "code",
   "execution_count": 41,
   "id": "308b0822",
   "metadata": {},
   "outputs": [],
   "source": [
    "# 사용 라이브러리 불러들이기 \n",
    "from sklearn.preprocessing import StandardScaler\n",
    "\n",
    "#객체 생성하기 \n",
    "ss =StandardScaler()\n",
    "\n",
    "#훈련시키기 - 정규화 데이터 생성 \n",
    "ss.fit(train_poly)\n",
    "\n",
    "#생성된 정규화 데이터로 변환하기 \n",
    "train_scaled = ss.transform(train_poly)\n",
    "test_scaled = ss.transform(test_poly)\n"
   ]
  },
  {
   "cell_type": "code",
   "execution_count": 47,
   "id": "be301cc4",
   "metadata": {},
   "outputs": [
    {
     "name": "stdout",
     "output_type": "stream",
     "text": [
      "(39, 55) (17, 55)\n"
     ]
    }
   ],
   "source": [
    "train_scaled\n",
    "# 데이터가 -1~0 \n",
    "print(train_scaled.shape, test_scaled.shape)\n",
    "## 55 : 5의 제곱으로 만들어진 특성 들 "
   ]
  },
  {
   "cell_type": "markdown",
   "id": "6162129a",
   "metadata": {},
   "source": [
    "## 릿지모델 훈련하기"
   ]
  },
  {
   "cell_type": "code",
   "execution_count": 49,
   "id": "dfa307e4",
   "metadata": {},
   "outputs": [
    {
     "name": "stdout",
     "output_type": "stream",
     "text": [
      "0.9889900259477936\n",
      "0.9806943210368348\n"
     ]
    }
   ],
   "source": [
    "#과적합 여부 확인하기 \n",
    "from sklearn.linear_model import Ridge\n",
    "\n",
    "rr = Ridge()\n",
    "\n",
    "#훈련 모델 생성하기\n",
    "rr.fit(train_scaled, train_target)\n",
    "\n",
    "#훈련데이터로 훈련모델 평가하기 (결정계수)\n",
    "print(rr.score(train_scaled,train_target))\n",
    "print(rr.score(test_scaled,test_target))"
   ]
  },
  {
   "cell_type": "code",
   "execution_count": 50,
   "id": "d77b88fc",
   "metadata": {},
   "outputs": [
    {
     "name": "stdout",
     "output_type": "stream",
     "text": [
      "0.9897983159614501\n",
      "0.9842243738800773\n"
     ]
    }
   ],
   "source": [
    "# 규제강도를 높이는 방법 -> 알파라는 규제 강도를 높이는 하이퍼 파라미터가 존재한다 \n",
    "\n",
    "# <규제강도 조절 하이퍼파라미터 : alpha>\n",
    "# - 정의되지 않은 임의의 값을 이용하여 규제를 제어하는 방식 \n",
    "# - 일반적으로 임의의 범위를 지정하여 범위 내 값들로 훈련 및 테스트의 과적합 확인 후 \n",
    "#   가장 좋은 시점의 임의의 값을 사용하는 방식으로 한다 \n",
    "# - 보통임의의 범위값으로는 0.001, 0.01, 0.1, 1, 10, 100의 범위를 주로 사용한다 \n",
    "\n",
    "from sklearn.linear_model import Ridge\n",
    "\n",
    "rr = Ridge(alpha = 0.1)\n",
    "\n",
    "#훈련 모델 생성하기\n",
    "rr.fit(train_scaled, train_target)\n",
    "\n",
    "#훈련데이터로 훈련모델 평가하기 (결정계수)\n",
    "print(rr.score(train_scaled,train_target))\n",
    "print(rr.score(test_scaled,test_target))"
   ]
  },
  {
   "cell_type": "markdown",
   "id": "e3f41fa1",
   "metadata": {},
   "source": [
    "## alpha 값 찾아보기 - 시각화 하여 찾는다"
   ]
  },
  {
   "cell_type": "code",
   "execution_count": 60,
   "id": "00ac69a9",
   "metadata": {},
   "outputs": [
    {
     "name": "stderr",
     "output_type": "stream",
     "text": [
      "No artists with labels found to put in legend.  Note that artists whose label start with an underscore are ignored when legend() is called with no argument.\n"
     ]
    },
    {
     "data": {
      "image/png": "[encoded data removed]",
      "text/plain": [
       "<Figure size 432x288 with 1 Axes>"
      ]
     },
     "metadata": {
      "needs_background": "light"
     },
     "output_type": "display_data"
    }
   ],
   "source": [
    "import matplotlib.pyplot as plt\n",
    "train_score = []\n",
    "test_score = []\n",
    "\n",
    "#임의의 alpha 범위 설정 \n",
    "alpha_list = [0.001,0.01, 0.1, 1, 10, 100]\n",
    "\n",
    "#반복하면서 그래프에 표시하기 \n",
    "for alpha in alpha_list : \n",
    "    #모델에 적용하기 \n",
    "    ridge = Ridge(alpha = alpha)\n",
    "    ridge.fit(train_scaled, train_target)\n",
    "    #훈련점수와 테스트 점수를 저장하기 \n",
    "    train_score.append(ridge.score(train_scaled, train_target))\n",
    "    test_score.append(ridge.score(test_scaled,test_target))\n",
    "    \n",
    "#그래프 그리기 \n",
    "#alpha_list 값을 x축 값으로 사용하기 위해 \n",
    "# 동일한 간격으로 표시하기 위하여 지수로 변환하여 표시 \n",
    "# 0.001dms wltnfh -1, 0은 1, 100은 2가 된다\n",
    "plt.plot(np.log10(alpha_list),train_score)\n",
    "plt.plot(np.log10(alpha_list),test_score)\n",
    "plt.legend()\n",
    "\n",
    "plt.show()\n",
    "#훈련데이터와 테스트 데이터가 가장 가까워지는 x축의 값을 alpha 값"
   ]
  },
  {
   "cell_type": "markdown",
   "id": "6336979c",
   "metadata": {},
   "source": [
    "# 라쏘 모델 사용하기 "
   ]
  },
  {
   "cell_type": "code",
   "execution_count": 61,
   "id": "30004635",
   "metadata": {},
   "outputs": [
    {
     "name": "stdout",
     "output_type": "stream",
     "text": [
      "0.9891841592343474\n",
      "0.9816966371762467\n"
     ]
    }
   ],
   "source": [
    "from sklearn.linear_model import Lasso\n",
    "\n",
    "lasso = Lasso()\n",
    "lasso.fit(train_scaled,train_target)\n",
    "\n",
    "print(lasso.score(train_scaled,train_target))\n",
    "print(lasso.score(test_scaled,test_target))"
   ]
  },
  {
   "cell_type": "code",
   "execution_count": 64,
   "id": "4a858ae9",
   "metadata": {},
   "outputs": [
    {
     "name": "stderr",
     "output_type": "stream",
     "text": [
      "C:\\Users\\ekdms\\anaconda3\\lib\\site-packages\\sklearn\\linear_model\\_coordinate_descent.py:647: ConvergenceWarning: Objective did not converge. You might want to increase the number of iterations, check the scale of the features or consider increasing regularisation. Duality gap: 2.329e+04, tolerance: 4.887e+02\n",
      "  model = cd_fast.enet_coordinate_descent(\n",
      "C:\\Users\\ekdms\\anaconda3\\lib\\site-packages\\sklearn\\linear_model\\_coordinate_descent.py:647: ConvergenceWarning: Objective did not converge. You might want to increase the number of iterations, check the scale of the features or consider increasing regularisation. Duality gap: 2.037e+04, tolerance: 4.887e+02\n",
      "  model = cd_fast.enet_coordinate_descent(\n",
      "C:\\Users\\ekdms\\anaconda3\\lib\\site-packages\\sklearn\\linear_model\\_coordinate_descent.py:647: ConvergenceWarning: Objective did not converge. You might want to increase the number of iterations, check the scale of the features or consider increasing regularisation. Duality gap: 7.369e+02, tolerance: 4.887e+02\n",
      "  model = cd_fast.enet_coordinate_descent(\n",
      "No artists with labels found to put in legend.  Note that artists whose label start with an underscore are ignored when legend() is called with no argument.\n"
     ]
    },
    {
     "data": {
      "text/plain": [
       "<matplotlib.legend.Legend at 0x1a0b5bab670>"
      ]
     },
     "execution_count": 64,
     "metadata": {},
     "output_type": "execute_result"
    },
    {
     "data": {
      "image/png": "[encoded data removed]",
      "text/plain": [
       "<Figure size 432x288 with 1 Axes>"
      ]
     },
     "metadata": {
      "needs_background": "light"
     },
     "output_type": "display_data"
    }
   ],
   "source": [
    "## 라쏘 모델도 alpha 값을 범위를 이용해서 최적의 알파 값을 결정한 후 훈렴 및 테스트 결과를 비교해 보세요 \n",
    "alpha_list = [0.001,0.01,0.1,1,10,100]\n",
    "train_s = []\n",
    "test_s = []\n",
    "\n",
    "for alpha in alpha_list :\n",
    "    lasso = Lasso(alpha = alpha)\n",
    "    lasso.fit(train_scaled, train_target)\n",
    "    train_s.append(lasso.score(train_scaled,train_target))\n",
    "    test_s.append(lasso.score(test_scaled, test_target))\n",
    "\n",
    "plt.plot(np.log10(alpha_list),train_score)\n",
    "plt.plot(np.log10(alpha_list),test_score)\n",
    "plt.legend()\n"
   ]
  },
  {
   "cell_type": "code",
   "execution_count": 65,
   "id": "531fa09c",
   "metadata": {},
   "outputs": [
    {
     "name": "stdout",
     "output_type": "stream",
     "text": [
      "0.9882059522438204\n",
      "0.9834044009315154\n"
     ]
    }
   ],
   "source": [
    "\n",
    "lasso = Lasso(alpha = 10)\n",
    "lasso.fit(train_scaled, train_target)\n",
    "\n",
    "print(lasso.score(train_scaled,train_target))\n",
    "print(lasso.score(test_scaled,test_target))"
   ]
  },
  {
   "cell_type": "markdown",
   "id": "f9a9661a",
   "metadata": {},
   "source": [
    "## 무게 예측하기\n",
    "##### - Ir, ridge, lasso 각각 모델로 예측해보기 "
   ]
  },
  {
   "cell_type": "code",
   "execution_count": 66,
   "id": "9cbfc5a4",
   "metadata": {},
   "outputs": [
    {
     "ename": "NameError",
     "evalue": "name 'test_ploy' is not defined",
     "output_type": "error",
     "traceback": [
      "\u001b[1;31m-------------------------------------------------------------------\u001b[0m",
      "\u001b[1;31mNameError\u001b[0m                         Traceback (most recent call last)",
      "\u001b[1;32m~\\AppData\\Local\\Temp/ipykernel_25124/486730981.py\u001b[0m in \u001b[0;36m<module>\u001b[1;34m\u001b[0m\n\u001b[1;32m----> 1\u001b[1;33m \u001b[0mprint\u001b[0m\u001b[1;33m(\u001b[0m\u001b[0mIr\u001b[0m\u001b[1;33m.\u001b[0m\u001b[0mpredict\u001b[0m\u001b[1;33m(\u001b[0m\u001b[0mtest_ploy\u001b[0m\u001b[1;33m)\u001b[0m\u001b[1;33m)\u001b[0m\u001b[1;33m\u001b[0m\u001b[1;33m\u001b[0m\u001b[0m\n\u001b[0m\u001b[0;32m      2\u001b[0m \u001b[0mprint\u001b[0m\u001b[1;33m(\u001b[0m\u001b[0mridge\u001b[0m\u001b[1;33m.\u001b[0m\u001b[0mpredict\u001b[0m\u001b[1;33m(\u001b[0m\u001b[0mtest_scaled\u001b[0m\u001b[1;33m)\u001b[0m\u001b[1;33m)\u001b[0m\u001b[1;33m\u001b[0m\u001b[1;33m\u001b[0m\u001b[0m\n\u001b[0;32m      3\u001b[0m \u001b[0mprint\u001b[0m\u001b[1;33m(\u001b[0m\u001b[0mlasso\u001b[0m\u001b[1;33m.\u001b[0m\u001b[0mpredict\u001b[0m\u001b[1;33m(\u001b[0m\u001b[0mtest_scaled\u001b[0m\u001b[1;33m)\u001b[0m\u001b[1;33m)\u001b[0m\u001b[1;33m\u001b[0m\u001b[1;33m\u001b[0m\u001b[0m\n",
      "\u001b[1;31mNameError\u001b[0m: name 'test_ploy' is not defined"
     ]
    }
   ],
   "source": [
    "print(Ir.predict(test_ploy)) \n",
    "print(ridge.predict(test_scaled))\n",
    "print(lasso.predict(test_scaled))"
   ]
  },
  {
   "cell_type": "code",
   "execution_count": null,
   "id": "28a8cd81",
   "metadata": {},
   "outputs": [],
   "source": []
  }
 ],
 "metadata": {
  "kernelspec": {
   "display_name": "pknu_bsae_kernel",
   "language": "python",
   "name": "pknu_base"
  },
  "language_info": {
   "codemirror_mode": {
    "name": "ipython",
    "version": 3
   },
   "file_extension": ".py",
   "mimetype": "text/x-python",
   "name": "python",
   "nbconvert_exporter": "python",
   "pygments_lexer": "ipython3",
   "version": "3.9.15"
  }
 },
 "nbformat": 4,
 "nbformat_minor": 5
}
