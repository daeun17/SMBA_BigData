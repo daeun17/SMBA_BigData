{
 "cells": [
  {
   "cell_type": "code",
   "execution_count": 1,
   "id": "940acd2e",
   "metadata": {},
   "outputs": [],
   "source": [
    "import numpy as np"
   ]
  },
  {
   "cell_type": "code",
   "execution_count": 2,
   "id": "c31557cd",
   "metadata": {},
   "outputs": [],
   "source": [
    "# 농어 길이\n",
    "perch_length = np.array(\n",
    "                [8.4, 13.7, 15.0, 16.2, 17.4, 18.0, 18.7, 19.0, 19.6, 20.0, \n",
    "                 21.0, 21.0, 21.0, 21.3, 22.0, 22.0, 22.0, 22.0, 22.0, 22.5, \n",
    "                 22.5, 22.7, 23.0, 23.5, 24.0, 24.0, 24.6, 25.0, 25.6, 26.5, \n",
    "                 27.3, 27.5, 27.5, 27.5, 28.0, 28.7, 30.0, 32.8, 34.5, 35.0, \n",
    "                 36.5, 36.0, 37.0, 37.0, 39.0, 39.0, 39.0, 40.0, 40.0, 40.0, \n",
    "                 40.0, 42.0, 43.0, 43.0, 43.5, 44.0]\n",
    "                 )\n",
    "# 농어 무게 \n",
    "perch_weight = np.array(\n",
    "                [5.9, 32.0, 40.0, 51.5, 70.0, 100.0, 78.0, 80.0, 85.0, 85.0, \n",
    "                 110.0, 115.0, 125.0, 130.0, 120.0, 120.0, 130.0, 135.0, 110.0, \n",
    "                 130.0, 150.0, 145.0, 150.0, 170.0, 225.0, 145.0, 188.0, 180.0, \n",
    "                 197.0, 218.0, 300.0, 260.0, 265.0, 250.0, 250.0, 300.0, 320.0, \n",
    "                 514.0, 556.0, 840.0, 685.0, 700.0, 700.0, 690.0, 900.0, 650.0, \n",
    "                 820.0, 850.0, 900.0, 1015.0, 820.0, 1100.0, 1000.0, 1100.0, \n",
    "                 1000.0, 1000.0]\n",
    "                 )"
   ]
  },
  {
   "cell_type": "code",
   "execution_count": 3,
   "id": "7051ef51",
   "metadata": {},
   "outputs": [
    {
     "name": "stdout",
     "output_type": "stream",
     "text": [
      "(56,) (56,)\n"
     ]
    }
   ],
   "source": [
    "print(perch_length.shape, perch_weight.shape)"
   ]
  },
  {
   "cell_type": "code",
   "execution_count": 4,
   "id": "c0093046",
   "metadata": {},
   "outputs": [
    {
     "data": {
      "image/png": "[encoded data removed]",
      "text/plain": [
       "<Figure size 432x288 with 1 Axes>"
      ]
     },
     "metadata": {
      "needs_background": "light"
     },
     "output_type": "display_data"
    }
   ],
   "source": [
    "# 예측까지 실행해 주세요 \n",
    "import matplotlib.pyplot as plt\n",
    "\n",
    "plt.scatter(perch_length, perch_weight)\n",
    "plt.xlabel(\"length\")\n",
    "plt.ylabel(\"weight\")\n",
    "plt.show()"
   ]
  },
  {
   "cell_type": "code",
   "execution_count": 5,
   "id": "377a1ae5",
   "metadata": {},
   "outputs": [
    {
     "name": "stdout",
     "output_type": "stream",
     "text": [
      "(42,) (42,)\n",
      "(14,) (14,)\n"
     ]
    }
   ],
   "source": [
    "# 데이터 분류하기 \n",
    "# 2단계 => 3:4 \n",
    "# 3단계 => 3:3:4\n",
    "from sklearn.model_selection import train_test_split\n",
    "train_input, test_input, train_target, test_target = train_test_split(perch_length,perch_weight, test_size =0.25, random_state = 42)\n",
    "\n",
    "print (train_input.shape, train_target.shape)\n",
    "print(test_input.shape, test_target.shape)"
   ]
  },
  {
   "cell_type": "code",
   "execution_count": 6,
   "id": "466889bc",
   "metadata": {},
   "outputs": [
    {
     "name": "stdout",
     "output_type": "stream",
     "text": [
      "(42, 1) (14, 1)\n"
     ]
    }
   ],
   "source": [
    "train_input = train_input.reshape(-1,1)\n",
    "test_input = test_input.reshape(-1,1)\n",
    "\n",
    "print(train_input.shape, test_input.shape)"
   ]
  },
  {
   "cell_type": "code",
   "execution_count": 7,
   "id": "dbd07fc5",
   "metadata": {},
   "outputs": [],
   "source": [
    "from sklearn.neighbors import KNeighborsRegressor"
   ]
  },
  {
   "cell_type": "code",
   "execution_count": 8,
   "id": "3adefdea",
   "metadata": {},
   "outputs": [
    {
     "data": {
      "text/plain": [
       "0.9746459963987609"
      ]
     },
     "execution_count": 8,
     "metadata": {},
     "output_type": "execute_result"
    }
   ],
   "source": [
    "knr = KNeighborsRegressor(n_neighbors=3)\n",
    "\n",
    "knr.fit(train_input,train_target)\n",
    "\n",
    "knr.score(test_input,test_target)\n"
   ]
  },
  {
   "cell_type": "code",
   "execution_count": 9,
   "id": "a104d430",
   "metadata": {},
   "outputs": [
    {
     "name": "stdout",
     "output_type": "stream",
     "text": [
      "[1033.33333333]\n"
     ]
    }
   ],
   "source": [
    "# 임의의 값 예측하기 \n",
    "print(knr.predict([[50]]))"
   ]
  },
  {
   "cell_type": "code",
   "execution_count": 10,
   "id": "91e0a275",
   "metadata": {},
   "outputs": [
    {
     "data": {
      "image/png": "[encoded data removed]",
      "text/plain": [
       "<Figure size 432x288 with 1 Axes>"
      ]
     },
     "metadata": {
      "needs_background": "light"
     },
     "output_type": "display_data"
    }
   ],
   "source": [
    "# 산점도 그리기 \n",
    "# 훈련데이터, 50cm, 이웃 3개 산점도 모두 그리기 \n",
    "\n",
    "# 이웃 3개 찾기 \n",
    "distances, indexes = knr.kneighbors([[50]])\n",
    "# 훈련데이터 산점도 그리기 \n",
    "plt.scatter(train_input,train_target)\n",
    "# 이웃 3개 산점도 그리기\n",
    "plt.scatter(train_input[indexes],train_target[indexes],marker = 'D')\n",
    "# 50cm 산점도 그리기 \n",
    "plt.scatter(50,1033,marker='^')\n",
    "\n",
    "plt.show()"
   ]
  },
  {
   "cell_type": "code",
   "execution_count": null,
   "id": "5b4d002f",
   "metadata": {},
   "outputs": [],
   "source": []
  },
  {
   "cell_type": "code",
   "execution_count": 11,
   "id": "5eeff8c5",
   "metadata": {},
   "outputs": [
    {
     "data": {
      "image/png": "[encoded data removed]",
      "text/plain": [
       "<Figure size 432x288 with 1 Axes>"
      ]
     },
     "metadata": {
      "needs_background": "light"
     },
     "output_type": "display_data"
    }
   ],
   "source": [
    "# 산점도 그리기 \n",
    "# 훈련데이터, 50cm, 이웃 3개 산점도 모두 그리기 \n",
    "\n",
    "# 이웃 3개 찾기 \n",
    "distances, indexes = knr.kneighbors([[100]])\n",
    "# 훈련데이터 산점도 그리기 \n",
    "plt.scatter(train_input,train_target)\n",
    "# 이웃 3개 산점도 그리기\n",
    "plt.scatter(train_input[indexes],train_target[indexes],marker = 'D')\n",
    "# 50cm 산점도 그리기 \n",
    "plt.scatter(100,1033,marker='^')\n",
    "\n",
    "plt.show()\n",
    "# x 축이 늘어나도 가장 가까운 표면 값만 측정을 한다 -> KNN의 단점 \n",
    "# (해석)\n",
    "# - KNN 모델은 이웃하는 가장 가까운 개수를 체크하기 때문에 \n",
    "#   예측에 어려움이 있다. -> KNN의 한계"
   ]
  },
  {
   "cell_type": "markdown",
   "id": "fb8c53a4",
   "metadata": {},
   "source": [
    "# 선형 회귀(Linear Regression)"
   ]
  },
  {
   "cell_type": "code",
   "execution_count": 12,
   "id": "f7b72ec7",
   "metadata": {},
   "outputs": [],
   "source": [
    "# - 널리 사용되는 대표적인 회귀 알고리즘 \n",
    "# - 비교적 간단하고, 성능이 뛰어나기 떄문에 회귀 모델 수행 시 초반에 주로 진행 \n",
    "# - 선형회귀의 역할 : 하나의 특성을 가장 잘 나타내는 직선(추세선)을 찾아내는 것 \n",
    "# - 훈련(fit) 평가(score) 예측(predict) 함수는 모두 기존과 동일함 "
   ]
  },
  {
   "cell_type": "code",
   "execution_count": 13,
   "id": "f2abcddc",
   "metadata": {},
   "outputs": [],
   "source": [
    "# 선형 회귀 모델 라이브러리 불러들이기 \n",
    "from sklearn.linear_model import LinearRegression"
   ]
  },
  {
   "cell_type": "code",
   "execution_count": 14,
   "id": "b3f8ede0",
   "metadata": {},
   "outputs": [
    {
     "data": {
      "text/plain": [
       "LinearRegression()"
      ]
     },
     "execution_count": 14,
     "metadata": {},
     "output_type": "execute_result"
    }
   ],
   "source": [
    "# 모델 생성 \n",
    "lr = LinearRegression()\n",
    "lr"
   ]
  },
  {
   "cell_type": "code",
   "execution_count": 18,
   "id": "d3d3631a",
   "metadata": {
    "scrolled": true
   },
   "outputs": [
    {
     "data": {
      "text/plain": [
       "LinearRegression()"
      ]
     },
     "execution_count": 18,
     "metadata": {},
     "output_type": "execute_result"
    }
   ],
   "source": [
    "# 모델 훈련시키기 \n",
    "lr.fit(train_input,train_target)"
   ]
  },
  {
   "cell_type": "code",
   "execution_count": 19,
   "id": "71d9da8f",
   "metadata": {},
   "outputs": [
    {
     "ename": "SyntaxError",
     "evalue": "unexpected EOF while parsing (Temp/ipykernel_18800/3577676454.py, line 3)",
     "output_type": "error",
     "traceback": [
      "\u001b[1;36m  File \u001b[1;32m\"C:\\Users\\ekdms\\AppData\\Local\\Temp/ipykernel_18800/3577676454.py\"\u001b[1;36m, line \u001b[1;32m3\u001b[0m\n\u001b[1;33m    print(lr.predict(([50],[100]))\u001b[0m\n\u001b[1;37m                                  ^\u001b[0m\n\u001b[1;31mSyntaxError\u001b[0m\u001b[1;31m:\u001b[0m unexpected EOF while parsing\n"
     ]
    }
   ],
   "source": [
    "#KNN 에서 농어의 길이 50을 1033으로 예측 \n",
    "#선형회귀 모델은 50을 어떻게 예측할까?\n",
    "print(lr.predict(([50],[100]))"
   ]
  },
  {
   "cell_type": "code",
   "execution_count": 21,
   "id": "3757972b",
   "metadata": {},
   "outputs": [
    {
     "name": "stdout",
     "output_type": "stream",
     "text": [
      "기울기=  [39.01714496] / 절편 =  -709.0186449535477\n"
     ]
    }
   ],
   "source": [
    "# 기울기와 절편 확인하기 \n",
    "# 선형회귀 모델 : y = a * x + b\n",
    "# a : 기울기, b : 절편\n",
    "print(\"기울기= \", lr.coef_, \"/ 절편 = \",lr.intercept_)"
   ]
  },
  {
   "cell_type": "code",
   "execution_count": 22,
   "id": "8aca3226",
   "metadata": {},
   "outputs": [
    {
     "data": {
      "text/plain": [
       "[<matplotlib.lines.Line2D at 0x2d6d3659e80>]"
      ]
     },
     "execution_count": 22,
     "metadata": {},
     "output_type": "execute_result"
    },
    {
     "data": {
      "image/png": "[encoded data removed]",
      "text/plain": [
       "<Figure size 432x288 with 1 Axes>"
      ]
     },
     "metadata": {
      "needs_background": "light"
     },
     "output_type": "display_data"
    }
   ],
   "source": [
    "# 50의 위치 확인및 추세선 그리기 \n",
    "# 산점도 그리기 \n",
    "# 훈련데이터, 50 길이, 추세선모두 그리기 \n",
    "plt.scatter(train_input,train_target)\n",
    "plt.scatter(50,124.8,marker= \"^\")\n",
    "plt.plot([15,50], [lr.coef_ * 15 + lr.intercept_,\n",
    "                 lr.coef_ * 50 + lr.intercept_], c = \"green\")"
   ]
  },
  {
   "cell_type": "code",
   "execution_count": 23,
   "id": "7f22e247",
   "metadata": {},
   "outputs": [
    {
     "name": "stdout",
     "output_type": "stream",
     "text": [
      "0.939846333997604\n",
      "0.8247503123313558\n"
     ]
    }
   ],
   "source": [
    "# 과적합 여부 확인하기 -> 차이 0.1 대 => 과대적합이 다소 보인다 \n",
    "print(lr.score(train_input, train_target))\n",
    "print(lr.score(test_input, test_target))\n",
    "\n",
    "# (해석)\n",
    "# - 다소 과대적합이 보이기는 하지만, 그래도 사용해도 될 정도의 훈련모델이다 \n",
    "# - 다만, 과대적합을 의심하지 않을 수는 없다 \n"
   ]
  },
  {
   "cell_type": "code",
   "execution_count": 24,
   "id": "a2bc8a56",
   "metadata": {},
   "outputs": [
    {
     "data": {
      "text/plain": [
       "[<matplotlib.lines.Line2D at 0x2d6d37dd880>]"
      ]
     },
     "execution_count": 24,
     "metadata": {},
     "output_type": "execute_result"
    },
    {
     "data": {
      "image/png": "[encoded data removed]",
      "text/plain": [
       "<Figure size 432x288 with 1 Axes>"
      ]
     },
     "metadata": {
      "needs_background": "light"
     },
     "output_type": "display_data"
    }
   ],
   "source": [
    "# 50의 위치 확인및 추세선 그리기 \n",
    "# 산점도 그리기 \n",
    "# 훈련데이터, 50 길이, 추세선모두 그리기 \n",
    "plt.scatter(train_input,train_target)\n",
    "plt.scatter(50,124.8,marker= \"^\")\n",
    "plt.plot([0,50], [lr.coef_ * 0 + lr.intercept_,\n",
    "                 lr.coef_ * 50 + lr.intercept_], c = \"green\")\n",
    "# (해석)\n",
    "# 추세선의 x 값이 0 일 때 무게 값이 -값이 나온다 => 문제가 있다\n",
    "# 산점도를보면 곡선의 형태를 띈다 -> 다른 모델 사용"
   ]
  },
  {
   "cell_type": "markdown",
   "id": "294dcca4",
   "metadata": {},
   "source": [
    "## 다항회귀 \n"
   ]
  },
  {
   "cell_type": "code",
   "execution_count": 25,
   "id": "f438583a",
   "metadata": {},
   "outputs": [],
   "source": [
    "import numpy as np"
   ]
  },
  {
   "cell_type": "code",
   "execution_count": null,
   "id": "3cf4ba50",
   "metadata": {},
   "outputs": [],
   "source": [
    "# x의 제곱승 값과 ,x 값 두개가 필요하다\n",
    "train_poly = np.column_stack((train_input ** 2, train_target))\n",
    "test_poly = np.column_stack((test_input ** 2, test_target))\n",
    "print(train_poly.shape)"
   ]
  },
  {
   "cell_type": "code",
   "execution_count": null,
   "id": "7dfd1a68",
   "metadata": {},
   "outputs": [],
   "source": [
    "# 모델 생성 \n",
    "lr = LinearRegression()\n",
    "lr"
   ]
  },
  {
   "cell_type": "code",
   "execution_count": null,
   "id": "7052872d",
   "metadata": {},
   "outputs": [],
   "source": [
    "# 모델 훈련시키기 \n",
    "lr.fit(train_poly,train_target)"
   ]
  },
  {
   "cell_type": "code",
   "execution_count": null,
   "id": "9666cc88",
   "metadata": {},
   "outputs": [],
   "source": [
    "# 기울기와 절편 확인하기 \n",
    "# y = a * x^2 + b * x + c \n",
    "print(lr.coef_, lr.intercept_)"
   ]
  },
  {
   "cell_type": "code",
   "execution_count": null,
   "id": "587c7bd4",
   "metadata": {},
   "outputs": [],
   "source": [
    "print(lr.predict([[50**2,50]]))"
   ]
  },
  {
   "cell_type": "code",
   "execution_count": null,
   "id": "766740f8",
   "metadata": {},
   "outputs": [],
   "source": [
    "# 추세선 그리기 \n",
    "# 훈련데이터, 50 길이, 추세선모두 그리기 \n",
    "\n",
    "point = np.arange(15,51)\n",
    "\n",
    "plt.scatter(train_poly,train_target)\n",
    "plt.scatter([50],[1574],marker= \"^\")\n",
    "plt.plot(point, 1.01*point**2 - 21.6*point + 116.05, c = \"green\")\n"
   ]
  },
  {
   "cell_type": "code",
   "execution_count": null,
   "id": "90e84746",
   "metadata": {},
   "outputs": [],
   "source": [
    "# 다항회귀 선형회귀모델 과적합 여부 확인하기 \n",
    "print(lr.score(train_poly, train_target))\n",
    "print(lr.score(test_poly, test_target))\n",
    "## 과소 적합이 발생, 미세하게 그대로 모델을 사용할 수 도 있지만, \n",
    "# 대안이 있는지 확인은 필요함 \n",
    "# - 과소적합이 일어난 경우 해결법 \n",
    "# # 데이터 양을 을인다 \n",
    "# : 복잡도를 늘인다 \n",
    "#     선형회귀 모델에서는 복잡도를ㄹ 늘리기 위해 여러개의 특성(독립변수)를 생성해서 사용\n",
    "# -> 특성을 늘리는 것 => 다중회귀 분석을 수행함 독립변수가 여러개 "
   ]
  },
  {
   "cell_type": "code",
   "execution_count": null,
   "id": "953788f4",
   "metadata": {},
   "outputs": [],
   "source": []
  }
 ],
 "metadata": {
  "kernelspec": {
   "display_name": "pknu_bsae_kernel",
   "language": "python",
   "name": "pknu_base"
  },
  "language_info": {
   "codemirror_mode": {
    "name": "ipython",
    "version": 3
   },
   "file_extension": ".py",
   "mimetype": "text/x-python",
   "name": "python",
   "nbconvert_exporter": "python",
   "pygments_lexer": "ipython3",
   "version": "3.9.15"
  }
 },
 "nbformat": 4,
 "nbformat_minor": 5
}
