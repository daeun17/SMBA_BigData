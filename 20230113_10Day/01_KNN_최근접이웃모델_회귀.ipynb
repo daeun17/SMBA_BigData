{
 "cells": [
  {
   "cell_type": "code",
   "execution_count": 3,
   "id": "04a7be0c",
   "metadata": {},
   "outputs": [],
   "source": [
    "# - 분류 : input 데이터를 target의 범주형 데이터로 분류 \n",
    "#       : 분류는 가장 가가운 이웃의 갯수가 많은 범주 쪽으로 결정 \n",
    "#     target이 번주형 -> 분류 0과 1의 개념 \n",
    "\n",
    "# - 회귀 : imput 데이터를 target의 연속형 (숫자or 날짜) 데이터로 분류 \n",
    "#       : 분류는 가장 가까운 이웃의 숫자값들의 평균을 구하여\n",
    "#         평균과 가장 근사한 값의 이웃 데이터가 예측값으로 결정됨\n",
    "#     target이 연속형 -> 그룹핑? 어느 위치에 있냐는 개념 "
   ]
  },
  {
   "cell_type": "code",
   "execution_count": 4,
   "id": "4a86587c",
   "metadata": {},
   "outputs": [],
   "source": [
    "# 02 _ 농어의 길이와 무게 데이터 (배열).txt "
   ]
  },
  {
   "cell_type": "code",
   "execution_count": 7,
   "id": "71fa4afc",
   "metadata": {},
   "outputs": [],
   "source": [
    "## 농어의 길이 만으로 무계를 예측하기 \n",
    "## - 길이는 : 훈련데이터 독립변수 (train_data)\n",
    "## - 무게는 : 훈련데이터 종속변수 (train_target)"
   ]
  },
  {
   "cell_type": "code",
   "execution_count": 8,
   "id": "85fbe52a",
   "metadata": {},
   "outputs": [],
   "source": [
    "# 훈련 과정\n",
    "# 1. 전처리 : 차원변경, 데이터 분리(train data, test data)\n",
    "# 2. 훈련모델 생성 \n",
    "# 3. 훈련 진행\n",
    "# 4. 검증 \n",
    "# 5. 예측 \n",
    "# 6. 해석 "
   ]
  },
  {
   "cell_type": "code",
   "execution_count": 9,
   "id": "b6afaad3",
   "metadata": {},
   "outputs": [],
   "source": [
    "# 머신러닝 시 데이터는 2차원 \n",
    "# target은 1차원 "
   ]
  },
  {
   "cell_type": "code",
   "execution_count": 10,
   "id": "c4cc729c",
   "metadata": {},
   "outputs": [],
   "source": [
    "import numpy as np"
   ]
  },
  {
   "cell_type": "code",
   "execution_count": 30,
   "id": "d5a71f86",
   "metadata": {},
   "outputs": [],
   "source": [
    "# 농어 길이\n",
    "perch_length = np.array(\n",
    "                [8.4, 13.7, 15.0, 16.2, 17.4, 18.0, 18.7, 19.0, 19.6, 20.0, \n",
    "                 21.0, 21.0, 21.0, 21.3, 22.0, 22.0, 22.0, 22.0, 22.0, 22.5, \n",
    "                 22.5, 22.7, 23.0, 23.5, 24.0, 24.0, 24.6, 25.0, 25.6, 26.5, \n",
    "                 27.3, 27.5, 27.5, 27.5, 28.0, 28.7, 30.0, 32.8, 34.5, 35.0, \n",
    "                 36.5, 36.0, 37.0, 37.0, 39.0, 39.0, 39.0, 40.0, 40.0, 40.0, \n",
    "                 40.0, 42.0, 43.0, 43.0, 43.5, 44.0]\n",
    "                 )\n",
    "# 농어 무게 \n",
    "perch_weight = np.array(\n",
    "                [5.9, 32.0, 40.0, 51.5, 70.0, 100.0, 78.0, 80.0, 85.0, 85.0, \n",
    "                 110.0, 115.0, 125.0, 130.0, 120.0, 120.0, 130.0, 135.0, 110.0, \n",
    "                 130.0, 150.0, 145.0, 150.0, 170.0, 225.0, 145.0, 188.0, 180.0, \n",
    "                 197.0, 218.0, 300.0, 260.0, 265.0, 250.0, 250.0, 300.0, 320.0, \n",
    "                 514.0, 556.0, 840.0, 685.0, 700.0, 700.0, 690.0, 900.0, 650.0, \n",
    "                 820.0, 850.0, 900.0, 1015.0, 820.0, 1100.0, 1000.0, 1100.0, \n",
    "                 1000.0, 1000.0]\n",
    "                 )"
   ]
  },
  {
   "cell_type": "code",
   "execution_count": 31,
   "id": "56795686",
   "metadata": {},
   "outputs": [
    {
     "name": "stdout",
     "output_type": "stream",
     "text": [
      "(56,) (56,)\n"
     ]
    }
   ],
   "source": [
    "#  길이와 무게 데이터 차원 확인하기\n",
    "# 행 하나만 가지고 있음 -> 1차원 데이터이다 \n",
    "print (perch_length.shape , perch_weight.shape)"
   ]
  },
  {
   "cell_type": "code",
   "execution_count": 32,
   "id": "d48dacf8",
   "metadata": {},
   "outputs": [
    {
     "data": {
      "image/png": "[encoded data removed]",
      "text/plain": [
       "<Figure size 432x288 with 1 Axes>"
      ]
     },
     "metadata": {
      "needs_background": "light"
     },
     "output_type": "display_data"
    }
   ],
   "source": [
    "# 데이터 형태 확인하기 \n",
    "# - 산점도 그리기 \n",
    "# - 길이와 무게의 관계 확인하기 \n",
    "import matplotlib.pyplot as plt\n",
    "\n",
    "plt.scatter(perch_length, perch_weght)\n",
    "plt.xlabel(\"length\")\n",
    "plt.ylabel(\"weight\")\n",
    "plt.show()\n",
    "\n",
    "# 데이터가 선형 관계(약간 라운드가 있는)를 가지고 있다\n",
    "# (해석)\n",
    "## - 길이가 길어질수록, 무게도 커지는 우상향 분포(정비례)를 나타내고 있으며, \n",
    "## - 실이와 무게는 선형관계를 보이고는 있으나, 약간의 곡선을 보이고 있음 \n",
    "## - 우선은 선형으로 보고 분석 진행..."
   ]
  },
  {
   "cell_type": "code",
   "execution_count": 35,
   "id": "6384d406",
   "metadata": {},
   "outputs": [],
   "source": [
    "# 데이터 가져오기 -> 형태 확인 (분포 확인) -> test data, train data 분류 \n",
    "# 훈련데이터셋과 테스트데이터셋으로 75:25로 분류하기 \n",
    "## 변수는 어제와 동일 : train_input, train_target, test_input, test_target \n",
    "from sklearn.model_selection import train_test_split\n",
    "\n",
    "train_input, test_input,train_target, test_target = \\\n",
    "train_test_split (perch_length, perch_weight, test_size = 0.25, random_state = 42)\n",
    "\n",
    "# train_input = perch_length[:75]\n",
    "# train_target = perch_weght[:75]\n",
    "\n",
    "# test_input = perch_length[:25]\n",
    "# test_target = perch_weght[:25]\n",
    "\n"
   ]
  },
  {
   "cell_type": "code",
   "execution_count": 36,
   "id": "9e74e648",
   "metadata": {},
   "outputs": [
    {
     "name": "stdout",
     "output_type": "stream",
     "text": [
      "(42,) (42,)\n",
      "(14,) (14,)\n"
     ]
    }
   ],
   "source": [
    "print(train_input.shape, train_target.shape)\n",
    "print (test_input.shape, test_target.shape)"
   ]
  },
  {
   "cell_type": "code",
   "execution_count": 39,
   "id": "9eca9de7",
   "metadata": {},
   "outputs": [
    {
     "name": "stdout",
     "output_type": "stream",
     "text": [
      "(42, 1) (14, 1)\n"
     ]
    }
   ],
   "source": [
    "# 데이터 전처리 하기 \n",
    "# input 데이터에 대해서는 행렬의 2차원으로 만들어야 한다 \n",
    "# -train_input : 42행 1열\n",
    "# - test_input : 14행 1열\n",
    "# reshape : 차원의 증가 \n",
    "\n",
    "train_input = train_input.reshape(-1,1)\n",
    "test_input = test_input.reshape(-1,1)\n",
    "\n",
    "print(train_input.shape, test_input.shape)"
   ]
  },
  {
   "cell_type": "code",
   "execution_count": 45,
   "id": "5ed5873a",
   "metadata": {},
   "outputs": [
    {
     "name": "stdout",
     "output_type": "stream",
     "text": [
      "(4,) [1 2 3 4]\n"
     ]
    },
    {
     "data": {
      "text/plain": [
       "array([[1],\n",
       "       [2],\n",
       "       [3],\n",
       "       [4]])"
      ]
     },
     "execution_count": 45,
     "metadata": {},
     "output_type": "execute_result"
    }
   ],
   "source": [
    "## 차원변경 예시 \n",
    "\n",
    "test_array= np.array([1,2,3,4])\n",
    "print(test_array.shape, test_array)\n",
    "\n",
    "# - 2행 2열로 만들어 보기 \n",
    "test_array.reshape(2,2)\n",
    "# 3행 3열은 만들 수 없다 -> 9개의 데이터가 필요하기 때문 \n",
    "\n",
    "# 데이터의 개수가 4개 여서 4행 1열\n",
    "# 전체 행을 의미 하느 것은 -1\n",
    "# -1의 의미 = 전체 행을 의미, 전체 데이터의 개수 \n",
    "test_array.reshape(-1,1)"
   ]
  },
  {
   "cell_type": "code",
   "execution_count": 46,
   "id": "a511f8d9",
   "metadata": {},
   "outputs": [],
   "source": [
    "# 훈련 시티기 \n",
    "# 훈련 모델 라이브러리 불러들이기 \n",
    "# 훈련 모델 생성 \n",
    "# 훈련 시키기\n",
    "# 훈련모델 검증하기 \n",
    "# 예측하기 "
   ]
  },
  {
   "cell_type": "code",
   "execution_count": 47,
   "id": "62db35a0",
   "metadata": {},
   "outputs": [],
   "source": [
    "# KNN : 회귀 알고리즘 사용 \n",
    "# KNN 회귀 모델 라이브러리 \n",
    "# KNeighborsClassifier : 분류 \n",
    "# KNeighborsRegressor : 회귀 \n",
    "from sklearn.neighbors import KNeighborsRegressor"
   ]
  },
  {
   "cell_type": "code",
   "execution_count": 53,
   "id": "107406bd",
   "metadata": {},
   "outputs": [
    {
     "data": {
      "text/plain": [
       "0.992809406101064"
      ]
     },
     "execution_count": 53,
     "metadata": {},
     "output_type": "execute_result"
    }
   ],
   "source": [
    "#모델 생성하기 \n",
    "# target 값을 찾으면 평균값을 낸다 -> 예측 \n",
    "# n_neighbors = 이웃 값을 추측\n",
    "# 결정값 \n",
    "knr = KNeighborsRegressor()\n",
    "# 훈련시키기\n",
    "knr.fit(train_input,train_target)\n",
    "# 검증하기 (결정계수) -> 0에서 1 사이의 값 \n",
    "# 1에 가까울 수록 좋다 \n",
    "knr.score(test_input,test_target)\n",
    "\n",
    "# 분류 -> 정확도 : 잘 맞춘 것 \n",
    "# 오차율 확인 필요 "
   ]
  },
  {
   "cell_type": "code",
   "execution_count": 56,
   "id": "800ffaf8",
   "metadata": {},
   "outputs": [
    {
     "name": "stdout",
     "output_type": "stream",
     "text": [
      "[  60.    79.6  248.   122.   136.   847.   311.4  183.4  847.   113.\n",
      " 1010.    60.   248.   248. ]\n",
      "[   5.9  100.   250.   130.   130.   820.   320.   188.   900.   125.\n",
      " 1000.    51.5  250.   300. ]\n",
      "19.157142857142862\n"
     ]
    }
   ],
   "source": [
    "# 실제 target 값과 예측값과의 오차가 어느정도 인지 확인하기\n",
    "# mean_absolute_error : 오차 값을 확인 해주느 함수 \n",
    "from sklearn.metrics import mean_absolute_error\n",
    "\n",
    "# 예측하기 \n",
    "test_prediction = knr.predict(test_input)\n",
    "print(test_prediction)\n",
    "print(test_target)\n",
    "\n",
    "# target과 예측 값과의 평균 오차 확인하기 \n",
    "# 차이에 대한 평균 값을 낸다 -> 19.157 : 평균 오차정도 \n",
    "mae = mean_absolute_error(test_target, test_prediction)\n",
    "print(mae)\n",
    "\n",
    "# (해석)\n",
    "# -taregt 값의 특성은 무게이므로, \n",
    "# 실제 target과 예측 값과의 차이는 무게의 차이를 의미함\n",
    "# 생성한 훈련모델을 이용했을 때 약 19g 정도 차이가 있음 \n",
    "# 실제 데이터를 넣어서 확인 해봐양 한다 -> 과적합 여부 확인 필요 "
   ]
  },
  {
   "cell_type": "markdown",
   "id": "c210eb1f",
   "metadata": {},
   "source": [
    "# 과적합 확인하기 "
   ]
  },
  {
   "cell_type": "code",
   "execution_count": 58,
   "id": "19d86084",
   "metadata": {},
   "outputs": [],
   "source": [
    "# 과대적합 : train score가 test score 보다 원등하게 높게 나오거나ㅡ 1인경우 \n",
    "# -> 훈련데이터가 1이거나 너무 높은 경우 1이 나오면 무조건, \n",
    "# 차이의 기준은 없다 그러나 훈련데이터가 너무 높다 3이상 \n",
    "# 데이터의 양을 늘리거나 하이퍼 파라미터를 조정 \n",
    "# 0.1 대에서 차이가 난다 \n",
    "# -> 튜닝 작업이 필요 \n",
    "\n",
    "# 과소 적합 : train score 가 test score 보다 낮게 나오는 경우 \n",
    "# -> train score 가 무조건 높게 나와야 한다 -> 모델 수정이 필요 ( 데이터 량이 적은 경우 많이 발생 )\n",
    "# ** 일반적으로 trsin score는 test score 보다 약감 높게 아와야 한다 \n",
    "# train data 와 test 데이터를 넣었을 때 차이를확인해야 한다 \n",
    "\n",
    "# 쓸 수 있다 -> 0.9 정도 \n",
    "# 0.95 정도 바람직\n"
   ]
  },
  {
   "cell_type": "code",
   "execution_count": 60,
   "id": "f6a2dfbd",
   "metadata": {},
   "outputs": [
    {
     "name": "stdout",
     "output_type": "stream",
     "text": [
      "0.9698823289099254\n",
      "0.992809406101064\n"
     ]
    }
   ],
   "source": [
    "print(knr.score(train_input, train_target))\n",
    "print(knr.score(test_input, test_target))\n",
    "# (해석)\n",
    "# train < test : 과소적합 발생 \n",
    "\n",
    "# <과소적합> 발생원인 \n",
    "## - 데이터 양이 적은 경우 주로 발생\n",
    "## - 복잡도가 낮은 경우에도 발생한다\n",
    "# 복잡도의 기준 : 하이퍼파라미터 값 \n",
    "# -> 줄일 수 있는 최소 : 3 (* 짝수 개수로는 안된다) \n",
    "\n",
    "# <과소적합> 해소 방법 \n",
    "## - 복잡도를 높게 하기 : 이웃의 개수를 줄이기 \n",
    "## - 데이터 양을 늘이기"
   ]
  },
  {
   "cell_type": "code",
   "execution_count": 65,
   "id": "ef7da2ee",
   "metadata": {},
   "outputs": [
    {
     "name": "stdout",
     "output_type": "stream",
     "text": [
      "0.9804899950518966\n",
      "0.9746459963987609\n"
     ]
    }
   ],
   "source": [
    "# 과소적합 해소하기 \n",
    "# 이웃의 개수 낮추기 : 복잡도 높아짐 \n",
    "knr.n_neighbors = 3 \n",
    "knr.fit(train_input, train_target)\n",
    "\n",
    "print(knr.score(train_input, train_target))\n",
    "print(knr.score(test_input, test_target))\n",
    "\n",
    "#(해석)\n",
    "# 훈련데이터0.98 , 테스트데이터0.97 로 과소적합 해소 \n",
    "# 최적의 n_neighbors = 3 "
   ]
  },
  {
   "cell_type": "code",
   "execution_count": 72,
   "id": "762f10a4",
   "metadata": {},
   "outputs": [
    {
     "name": "stdout",
     "output_type": "stream",
     "text": [
      "35.42380952380951\n"
     ]
    }
   ],
   "source": [
    "# test 데이터로 예측한 후 오차 확인해 주세요 \n",
    "test_prediction = knr.predict(test_input)\n",
    "mae = mean_absolute_error(test_target, test_prediction)\n",
    "print(mae)\n",
    "\n",
    "#(해석)\n",
    "# 예측값이 평균적으로 약 35g 정도 "
   ]
  },
  {
   "cell_type": "code",
   "execution_count": null,
   "id": "f9c2e8aa",
   "metadata": {},
   "outputs": [],
   "source": []
  },
  {
   "cell_type": "markdown",
   "id": "3d85c06d",
   "metadata": {},
   "source": []
  }
 ],
 "metadata": {
  "kernelspec": {
   "display_name": "pknu_bsae_kernel",
   "language": "python",
   "name": "pknu_base"
  },
  "language_info": {
   "codemirror_mode": {
    "name": "ipython",
    "version": 3
   },
   "file_extension": ".py",
   "mimetype": "text/x-python",
   "name": "python",
   "nbconvert_exporter": "python",
   "pygments_lexer": "ipython3",
   "version": "3.9.15"
  }
 },
 "nbformat": 4,
 "nbformat_minor": 5
}
