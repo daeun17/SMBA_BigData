{
 "cells": [
  {
   "cell_type": "markdown",
   "id": "6489f538",
   "metadata": {},
   "source": [
    "# 변수와 연산자\n",
    "## 코드 실행방법1 : ctrl + Enter\n",
    "## 코드실행방법2 : shipt + Enter "
   ]
  },
  {
   "cell_type": "markdown",
   "id": "a4ca4a24",
   "metadata": {},
   "source": [
    "#### 코드 실행방법3 : alt + Enter"
   ]
  },
  {
   "cell_type": "code",
   "execution_count": 1,
   "id": "e7a2f87f",
   "metadata": {},
   "outputs": [],
   "source": [
    "#변수이름 정의하기 \n",
    "#오른쪽의 값을 왼쪽의 이름(메모리공간)에 저장시킨다 \n",
    "my_age = 24"
   ]
  },
  {
   "cell_type": "code",
   "execution_count": 2,
   "id": "19a9725b",
   "metadata": {},
   "outputs": [
    {
     "name": "stdout",
     "output_type": "stream",
     "text": [
      "23\n"
     ]
    }
   ],
   "source": [
    "#print 함수 사용하기 \n",
    "# print 함수는 이름(메모리공간)에 저장되어 있는 값을 출력한다\n",
    "print(my_age)"
   ]
  },
  {
   "cell_type": "code",
   "execution_count": 3,
   "id": "d17ccf6c",
   "metadata": {},
   "outputs": [
    {
     "data": {
      "text/plain": [
       "23"
      ]
     },
     "execution_count": 3,
     "metadata": {},
     "output_type": "execute_result"
    }
   ],
   "source": [
    "#jupyter의 경우 print를 안쓰고 변수 이름 만으로 값을 확인 할 수 있다. \n",
    "my_age"
   ]
  },
  {
   "cell_type": "code",
   "execution_count": 4,
   "id": "1752167d",
   "metadata": {},
   "outputs": [
    {
     "name": "stdout",
     "output_type": "stream",
     "text": [
      "177\n"
     ]
    }
   ],
   "source": [
    "#변수로 지정한 값은 주피터 노트북이 실행되는 동안 메모리 공간에 저장되어 있다.\n",
    "my_height = 177\n",
    "print(my_height)"
   ]
  },
  {
   "cell_type": "code",
   "execution_count": 5,
   "id": "c9dbb78f",
   "metadata": {},
   "outputs": [
    {
     "data": {
      "text/plain": [
       "200"
      ]
     },
     "execution_count": 5,
     "metadata": {},
     "output_type": "execute_result"
    }
   ],
   "source": [
    "#연산하기\n",
    "my_age + my_height"
   ]
  },
  {
   "cell_type": "code",
   "execution_count": 6,
   "id": "db80eef3",
   "metadata": {},
   "outputs": [
    {
     "name": "stdout",
     "output_type": "stream",
     "text": [
      "200\n"
     ]
    }
   ],
   "source": [
    "#연산한 값을 새로운 변수에 저장 할 수도 있다 \n",
    "tot = my_age + my_height \n",
    "print(tot)"
   ]
  },
  {
   "cell_type": "code",
   "execution_count": 8,
   "id": "ed1559f1",
   "metadata": {},
   "outputs": [
    {
     "name": "stdout",
     "output_type": "stream",
     "text": [
      "23 177 200\n"
     ]
    }
   ],
   "source": [
    "#여러개 값 출력하기 변수 이름을 ,로 구분하여 print 하면된다 \n",
    "print(my_age, my_height, tot)"
   ]
  },
  {
   "cell_type": "code",
   "execution_count": 9,
   "id": "b49a55a0",
   "metadata": {},
   "outputs": [],
   "source": [
    "#데이터 타입 \n",
    "# int : 정수타입(1,2,3) 소수점이 없는 값\n",
    "# flot : 소수점이 있는 타입 (1.1, 2.4)\n",
    "# str : 문자 타입 (\"123\", 'abd', \"홍길동\", '3.444') -> 문자의 양 끝에 상 따옴표 또는 작은 따옴표 "
   ]
  },
  {
   "cell_type": "code",
   "execution_count": 13,
   "id": "55403f46",
   "metadata": {},
   "outputs": [
    {
     "name": "stdout",
     "output_type": "stream",
     "text": [
      "홍길동 23 180\n"
     ]
    }
   ],
   "source": [
    "name = \"홍길동\"\n",
    "name_age = \"23\" \n",
    "name_height = \"180\" \n",
    "print (name, name_age, name_height)"
   ]
  },
  {
   "cell_type": "code",
   "execution_count": 14,
   "id": "9ae6905c",
   "metadata": {},
   "outputs": [
    {
     "ename": "TypeError",
     "evalue": "unsupported operand type(s) for +: 'int' and 'str'",
     "output_type": "error",
     "traceback": [
      "\u001b[1;31m----------------------------------------------------------------------\u001b[0m",
      "\u001b[1;31mTypeError\u001b[0m                            Traceback (most recent call last)",
      "\u001b[1;32m~\\AppData\\Local\\Temp/ipykernel_20132/3328370260.py\u001b[0m in \u001b[0;36m<module>\u001b[1;34m\u001b[0m\n\u001b[0;32m      1\u001b[0m \u001b[1;31m#정수 형태의 변수 + 문자 형태의 변수\u001b[0m\u001b[1;33m\u001b[0m\u001b[1;33m\u001b[0m\u001b[0m\n\u001b[1;32m----> 2\u001b[1;33m \u001b[0mmy_age\u001b[0m \u001b[1;33m+\u001b[0m \u001b[0mname_age\u001b[0m\u001b[1;33m\u001b[0m\u001b[1;33m\u001b[0m\u001b[0m\n\u001b[0m",
      "\u001b[1;31mTypeError\u001b[0m: unsupported operand type(s) for +: 'int' and 'str'"
     ]
    }
   ],
   "source": [
    "#정수 형태의 변수 + 문자 형태의 변수 -> 다른 타입의 연산은 안된다 \n",
    "#error 문구 제일 마지막 보기 -> 화살표 다음 보기(오류 위치)\n",
    "my_age + name_age "
   ]
  },
  {
   "cell_type": "code",
   "execution_count": 15,
   "id": "1c95e1d9",
   "metadata": {},
   "outputs": [
    {
     "data": {
      "text/plain": [
       "46"
      ]
     },
     "execution_count": 15,
     "metadata": {},
     "output_type": "execute_result"
    }
   ],
   "source": [
    "# 타입을 변경해서 연산 하기 : str -> int \n",
    "# *name_age안에 문자가 들어 있으면 연산이 안된다 \n",
    "my_age + int(name_age)"
   ]
  },
  {
   "cell_type": "code",
   "execution_count": 17,
   "id": "7cf23f9e",
   "metadata": {},
   "outputs": [
    {
     "data": {
      "text/plain": [
       "'2323'"
      ]
     },
     "execution_count": 17,
     "metadata": {},
     "output_type": "execute_result"
    }
   ],
   "source": [
    "#타입 변경하기 : int -> str \n",
    "str(my_age) + name_age "
   ]
  },
  {
   "cell_type": "code",
   "execution_count": 25,
   "id": "ec7d29a4",
   "metadata": {},
   "outputs": [
    {
     "name": "stdout",
     "output_type": "stream",
     "text": [
      "10\n"
     ]
    }
   ],
   "source": [
    "#산술 연산자 \n",
    "# +, -, *, /, //, %\n",
    "a = 6\n",
    "b = 4\n",
    "tot = a + b\n",
    "print(tot)"
   ]
  },
  {
   "cell_type": "code",
   "execution_count": 19,
   "id": "2732c573",
   "metadata": {},
   "outputs": [
    {
     "name": "stdout",
     "output_type": "stream",
     "text": [
      "3\n"
     ]
    }
   ],
   "source": [
    "tot = a - b \n",
    "print (tot)"
   ]
  },
  {
   "cell_type": "code",
   "execution_count": 20,
   "id": "f0c0c04b",
   "metadata": {},
   "outputs": [
    {
     "name": "stdout",
     "output_type": "stream",
     "text": [
      "18\n"
     ]
    }
   ],
   "source": [
    "tot = a * b \n",
    "print (tot)"
   ]
  },
  {
   "cell_type": "code",
   "execution_count": 28,
   "id": "7d5504d3",
   "metadata": {},
   "outputs": [
    {
     "name": "stdout",
     "output_type": "stream",
     "text": [
      "1.5\n"
     ]
    }
   ],
   "source": [
    "#나누기를 진행 하면 자동으로 flot type으로 형변환\n",
    "tot = a/b\n",
    "print (tot)"
   ]
  },
  {
   "cell_type": "code",
   "execution_count": 27,
   "id": "b1c33152",
   "metadata": {},
   "outputs": [
    {
     "name": "stdout",
     "output_type": "stream",
     "text": [
      "1\n"
     ]
    }
   ],
   "source": [
    "# // : 나눈 몫 (정수 값으로 뽑아냄 ) \n",
    "tot = a//b\n",
    "print(tot)"
   ]
  },
  {
   "cell_type": "code",
   "execution_count": 36,
   "id": "86b0542c",
   "metadata": {},
   "outputs": [
    {
     "name": "stdout",
     "output_type": "stream",
     "text": [
      "2\n"
     ]
    }
   ],
   "source": [
    "# % : 나눈 나머지 값\n",
    "tot = a % b\n",
    "print (tot)"
   ]
  },
  {
   "cell_type": "code",
   "execution_count": 29,
   "id": "7e4fd8bb",
   "metadata": {},
   "outputs": [
    {
     "name": "stdout",
     "output_type": "stream",
     "text": [
      "홍길동\n"
     ]
    }
   ],
   "source": [
    "print(name)"
   ]
  },
  {
   "cell_type": "code",
   "execution_count": 30,
   "id": "1212d775",
   "metadata": {},
   "outputs": [],
   "source": [
    "#문자와 숫자의 메모리 공간에 생기는 방식이 다르다 \n",
    "#name = \"홍길동\" --> 홍 | 길 | 동 : 3개의 공간에 들어간다\n",
    "#각 공간에 번호(인덱스)가 부여된다 0 | 1 | 2 \n",
    "#name 은 해당 메모리 공간의 주소를 가리키고 있다 \n",
    "#python의 공간 시작은 0부터이다 "
   ]
  },
  {
   "cell_type": "code",
   "execution_count": 31,
   "id": "8c415eaf",
   "metadata": {},
   "outputs": [
    {
     "data": {
      "text/plain": [
       "'홍'"
      ]
     },
     "execution_count": 31,
     "metadata": {},
     "output_type": "execute_result"
    }
   ],
   "source": [
    "name[0]"
   ]
  },
  {
   "cell_type": "code",
   "execution_count": 34,
   "id": "8c4d274b",
   "metadata": {},
   "outputs": [
    {
     "data": {
      "text/plain": [
       "'길'"
      ]
     },
     "execution_count": 34,
     "metadata": {},
     "output_type": "execute_result"
    }
   ],
   "source": [
    "name[1]"
   ]
  },
  {
   "cell_type": "code",
   "execution_count": 33,
   "id": "fe0d9784",
   "metadata": {},
   "outputs": [
    {
     "data": {
      "text/plain": [
       "'동'"
      ]
     },
     "execution_count": 33,
     "metadata": {},
     "output_type": "execute_result"
    }
   ],
   "source": [
    "name[2]"
   ]
  },
  {
   "cell_type": "code",
   "execution_count": 37,
   "id": "5afe4360",
   "metadata": {},
   "outputs": [
    {
     "name": "stdout",
     "output_type": "stream",
     "text": [
      "6 4 2\n"
     ]
    }
   ],
   "source": [
    "\"\"\"\n",
    "[장문의 주석이 들어가는 경우 주석...]\n",
    "조건연산자 : 크다(>), 작다(<), 같다(==), 같지 않다(!=), 크거나 같다(>=), 작거나 같다(<=) \n",
    "*크다 작다의 기준 : 왼쪽이 기준 , 오른쪽은 비교 할 값 \n",
    "\"\"\"\n",
    "\n",
    "print(a, b, tot)"
   ]
  },
  {
   "cell_type": "code",
   "execution_count": 38,
   "id": "3a2769f8",
   "metadata": {},
   "outputs": [
    {
     "data": {
      "text/plain": [
       "True"
      ]
     },
     "execution_count": 38,
     "metadata": {},
     "output_type": "execute_result"
    }
   ],
   "source": [
    "a > b"
   ]
  },
  {
   "cell_type": "code",
   "execution_count": 39,
   "id": "5d9ccac6",
   "metadata": {},
   "outputs": [
    {
     "data": {
      "text/plain": [
       "False"
      ]
     },
     "execution_count": 39,
     "metadata": {},
     "output_type": "execute_result"
    }
   ],
   "source": [
    "a < b"
   ]
  },
  {
   "cell_type": "code",
   "execution_count": 40,
   "id": "fd79aeef",
   "metadata": {},
   "outputs": [
    {
     "data": {
      "text/plain": [
       "False"
      ]
     },
     "execution_count": 40,
     "metadata": {},
     "output_type": "execute_result"
    }
   ],
   "source": [
    "a == b"
   ]
  },
  {
   "cell_type": "code",
   "execution_count": 41,
   "id": "39f78e32",
   "metadata": {},
   "outputs": [
    {
     "data": {
      "text/plain": [
       "True"
      ]
     },
     "execution_count": 41,
     "metadata": {},
     "output_type": "execute_result"
    }
   ],
   "source": [
    "a != b"
   ]
  },
  {
   "cell_type": "code",
   "execution_count": 42,
   "id": "c7363a35",
   "metadata": {},
   "outputs": [
    {
     "data": {
      "text/plain": [
       "True"
      ]
     },
     "execution_count": 42,
     "metadata": {},
     "output_type": "execute_result"
    }
   ],
   "source": [
    "a >= b"
   ]
  },
  {
   "cell_type": "code",
   "execution_count": 43,
   "id": "16d1ea54",
   "metadata": {},
   "outputs": [
    {
     "data": {
      "text/plain": [
       "False"
      ]
     },
     "execution_count": 43,
     "metadata": {},
     "output_type": "execute_result"
    }
   ],
   "source": [
    "a <= b"
   ]
  },
  {
   "cell_type": "code",
   "execution_count": 46,
   "id": "ecdcef68",
   "metadata": {},
   "outputs": [
    {
     "name": "stdout",
     "output_type": "stream",
     "text": [
      "크다\n"
     ]
    }
   ],
   "source": [
    "#조건문(선텍문) 사용하기 조건이 맞으면 블록안에 내용 수행\n",
    "#if 조건 : True 시 실행 내용 else : false 시 수행 내용\n",
    "if a > b :\n",
    "    print(\"크다\")\n",
    "else : \n",
    "    print(\"아니야\")"
   ]
  },
  {
   "cell_type": "code",
   "execution_count": 47,
   "id": "063e6b6b",
   "metadata": {},
   "outputs": [
    {
     "name": "stdout",
     "output_type": "stream",
     "text": [
      "아니야\n"
     ]
    }
   ],
   "source": [
    "if a < b :\n",
    "    print(\"크다\")\n",
    "else : \n",
    "    print(\"아니야\")"
   ]
  },
  {
   "cell_type": "code",
   "execution_count": 48,
   "id": "97d19759",
   "metadata": {},
   "outputs": [
    {
     "name": "stdout",
     "output_type": "stream",
     "text": [
      "작다\n"
     ]
    }
   ],
   "source": [
    "#여러개의 조건 \n",
    "#if 조건 : if 조건 true시 실행 elif : elif 조건 true 시 실행 else : 나머지 \n",
    "#수서대로 가면서 하나만 만족하는 것 수행, 하나 만족하면 이후 실행 x\n",
    "if a > b :\n",
    "    print(\"크다1\")\n",
    "elif a > b :\n",
    "    print(\"크다2\")\n",
    "else : \n",
    "    print(\"아니야\")"
   ]
  },
  {
   "cell_type": "code",
   "execution_count": 51,
   "id": "67bd69ec",
   "metadata": {},
   "outputs": [
    {
     "name": "stdout",
     "output_type": "stream",
     "text": [
      "아니야\n"
     ]
    }
   ],
   "source": [
    "#else 가 있으면 수행 \n",
    "if a < b :\n",
    "    print(\"크다\")\n",
    "elif a == b :\n",
    "    print(\"같다\")\n",
    "else : \n",
    "    print(\"아니야\")"
   ]
  },
  {
   "cell_type": "code",
   "execution_count": 53,
   "id": "d96f266b",
   "metadata": {},
   "outputs": [],
   "source": [
    "# else 없으면 조건 맞는 거 없으면 실행 x\n",
    "if a < b :\n",
    "    print(\"크다\")\n",
    "elif a == b :\n",
    "    print(\"같다\")"
   ]
  },
  {
   "cell_type": "code",
   "execution_count": 57,
   "id": "24e2e187",
   "metadata": {},
   "outputs": [
    {
     "name": "stdout",
     "output_type": "stream",
     "text": [
      "홍길동2\n"
     ]
    }
   ],
   "source": [
    "#조건문 안에 조건문을 또 사용 할 수 있다 \n",
    "a = 10\n",
    "b = 5\n",
    "name1 = \"홍길동1\"\n",
    "name2 = \"홍길동2\"\n",
    "if a < b :\n",
    "    if name1 == \"홍길동1\" :\n",
    "        print(\"홍길동1\")\n",
    "    else : \n",
    "        print(\"아니야\")\n",
    "else : \n",
    "    if name2 == \"홍길동2\" :\n",
    "        print(\"홍길동2\")\n",
    "    else : \n",
    "        print(\"아니야\")"
   ]
  },
  {
   "cell_type": "code",
   "execution_count": 62,
   "id": "16fc2d8c",
   "metadata": {},
   "outputs": [
    {
     "name": "stdout",
     "output_type": "stream",
     "text": [
      "여자입니다\n"
     ]
    }
   ],
   "source": [
    "### [문제]\n",
    "#jumin = 본인의 주민번호 뒤 첫번째 숫자값 입력 \n",
    "# - 남자인지 여자인지 출력해주세요\n",
    "jumin = 4\n",
    "if (jumin % 2) == 0 :\n",
    "    print(\"여자입니다\")\n",
    "else : \n",
    "    print(\"남자입니다\")"
   ]
  },
  {
   "cell_type": "code",
   "execution_count": 77,
   "id": "1f62756e",
   "metadata": {},
   "outputs": [
    {
     "name": "stdout",
     "output_type": "stream",
     "text": [
      "여자입니다\n"
     ]
    }
   ],
   "source": [
    "### [문제2]\n",
    "#본인의 주민등록번호 뒷자리 전체를 변수 jumin에 넣은 후 \n",
    "# 첫번째 값을 추출해서 \n",
    "#남자여자인지 출력하기 \n",
    "jumin = 4113421\n",
    "juminstr = str(jumin)\n",
    "if (int(juminstr[0]) % 2) == 0 :\n",
    "    print(\"여자입니다\")\n",
    "else : \n",
    "    print(\"남자입니다\")"
   ]
  },
  {
   "cell_type": "code",
   "execution_count": 79,
   "id": "140aed72",
   "metadata": {},
   "outputs": [
    {
     "data": {
      "text/plain": [
       "'나의 이름은 홍길동이고, 나이는 20입니다.'"
      ]
     },
     "execution_count": 79,
     "metadata": {},
     "output_type": "execute_result"
    }
   ],
   "source": [
    "#format 함수 사용하기\n",
    "#문자열 함수로 문자열 중간에 변수 값 또는 값을 넣어주고 싶을 때 사용\n",
    "#문자열 함수 : format 함수 -> 특정 중괄호 위치에 값 넣기 \n",
    "name =\"홍길동\"\n",
    "age = 20\n",
    "\"나의 이름은 {}이고, 나이는 {}입니다.\".format(name,age)"
   ]
  },
  {
   "cell_type": "code",
   "execution_count": 80,
   "id": "8e601767",
   "metadata": {},
   "outputs": [
    {
     "data": {
      "text/plain": [
       "'나의 이름은 홍길동이고, 나이는 홍길동입니다.'"
      ]
     },
     "execution_count": 80,
     "metadata": {},
     "output_type": "execute_result"
    }
   ],
   "source": [
    "#중괄호 안에 숫자를 지정해 줄 경우 format 함수 내의 순서를 의미 한다 \n",
    "# format(0,1,2,3,~)\n",
    "#숫자를 입력해서 순서를 지정할 경우 모든 {} 내에 입력해야 한다 \n",
    "name =\"홍길동\"\n",
    "age = 20\n",
    "\"나의 이름은 {0}이고, 나이는 {0}입니다.\".format(name,age)"
   ]
  },
  {
   "cell_type": "code",
   "execution_count": 88,
   "id": "ec75f839",
   "metadata": {},
   "outputs": [
    {
     "data": {
      "text/plain": [
       "'나의 이름은 홍길동이고, 나이는 20입니다.'"
      ]
     },
     "execution_count": 88,
     "metadata": {},
     "output_type": "execute_result"
    }
   ],
   "source": [
    "#format 내에 값을 직접 넣어도 된다 \n",
    "name =\"홍길동\"\n",
    "age = 20\n",
    "\"나의 이름은 {}이고, 나이는 {}입니다.\".format(\"홍길동\",age)"
   ]
  },
  {
   "cell_type": "code",
   "execution_count": 86,
   "id": "d9ab61f1",
   "metadata": {},
   "outputs": [
    {
     "data": {
      "text/plain": [
       "'2023-1-3'"
      ]
     },
     "execution_count": 86,
     "metadata": {},
     "output_type": "execute_result"
    }
   ],
   "source": [
    "yyyy = 2023\n",
    "mm = 1\n",
    "dd = 3\n",
    "\"{0}-{1}-{2}, {0}/{1}/{2},{0}.{1}.{2}\".format(yyyy,mm,dd)"
   ]
  },
  {
   "cell_type": "code",
   "execution_count": 91,
   "id": "ca11f95e",
   "metadata": {},
   "outputs": [
    {
     "name": "stdout",
     "output_type": "stream",
     "text": [
      "range(1, 101)\n"
     ]
    }
   ],
   "source": [
    "#range 함수\n",
    "#숫자의 범위 함수\n",
    "#첫번째 값 : 시작값\n",
    "#두번쨰 값 : 끝값 (끝값 - 1 까지 = 100까지)\n",
    "#세번째값 : 증가값 \n",
    "print(range(1, 101,1))"
   ]
  },
  {
   "cell_type": "code",
   "execution_count": 92,
   "id": "9ec7c3ac",
   "metadata": {},
   "outputs": [],
   "source": [
    "#반복문 : 지정된 범위까지 반복하기 (시작부터 끝까지)\n",
    "#반복을 시키는 명령어 : for, while \n",
    "# for : 시작부터 끝까지의 범위가 지정되어야 한다 (ranger를 이용해야 한다)\n",
    "#while : 무한 반복하고자 할 때 주로 사용( 기본 반복은 for문과 동일 )"
   ]
  },
  {
   "cell_type": "code",
   "execution_count": null,
   "id": "98888b48",
   "metadata": {},
   "outputs": [],
   "source": [
    "#1~100 까지 반복하면서 값 출력하기 \n",
    "#증가값, 첫번째 값을 안 넣으면 기본적으로 1\n",
    "# 끝 값은 반드시 넣어 줘야 한다 \n",
    "for i in range(101):\n",
    "    print(\"{}번째 출력\".format(i))"
   ]
  },
  {
   "cell_type": "code",
   "execution_count": null,
   "id": "836b7062",
   "metadata": {},
   "outputs": [],
   "source": [
    "#while은 기본적으로 무한 반복 \n",
    "i = 1\n",
    "while i <= 100 : \n",
    "    print(\"{}번째while 처리\".format(i))\n",
    "    i = i + 1"
   ]
  },
  {
   "cell_type": "code",
   "execution_count": null,
   "id": "e4255eab",
   "metadata": {},
   "outputs": [],
   "source": [
    "#무한루프 종료 : break\n",
    "i = 0\n",
    "while True :\n",
    "    print(\"{}무한루프\".format(i))\n",
    "    break"
   ]
  },
  {
   "cell_type": "code",
   "execution_count": null,
   "id": "5d9ab355",
   "metadata": {},
   "outputs": [],
   "source": [
    "###반복 건너뛰기 : continue\n",
    "##반복 종료하기 : break"
   ]
  },
  {
   "cell_type": "code",
   "execution_count": 3,
   "id": "4d8d1677",
   "metadata": {},
   "outputs": [
    {
     "name": "stdout",
     "output_type": "stream",
     "text": [
      "51번째\n",
      "52번째\n",
      "53번째\n",
      "54번째\n",
      "55번째\n",
      "56번째\n",
      "57번째\n",
      "58번째\n",
      "59번째\n"
     ]
    }
   ],
   "source": [
    "i = 1\n",
    "for i in range(1, 101, 1):\n",
    "    if i <= 50 :\n",
    "        continue\n",
    "    elif i == 60 :\n",
    "        break\n",
    "    print(\"{}번째\".format(i))"
   ]
  },
  {
   "cell_type": "code",
   "execution_count": 5,
   "id": "33e98e69",
   "metadata": {},
   "outputs": [
    {
     "name": "stdout",
     "output_type": "stream",
     "text": [
      "2550\n"
     ]
    }
   ],
   "source": [
    "    # [문제]\n",
    "    # 0부터 100까지의 범위에서 짝수의 총합을 출력해 주세요 \n",
    "    tot = 0\n",
    "    for i in range(0, 101, 2) :\n",
    "        tot += i\n",
    "    print (tot)"
   ]
  },
  {
   "cell_type": "code",
   "execution_count": 6,
   "id": "7158d6fd",
   "metadata": {},
   "outputs": [
    {
     "name": "stdout",
     "output_type": "stream",
     "text": [
      "2550\n"
     ]
    }
   ],
   "source": [
    "tot = 0 \n",
    "for i in range(1, 101 ,1) :\n",
    "    if (i % 2) == 0 :\n",
    "        tot += i\n",
    "print(tot)"
   ]
  },
  {
   "cell_type": "code",
   "execution_count": 8,
   "id": "992179eb",
   "metadata": {},
   "outputs": [
    {
     "name": "stdout",
     "output_type": "stream",
     "text": [
      "0/0\n",
      "0/1\n",
      "0/2\n",
      "1/0\n",
      "1/1\n",
      "1/2\n",
      "2/0\n",
      "2/1\n",
      "2/2\n",
      "3/0\n",
      "3/1\n",
      "3/2\n",
      "4/0\n",
      "4/1\n",
      "4/2\n",
      "5/0\n",
      "5/1\n",
      "5/2\n",
      "6/0\n",
      "6/1\n",
      "6/2\n",
      "7/0\n",
      "7/1\n",
      "7/2\n",
      "8/0\n",
      "8/1\n",
      "8/2\n",
      "9/0\n",
      "9/1\n",
      "9/2\n",
      "10/0\n",
      "10/1\n",
      "10/2\n"
     ]
    }
   ],
   "source": [
    "# for문의 중첩 \n",
    "for i in range (0, 11, 1) :\n",
    "    for j in range(0, 3, 1) :\n",
    "        print(\"{}/{}\".format(i,j))"
   ]
  },
  {
   "cell_type": "code",
   "execution_count": 12,
   "id": "56b9361b",
   "metadata": {},
   "outputs": [
    {
     "data": {
      "text/plain": [
       "'001'"
      ]
     },
     "execution_count": 12,
     "metadata": {},
     "output_type": "execute_result"
    }
   ],
   "source": [
    "#zfill함수 : 문자열 함수, 문자열 개수를 입려하면 빈공간은 0으로 채워준다 \n",
    "# 빈 공간애 0값 넣기\n",
    "\"1\".zfill(3)"
   ]
  },
  {
   "cell_type": "code",
   "execution_count": 15,
   "id": "e50588be",
   "metadata": {},
   "outputs": [
    {
     "name": "stdout",
     "output_type": "stream",
     "text": [
      "2023-01-03\n"
     ]
    }
   ],
   "source": [
    "#날짜에 많이 사용 한다 \n",
    "yyyy = 2023\n",
    "mm = 1\n",
    "dd = 3\n",
    "print(\"{}-{}-{}\".format(yyyy, str(mm).zfill(2),str(dd).zfill(2)))"
   ]
  },
  {
   "cell_type": "code",
   "execution_count": 21,
   "id": "f31ef292",
   "metadata": {},
   "outputs": [
    {
     "name": "stdout",
     "output_type": "stream",
     "text": [
      "2010-01\n",
      "2010-02\n",
      "2010-03\n",
      "2010-04\n",
      "2010-05\n",
      "2010-06\n",
      "2010-07\n",
      "2010-08\n",
      "2010-09\n",
      "2010-10\n",
      "2010-11\n",
      "2010-12\n",
      "2011-01\n",
      "2011-02\n",
      "2011-03\n",
      "2011-04\n",
      "2011-05\n",
      "2011-06\n",
      "2011-07\n",
      "2011-08\n",
      "2011-09\n",
      "2011-10\n",
      "2011-11\n",
      "2011-12\n",
      "2012-01\n",
      "2012-02\n",
      "2012-03\n",
      "2012-04\n",
      "2012-05\n",
      "2012-06\n",
      "2012-07\n",
      "2012-08\n",
      "2012-09\n",
      "2012-10\n",
      "2012-11\n",
      "2012-12\n",
      "2013-01\n",
      "2013-02\n",
      "2013-03\n",
      "2013-04\n",
      "2013-05\n",
      "2013-06\n",
      "2013-07\n",
      "2013-08\n",
      "2013-09\n",
      "2013-10\n",
      "2013-11\n",
      "2013-12\n",
      "2014-01\n",
      "2014-02\n",
      "2014-03\n",
      "2014-04\n",
      "2014-05\n",
      "2014-06\n",
      "2014-07\n",
      "2014-08\n",
      "2014-09\n",
      "2014-10\n",
      "2014-11\n",
      "2014-12\n",
      "2015-01\n",
      "2015-02\n",
      "2015-03\n",
      "2015-04\n",
      "2015-05\n",
      "2015-06\n",
      "2015-07\n",
      "2015-08\n",
      "2015-09\n",
      "2015-10\n",
      "2015-11\n",
      "2015-12\n",
      "2016-01\n",
      "2016-02\n",
      "2016-03\n",
      "2016-04\n",
      "2016-05\n",
      "2016-06\n",
      "2016-07\n",
      "2016-08\n",
      "2016-09\n",
      "2016-10\n",
      "2016-11\n",
      "2016-12\n",
      "2017-01\n",
      "2017-02\n",
      "2017-03\n",
      "2017-04\n",
      "2017-05\n",
      "2017-06\n",
      "2017-07\n",
      "2017-08\n",
      "2017-09\n",
      "2017-10\n",
      "2017-11\n",
      "2017-12\n",
      "2018-01\n",
      "2018-02\n",
      "2018-03\n",
      "2018-04\n",
      "2018-05\n",
      "2018-06\n",
      "2018-07\n",
      "2018-08\n",
      "2018-09\n",
      "2018-10\n",
      "2018-11\n",
      "2018-12\n",
      "2019-01\n",
      "2019-02\n",
      "2019-03\n",
      "2019-04\n",
      "2019-05\n",
      "2019-06\n",
      "2019-07\n",
      "2019-08\n",
      "2019-09\n",
      "2019-10\n",
      "2019-11\n",
      "2019-12\n",
      "2020-01\n",
      "2020-02\n",
      "2020-03\n",
      "2020-04\n",
      "2020-05\n",
      "2020-06\n",
      "2020-07\n",
      "2020-08\n",
      "2020-09\n",
      "2020-10\n",
      "2020-11\n",
      "2020-12\n",
      "2021-01\n",
      "2021-02\n",
      "2021-03\n",
      "2021-04\n",
      "2021-05\n",
      "2021-06\n",
      "2021-07\n",
      "2021-08\n",
      "2021-09\n",
      "2021-10\n",
      "2021-11\n",
      "2021-12\n",
      "2022-01\n",
      "2022-02\n",
      "2022-03\n",
      "2022-04\n",
      "2022-05\n",
      "2022-06\n",
      "2022-07\n",
      "2022-08\n",
      "2022-09\n",
      "2022-10\n",
      "2022-11\n",
      "2022-12\n"
     ]
    }
   ],
   "source": [
    "# [문제]\n",
    "# 2010년 1월 부터 2022년 12월 까지의 년-월(0000-00)을 출력해 주세요\n",
    "\n",
    "for y in range (2010,2023,1):\n",
    "    for m in range(1,13,1) :\n",
    "        print(\"{}-{}\".format(y,str(m).zfill(2)))"
   ]
  },
  {
   "cell_type": "code",
   "execution_count": 22,
   "id": "1e5faf6d",
   "metadata": {},
   "outputs": [
    {
     "name": "stdout",
     "output_type": "stream",
     "text": [
      "2010-02\n",
      "2010-04\n",
      "2010-06\n",
      "2010-08\n",
      "2010-10\n",
      "2010-12\n",
      "2012-02\n",
      "2012-04\n",
      "2012-06\n",
      "2012-08\n",
      "2012-10\n",
      "2012-12\n",
      "2014-02\n",
      "2014-04\n",
      "2014-06\n",
      "2014-08\n",
      "2014-10\n",
      "2014-12\n",
      "2016-02\n",
      "2016-04\n",
      "2016-06\n",
      "2016-08\n",
      "2016-10\n",
      "2016-12\n",
      "2018-02\n",
      "2018-04\n",
      "2018-06\n",
      "2018-08\n",
      "2018-10\n",
      "2018-12\n",
      "2020-02\n",
      "2020-04\n",
      "2020-06\n",
      "2020-08\n",
      "2020-10\n",
      "2020-12\n",
      "2022-02\n",
      "2022-04\n",
      "2022-06\n",
      "2022-08\n",
      "2022-10\n",
      "2022-12\n"
     ]
    }
   ],
   "source": [
    "# [문제]\n",
    "# 2010년 1월 부터 2022년 12월 까지의 년-월(0000-00)을 출력해 주세요\n",
    "#단, 짝수 년도와 짝수 월에 대해서만 출력해 주세요 \n",
    "for y in range(2010,2023,1) :\n",
    "    if(y % 2) == 0 :\n",
    "        for m in range(1, 13, 1) :\n",
    "            if (m % 2) == 0 :\n",
    "                print(\"{}-{}\".format(y,str(m).zfill(2)))"
   ]
  },
  {
   "cell_type": "code",
   "execution_count": 23,
   "id": "cde4fb61",
   "metadata": {},
   "outputs": [
    {
     "name": "stdout",
     "output_type": "stream",
     "text": [
      "2010-02\n",
      "2010-04\n",
      "2010-06\n",
      "2010-08\n",
      "2010-10\n",
      "2010-12\n",
      "2012-02\n",
      "2012-04\n",
      "2012-06\n",
      "2012-08\n",
      "2012-10\n",
      "2012-12\n",
      "2014-02\n",
      "2014-04\n",
      "2014-06\n",
      "2014-08\n",
      "2014-10\n",
      "2014-12\n",
      "2016-02\n",
      "2016-04\n",
      "2016-06\n",
      "2016-08\n",
      "2016-10\n",
      "2016-12\n",
      "2018-02\n",
      "2018-04\n",
      "2018-06\n",
      "2018-08\n",
      "2018-10\n",
      "2018-12\n",
      "2020-02\n",
      "2020-04\n",
      "2020-06\n",
      "2020-08\n",
      "2020-10\n",
      "2020-12\n",
      "2022-02\n",
      "2022-04\n",
      "2022-06\n",
      "2022-08\n",
      "2022-10\n",
      "2022-12\n"
     ]
    }
   ],
   "source": [
    "for y in range(2010,2023,1) :\n",
    "    for m in range(1, 13, 1) :\n",
    "        if (y % 2 == 0) and (m % 2 == 0)  :\n",
    "            print(\"{}-{}\".format(y,str(m).zfill(2)))"
   ]
  },
  {
   "cell_type": "code",
   "execution_count": 25,
   "id": "fd7292ac",
   "metadata": {},
   "outputs": [
    {
     "name": "stdout",
     "output_type": "stream",
     "text": [
      "2010-02\n",
      "2010-04\n",
      "2010-06\n",
      "2010-08\n",
      "2010-10\n",
      "2010-12\n",
      "2012-02\n",
      "2012-04\n",
      "2012-06\n",
      "2012-08\n",
      "2012-10\n",
      "2012-12\n",
      "2014-02\n",
      "2014-04\n",
      "2014-06\n",
      "2014-08\n",
      "2014-10\n",
      "2014-12\n",
      "2016-02\n",
      "2016-04\n",
      "2016-06\n",
      "2016-08\n",
      "2016-10\n",
      "2016-12\n",
      "2018-02\n",
      "2018-04\n",
      "2018-06\n",
      "2018-08\n",
      "2018-10\n",
      "2018-12\n",
      "2020-02\n",
      "2020-04\n",
      "2020-06\n",
      "2020-08\n",
      "2020-10\n",
      "2020-12\n",
      "2022-02\n",
      "2022-04\n",
      "2022-06\n",
      "2022-08\n",
      "2022-10\n",
      "2022-12\n"
     ]
    }
   ],
   "source": [
    "for y in range(2010,2023,1) :\n",
    "    if(y % 2) != 0 :\n",
    "        continue\n",
    "    for m in range(1, 13, 1) :\n",
    "        if (m % 2) != 0 :\n",
    "            continue\n",
    "        print(\"{}-{}\".format(y,str(m).zfill(2)))"
   ]
  },
  {
   "cell_type": "code",
   "execution_count": 31,
   "id": "8d65f736",
   "metadata": {},
   "outputs": [
    {
     "name": "stdout",
     "output_type": "stream",
     "text": [
      "안\n",
      "녕\n",
      "하\n",
      "세\n",
      "요\n",
      ".\n",
      " \n",
      "파\n",
      "이\n",
      "썬\n",
      "입\n",
      "니\n",
      "다\n",
      ".\n",
      " \n"
     ]
    }
   ],
   "source": [
    "message = \"안녕하세요. 파이썬입니다. \"\n",
    "# for 문으로 massage문자열의 하나하나 값을 출력해주세요 \n",
    "for i in range(0,15,1) :\n",
    "    print(\"{}\".format(message[i]))"
   ]
  },
  {
   "cell_type": "code",
   "execution_count": 32,
   "id": "211a2358",
   "metadata": {},
   "outputs": [
    {
     "name": "stdout",
     "output_type": "stream",
     "text": [
      "안녕하세요. 파이썬입니다.  안녕하세요.파이썬입니다.\n"
     ]
    }
   ],
   "source": [
    "# 문자값 변환하기 : 첫번째 값과 같은 값을 모두 찾아서 두번째 값으로 변환하기 \n",
    "# 공백을 찾아서 공백을 없애 준다\n",
    "message_new = message.replace(\" \",\"\")\n",
    "print(message, message_new)"
   ]
  },
  {
   "cell_type": "code",
   "execution_count": 33,
   "id": "b1182241",
   "metadata": {},
   "outputs": [
    {
     "name": "stdout",
     "output_type": "stream",
     "text": [
      "안녕하세요. 파이썬입니다.  안녕하세요._파이썬입니다._\n"
     ]
    }
   ],
   "source": [
    "# 공백을 찾아서 공백에 _를 넣는다\n",
    "message_new = message.replace(\" \",\"_\")\n",
    "print(message, message_new)"
   ]
  },
  {
   "cell_type": "markdown",
   "id": "0b01ac01",
   "metadata": {},
   "source": [
    "## 리스트[], 딕셔너리{}, 튜플()"
   ]
  },
  {
   "cell_type": "code",
   "execution_count": 37,
   "id": "873d1af1",
   "metadata": {},
   "outputs": [
    {
     "name": "stdout",
     "output_type": "stream",
     "text": [
      "[11, 22, 33, 44, 55, 66, 'a', 'b', 'abc', 1.2, 3.4] 44\n"
     ]
    }
   ],
   "source": [
    "# 리스트 변수 생성하기 \n",
    "# 여러개의 값을 저장 할 수 있다\n",
    "# 여러종류의 데이터 타입을 저장 할 수 있다 \n",
    "# 하나의 공간안에 하나의 변수 값이 들어 있다 \n",
    "# index 번호가 존재 한다 \n",
    "# n_list : 11 | 22 | 33 | 44 | 55 | 66 | a | b | abc | 1.2 | 3.4\n",
    "\n",
    "n_list = [11, 22, 33, 44, 55, 66, \"a\", \"b\", \"abc\", 1.2, 3.4]\n",
    "print(n_list, n_list[3])"
   ]
  },
  {
   "cell_type": "code",
   "execution_count": 38,
   "id": "acc2a001",
   "metadata": {},
   "outputs": [
    {
     "name": "stdout",
     "output_type": "stream",
     "text": [
      "[11, 22, 33, 44, 55, 66, 'a', 'b', 'abc', 1.2, 3.4, '추가하기']\n"
     ]
    }
   ],
   "source": [
    "# 리스트에 값을 추가하고 싶을 때 -> append() 함수 사용 \n",
    "# 리스트의 마지막 끝에 추가 된다 \n",
    "# 변수 . 뒤에 커서 후 tab => 사용 가능한 함수가 나온다 \n",
    "# 변수 . 뒤에 커서 후 shipt + tab => 변수 정보를 볼 수 있다 \n",
    "# 함수 뒤에 커서 후 shift + tab => 함수에 들어 갈 요소 정보를 볼 수 있다 \n",
    "n_list.append(\"추가하기\")\n",
    "print(n_list)"
   ]
  },
  {
   "cell_type": "code",
   "execution_count": 39,
   "id": "7a81b751",
   "metadata": {},
   "outputs": [
    {
     "name": "stdout",
     "output_type": "stream",
     "text": [
      "11\n",
      "22\n",
      "33\n",
      "44\n",
      "55\n",
      "66\n",
      "a\n",
      "b\n",
      "abc\n",
      "1.2\n",
      "3.4\n",
      "추가하기\n"
     ]
    }
   ],
   "source": [
    "# 리스트 내의 각각의 값을 출력하기 (리스트 길이르 아는 경우)\n",
    "for i in range(0,12,1) :\n",
    "    print(n_list[i])"
   ]
  },
  {
   "cell_type": "code",
   "execution_count": 41,
   "id": "ba563e9f",
   "metadata": {},
   "outputs": [
    {
     "name": "stdout",
     "output_type": "stream",
     "text": [
      "11\n",
      "22\n",
      "33\n",
      "44\n",
      "55\n",
      "66\n",
      "a\n",
      "b\n",
      "abc\n",
      "1.2\n",
      "3.4\n",
      "추가하기\n"
     ]
    }
   ],
   "source": [
    "# 리스트의 개수를 알아내는 방법 -> len() 함수 : 문자열, 리스트의 메모리공간 개수를 알아내는 함수\n",
    "for i in range(0,len(n_list),1) :\n",
    "    print(n_list[i])"
   ]
  },
  {
   "cell_type": "code",
   "execution_count": 42,
   "id": "728e394b",
   "metadata": {},
   "outputs": [],
   "source": [
    "# for문을 사용하는 방식(리스트에 점근하는 방식) 1번째 : 숫자값(인덱스 값)을 이용하는 방식\n",
    "for i in range(0,len(n_list),1) :\n",
    "    print(n_list[i])"
   ]
  },
  {
   "cell_type": "code",
   "execution_count": 43,
   "id": "17469c29",
   "metadata": {},
   "outputs": [
    {
     "name": "stdout",
     "output_type": "stream",
     "text": [
      "11\n",
      "22\n",
      "33\n",
      "44\n",
      "55\n",
      "66\n",
      "a\n",
      "b\n",
      "abc\n",
      "1.2\n",
      "3.4\n",
      "추가하기\n"
     ]
    }
   ],
   "source": [
    "# for문을 사용하는 방식 (리스트에 점근하는 방식) 2번째 : 리스트 내에 있는 값을 이용하는 방식\n",
    "#리스트 타입의 데이터가 들어오는 경우에 값을 이용해서 데이터를 출력 할 수 있다. \n",
    "for val in n_list : \n",
    "    print(val)"
   ]
  },
  {
   "cell_type": "code",
   "execution_count": 57,
   "id": "8482fad4",
   "metadata": {},
   "outputs": [
    {
     "name": "stdout",
     "output_type": "stream",
     "text": [
      "[10, 30, 50, 60, 70, 80, 90, 100]\n"
     ]
    }
   ],
   "source": [
    "# [문제]\n",
    "# a_lists의 값들 중 짝수인 값들만 temp_list에 넣어주세요\n",
    "# 마지막에 temp_list를 출력해주세요 \n",
    "# 인덱스 번호를 이용하는 방식과 값을 이용하는 방식 두가지 각각 만들기\n",
    "a_list = [10, 23, 30, 45, 50, 60, 70, 80, 90, 100]\n",
    "temp_list = []\n",
    "\n",
    "for val in a_list :\n",
    "    if val % 2 == 0 :\n",
    "        temp_list.append(val)\n",
    "print(temp_list)"
   ]
  },
  {
   "cell_type": "code",
   "execution_count": 55,
   "id": "027ed19a",
   "metadata": {},
   "outputs": [
    {
     "name": "stdout",
     "output_type": "stream",
     "text": [
      "[10, 30, 50, 60, 70, 80, 90, 100]\n"
     ]
    }
   ],
   "source": [
    "a_list = [10, 23, 30, 45, 50, 60, 70, 80, 90, 100]\n",
    "temp_list = []\n",
    "\n",
    "for i in range(0,len(a_list),1) :\n",
    "        if a_list[i] % 2 == 0 :\n",
    "            temp_list.append(a_list[i])\n",
    "print(temp_list)"
   ]
  },
  {
   "cell_type": "code",
   "execution_count": 58,
   "id": "43948e73",
   "metadata": {},
   "outputs": [
    {
     "name": "stdout",
     "output_type": "stream",
     "text": [
      "[10, 23, 30, 45, 50, 60, 70, 80, 90, 100] [10, 30, 50, 60, 70, 80, 90, 100]\n"
     ]
    }
   ],
   "source": [
    "# 데이터의 타입 확인하는 방법 : 출력해서 출력 양 끝의 기호 확인하기\n",
    "print(a_list, temp_list)"
   ]
  },
  {
   "cell_type": "code",
   "execution_count": 62,
   "id": "edbb6d36",
   "metadata": {},
   "outputs": [
    {
     "name": "stdout",
     "output_type": "stream",
     "text": [
      "[10, 23, 30, 45, 50, 60, 70, 80, 90, 100, 10, 30, 50, 60, 70, 80, 90, 100]\n",
      "[10, 23, 30, 45, 50, 60, 70, 80, 90, 100, 10, 23, 30, 45, 50, 60, 70, 80, 90, 100, 10, 23, 30, 45, 50, 60, 70, 80, 90, 100, 10, 23, 30, 45, 50, 60, 70, 80, 90, 100, 10, 23, 30, 45, 50, 60, 70, 80, 90, 100]\n"
     ]
    }
   ],
   "source": [
    "#리스트의 덧셈 연산 기호는 두 리스트의 연결 (산술연산의 개념이 아니라 합치는 개념)\n",
    "# 곱셈 연산 기호의 경우 리스트의 반복 \n",
    "print (a_list + temp_list)\n",
    "# print (a_list - temp_list)\n",
    "# print (a_list * temp_list)\n",
    "# print (a_list / temp_list)\n",
    "print (a_list * 5)"
   ]
  },
  {
   "cell_type": "code",
   "execution_count": 69,
   "id": "675eec06",
   "metadata": {
    "scrolled": true
   },
   "outputs": [
    {
     "name": "stdout",
     "output_type": "stream",
     "text": [
      "[[1, 2, 3, 4, 5], ['a', 'b', 'c', 'd', 'e'], ['홍', '김', '이', '최', '박']]\n",
      "[1, 2, 3, 4, 5, 'a', 'b', 'c', 'd', 'e', '홍', '김', '이', '최', '박']\n",
      "['홍길동', 24, ['부산', '부산진구', '대연동', 124, ['010-1234-5678']]]\n"
     ]
    },
    {
     "ename": "TypeError",
     "evalue": "object of type 'int' has no len()",
     "output_type": "error",
     "traceback": [
      "\u001b[1;31m---------------------------------------------------------------------------\u001b[0m",
      "\u001b[1;31mTypeError\u001b[0m                                 Traceback (most recent call last)",
      "\u001b[1;32m~\\AppData\\Local\\Temp/ipykernel_7920/1282345505.py\u001b[0m in \u001b[0;36m<module>\u001b[1;34m\u001b[0m\n\u001b[0;32m     17\u001b[0m \u001b[1;33m\u001b[0m\u001b[0m\n\u001b[0;32m     18\u001b[0m \u001b[1;32mfor\u001b[0m \u001b[0mi\u001b[0m \u001b[1;32min\u001b[0m \u001b[0mrange\u001b[0m\u001b[1;33m(\u001b[0m\u001b[1;36m0\u001b[0m\u001b[1;33m,\u001b[0m\u001b[0mlen\u001b[0m\u001b[1;33m(\u001b[0m\u001b[0ma_list\u001b[0m\u001b[1;33m)\u001b[0m\u001b[1;33m,\u001b[0m\u001b[1;36m1\u001b[0m\u001b[1;33m)\u001b[0m \u001b[1;33m:\u001b[0m\u001b[1;33m\u001b[0m\u001b[1;33m\u001b[0m\u001b[0m\n\u001b[1;32m---> 19\u001b[1;33m     \u001b[1;32mfor\u001b[0m \u001b[0mj\u001b[0m \u001b[1;32min\u001b[0m \u001b[0mrange\u001b[0m\u001b[1;33m(\u001b[0m\u001b[1;36m0\u001b[0m\u001b[1;33m,\u001b[0m\u001b[0mlen\u001b[0m\u001b[1;33m(\u001b[0m\u001b[0ma_list\u001b[0m\u001b[1;33m[\u001b[0m\u001b[0mi\u001b[0m\u001b[1;33m]\u001b[0m\u001b[1;33m)\u001b[0m\u001b[1;33m,\u001b[0m\u001b[1;36m1\u001b[0m\u001b[1;33m)\u001b[0m \u001b[1;33m:\u001b[0m\u001b[1;33m\u001b[0m\u001b[1;33m\u001b[0m\u001b[0m\n\u001b[0m\u001b[0;32m     20\u001b[0m         \u001b[0mtemp_list\u001b[0m\u001b[1;33m.\u001b[0m\u001b[0mappend\u001b[0m\u001b[1;33m(\u001b[0m\u001b[0ma_list\u001b[0m\u001b[1;33m[\u001b[0m\u001b[0mi\u001b[0m\u001b[1;33m]\u001b[0m\u001b[1;33m[\u001b[0m\u001b[0mj\u001b[0m\u001b[1;33m]\u001b[0m\u001b[1;33m)\u001b[0m\u001b[1;33m\u001b[0m\u001b[1;33m\u001b[0m\u001b[0m\n\u001b[0;32m     21\u001b[0m \u001b[0mprint\u001b[0m\u001b[1;33m(\u001b[0m\u001b[0mtemp_list\u001b[0m\u001b[1;33m)\u001b[0m\u001b[1;33m\u001b[0m\u001b[1;33m\u001b[0m\u001b[0m\n",
      "\u001b[1;31mTypeError\u001b[0m: object of type 'int' has no len()"
     ]
    }
   ],
   "source": [
    "# a_list 안의 모든 값을 추출해서 temp_list 안에 넣기\n",
    "#리스트 안에 리스트가 있는 경우에도 값 추출하여 tem_list 안에 넣기\n",
    "# ['홍길동', 24, '부산', '부산진구', '대연동', 124, '010-1234-5678']\n",
    "a_list = [\"홍길동\", 24,[\"부산\",\"부산진구\", \"대연동\", 124, [\"010-1234-5678\"]]]\n",
    "b_list =[[1,2,3,4,5],['a','b','c','d','e'],[\"홍\",\"김\",\"이\",\"최\",\"박\"]]\n",
    "\n",
    "print(b_list)\n",
    "temp_list = []\n",
    "\n",
    "for i in range(0,len(b_list),1) :\n",
    "    for j in range(0,len(b_list[i]),1) :\n",
    "        temp_list.append(b_list[i][j])\n",
    "print(temp_list)\n",
    "\n",
    "print(a_list)\n",
    "temp_list = []\n",
    "\n",
    "for i in range(0,len(a_list),1) :\n",
    "    for j in range(0,len(a_list[i]),1) :\n",
    "        temp_list.append(a_list[i][j])\n",
    "print(temp_list)\n",
    "\n"
   ]
  },
  {
   "cell_type": "markdown",
   "id": "133da8bb",
   "metadata": {},
   "source": [
    "# 딕셔너리 {}"
   ]
  },
  {
   "cell_type": "code",
   "execution_count": 70,
   "id": "e5bd16d5",
   "metadata": {},
   "outputs": [],
   "source": [
    "# {키:값, 키:값, ...}\n",
    "# 리스트가 인덱스 위치를 이용해서 값을 추출해다면 \n",
    "# 딕셔너리는 키를 이용해서 값을 추출 합니다 \n",
    "# 딕셔너리는 순서가 없습니다.\n",
    "# 키 : 정수 or 문자열 주로 사용 \n",
    "# 인댁스가 없고 키를 이용해서 값을 뽑아낸다 \n",
    "# 순서에 의미가 없다 \n"
   ]
  },
  {
   "cell_type": "code",
   "execution_count": 75,
   "id": "70da3587",
   "metadata": {},
   "outputs": [
    {
     "name": "stdout",
     "output_type": "stream",
     "text": [
      "{'이름': '홍길동', '나이': 26, '주소': '부산 부산진구 대연동 243', 1: '졸려요~'} 홍길동 졸려요~\n"
     ]
    }
   ],
   "source": [
    "# 딕셔너리 정의 \n",
    "# 메모리 구조 -> 하나의 공간을 할당 후 공간을 , 기준으로 분할 -> 분할된 각 공간을 키, 밸류로 분할\n",
    "# person : | 이름| 홍길동 || 나이|주소 |\n",
    "# 키 값은 한가지로 쓰는 게 좋음\n",
    "person = { \"이름\":\"홍길동\", \n",
    "          \"나이\":26, \n",
    "          \"주소\":\"부산 부산진구 대연동 243\",\n",
    "          1 : \"졸려요~\"}\n",
    "print(person, person[\"이름\"],person[1])"
   ]
  },
  {
   "cell_type": "code",
   "execution_count": 76,
   "id": "4329e6a6",
   "metadata": {},
   "outputs": [
    {
     "name": "stdout",
     "output_type": "stream",
     "text": [
      "dict_keys(['이름', '나이', '주소', 1])\n"
     ]
    }
   ],
   "source": [
    "# 키값을 알고 싶을 때 -> 딕셔너리 함수 .keys()\n",
    "# 리스트로 결과를 가져온다 \n",
    "person.keys()\n",
    "print(person.keys())"
   ]
  },
  {
   "cell_type": "code",
   "execution_count": 77,
   "id": "c4befcd1",
   "metadata": {},
   "outputs": [
    {
     "data": {
      "text/plain": [
       "dict_values(['홍길동', 26, '부산 부산진구 대연동 243', '졸려요~'])"
      ]
     },
     "execution_count": 77,
     "metadata": {},
     "output_type": "execute_result"
    }
   ],
   "source": [
    "# value 값만 추출하기 -> 딕셔너리 함수 .values()\n",
    "#리스트로 결과를 가져온다\n",
    "person.values()"
   ]
  },
  {
   "cell_type": "code",
   "execution_count": 78,
   "id": "6d79420b",
   "metadata": {},
   "outputs": [
    {
     "data": {
      "text/plain": [
       "dict_items([('이름', '홍길동'), ('나이', 26), ('주소', '부산 부산진구 대연동 243'), (1, '졸려요~')])"
      ]
     },
     "execution_count": 78,
     "metadata": {},
     "output_type": "execute_result"
    }
   ],
   "source": [
    "# key와 value 값을 모두 가지고 오기 \n",
    "#튜플형태로 각 key, value를 가져온다\n",
    "#튜플은 값이 변경 안되는 리스트\n",
    "person.items()"
   ]
  },
  {
   "cell_type": "code",
   "execution_count": 82,
   "id": "4247eec6",
   "metadata": {},
   "outputs": [
    {
     "name": "stdout",
     "output_type": "stream",
     "text": [
      "['홍길동', 26, '부산 부산진구 대연동 243', '졸려요~']\n",
      "['홍길동', 26, '부산 부산진구 대연동 243', '졸려요~']\n"
     ]
    }
   ],
   "source": [
    "#[문제]\n",
    "# person에 있는 value의 값들을 모두 추출하여 \n",
    "#임의 리스트 변수 (temp_list)에 넣은 후 최종 출력해 주세요 \n",
    "\n",
    "temp_list = []\n",
    "for k in person.keys() :\n",
    "    temp_list.append(person[k])\n",
    "print(temp_list)\n",
    "\n",
    "temp_list = []\n",
    "for v in person.values() :\n",
    "    temp_list.append(v)\n",
    "print(temp_list)"
   ]
  },
  {
   "cell_type": "code",
   "execution_count": 93,
   "id": "a46da267",
   "metadata": {},
   "outputs": [
    {
     "data": {
      "text/plain": [
       "{1: ['a', 'b', 'c', 'd', 'e', 'f'], 2: [1, 2, 3, 4, 5, 6]}"
      ]
     },
     "execution_count": 93,
     "metadata": {},
     "output_type": "execute_result"
    }
   ],
   "source": [
    "# [문제]\n",
    "# 리스트변수 : list_1, 값은 문자열 'a', 'b' ,'c', 'd', 'e','f'\n",
    "#            : list_2, 값은 숫자 1,2,3,4,5,6\n",
    "# 딕셔너리 변수 dit_1\n",
    "# 키값 : -> 1 value 값 : list_1 넣기 \n",
    "# 키값 : -> 2 value 값 : list_2 넣기 \n",
    "#최종 dict_1 조회 \n",
    "\n",
    "list_1 = ['a', 'b' ,'c', 'd', 'e','f']\n",
    "list_2 = [1,2,3,4,5,6]\n",
    "\n",
    "dict_1 = {1: list_1, 2 : list_2}\n",
    "\n",
    "dict_1"
   ]
  },
  {
   "cell_type": "code",
   "execution_count": 98,
   "id": "b0210b0e",
   "metadata": {},
   "outputs": [
    {
     "name": "stdout",
     "output_type": "stream",
     "text": [
      "['a', 'b', 'c', 'd', 'e', 'f', 1, 2, 3, 4, 5, 6]\n"
     ]
    }
   ],
   "source": [
    "# [문제]\n",
    "# 1차원 리스트 변수 : temp_list 생성, 값없이 생성\n",
    "# 위에서 딕셔너리 안에 있는 리스트들의 값들을 모두 조회해서 \n",
    "# temp_list 에 1차원으로 값들을 모두 넣어 주세요 \n",
    "#결과값 형태 : ['a', 'b' ,'c', 'd', 'e','f',1,2,3,4,5,6]\n",
    "temp_list = []\n",
    "\n",
    "\n",
    "for k in dict_1.keys() :\n",
    "    for v in dict_1[k] :\n",
    "        temp_list.append(v)\n",
    "    \n",
    "print(temp_list)"
   ]
  },
  {
   "cell_type": "code",
   "execution_count": 100,
   "id": "a78ebd7d",
   "metadata": {},
   "outputs": [
    {
     "data": {
      "text/plain": [
       "['z', 'b', 'c', 'd', 'e', 'f', 1, 2, 3, 4, 5, 6]"
      ]
     },
     "execution_count": 100,
     "metadata": {},
     "output_type": "execute_result"
    }
   ],
   "source": [
    "# 수정 시에는 무조건 대괄호로 하기 \n",
    "temp_list[0] = \"z\"\n",
    "temp_list"
   ]
  },
  {
   "cell_type": "code",
   "execution_count": 103,
   "id": "8db13dc8",
   "metadata": {},
   "outputs": [
    {
     "data": {
      "text/plain": [
       "{1: ['a', 'b', 'c', 'd', 'e', 'f'],\n",
       " 2: [1, 2, 3, 4, 5, 6],\n",
       " 3: [22, 33, 44, 55, 66, 44]}"
      ]
     },
     "execution_count": 103,
     "metadata": {},
     "output_type": "execute_result"
    }
   ],
   "source": [
    "# 딕셔너리 값의 추가\n",
    "\n",
    "dict_1[3] = [22,33, 44, 55, 66, 44]\n",
    "dict_1"
   ]
  },
  {
   "cell_type": "code",
   "execution_count": 105,
   "id": "280adec1",
   "metadata": {},
   "outputs": [
    {
     "data": {
      "text/plain": [
       "{1: ['a', 'b', 'c', 'd', 'e', 'f'],\n",
       " 2: [1, 2, 3, 4, 5, 6],\n",
       " 3: [22, 33, 44, 55, 66, 44],\n",
       " 4: '값 추가'}"
      ]
     },
     "execution_count": 105,
     "metadata": {},
     "output_type": "execute_result"
    }
   ],
   "source": [
    "dict_1[4] = \"값 추가\"\n",
    "dict_1"
   ]
  },
  {
   "cell_type": "code",
   "execution_count": 107,
   "id": "446c00af",
   "metadata": {},
   "outputs": [
    {
     "data": {
      "text/plain": [
       "{1: ['a', 'b', 'c', 'd', 'e', 'f'],\n",
       " 2: [1, 2, 3, 4, 5, 6],\n",
       " 3: [22, 33, 44, 55, 66, 44],\n",
       " 4: '수정할거야'}"
      ]
     },
     "execution_count": 107,
     "metadata": {},
     "output_type": "execute_result"
    }
   ],
   "source": [
    "#딕셔너리 값의 수정 \n",
    "# 딕셔너리에 키가 있으면 수정이 되고 키가 없으면 추가가 된다\n",
    "dict_1[4] = \"수정할거야\"\n",
    "dict_1"
   ]
  },
  {
   "cell_type": "code",
   "execution_count": 109,
   "id": "782d9e23",
   "metadata": {},
   "outputs": [
    {
     "data": {
      "text/plain": [
       "{1: ['a', 'b', 'c', 'd', 'e', 'f'],\n",
       " 2: [1, 2, 3, 4, 5, 6],\n",
       " 3: [23, 33, 44, 55, 66, 44],\n",
       " 4: '수정할거야'}"
      ]
     },
     "execution_count": 109,
     "metadata": {},
     "output_type": "execute_result"
    }
   ],
   "source": [
    "dict_1[3][0] = 23\n",
    "dict_1"
   ]
  },
  {
   "cell_type": "markdown",
   "id": "f628cc55",
   "metadata": {},
   "source": [
    "# 함수 (function)\n"
   ]
  },
  {
   "cell_type": "code",
   "execution_count": 110,
   "id": "7a5c7304",
   "metadata": {},
   "outputs": [],
   "source": [
    "# 자주사용된느 프로그램을 하느의 이름으로 정의해 놓은 후 호출해서 사용\n",
    "# 즉 자주 사용하는 기능르 정의 "
   ]
  },
  {
   "cell_type": "code",
   "execution_count": 111,
   "id": "47ef0d0b",
   "metadata": {},
   "outputs": [
    {
     "data": {
      "text/plain": [
       "12"
      ]
     },
     "execution_count": 111,
     "metadata": {},
     "output_type": "execute_result"
    }
   ],
   "source": [
    "a = 10 \n",
    "b = 2\n",
    "\n",
    "tot = a + b\n",
    "tot \n"
   ]
  },
  {
   "cell_type": "code",
   "execution_count": 122,
   "id": "5869cfe0",
   "metadata": {},
   "outputs": [],
   "source": [
    "# 함수 정의 하기 \n",
    "# 매개변수 : 호출하는 쪽에서 넘겨주는 값을 받을 변수\n",
    "# return : 값을 연산 후 호출한쪽으로 넘겨 주는 값 \n",
    "def getHap(p_a , p_b) :\n",
    "    return p_a + p_b\n"
   ]
  },
  {
   "cell_type": "code",
   "execution_count": 123,
   "id": "81c74cc5",
   "metadata": {},
   "outputs": [
    {
     "data": {
      "text/plain": [
       "12"
      ]
     },
     "execution_count": 123,
     "metadata": {},
     "output_type": "execute_result"
    }
   ],
   "source": [
    "# 함수 호출하기 \n",
    "result = getHap(a,b)\n",
    "result"
   ]
  },
  {
   "cell_type": "code",
   "execution_count": 128,
   "id": "aa2ec914",
   "metadata": {},
   "outputs": [],
   "source": [
    "# 사칙 연산 함수 만들기 \n",
    "# 함수의 두번째 매개변수 부터는 기본 값을 지정 할 수도 있다 \n",
    "def getMath(p_a, p_b, mode = \"+\") :\n",
    "    re = 0 # 전역변수\n",
    "    \n",
    "    if mode == '+' :\n",
    "        re = p_a + p_b\n",
    "    elif mode == '-' :\n",
    "        re = p_a - p_b\n",
    "    elif mode == '*' :\n",
    "        re = p_a * p_b\n",
    "    elif mode == '/' :\n",
    "        re = p_a / p_b\n",
    "    \n",
    "    return re \n"
   ]
  },
  {
   "cell_type": "code",
   "execution_count": 132,
   "id": "ae19db58",
   "metadata": {},
   "outputs": [
    {
     "data": {
      "text/plain": [
       "2"
      ]
     },
     "execution_count": 132,
     "metadata": {},
     "output_type": "execute_result"
    }
   ],
   "source": [
    "# 함수 호출 하기 \n",
    "getMath(1,2,'+')\n",
    "getMath(1,2,'-')\n",
    "getMath(1,2,'*')\n",
    "getMath(1,2)"
   ]
  },
  {
   "cell_type": "code",
   "execution_count": 133,
   "id": "80603bfb",
   "metadata": {},
   "outputs": [
    {
     "data": {
      "text/plain": [
       "\"\\n구구단 출력 함수 만들기\\n내가 원하는 '단'에 대해서만 출력하게끔 처리\\n단을 0 이라고 전달하면 구구단 전체가 출력되게 \\n구구단 출력프로그램은 하무로 생성 \\n\\n\""
      ]
     },
     "execution_count": 133,
     "metadata": {},
     "output_type": "execute_result"
    }
   ],
   "source": [
    "\"\"\"\n",
    "[문제]\n",
    "구구단 출력 함수 만들기\n",
    "내가 원하는 '단'에 대해서만 출력하게끔 처리\n",
    "단을 0 이라고 전달하면 구구단 전체가 출력되게 \n",
    "구구단 출력프로그램은 하무로 생성 \n",
    "\n",
    "\"\"\""
   ]
  },
  {
   "cell_type": "code",
   "execution_count": 143,
   "id": "fe0b9c3b",
   "metadata": {},
   "outputs": [],
   "source": [
    "def gugudan (dan) :\n",
    "    if dan != 0 : \n",
    "        for i in range(1,10, 1) :\n",
    "            print(\"{}X{}={}\".format(dan,i,dan*i))\n",
    "    else :\n",
    "        for i in range(1,10, 1) :\n",
    "            for j in range(1,10,1) :\n",
    "                print(\"{}X{}={}\".format(i,j,i*j))\n",
    "            "
   ]
  },
  {
   "cell_type": "code",
   "execution_count": 146,
   "id": "295b0a0f",
   "metadata": {},
   "outputs": [
    {
     "name": "stdout",
     "output_type": "stream",
     "text": [
      "1X1=1\n",
      "1X2=2\n",
      "1X3=3\n",
      "1X4=4\n",
      "1X5=5\n",
      "1X6=6\n",
      "1X7=7\n",
      "1X8=8\n",
      "1X9=9\n"
     ]
    }
   ],
   "source": [
    "gugudan(1)"
   ]
  },
  {
   "cell_type": "code",
   "execution_count": 151,
   "id": "f7ae8d49",
   "metadata": {},
   "outputs": [],
   "source": [
    "def gugudan2 (dan) :\n",
    "    start_dan = dan\n",
    "    end_dan = \n",
    "    for i in range(start_dan, end_dan, 1) :\n",
    "            for j in range(1,10,1) :\n",
    "                print(\"{}X{}={}\".format(i,j,i*j))"
   ]
  },
  {
   "cell_type": "code",
   "execution_count": 153,
   "id": "9b9ad66d",
   "metadata": {},
   "outputs": [
    {
     "name": "stdout",
     "output_type": "stream",
     "text": [
      "1X1=1\n",
      "1X2=2\n",
      "1X3=3\n",
      "1X4=4\n",
      "1X5=5\n",
      "1X6=6\n",
      "1X7=7\n",
      "1X8=8\n",
      "1X9=9\n",
      "2X1=2\n",
      "2X2=4\n",
      "2X3=6\n",
      "2X4=8\n",
      "2X5=10\n",
      "2X6=12\n",
      "2X7=14\n",
      "2X8=16\n",
      "2X9=18\n",
      "3X1=3\n",
      "3X2=6\n",
      "3X3=9\n",
      "3X4=12\n",
      "3X5=15\n",
      "3X6=18\n",
      "3X7=21\n",
      "3X8=24\n",
      "3X9=27\n",
      "4X1=4\n",
      "4X2=8\n",
      "4X3=12\n",
      "4X4=16\n",
      "4X5=20\n",
      "4X6=24\n",
      "4X7=28\n",
      "4X8=32\n",
      "4X9=36\n",
      "5X1=5\n",
      "5X2=10\n",
      "5X3=15\n",
      "5X4=20\n",
      "5X5=25\n",
      "5X6=30\n",
      "5X7=35\n",
      "5X8=40\n",
      "5X9=45\n",
      "6X1=6\n",
      "6X2=12\n",
      "6X3=18\n",
      "6X4=24\n",
      "6X5=30\n",
      "6X6=36\n",
      "6X7=42\n",
      "6X8=48\n",
      "6X9=54\n",
      "7X1=7\n",
      "7X2=14\n",
      "7X3=21\n",
      "7X4=28\n",
      "7X5=35\n",
      "7X6=42\n",
      "7X7=49\n",
      "7X8=56\n",
      "7X9=63\n",
      "8X1=8\n",
      "8X2=16\n",
      "8X3=24\n",
      "8X4=32\n",
      "8X5=40\n",
      "8X6=48\n",
      "8X7=56\n",
      "8X8=64\n",
      "8X9=72\n",
      "9X1=9\n",
      "9X2=18\n",
      "9X3=27\n",
      "9X4=36\n",
      "9X5=45\n",
      "9X6=54\n",
      "9X7=63\n",
      "9X8=72\n",
      "9X9=81\n"
     ]
    }
   ],
   "source": [
    "gugudan2(1)"
   ]
  },
  {
   "cell_type": "code",
   "execution_count": null,
   "id": "9fb3e22a",
   "metadata": {},
   "outputs": [],
   "source": []
  }
 ],
 "metadata": {
  "kernelspec": {
   "display_name": "Python 3 (ipykernel)",
   "language": "python",
   "name": "python3"
  },
  "language_info": {
   "codemirror_mode": {
    "name": "ipython",
    "version": 3
   },
   "file_extension": ".py",
   "mimetype": "text/x-python",
   "name": "python",
   "nbconvert_exporter": "python",
   "pygments_lexer": "ipython3",
   "version": "3.9.13"
  }
 },
 "nbformat": 4,
 "nbformat_minor": 5
}
