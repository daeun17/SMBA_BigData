{
 "cells": [
  {
   "cell_type": "markdown",
   "id": "29294146",
   "metadata": {},
   "source": [
    "# 모듈 만들기"
   ]
  },
  {
   "cell_type": "code",
   "execution_count": null,
   "id": "42276178",
   "metadata": {},
   "outputs": [],
   "source": [
    "class Use_Util :\n",
    "    # 생성자 만들기 : 앞 뒤로 __ 넣어야 한다 (규칙!)\n",
    "    # 값을 미리 정의 할 거야? \n",
    "    def __init__(self,p_a,p_b) :\n",
    "        # 멤버 변수 정의 하기 \n",
    "        # self.~ : 멤버 \n",
    "        # 동일 클래스 안에서 언제든 호출 해서 사용이 가능\n",
    "        # a : 전달받은 값 \n",
    "        # self.a : 클래스 내의 매개 변수 \n",
    "        self.a = p_a\n",
    "        self.b = p_b\n",
    "    \n",
    "    def getPlus(self) : \n",
    "        return self.a + self.b\n",
    "    \n",
    "    "
   ]
  }
 ],
 "metadata": {
  "kernelspec": {
   "display_name": "Python 3 (ipykernel)",
   "language": "python",
   "name": "python3"
  },
  "language_info": {
   "codemirror_mode": {
    "name": "ipython",
    "version": 3
   },
   "file_extension": ".py",
   "mimetype": "text/x-python",
   "name": "python",
   "nbconvert_exporter": "python",
   "pygments_lexer": "ipython3",
   "version": "3.9.13"
  }
 },
 "nbformat": 4,
 "nbformat_minor": 5
}
