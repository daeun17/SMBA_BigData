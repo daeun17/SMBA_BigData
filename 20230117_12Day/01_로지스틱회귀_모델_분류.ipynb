{
 "cells": [
  {
   "cell_type": "markdown",
   "id": "c5367773",
   "metadata": {},
   "source": [
    "### 05_생선 분류데이터셋.csv 파일 읽어 들인 후 정보 확인 "
   ]
  },
  {
   "cell_type": "markdown",
   "id": "c3369042",
   "metadata": {},
   "source": [
    "컬럼 정보 \n",
    "- species : 종류\n",
    "- weight : 무게\n",
    "- diagonal : 대각선 길이 \n",
    "- height : 높이\n",
    "- width : 두께 "
   ]
  },
  {
   "cell_type": "code",
   "execution_count": 131,
   "id": "1ecd4657",
   "metadata": {},
   "outputs": [],
   "source": [
    "import pandas as pd\n",
    "import numpy as np"
   ]
  },
  {
   "cell_type": "code",
   "execution_count": 132,
   "id": "58acb9ef",
   "metadata": {},
   "outputs": [
    {
     "name": "stdout",
     "output_type": "stream",
     "text": [
      "<class 'pandas.core.frame.DataFrame'>\n",
      "RangeIndex: 159 entries, 0 to 158\n",
      "Data columns (total 6 columns):\n",
      " #   Column    Non-Null Count  Dtype  \n",
      "---  ------    --------------  -----  \n",
      " 0   Species   159 non-null    object \n",
      " 1   Weight    159 non-null    float64\n",
      " 2   Length    159 non-null    float64\n",
      " 3   Diagonal  159 non-null    float64\n",
      " 4   Height    159 non-null    float64\n",
      " 5   Width     159 non-null    float64\n",
      "dtypes: float64(5), object(1)\n",
      "memory usage: 7.6+ KB\n"
     ]
    },
    {
     "data": {
      "text/html": [
       "<div>\n",
       "<style scoped>\n",
       "    .dataframe tbody tr th:only-of-type {\n",
       "        vertical-align: middle;\n",
       "    }\n",
       "\n",
       "    .dataframe tbody tr th {\n",
       "        vertical-align: top;\n",
       "    }\n",
       "\n",
       "    .dataframe thead th {\n",
       "        text-align: right;\n",
       "    }\n",
       "</style>\n",
       "<table border=\"1\" class=\"dataframe\">\n",
       "  <thead>\n",
       "    <tr style=\"text-align: right;\">\n",
       "      <th></th>\n",
       "      <th>Species</th>\n",
       "      <th>Weight</th>\n",
       "      <th>Length</th>\n",
       "      <th>Diagonal</th>\n",
       "      <th>Height</th>\n",
       "      <th>Width</th>\n",
       "    </tr>\n",
       "  </thead>\n",
       "  <tbody>\n",
       "    <tr>\n",
       "      <th>0</th>\n",
       "      <td>Bream</td>\n",
       "      <td>242.0</td>\n",
       "      <td>25.4</td>\n",
       "      <td>30.0</td>\n",
       "      <td>11.5200</td>\n",
       "      <td>4.0200</td>\n",
       "    </tr>\n",
       "    <tr>\n",
       "      <th>1</th>\n",
       "      <td>Bream</td>\n",
       "      <td>290.0</td>\n",
       "      <td>26.3</td>\n",
       "      <td>31.2</td>\n",
       "      <td>12.4800</td>\n",
       "      <td>4.3056</td>\n",
       "    </tr>\n",
       "    <tr>\n",
       "      <th>2</th>\n",
       "      <td>Bream</td>\n",
       "      <td>340.0</td>\n",
       "      <td>26.5</td>\n",
       "      <td>31.1</td>\n",
       "      <td>12.3778</td>\n",
       "      <td>4.6961</td>\n",
       "    </tr>\n",
       "    <tr>\n",
       "      <th>3</th>\n",
       "      <td>Bream</td>\n",
       "      <td>363.0</td>\n",
       "      <td>29.0</td>\n",
       "      <td>33.5</td>\n",
       "      <td>12.7300</td>\n",
       "      <td>4.4555</td>\n",
       "    </tr>\n",
       "    <tr>\n",
       "      <th>4</th>\n",
       "      <td>Bream</td>\n",
       "      <td>430.0</td>\n",
       "      <td>29.0</td>\n",
       "      <td>34.0</td>\n",
       "      <td>12.4440</td>\n",
       "      <td>5.1340</td>\n",
       "    </tr>\n",
       "    <tr>\n",
       "      <th>...</th>\n",
       "      <td>...</td>\n",
       "      <td>...</td>\n",
       "      <td>...</td>\n",
       "      <td>...</td>\n",
       "      <td>...</td>\n",
       "      <td>...</td>\n",
       "    </tr>\n",
       "    <tr>\n",
       "      <th>154</th>\n",
       "      <td>Smelt</td>\n",
       "      <td>12.2</td>\n",
       "      <td>12.2</td>\n",
       "      <td>13.4</td>\n",
       "      <td>2.0904</td>\n",
       "      <td>1.3936</td>\n",
       "    </tr>\n",
       "    <tr>\n",
       "      <th>155</th>\n",
       "      <td>Smelt</td>\n",
       "      <td>13.4</td>\n",
       "      <td>12.4</td>\n",
       "      <td>13.5</td>\n",
       "      <td>2.4300</td>\n",
       "      <td>1.2690</td>\n",
       "    </tr>\n",
       "    <tr>\n",
       "      <th>156</th>\n",
       "      <td>Smelt</td>\n",
       "      <td>12.2</td>\n",
       "      <td>13.0</td>\n",
       "      <td>13.8</td>\n",
       "      <td>2.2770</td>\n",
       "      <td>1.2558</td>\n",
       "    </tr>\n",
       "    <tr>\n",
       "      <th>157</th>\n",
       "      <td>Smelt</td>\n",
       "      <td>19.7</td>\n",
       "      <td>14.3</td>\n",
       "      <td>15.2</td>\n",
       "      <td>2.8728</td>\n",
       "      <td>2.0672</td>\n",
       "    </tr>\n",
       "    <tr>\n",
       "      <th>158</th>\n",
       "      <td>Smelt</td>\n",
       "      <td>19.9</td>\n",
       "      <td>15.0</td>\n",
       "      <td>16.2</td>\n",
       "      <td>2.9322</td>\n",
       "      <td>1.8792</td>\n",
       "    </tr>\n",
       "  </tbody>\n",
       "</table>\n",
       "<p>159 rows × 6 columns</p>\n",
       "</div>"
      ],
      "text/plain": [
       "    Species  Weight  Length  Diagonal   Height   Width\n",
       "0     Bream   242.0    25.4      30.0  11.5200  4.0200\n",
       "1     Bream   290.0    26.3      31.2  12.4800  4.3056\n",
       "2     Bream   340.0    26.5      31.1  12.3778  4.6961\n",
       "3     Bream   363.0    29.0      33.5  12.7300  4.4555\n",
       "4     Bream   430.0    29.0      34.0  12.4440  5.1340\n",
       "..      ...     ...     ...       ...      ...     ...\n",
       "154   Smelt    12.2    12.2      13.4   2.0904  1.3936\n",
       "155   Smelt    13.4    12.4      13.5   2.4300  1.2690\n",
       "156   Smelt    12.2    13.0      13.8   2.2770  1.2558\n",
       "157   Smelt    19.7    14.3      15.2   2.8728  2.0672\n",
       "158   Smelt    19.9    15.0      16.2   2.9322  1.8792\n",
       "\n",
       "[159 rows x 6 columns]"
      ]
     },
     "execution_count": 132,
     "metadata": {},
     "output_type": "execute_result"
    }
   ],
   "source": [
    "fish = pd.read_csv(\"./data/05_생선_분류_데이터셋.csv\")\n",
    "fish.info()\n",
    "fish.describe()\n",
    "fish"
   ]
  },
  {
   "cell_type": "markdown",
   "id": "22deec9b",
   "metadata": {},
   "source": [
    "### 데이터 분리하기1 ( 독립변수, 종속변수) "
   ]
  },
  {
   "cell_type": "code",
   "execution_count": null,
   "id": "ceb34fe7",
   "metadata": {},
   "outputs": [],
   "source": [
    "# 로지스틱회귀 -> 분류도 가능\n",
    "# 분류시 타겟 -> 카테고리 형태\n",
    "# 시계열 타겟 -> 연속형 \n",
    "# 분류시 타입 -> 오브젝트 여야 한다 "
   ]
  },
  {
   "cell_type": "code",
   "execution_count": 134,
   "id": "afb9fbc0",
   "metadata": {},
   "outputs": [
    {
     "data": {
      "text/plain": [
       "array(['Bream', 'Roach', 'Whitefish', 'Parkki', 'Perch', 'Pike', 'Smelt'],\n",
       "      dtype=object)"
      ]
     },
     "execution_count": 134,
     "metadata": {},
     "output_type": "execute_result"
    }
   ],
   "source": [
    "# 생선의 종류 조회 \n",
    "fish['Species'].unique()\n",
    "pd.unique(fish[\"Species\"])"
   ]
  },
  {
   "cell_type": "code",
   "execution_count": null,
   "id": "8abbcb2a",
   "metadata": {},
   "outputs": [],
   "source": [
    "# 이진 분류 : 2개 중 하나\n",
    "# 다중 분류 : 여러개중 하나 \n",
    "# 종속 변수 : 생선 종류 \n",
    "# 독립변수 : 종류 제외 나머지"
   ]
  },
  {
   "cell_type": "code",
   "execution_count": 135,
   "id": "d3dffffe",
   "metadata": {},
   "outputs": [
    {
     "name": "stdout",
     "output_type": "stream",
     "text": [
      "(159,) (159, 5)\n"
     ]
    }
   ],
   "source": [
    "# 데이터 분리하기1 (독립변수, 종속변수) \n",
    "\n",
    "fish_target = fish['Species']\n",
    "fish_input = fish[[\"Weight\",'Length','Diagonal','Height','Width']]\n",
    "\n",
    "print(fish_target.shape, fish_input.shape)"
   ]
  },
  {
   "cell_type": "markdown",
   "id": "7b22449e",
   "metadata": {},
   "source": [
    "### 데이터 형태 변경하기"
   ]
  },
  {
   "cell_type": "code",
   "execution_count": 136,
   "id": "30091383",
   "metadata": {},
   "outputs": [
    {
     "name": "stdout",
     "output_type": "stream",
     "text": [
      "(159,) (159, 5)\n"
     ]
    },
    {
     "data": {
      "text/plain": [
       "array(['Bream', 'Bream', 'Bream', 'Bream', 'Bream', 'Bream', 'Bream',\n",
       "       'Bream', 'Bream', 'Bream', 'Bream', 'Bream', 'Bream', 'Bream',\n",
       "       'Bream', 'Bream', 'Bream', 'Bream', 'Bream', 'Bream', 'Bream',\n",
       "       'Bream', 'Bream', 'Bream', 'Bream', 'Bream', 'Bream', 'Bream',\n",
       "       'Bream', 'Bream', 'Bream', 'Bream', 'Bream', 'Bream', 'Bream',\n",
       "       'Roach', 'Roach', 'Roach', 'Roach', 'Roach', 'Roach', 'Roach',\n",
       "       'Roach', 'Roach', 'Roach', 'Roach', 'Roach', 'Roach', 'Roach',\n",
       "       'Roach', 'Roach', 'Roach', 'Roach', 'Roach', 'Roach', 'Whitefish',\n",
       "       'Whitefish', 'Whitefish', 'Whitefish', 'Whitefish', 'Whitefish',\n",
       "       'Parkki', 'Parkki', 'Parkki', 'Parkki', 'Parkki', 'Parkki',\n",
       "       'Parkki', 'Parkki', 'Parkki', 'Parkki', 'Parkki', 'Perch', 'Perch',\n",
       "       'Perch', 'Perch', 'Perch', 'Perch', 'Perch', 'Perch', 'Perch',\n",
       "       'Perch', 'Perch', 'Perch', 'Perch', 'Perch', 'Perch', 'Perch',\n",
       "       'Perch', 'Perch', 'Perch', 'Perch', 'Perch', 'Perch', 'Perch',\n",
       "       'Perch', 'Perch', 'Perch', 'Perch', 'Perch', 'Perch', 'Perch',\n",
       "       'Perch', 'Perch', 'Perch', 'Perch', 'Perch', 'Perch', 'Perch',\n",
       "       'Perch', 'Perch', 'Perch', 'Perch', 'Perch', 'Perch', 'Perch',\n",
       "       'Perch', 'Perch', 'Perch', 'Perch', 'Perch', 'Perch', 'Perch',\n",
       "       'Perch', 'Perch', 'Perch', 'Perch', 'Perch', 'Pike', 'Pike',\n",
       "       'Pike', 'Pike', 'Pike', 'Pike', 'Pike', 'Pike', 'Pike', 'Pike',\n",
       "       'Pike', 'Pike', 'Pike', 'Pike', 'Pike', 'Pike', 'Pike', 'Smelt',\n",
       "       'Smelt', 'Smelt', 'Smelt', 'Smelt', 'Smelt', 'Smelt', 'Smelt',\n",
       "       'Smelt', 'Smelt', 'Smelt', 'Smelt', 'Smelt', 'Smelt'], dtype=object)"
      ]
     },
     "execution_count": 136,
     "metadata": {},
     "output_type": "execute_result"
    }
   ],
   "source": [
    "# 데이터 형태 변경하기 \n",
    "fish_input = fish_input.to_numpy()\n",
    "fish_target = fish_target.to_numpy()\n",
    "print(fish_target.shape, fish_input.shape)\n",
    "fish_target"
   ]
  },
  {
   "cell_type": "markdown",
   "id": "70bb0ad0",
   "metadata": {},
   "source": [
    "### 데이터 분리하기 2 (훈련데이터, 테스트 데이터)"
   ]
  },
  {
   "cell_type": "code",
   "execution_count": 137,
   "id": "68067b0b",
   "metadata": {},
   "outputs": [
    {
     "name": "stdout",
     "output_type": "stream",
     "text": [
      "(119, 5) (119,)\n",
      "(40, 5) (40,)\n"
     ]
    }
   ],
   "source": [
    "#훈련데이터와 test데이터 분리하기 75 :25\n",
    "# train_test_split : 분류하는 lib 기본 75:25 \n",
    "from sklearn.model_selection import train_test_split\n",
    "train_input, test_input,train_target, test_target = train_test_split(fish_input, fish_target, test_size = 0.25, random_state = 42)\n",
    "print(train_input.shape, train_target.shape)\n",
    "print (test_input.shape, test_target.shape)"
   ]
  },
  {
   "cell_type": "markdown",
   "id": "04e9d338",
   "metadata": {},
   "source": [
    "### 데이터 정규화하기"
   ]
  },
  {
   "cell_type": "code",
   "execution_count": 138,
   "id": "fd363f08",
   "metadata": {},
   "outputs": [
    {
     "name": "stdout",
     "output_type": "stream",
     "text": [
      "(119, 5) (40, 5)\n"
     ]
    }
   ],
   "source": [
    "# 정규화(표준화) 처리하기 : 다양한 단위의 범위를 일괄적인 범위로 맞추기 위해 한다\n",
    "# standerd 사용\n",
    "# - 변수 : train_scaled, test_scaled \n",
    "\n",
    "# 라이브러리 \n",
    "from sklearn.preprocessing import StandardScaler\n",
    "\n",
    "#함수 불러오기 \n",
    "ss = StandardScaler()\n",
    "\n",
    "# 스스로 표준 점수 생성\n",
    "ss.fit(train_input)\n",
    "\n",
    "#훈련데이터를 표준 점수로 변환하기 \n",
    "train_scaled = ss.transform(train_input)\n",
    "\n",
    "#테스트데이터를 표준점수로 변환하기 \n",
    "test_scaled = ss.transform(test_input)\n",
    "\n",
    "print(train_scaled.shape, test_scaled.shape)\n"
   ]
  },
  {
   "cell_type": "markdown",
   "id": "817583fe",
   "metadata": {},
   "source": [
    "# KNN으로 확률적 분류 해보기 "
   ]
  },
  {
   "cell_type": "code",
   "execution_count": 76,
   "id": "493ecb57",
   "metadata": {},
   "outputs": [],
   "source": [
    "# 문자가 들어 있다 : 분류 \n",
    "# KNN 분류 해보기  \n",
    "# 잘한다 못한다 -> 확률적 알고리즘 \n",
    "# 독립변수로 종속변수의 값을 맞출 것인데 이는 확률적으로 맞추는 것이다 \n",
    "# KNN은 지도학습, 확률적 예측을 한다 "
   ]
  },
  {
   "cell_type": "code",
   "execution_count": 77,
   "id": "60612730",
   "metadata": {},
   "outputs": [
    {
     "data": {
      "text/plain": [
       "KNeighborsClassifier(n_neighbors=3)"
      ]
     },
     "execution_count": 77,
     "metadata": {},
     "output_type": "execute_result"
    }
   ],
   "source": [
    "# KNN(최금점이웃 알고리즘) 분류 모델로 훈련(fit) 및 검증(score)하기 \n",
    "# 패키지 : sklearn.neighbors\n",
    "# 클래스 : KNeighborsClassifier\n",
    "# 이웃의 개수 : 3개 \n",
    "# 모델 변수 : kn\n",
    "\n",
    "from sklearn.neighbors import KNeighborsClassifier\n",
    "# 클래스 모델 생성 \n",
    "kn = KNeighborsClassifier(n_neighbors = 3)\n",
    "kn"
   ]
  },
  {
   "cell_type": "code",
   "execution_count": 78,
   "id": "2ec5814a",
   "metadata": {},
   "outputs": [
    {
     "data": {
      "text/plain": [
       "KNeighborsClassifier(n_neighbors=3)"
      ]
     },
     "execution_count": 78,
     "metadata": {},
     "output_type": "execute_result"
    }
   ],
   "source": [
    "# 훈련모델 생성\n",
    "kn.fit(train_scaled, train_target )"
   ]
  },
  {
   "cell_type": "code",
   "execution_count": 79,
   "id": "7f269cf8",
   "metadata": {},
   "outputs": [
    {
     "name": "stdout",
     "output_type": "stream",
     "text": [
      "0.8907563025210085\n",
      "0.85\n"
     ]
    },
    {
     "name": "stderr",
     "output_type": "stream",
     "text": [
      "C:\\Users\\ekdms\\anaconda3\\lib\\site-packages\\sklearn\\neighbors\\_classification.py:228: FutureWarning: Unlike other reduction functions (e.g. `skew`, `kurtosis`), the default behavior of `mode` typically preserves the axis it acts along. In SciPy 1.11.0, this behavior will change: the default value of `keepdims` will become False, the `axis` over which the statistic is taken will be eliminated, and the value None will no longer be accepted. Set `keepdims` to True or False to avoid this warning.\n",
      "  mode, _ = stats.mode(_y[neigh_ind, k], axis=1)\n",
      "C:\\Users\\ekdms\\anaconda3\\lib\\site-packages\\sklearn\\neighbors\\_classification.py:228: FutureWarning: Unlike other reduction functions (e.g. `skew`, `kurtosis`), the default behavior of `mode` typically preserves the axis it acts along. In SciPy 1.11.0, this behavior will change: the default value of `keepdims` will become False, the `axis` over which the statistic is taken will be eliminated, and the value None will no longer be accepted. Set `keepdims` to True or False to avoid this warning.\n",
      "  mode, _ = stats.mode(_y[neigh_ind, k], axis=1)\n"
     ]
    }
   ],
   "source": [
    "# 훈련데이터 정확도 확인 \n",
    "print(kn.score(train_scaled, train_target))\n",
    "# 테스트 데이터의 정확도 확인\n",
    "\n",
    "print(kn.score(test_scaled, test_target))\n",
    "# 약간의 과대적합 "
   ]
  },
  {
   "cell_type": "code",
   "execution_count": 80,
   "id": "29d20dd3",
   "metadata": {},
   "outputs": [
    {
     "data": {
      "text/plain": [
       "array(['Bream', 'Roach', 'Whitefish', 'Parkki', 'Perch', 'Pike', 'Smelt'],\n",
       "      dtype=object)"
      ]
     },
     "execution_count": 80,
     "metadata": {},
     "output_type": "execute_result"
    }
   ],
   "source": [
    "# 종속변수의 값 확인 \n",
    "pd.unique(fish['Species'])"
   ]
  },
  {
   "cell_type": "code",
   "execution_count": 81,
   "id": "22af129e",
   "metadata": {},
   "outputs": [
    {
     "data": {
      "text/plain": [
       "array(['Bream', 'Parkki', 'Perch', 'Pike', 'Roach', 'Smelt', 'Whitefish'],\n",
       "      dtype=object)"
      ]
     },
     "execution_count": 81,
     "metadata": {},
     "output_type": "execute_result"
    }
   ],
   "source": [
    "# kn모델이 가지고 있는 종속변숭의 순서 확인하기 -> ABC 순서 \n",
    "# 모델이 가지고 있는 종속변수의 순서는 알파벳 오름차순 순서로 정렬되어 있다 \n",
    "kn.classes_"
   ]
  },
  {
   "cell_type": "code",
   "execution_count": 82,
   "id": "69bae141",
   "metadata": {},
   "outputs": [
    {
     "data": {
      "text/plain": [
       "array([[-0.88741352, -0.91804565, -1.03098914, -0.90464451, -0.80762518],\n",
       "       [-1.06924656, -1.50842035, -1.54345461, -1.58849582, -1.93803151],\n",
       "       [-0.54401367,  0.35641402,  0.30663259, -0.8135697 , -0.65388895],\n",
       "       [-0.34698097, -0.23396068, -0.22320459, -0.11905019, -0.12233464],\n",
       "       [-0.68475132, -0.51509149, -0.58801052, -0.8998784 , -0.50124996]])"
      ]
     },
     "execution_count": 82,
     "metadata": {},
     "output_type": "execute_result"
    }
   ],
   "source": [
    "# 테스트 데이터에서 상위 5개 데이터만 추출 \n",
    "test_scaled[0:5]"
   ]
  },
  {
   "cell_type": "code",
   "execution_count": 83,
   "id": "80d02c1d",
   "metadata": {},
   "outputs": [
    {
     "name": "stderr",
     "output_type": "stream",
     "text": [
      "C:\\Users\\ekdms\\anaconda3\\lib\\site-packages\\sklearn\\neighbors\\_classification.py:228: FutureWarning: Unlike other reduction functions (e.g. `skew`, `kurtosis`), the default behavior of `mode` typically preserves the axis it acts along. In SciPy 1.11.0, this behavior will change: the default value of `keepdims` will become False, the `axis` over which the statistic is taken will be eliminated, and the value None will no longer be accepted. Set `keepdims` to True or False to avoid this warning.\n",
      "  mode, _ = stats.mode(_y[neigh_ind, k], axis=1)\n"
     ]
    },
    {
     "data": {
      "text/plain": [
       "array(['Perch', 'Smelt', 'Pike', 'Perch', 'Perch'], dtype=object)"
      ]
     },
     "execution_count": 83,
     "metadata": {},
     "output_type": "execute_result"
    }
   ],
   "source": [
    "# 5개의 테스트 데이터로 예측하기 \n",
    "kn.predict(test_scaled[:5])"
   ]
  },
  {
   "cell_type": "code",
   "execution_count": 84,
   "id": "2a85cad8",
   "metadata": {},
   "outputs": [
    {
     "data": {
      "text/plain": [
       "array(['Perch', 'Smelt', 'Pike', 'Whitefish', 'Perch'], dtype=object)"
      ]
     },
     "execution_count": 84,
     "metadata": {},
     "output_type": "execute_result"
    }
   ],
   "source": [
    "test_target[:5]"
   ]
  },
  {
   "cell_type": "code",
   "execution_count": 85,
   "id": "584c3018",
   "metadata": {},
   "outputs": [
    {
     "name": "stderr",
     "output_type": "stream",
     "text": [
      "C:\\Users\\ekdms\\anaconda3\\lib\\site-packages\\sklearn\\neighbors\\_classification.py:228: FutureWarning: Unlike other reduction functions (e.g. `skew`, `kurtosis`), the default behavior of `mode` typically preserves the axis it acts along. In SciPy 1.11.0, this behavior will change: the default value of `keepdims` will become False, the `axis` over which the statistic is taken will be eliminated, and the value None will no longer be accepted. Set `keepdims` to True or False to avoid this warning.\n",
      "  mode, _ = stats.mode(_y[neigh_ind, k], axis=1)\n"
     ]
    },
    {
     "data": {
      "text/plain": [
       "array([['Perch', 'Perch'],\n",
       "       ['Smelt', 'Smelt'],\n",
       "       ['Pike', 'Pike'],\n",
       "       ['Whitefish', 'Perch'],\n",
       "       ['Perch', 'Perch']], dtype=object)"
      ]
     },
     "execution_count": 85,
     "metadata": {},
     "output_type": "execute_result"
    }
   ],
   "source": [
    "import numpy as np \n",
    "np.column_stack((test_target[:5],kn.predict(test_scaled[:5])))"
   ]
  },
  {
   "cell_type": "code",
   "execution_count": 86,
   "id": "3fa186da",
   "metadata": {},
   "outputs": [
    {
     "data": {
      "text/plain": [
       "array([[0.    , 0.    , 1.    , 0.    , 0.    , 0.    , 0.    ],\n",
       "       [0.    , 0.    , 0.    , 0.    , 0.    , 1.    , 0.    ],\n",
       "       [0.    , 0.    , 0.    , 1.    , 0.    , 0.    , 0.    ],\n",
       "       [0.    , 0.    , 0.6667, 0.    , 0.3333, 0.    , 0.    ],\n",
       "       [0.    , 0.    , 0.6667, 0.    , 0.3333, 0.    , 0.    ]])"
      ]
     },
     "execution_count": 86,
     "metadata": {},
     "output_type": "execute_result"
    }
   ],
   "source": [
    "# 5개 데이터에 대한 확률적으로 계산된 값 확인하기 \n",
    "# 조회된 값 : 확률 값 (1 :100%)\n",
    "# 각 행의 데이터가 들어 왔을 때 생선 종류 중 어떤 것인지 확률적으로 보여 줌 \n",
    "proba = kn.predict_proba(test_scaled[:5])\n",
    "np.round(proba, decimals =4)"
   ]
  },
  {
   "cell_type": "markdown",
   "id": "87ebd902",
   "metadata": {},
   "source": [
    "# 로지스틱회귀 분류모델 (Logistic Regression)"
   ]
  },
  {
   "cell_type": "code",
   "execution_count": 87,
   "id": "b26b91c2",
   "metadata": {},
   "outputs": [],
   "source": [
    "# 일반적 사용 분류모델은 확률적으로 체크 되고 있다 \n",
    "# KNN은 실무에서 잘 사용하지 않는다 -> 근사치에 있는것은 정화깋 확인, but 거리가 생기면 오차률이 높아진다 \n",
    "# 로지스틱 레그리에이션 분류모델 초창기에는 많이 사용 -> but 랜덤포레스트, 그리드부스팅이 나오면서 잘 사용 X\n",
    "# 그리드 부스팅이 많이 사용 "
   ]
  },
  {
   "cell_type": "code",
   "execution_count": 94,
   "id": "296f8225",
   "metadata": {},
   "outputs": [],
   "source": [
    "# 분류 모델은 이진 분류와 다중분류로 구분된다 \n",
    "# - 이진분류 : 둘 중 한개를 선택, 시그모이드(sigmoid)알고리즘이 내부적으로 사용된다\n",
    "#     *시그모이드 : 0과 1로 구분하는 알고리즘 (두개중 하나선택) \n",
    "\n",
    "# - 다중분류 : 3개이상 중에 선택, 소프트맥스(softmax) 알고리즘이 내부적으로 사용된다 \n",
    "#     *소프트맥스 : 여러개 중에 확률적으로 구분하는 알고리즘 (여러개중 하나 선택)\n",
    "\n",
    "#  시그모이드와 소프트 맥스 중에 선택해야 하는 경우도 있다 \n",
    "# 종속변수가 여러개 : 소프트맥스"
   ]
  },
  {
   "cell_type": "code",
   "execution_count": 98,
   "id": "32cf09fe",
   "metadata": {},
   "outputs": [
    {
     "data": {
      "text/plain": [
       "array(['Bream', 'Pike', 'Smelt', 'Perch', 'Parkki', 'Roach', 'Perch',\n",
       "       'Bream', 'Perch', 'Perch', 'Perch', 'Bream', 'Perch', 'Parkki',\n",
       "       'Perch', 'Bream', 'Smelt', 'Perch', 'Roach', 'Bream', 'Pike',\n",
       "       'Bream', 'Pike', 'Perch', 'Parkki', 'Bream', 'Perch', 'Pike',\n",
       "       'Bream', 'Perch', 'Parkki', 'Roach', 'Perch', 'Bream', 'Roach',\n",
       "       'Perch', 'Bream', 'Bream', 'Perch', 'Perch', 'Roach', 'Pike',\n",
       "       'Perch', 'Smelt', 'Pike', 'Roach', 'Perch', 'Parkki', 'Perch',\n",
       "       'Bream', 'Perch', 'Smelt', 'Perch', 'Parkki', 'Smelt', 'Perch',\n",
       "       'Perch', 'Roach', 'Bream', 'Perch', 'Perch', 'Roach', 'Roach',\n",
       "       'Perch', 'Perch', 'Bream', 'Roach', 'Bream', 'Roach', 'Parkki',\n",
       "       'Perch', 'Perch', 'Perch', 'Perch', 'Pike', 'Pike', 'Perch',\n",
       "       'Bream', 'Perch', 'Bream', 'Whitefish', 'Pike', 'Bream', 'Bream',\n",
       "       'Roach', 'Perch', 'Pike', 'Bream', 'Pike', 'Parkki', 'Roach',\n",
       "       'Perch', 'Roach', 'Smelt', 'Whitefish', 'Roach', 'Perch', 'Bream',\n",
       "       'Whitefish', 'Smelt', 'Pike', 'Roach', 'Smelt', 'Bream', 'Roach',\n",
       "       'Pike', 'Perch', 'Perch', 'Perch', 'Perch', 'Perch', 'Perch',\n",
       "       'Smelt', 'Bream', 'Parkki', 'Perch', 'Bream', 'Perch', 'Perch'],\n",
       "      dtype=object)"
      ]
     },
     "execution_count": 98,
     "metadata": {},
     "output_type": "execute_result"
    }
   ],
   "source": [
    "train_target"
   ]
  },
  {
   "cell_type": "markdown",
   "id": "0cc300c8",
   "metadata": {},
   "source": [
    "# 로지스틱회귀분류 - 이진분류 "
   ]
  },
  {
   "cell_type": "code",
   "execution_count": 102,
   "id": "ac6a0868",
   "metadata": {},
   "outputs": [
    {
     "name": "stdout",
     "output_type": "stream",
     "text": [
      "[ True False  True False False False False  True False False False  True\n",
      " False False False  True  True False False  True False  True False False\n",
      " False  True False False  True False False False False  True False False\n",
      "  True  True False False False False False  True False False False False\n",
      " False  True False  True False False  True False False False  True False\n",
      " False False False False False  True False  True False False False False\n",
      " False False False False False  True False  True False False  True  True\n",
      " False False False  True False False False False False  True False False\n",
      " False  True False  True False False  True  True False False False False\n",
      " False False False False  True  True False False  True False False]\n",
      "[[ 0.91965782  0.60943175  0.81041221  1.85194896  1.00075672]\n",
      " [-1.0858536  -1.68646987 -1.70848587 -1.70159849 -2.0044758 ]\n",
      " [ 0.63818253  0.56257661  0.73223951  1.64473401  0.50705737]\n",
      " [ 0.30041219  0.23459067  0.42823457  1.36042157  0.22329758]\n",
      " [ 0.9027693   0.70314202  0.88858491  1.89027545  0.85537174]\n",
      " [-1.0824759  -1.61150165 -1.62162731 -1.7000674  -1.92815631]\n",
      " [ 0.10337949  0.04717013  0.23714575  0.88445197  0.41799764]\n",
      " [ 1.49668216  1.03112796  1.21864741  2.44274986  1.40289707]\n",
      " [ 0.23004337  0.23459067  0.42823457  1.3336029   0.39983213]\n",
      " [-0.42579405 -0.29018684 -0.11028847  0.65627104 -0.26107519]\n",
      " [ 1.28557569  0.70314202  0.89727076  1.98228866  1.06683526]\n",
      " [ 0.93373158  0.60943175  0.83646978  1.85150445  0.97832415]\n",
      " [ 0.80706771  0.60943175  0.81041221  1.63137406  1.0255057 ]\n",
      " [-1.07262426 -1.52716241 -1.55214047 -1.67235972 -1.86207776]\n",
      " [ 1.6374198   1.17169337  1.27076255  2.41341232  1.40143407]\n",
      " [-1.07966115 -1.63961473 -1.67374245 -1.6462819  -1.87036806]\n",
      " [-1.05151362 -1.33037084 -1.39579507 -1.47914678 -1.45146425]\n",
      " [ 0.15967454  0.11276732  0.29794674  1.17051775  0.29205828]\n",
      " [ 1.56705098  1.17169337  1.32287768  2.16352457  1.17174409]\n",
      " [-0.00921063  0.1408804   0.3240043   0.94026245  0.14734384]\n",
      " [ 0.15967454  0.1408804   0.33269016  1.26991474  0.24109734]\n",
      " [-0.14994827  0.32830094  0.52377898  1.24719543  0.3806913 ]\n",
      " [-0.08520896  0.04717013  0.19371647  0.95507939  0.00439718]\n",
      " [ 0.86336276  0.42201121  0.62800925  1.5003429   0.45670601]\n",
      " [ 0.30041219  0.11276732  0.28057503  1.31303204  0.50608204]\n",
      " [-1.07262426 -1.45219419 -1.51739705 -1.62627903 -1.94607798]\n",
      " [ 0.82114147  0.51572148  0.68881023  1.76102232  0.5621025 ]\n",
      " [-1.07937967 -1.54590446 -1.56951218 -1.64420753 -2.01154694]\n",
      " [-1.07937967 -1.62087268 -1.63899902 -1.67413775 -1.93303295]\n",
      " [-0.29068592 -0.2058476  -0.0060582   0.89334213 -0.08697896]\n",
      " [-1.05095067 -1.26477365 -1.30893652 -1.46447801 -1.56606541]\n",
      " [ 0.51151865  0.51572148  0.7148678   1.54738669  0.68347   ]\n",
      " [ 0.58188748  0.32830094  0.51509312  1.50439286  0.4404302 ]]\n"
     ]
    }
   ],
   "source": [
    "#이진분류를 하고 싶다 -> 데이터 쪼개기 \n",
    "# 이진 분류를 위한 데이터로 재구성 하기 : bream 과 Smelt 값 사용 \n",
    "\n",
    "bream_smelt_index = (train_target == 'Bream') | (train_target == 'Smelt')\n",
    "print(bream_smelt_index)\n",
    "\n",
    "# 훈련에 사용할 독립변수와 종속변수 데이터 추출하기 \n",
    "train_bream_smelt = train_scaled[bream_smelt_index]\n",
    "target_bream_smelt = train_target[bream_smelt_index]\n",
    "print(train_bream_smelt)"
   ]
  },
  {
   "cell_type": "code",
   "execution_count": 103,
   "id": "7fc6650a",
   "metadata": {},
   "outputs": [
    {
     "data": {
      "text/plain": [
       "1.0"
      ]
     },
     "execution_count": 103,
     "metadata": {},
     "output_type": "execute_result"
    }
   ],
   "source": [
    "# 훈련하기 \n",
    "from sklearn.linear_model import LogisticRegression\n",
    "lr = LogisticRegression()\n",
    "lr.fit(train_bream_smelt, target_bream_smelt)\n",
    "lr.score(train_bream_smelt, target_bream_smelt)"
   ]
  },
  {
   "cell_type": "code",
   "execution_count": 104,
   "id": "acf20c79",
   "metadata": {},
   "outputs": [
    {
     "data": {
      "text/plain": [
       "array([[0.99759855, 0.00240145],\n",
       "       [0.02735183, 0.97264817],\n",
       "       [0.99486072, 0.00513928],\n",
       "       [0.98584202, 0.01415798],\n",
       "       [0.99767269, 0.00232731]])"
      ]
     },
     "execution_count": 104,
     "metadata": {},
     "output_type": "execute_result"
    }
   ],
   "source": [
    "# 상위 5개만 예측하여, 종속변수들에 대한 확률값 확인하기 \n",
    "# 0번째 :Bream, 1번째 : Smelt \n",
    "lr.predict_proba(train_bream_smelt[:5])"
   ]
  },
  {
   "cell_type": "code",
   "execution_count": 105,
   "id": "e9b304e0",
   "metadata": {},
   "outputs": [
    {
     "data": {
      "text/plain": [
       "array(['Bream', 'Smelt'], dtype=object)"
      ]
     },
     "execution_count": 105,
     "metadata": {},
     "output_type": "execute_result"
    }
   ],
   "source": [
    "lr.classes_"
   ]
  },
  {
   "cell_type": "code",
   "execution_count": 106,
   "id": "d28f1558",
   "metadata": {},
   "outputs": [
    {
     "data": {
      "text/plain": [
       "array([-6.02927744,  3.57123907, -5.26568906, -4.24321775, -6.0607117 ])"
      ]
     },
     "execution_count": 106,
     "metadata": {},
     "output_type": "execute_result"
    }
   ],
   "source": [
    "# 시그모이드 결과값 확인해보기 \n",
    "# 음수 : 왼쪽편, 양수 : 오른쪽 편\n",
    "# 0 보다 작으면 0, 0보다 크면 1\n",
    "lr.decision_function(train_bream_smelt[:5])"
   ]
  },
  {
   "cell_type": "markdown",
   "id": "19c68738",
   "metadata": {},
   "source": [
    "# 로지스틱회귀 - 다중분류"
   ]
  },
  {
   "cell_type": "code",
   "execution_count": 107,
   "id": "3c70099a",
   "metadata": {},
   "outputs": [
    {
     "name": "stdout",
     "output_type": "stream",
     "text": [
      "0.8067226890756303\n",
      "0.85\n"
     ]
    }
   ],
   "source": [
    "lr = LogisticRegression()\n",
    "lr.fit(train_scaled, train_target)\n",
    "print(lr.score(train_scaled, train_target))\n",
    "print(lr.score(test_scaled, test_target))\n",
    "\n",
    "# KNN \n",
    "# 0.8907563025210085\n",
    "# 0.85\n",
    "# # 로지스틱 \n",
    "# 0.8067226890756303\n",
    "# 0.85\n",
    "# 예측 률이 더 낮다 "
   ]
  },
  {
   "cell_type": "code",
   "execution_count": 121,
   "id": "56a950c6",
   "metadata": {},
   "outputs": [
    {
     "name": "stdout",
     "output_type": "stream",
     "text": [
      "0.9327731092436975\n",
      "0.925\n"
     ]
    }
   ],
   "source": [
    "# - C : 규제강도 조절값 (릿지 라쏘 모델의 alpha와 동일)\n",
    "#     : alpha 값의 경우 클수록 강도가 커졌다면 \n",
    "#         C의 값을 작을 수록 강도가 커진다 \n",
    "#     : 기본값은 1\n",
    "#      기본값보다 큰값을 사용했기에 강도를 완화했다고 표현한다 \n",
    "\n",
    "# - max_iter : 훈련반복횟수 \n",
    "#     : 기본값 :100 \n",
    "#     : 훈련 중 반복횟수를 초과하여 훈련을 해야하는 경우 (모델이 알아서)\n",
    "#      경고창이 뜨는 경우 있음, 그래서 반복 회수를 크게 잡아도 된다 \n",
    "\n",
    "lr = LogisticRegression(C=20,max_iter=1000)\n",
    "lr.fit(train_scaled, train_target)\n",
    "print(lr.score(train_scaled, train_target))\n",
    "print(lr.score(test_scaled, test_target))\n",
    "# C 값을 늘일수록 과적합이 커진다 -> max_iter 를 이용해 가장 적절한 값을 찾는다 \n",
    "# 가장 적절한 값을 못찾으면 계속 한다 못찾았는데 종료되면 -> 경고창이 뜬다 "
   ]
  },
  {
   "cell_type": "code",
   "execution_count": 122,
   "id": "1d3be6f2",
   "metadata": {},
   "outputs": [
    {
     "data": {
      "text/plain": [
       "array(['Bream', 'Pike', 'Smelt', 'Perch', 'Parkki'], dtype=object)"
      ]
     },
     "execution_count": 122,
     "metadata": {},
     "output_type": "execute_result"
    }
   ],
   "source": [
    "# 상위 5개 데이터만 예측해보기 \n",
    "lr.predict(train_scaled[:5])"
   ]
  },
  {
   "cell_type": "code",
   "execution_count": 124,
   "id": "0af3da40",
   "metadata": {},
   "outputs": [
    {
     "name": "stdout",
     "output_type": "stream",
     "text": [
      "[[0.    0.014 0.841 0.    0.136 0.007 0.003]\n",
      " [0.    0.003 0.044 0.    0.007 0.946 0.   ]\n",
      " [0.    0.    0.034 0.935 0.015 0.016 0.   ]\n",
      " [0.011 0.034 0.306 0.007 0.567 0.    0.076]\n",
      " [0.    0.    0.904 0.002 0.089 0.002 0.001]]\n",
      "['Bream' 'Parkki' 'Perch' 'Pike' 'Roach' 'Smelt' 'Whitefish']\n"
     ]
    }
   ],
   "source": [
    "# 확률값 확인하기 \n",
    "proba = lr.predict_proba(test_scaled[:5])\n",
    "print(np.round(proba, decimals=3))\n",
    "print(lr.classes_)"
   ]
  },
  {
   "cell_type": "code",
   "execution_count": 126,
   "id": "b712048a",
   "metadata": {},
   "outputs": [
    {
     "name": "stdout",
     "output_type": "stream",
     "text": [
      "[[0.    0.014 0.841 0.    0.136 0.007 0.003]\n",
      " [0.    0.003 0.044 0.    0.007 0.946 0.   ]\n",
      " [0.    0.    0.034 0.935 0.015 0.016 0.   ]\n",
      " [0.011 0.034 0.306 0.007 0.567 0.    0.076]\n",
      " [0.    0.    0.904 0.002 0.089 0.002 0.001]]\n"
     ]
    }
   ],
   "source": [
    "## 소프트 맥스 알고리즘을 이용하여 확률 값 확인하기 \n",
    "# 지수화된 데이터 삽입 -> 확률적으로 보여 줌 \n",
    "from scipy.special import softmax\n",
    "decision = lr.decision_function(test_scaled[:5])\n",
    "proba = softmax(decision, axis = 1)\n",
    "print(np.round(proba, decimals = 3))\n"
   ]
  },
  {
   "cell_type": "code",
   "execution_count": null,
   "id": "d7249f7b",
   "metadata": {},
   "outputs": [],
   "source": []
  }
 ],
 "metadata": {
  "kernelspec": {
   "display_name": "pknu_bsae_kernel",
   "language": "python",
   "name": "pknu_base"
  },
  "language_info": {
   "codemirror_mode": {
    "name": "ipython",
    "version": 3
   },
   "file_extension": ".py",
   "mimetype": "text/x-python",
   "name": "python",
   "nbconvert_exporter": "python",
   "pygments_lexer": "ipython3",
   "version": "3.9.15"
  }
 },
 "nbformat": 4,
 "nbformat_minor": 5
}
