{
 "cells": [
  {
   "cell_type": "code",
   "execution_count": 1,
   "id": "de176088",
   "metadata": {},
   "outputs": [
    {
     "name": "stdout",
     "output_type": "stream",
     "text": [
      "<class 'pandas.core.frame.DataFrame'>\n",
      "RangeIndex: 6497 entries, 0 to 6496\n",
      "Data columns (total 4 columns):\n",
      " #   Column   Non-Null Count  Dtype  \n",
      "---  ------   --------------  -----  \n",
      " 0   alcohol  6497 non-null   float64\n",
      " 1   sugar    6497 non-null   float64\n",
      " 2   pH       6497 non-null   float64\n",
      " 3   class    6497 non-null   float64\n",
      "dtypes: float64(4)\n",
      "memory usage: 203.2 KB\n"
     ]
    }
   ],
   "source": [
    "# 데이터 불러오기 \n",
    "import pandas as pd \n",
    "wine = pd.read_csv('./data/08_wine.csv')\n",
    "wine.info()"
   ]
  },
  {
   "cell_type": "code",
   "execution_count": 2,
   "id": "87705f29",
   "metadata": {},
   "outputs": [
    {
     "name": "stdout",
     "output_type": "stream",
     "text": [
      "(6497,) (6497, 3)\n"
     ]
    }
   ],
   "source": [
    "# 독립 종속 분리 \n",
    "data = wine[['alcohol', 'sugar', 'pH']].to_numpy()\n",
    "target = wine['class'].to_numpy()\n",
    "\n",
    "print(target.shape, data.shape)"
   ]
  },
  {
   "cell_type": "code",
   "execution_count": 3,
   "id": "710c543f",
   "metadata": {},
   "outputs": [
    {
     "name": "stdout",
     "output_type": "stream",
     "text": [
      "(5197, 3) (5197,)\n",
      "(1300, 3) (1300,)\n"
     ]
    }
   ],
   "source": [
    "# train, test 분리 \n",
    "from sklearn.model_selection import train_test_split\n",
    "train_input, test_input,train_target, test_target = train_test_split(data, target, test_size = 0.2, random_state = 42)\n",
    "print(train_input.shape, train_target.shape)\n",
    "print (test_input.shape, test_target.shape)"
   ]
  },
  {
   "cell_type": "code",
   "execution_count": 4,
   "id": "af93eb80",
   "metadata": {},
   "outputs": [
    {
     "name": "stdout",
     "output_type": "stream",
     "text": [
      "(5197, 3) (5197,)\n",
      "(1300, 3) (1300,)\n"
     ]
    }
   ],
   "source": [
    "# 여러개의 데이터로 정확도를 확인하는 것  \n",
    "# 일반적인 데이터 분류의 기준 \n",
    "# 훈련 : 검증 : 테스느 = 6 :2:2\n",
    "\n",
    "sub_input, val_input,sub_target, val_target = train_test_split(data, target, test_size = 0.2, random_state = 42)\n",
    "print(train_input.shape, train_target.shape)\n",
    "print (test_input.shape, test_target.shape)     \n",
    "        "
   ]
  },
  {
   "cell_type": "code",
   "execution_count": 8,
   "id": "278e737c",
   "metadata": {},
   "outputs": [
    {
     "name": "stdout",
     "output_type": "stream",
     "text": [
      "0.996921300750433\n",
      "0.8584615384615385\n"
     ]
    }
   ],
   "source": [
    "# dt 훈련하기 \n",
    "from sklearn.tree import DecisionTreeClassifier\n",
    "dt = DecisionTreeClassifier(random_state= 42)\n",
    "# 훈련시키기 \n",
    "dt.fit(sub_input, sub_target)\n",
    "# 분류정확도 확인하기 \n",
    "print(dt.score(sub_input, sub_target))\n",
    "print(dt.score(val_input, val_target))"
   ]
  },
  {
   "cell_type": "code",
   "execution_count": 9,
   "id": "b268d88d",
   "metadata": {},
   "outputs": [
    {
     "name": "stdout",
     "output_type": "stream",
     "text": [
      "0.8584615384615385\n"
     ]
    }
   ],
   "source": [
    "print(dt.score(test_input, test_target))"
   ]
  },
  {
   "cell_type": "markdown",
   "id": "51cb95f5",
   "metadata": {},
   "source": [
    "## 교차검증"
   ]
  },
  {
   "cell_type": "code",
   "execution_count": 11,
   "id": "34b02342",
   "metadata": {},
   "outputs": [],
   "source": [
    "# - 내부적으로 훈련/ 검증 데이터로 구분하여 사용하는 알고리즘 \n",
    "# - 내부적으로 구분해 사용하는 데이터는 위에서 구분한 train 뎅터 사용\n",
    "# - 데이터 준비는 기존과 동일하게 훈련 및 테스트 데이터만 목 있음 된다 "
   ]
  },
  {
   "cell_type": "code",
   "execution_count": 13,
   "id": "fe20adba",
   "metadata": {},
   "outputs": [
    {
     "name": "stdout",
     "output_type": "stream",
     "text": [
      "{'fit_time': array([0.00797772, 0.00619602, 0.        , 0.        , 0.02184963]), 'score_time': array([0.00099874, 0.        , 0.        , 0.        , 0.        ]), 'test_score': array([0.86923077, 0.84615385, 0.87680462, 0.84889317, 0.83541867])}\n"
     ]
    }
   ],
   "source": [
    "# 교파검등 라이브러리 호출 \n",
    "from sklearn.model_selection import cross_validate \n",
    "\n",
    "#교차검증 수행 \n",
    "scores = cross_validate(dt, train_input, train_target)\n",
    "print(scores)"
   ]
  },
  {
   "cell_type": "code",
   "execution_count": 16,
   "id": "73af0461",
   "metadata": {},
   "outputs": [
    {
     "data": {
      "text/plain": [
       "0.855300214703487"
      ]
     },
     "execution_count": 16,
     "metadata": {},
     "output_type": "execute_result"
    }
   ],
   "source": [
    "# 교차검증 주요 키워드 : '폴드'\n",
    "#     훈련데이터(train_input)를 폴드의 개수 만큼 나누어서 교차하면서 훈련하는 방식 \n",
    "#     각 폴더 단위별로 훈련한 검증 결과를 평균한 값이 최종 검증결과가 된다  \n",
    "# 폴드 값 5개 평균내기 \n",
    "import numpy as np \n",
    "np.mean(scores['test_score'])"
   ]
  },
  {
   "cell_type": "code",
   "execution_count": 18,
   "id": "5fe84f0d",
   "metadata": {},
   "outputs": [
    {
     "name": "stdout",
     "output_type": "stream",
     "text": [
      "{'fit_time': array([0.00598288, 0.0089457 , 0.        , 0.01483989, 0.        ]), 'score_time': array([0.0020082, 0.       , 0.       , 0.       , 0.       ]), 'test_score': array([0.86923077, 0.84615385, 0.87680462, 0.84889317, 0.83541867])}\n"
     ]
    }
   ],
   "source": [
    "from sklearn.model_selection import cross_validate\n",
    "scores = cross_validate(dt, train_input, train_target)\n",
    "print(scores)"
   ]
  },
  {
   "cell_type": "code",
   "execution_count": 19,
   "id": "0ebbe553",
   "metadata": {},
   "outputs": [
    {
     "name": "stdout",
     "output_type": "stream",
     "text": [
      "0.855300214703487\n"
     ]
    }
   ],
   "source": [
    "# 폴드 분할 컨트롤하기 \n",
    "# cv(cross validation) 분할기라고 칭한다 \n",
    "# cv에 StratifiedKFold() 클래스 사용 \n",
    "# 클래스에 아무값도 넣지 않으면, 기본 폴드는 5를 사용함 \n",
    "\n",
    "from sklearn.model_selection import StratifiedKFold\n",
    "scores = cross_validate(dt, train_input, train_target, cv= StratifiedKFold())\n",
    "print(np.mean(scores[\"test_score\"]))"
   ]
  },
  {
   "cell_type": "code",
   "execution_count": 23,
   "id": "e59eae0c",
   "metadata": {},
   "outputs": [
    {
     "name": "stdout",
     "output_type": "stream",
     "text": [
      "0.8574181117533719\n"
     ]
    }
   ],
   "source": [
    "# n_splits : 훈련 데이털르 몇 개 폴드로 나눌 것인지 결정 (폴드의 개수 기본 5)\n",
    "# shuffle : 훈련 데이터 섞기 (기본값 = Flase) \n",
    "# 훈련용 과 검증용의 분리 \n",
    "splitter = StratifiedKFold(n_splits=10, shuffle=True, random_state=42)\n",
    "scores = cross_validate(dt, train_input, train_target, \n",
    "                        cv= splitter )\n",
    "print(np.mean(scores[\"test_score\"]))"
   ]
  },
  {
   "cell_type": "markdown",
   "id": "a29bbfab",
   "metadata": {},
   "source": [
    "### 하이퍼파리미터 튜닝(AutoML)"
   ]
  },
  {
   "cell_type": "code",
   "execution_count": 24,
   "id": "1b9e5c0d",
   "metadata": {},
   "outputs": [],
   "source": [
    "# - 교차검증, 하이퍼파리미터 찾기 , 모델훈련을 한번에 자동으로 수행하는 개념\n",
    "# - 사용 패키지 : sklearn.model_selection\n",
    "# - 사용 클래스 : GridSearchCV (그리드 서치라고 칭한다)\n",
    "# - "
   ]
  },
  {
   "cell_type": "code",
   "execution_count": 25,
   "id": "189df8d8",
   "metadata": {},
   "outputs": [
    {
     "name": "stdout",
     "output_type": "stream",
     "text": [
      "DecisionTreeClassifier(max_depth=8, random_state=42)\n"
     ]
    }
   ],
   "source": [
    "# 트리의 깊이(max_depth) 값 찾기 \n",
    "# 라이브러리 읽어오기 \n",
    "from sklearn.model_selection import GridSearchCV\n",
    "\n",
    "# max_depth의 값을 찾기위한 범위 지정하기 \n",
    "# range : 훈련 횟수\n",
    "params = {\"max_depth\" : range(5,20,1)}\n",
    "# 하이퍼파라미터 그리드 서치 객체 생성하기 \n",
    "# 자신이 사용할 모델 이름 넣으면 된다\n",
    "# n_jobs : 사용할 CPU코어 개수 지정 (-1은 모든 코어 사용)\n",
    "gs = GridSearchCV(DecisionTreeClassifier(random_state=42),\n",
    "                 params, n_jobs=-1)\n",
    "#스스로 하이퍼파라미터 찾기 \n",
    "gs.fit(train_input, train_target)\n",
    "# 자동으로 찾은 하이퍼 파라미터 값 출력하기\n",
    "print(gs.best_estimator_)"
   ]
  },
  {
   "cell_type": "code",
   "execution_count": 28,
   "id": "6653096a",
   "metadata": {},
   "outputs": [
    {
     "name": "stdout",
     "output_type": "stream",
     "text": [
      "0.9003271117952665\n",
      "0.8584615384615385\n"
     ]
    }
   ],
   "source": [
    "# 검증하기 \n",
    "dt = gs.best_estimator_\n",
    "print(dt.score(train_input,train_target))\n",
    "print(dt.score(test_input,test_target))"
   ]
  },
  {
   "cell_type": "code",
   "execution_count": null,
   "id": "2ece23f7",
   "metadata": {},
   "outputs": [],
   "source": []
  }
 ],
 "metadata": {
  "kernelspec": {
   "display_name": "pknu_bsae_kernel",
   "language": "python",
   "name": "pknu_base"
  },
  "language_info": {
   "codemirror_mode": {
    "name": "ipython",
    "version": 3
   },
   "file_extension": ".py",
   "mimetype": "text/x-python",
   "name": "python",
   "nbconvert_exporter": "python",
   "pygments_lexer": "ipython3",
   "version": "3.9.15"
  }
 },
 "nbformat": 4,
 "nbformat_minor": 5
}
