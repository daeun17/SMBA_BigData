{
 "cells": [
  {
   "cell_type": "code",
   "execution_count": 1,
   "id": "9139f3d1",
   "metadata": {},
   "outputs": [],
   "source": [
    "# [점진적학습]\n",
    "# - 데이터가 수진될때 마다 학습을 계속이어나가는 훈련방식 \n",
    "# - 대표적인 점진적 학습 알고리즘 : 확률적 경사하강법 (SDG)\n",
    "\n",
    "# [확률적 경사하강법(SDG)]\n",
    "# - 경사 ;기울기 \n",
    "# - 하강법 : 내려가는 방법 \n",
    "# - 원하는 '지점'에 도달하기 위해 가장 가파른 경사를 따라 '내려 가는 방법'을 찾는 알고리즘 \n",
    "# - 확률적'(무직위/랜덤)': 알고리즘이 알아서 내려가는 경사의 위차와 방법을 찾음 \n",
    "# - 훈련데이터의 전체 특성들 중에서 하나씩 램던하게 선택하여 가장 가파른 길을 찾음\n",
    "# 원하는 지점 -> U 그래프 \n",
    "\n",
    "# [획률적 경사하강법 순서]\n",
    "# - 훈련 데이터 에서 램덤하게 하나의 특성을 선택 \n",
    "# - 선택한 특성을 이용해서 경사를 조금씩 (아주 조금씩) 체크 (빠른길)하면서 내려간다 \n",
    "# - 지점까지 내려갈 수 있을 때 까지 내려간다 \n",
    "# - 훈련데이터에서 다른 독립변수(특성)를 랜덤하게 선택하여 또 다시 위에서 부터 시작 \n",
    "# 각가의 독립변수를 여러번 내려가게 한다 -> 빠른 길을 찾아서 "
   ]
  },
  {
   "cell_type": "code",
   "execution_count": 3,
   "id": "2aab3658",
   "metadata": {},
   "outputs": [
    {
     "name": "stdout",
     "output_type": "stream",
     "text": [
      "<class 'pandas.core.frame.DataFrame'>\n",
      "RangeIndex: 159 entries, 0 to 158\n",
      "Data columns (total 6 columns):\n",
      " #   Column    Non-Null Count  Dtype  \n",
      "---  ------    --------------  -----  \n",
      " 0   Species   159 non-null    object \n",
      " 1   Weight    159 non-null    float64\n",
      " 2   Length    159 non-null    float64\n",
      " 3   Diagonal  159 non-null    float64\n",
      " 4   Height    159 non-null    float64\n",
      " 5   Width     159 non-null    float64\n",
      "dtypes: float64(5), object(1)\n",
      "memory usage: 7.6+ KB\n"
     ]
    },
    {
     "data": {
      "text/html": [
       "<div>\n",
       "<style scoped>\n",
       "    .dataframe tbody tr th:only-of-type {\n",
       "        vertical-align: middle;\n",
       "    }\n",
       "\n",
       "    .dataframe tbody tr th {\n",
       "        vertical-align: top;\n",
       "    }\n",
       "\n",
       "    .dataframe thead th {\n",
       "        text-align: right;\n",
       "    }\n",
       "</style>\n",
       "<table border=\"1\" class=\"dataframe\">\n",
       "  <thead>\n",
       "    <tr style=\"text-align: right;\">\n",
       "      <th></th>\n",
       "      <th>Weight</th>\n",
       "      <th>Length</th>\n",
       "      <th>Diagonal</th>\n",
       "      <th>Height</th>\n",
       "      <th>Width</th>\n",
       "    </tr>\n",
       "  </thead>\n",
       "  <tbody>\n",
       "    <tr>\n",
       "      <th>count</th>\n",
       "      <td>159.000000</td>\n",
       "      <td>159.000000</td>\n",
       "      <td>159.000000</td>\n",
       "      <td>159.000000</td>\n",
       "      <td>159.000000</td>\n",
       "    </tr>\n",
       "    <tr>\n",
       "      <th>mean</th>\n",
       "      <td>398.326415</td>\n",
       "      <td>28.415723</td>\n",
       "      <td>31.227044</td>\n",
       "      <td>8.970994</td>\n",
       "      <td>4.417486</td>\n",
       "    </tr>\n",
       "    <tr>\n",
       "      <th>std</th>\n",
       "      <td>357.978317</td>\n",
       "      <td>10.716328</td>\n",
       "      <td>11.610246</td>\n",
       "      <td>4.286208</td>\n",
       "      <td>1.685804</td>\n",
       "    </tr>\n",
       "    <tr>\n",
       "      <th>min</th>\n",
       "      <td>0.000000</td>\n",
       "      <td>8.400000</td>\n",
       "      <td>8.800000</td>\n",
       "      <td>1.728400</td>\n",
       "      <td>1.047600</td>\n",
       "    </tr>\n",
       "    <tr>\n",
       "      <th>25%</th>\n",
       "      <td>120.000000</td>\n",
       "      <td>21.000000</td>\n",
       "      <td>23.150000</td>\n",
       "      <td>5.944800</td>\n",
       "      <td>3.385650</td>\n",
       "    </tr>\n",
       "    <tr>\n",
       "      <th>50%</th>\n",
       "      <td>273.000000</td>\n",
       "      <td>27.300000</td>\n",
       "      <td>29.400000</td>\n",
       "      <td>7.786000</td>\n",
       "      <td>4.248500</td>\n",
       "    </tr>\n",
       "    <tr>\n",
       "      <th>75%</th>\n",
       "      <td>650.000000</td>\n",
       "      <td>35.500000</td>\n",
       "      <td>39.650000</td>\n",
       "      <td>12.365900</td>\n",
       "      <td>5.584500</td>\n",
       "    </tr>\n",
       "    <tr>\n",
       "      <th>max</th>\n",
       "      <td>1650.000000</td>\n",
       "      <td>63.400000</td>\n",
       "      <td>68.000000</td>\n",
       "      <td>18.957000</td>\n",
       "      <td>8.142000</td>\n",
       "    </tr>\n",
       "  </tbody>\n",
       "</table>\n",
       "</div>"
      ],
      "text/plain": [
       "            Weight      Length    Diagonal      Height       Width\n",
       "count   159.000000  159.000000  159.000000  159.000000  159.000000\n",
       "mean    398.326415   28.415723   31.227044    8.970994    4.417486\n",
       "std     357.978317   10.716328   11.610246    4.286208    1.685804\n",
       "min       0.000000    8.400000    8.800000    1.728400    1.047600\n",
       "25%     120.000000   21.000000   23.150000    5.944800    3.385650\n",
       "50%     273.000000   27.300000   29.400000    7.786000    4.248500\n",
       "75%     650.000000   35.500000   39.650000   12.365900    5.584500\n",
       "max    1650.000000   63.400000   68.000000   18.957000    8.142000"
      ]
     },
     "execution_count": 3,
     "metadata": {},
     "output_type": "execute_result"
    }
   ],
   "source": [
    "# 07_fish.csv 데이터 읽어들이고 정보확인하기 \n",
    "import pandas as pd \n",
    "fish = pd.read_csv(\"./data/07_fish.csv\")\n",
    "fish.info()\n",
    "fish.describe()\n",
    "# 특성 (컬럼, 열, 항복, 변수) 확인 \n",
    "# Species Weight Length Diagonal Height Width"
   ]
  },
  {
   "cell_type": "code",
   "execution_count": 5,
   "id": "72328c9c",
   "metadata": {},
   "outputs": [
    {
     "data": {
      "text/html": [
       "<div>\n",
       "<style scoped>\n",
       "    .dataframe tbody tr th:only-of-type {\n",
       "        vertical-align: middle;\n",
       "    }\n",
       "\n",
       "    .dataframe tbody tr th {\n",
       "        vertical-align: top;\n",
       "    }\n",
       "\n",
       "    .dataframe thead th {\n",
       "        text-align: right;\n",
       "    }\n",
       "</style>\n",
       "<table border=\"1\" class=\"dataframe\">\n",
       "  <thead>\n",
       "    <tr style=\"text-align: right;\">\n",
       "      <th></th>\n",
       "      <th>Species</th>\n",
       "      <th>Weight</th>\n",
       "      <th>Length</th>\n",
       "      <th>Diagonal</th>\n",
       "      <th>Height</th>\n",
       "      <th>Width</th>\n",
       "    </tr>\n",
       "  </thead>\n",
       "  <tbody>\n",
       "    <tr>\n",
       "      <th>0</th>\n",
       "      <td>Bream</td>\n",
       "      <td>242.0</td>\n",
       "      <td>25.4</td>\n",
       "      <td>30.0</td>\n",
       "      <td>11.5200</td>\n",
       "      <td>4.0200</td>\n",
       "    </tr>\n",
       "    <tr>\n",
       "      <th>1</th>\n",
       "      <td>Bream</td>\n",
       "      <td>290.0</td>\n",
       "      <td>26.3</td>\n",
       "      <td>31.2</td>\n",
       "      <td>12.4800</td>\n",
       "      <td>4.3056</td>\n",
       "    </tr>\n",
       "    <tr>\n",
       "      <th>2</th>\n",
       "      <td>Bream</td>\n",
       "      <td>340.0</td>\n",
       "      <td>26.5</td>\n",
       "      <td>31.1</td>\n",
       "      <td>12.3778</td>\n",
       "      <td>4.6961</td>\n",
       "    </tr>\n",
       "    <tr>\n",
       "      <th>3</th>\n",
       "      <td>Bream</td>\n",
       "      <td>363.0</td>\n",
       "      <td>29.0</td>\n",
       "      <td>33.5</td>\n",
       "      <td>12.7300</td>\n",
       "      <td>4.4555</td>\n",
       "    </tr>\n",
       "    <tr>\n",
       "      <th>4</th>\n",
       "      <td>Bream</td>\n",
       "      <td>430.0</td>\n",
       "      <td>29.0</td>\n",
       "      <td>34.0</td>\n",
       "      <td>12.4440</td>\n",
       "      <td>5.1340</td>\n",
       "    </tr>\n",
       "  </tbody>\n",
       "</table>\n",
       "</div>"
      ],
      "text/plain": [
       "  Species  Weight  Length  Diagonal   Height   Width\n",
       "0   Bream   242.0    25.4      30.0  11.5200  4.0200\n",
       "1   Bream   290.0    26.3      31.2  12.4800  4.3056\n",
       "2   Bream   340.0    26.5      31.1  12.3778  4.6961\n",
       "3   Bream   363.0    29.0      33.5  12.7300  4.4555\n",
       "4   Bream   430.0    29.0      34.0  12.4440  5.1340"
      ]
     },
     "execution_count": 5,
     "metadata": {},
     "output_type": "execute_result"
    }
   ],
   "source": [
    "fish.head()"
   ]
  },
  {
   "cell_type": "code",
   "execution_count": 8,
   "id": "220de1c0",
   "metadata": {},
   "outputs": [
    {
     "name": "stdout",
     "output_type": "stream",
     "text": [
      "(159,) (159, 5)\n"
     ]
    }
   ],
   "source": [
    "# 데이터 전처리 작업 후 아래 과정 진행 \n",
    "# 분리전에 무조건 전처리 하고 해야한다 -> 같은 위치의 값을 유지하기 위함 \n",
    "# 독립,종속 분리 \n",
    "fish_target = fish['Species'].to_numpy()\n",
    "fish_input = fish[[\"Weight\",'Length','Diagonal','Height','Width']].to_numpy()\n",
    "\n",
    "print(fish_target.shape, fish_input.shape)"
   ]
  },
  {
   "cell_type": "code",
   "execution_count": 9,
   "id": "f96b84ec",
   "metadata": {},
   "outputs": [
    {
     "name": "stdout",
     "output_type": "stream",
     "text": [
      "(119, 5) (119,)\n",
      "(40, 5) (40,)\n"
     ]
    }
   ],
   "source": [
    "#훈련, 테스트 분리 \n",
    "from sklearn.model_selection import train_test_split\n",
    "train_input, test_input,train_target, test_target = train_test_split(fish_input, fish_target, test_size = 0.25, random_state = 42)\n",
    "print(train_input.shape, train_target.shape)\n",
    "print (test_input.shape, test_target.shape)"
   ]
  },
  {
   "cell_type": "code",
   "execution_count": 10,
   "id": "51f939b0",
   "metadata": {},
   "outputs": [
    {
     "name": "stdout",
     "output_type": "stream",
     "text": [
      "(119, 5) (40, 5)\n"
     ]
    }
   ],
   "source": [
    "# 정규화 \n",
    "from sklearn.preprocessing import StandardScaler\n",
    "\n",
    "#함수 불러오기 \n",
    "ss = StandardScaler()\n",
    "\n",
    "# 스스로 표준 점수 생성\n",
    "ss.fit(train_input)\n",
    "\n",
    "#훈련데이터를 표준 점수로 변환하기 \n",
    "train_scaled = ss.transform(train_input)\n",
    "\n",
    "#테스트데이터를 표준점수로 변환하기 \n",
    "test_scaled = ss.transform(test_input)\n",
    "\n",
    "print(train_scaled.shape, test_scaled.shape)"
   ]
  },
  {
   "cell_type": "markdown",
   "id": "c7bfaac1",
   "metadata": {},
   "source": [
    "# 획률적 경사하강법을 이용한 분류모델(SGDclassifier)"
   ]
  },
  {
   "cell_type": "code",
   "execution_count": 22,
   "id": "43efd556",
   "metadata": {},
   "outputs": [
    {
     "name": "stdout",
     "output_type": "stream",
     "text": [
      "0.773109243697479\n",
      "0.775\n"
     ]
    },
    {
     "name": "stderr",
     "output_type": "stream",
     "text": [
      "C:\\Users\\ekdms\\anaconda3\\lib\\site-packages\\sklearn\\linear_model\\_stochastic_gradient.py:696: ConvergenceWarning: Maximum number of iteration reached before convergence. Consider increasing max_iter to improve the fit.\n",
      "  warnings.warn(\n"
     ]
    }
   ],
   "source": [
    "# 라이브러리 불러들이기 \n",
    "from sklearn.linear_model import SGDClassifier\n",
    "\n",
    "# 훈련모델 생성 \n",
    "# [loss : 손실함수] \n",
    "# - 조금씩 내려오면서 손실이 작은 쪽을 찾아서 내려오기 위한 방법을 지정 \n",
    "# - 학습 모델이 알아서 계산하고 처리함 \n",
    "# - 분류 결과에 만족할 때까지 내려간다 \n",
    "# - log(logistic의 약자): 로지스틱 손실함수 (이진분류에 사용)\n",
    "# 로지스틱 : 이진분류 사용 -> 변수 여러개인데 왜 이진분류? \n",
    "# -> 독립변수 하나에 관해 경사 선택하는 것이다 ( 두개의 갈림길의 손실을 체크)\n",
    "# max_iter : 10 -> 각 변수별로 내려올 횟수 \n",
    "sc = SGDClassifier(loss=\"log\", max_iter = 10, random_state = 42)\n",
    "\n",
    "# 훈련시키기 \n",
    "sc.fit(train_scaled, train_target)\n",
    "\n",
    "#검증하기 \n",
    "print(sc.score(train_scaled,train_target))\n",
    "print(sc.score(test_scaled, test_target))\n",
    "\n",
    "# 과소적합 발생 -> 하이퍼파라미터 조정하니 과소적합 줄임 -> 정확도 떨어짐 \n"
   ]
  },
  {
   "cell_type": "code",
   "execution_count": 32,
   "id": "66f6ca26",
   "metadata": {},
   "outputs": [
    {
     "name": "stdout",
     "output_type": "stream",
     "text": [
      "0.8487394957983193\n",
      "0.9\n"
     ]
    }
   ],
   "source": [
    "# 점진적으로 기존 훈련에 이어서 계속 훈련하기 \n",
    "sc.partial_fit(train_scaled,train_target)\n",
    "print(sc.score(train_scaled,train_target))\n",
    "print(sc.score(test_scaled, test_target))"
   ]
  },
  {
   "cell_type": "markdown",
   "id": "e7d5f499",
   "metadata": {},
   "source": [
    "## 반복횟수(max_iter or에 포크_"
   ]
  },
  {
   "cell_type": "code",
   "execution_count": 48,
   "id": "8a63cd88",
   "metadata": {},
   "outputs": [],
   "source": [
    "import numpy as np\n",
    "sc = SGDClassifier(loss = \"log\", random_state = 42 )\n",
    "\n",
    "# 종확오룰 담을 리스트 변수 생성 \n",
    "train_score = []\n",
    "test_score = []\n",
    "# 종속변수 데이터 추출하여 변수에 붇기 \n",
    "classes = np.unique(train_target)\n",
    "# 300qjs(0~299) 강제로 훈련 수행하면서 훈련 및 테스트 정확도 조회하기 \n",
    "for _ in range(0,300) : \n",
    "    # 최조 반복에 사용한 훈련 이어서 계속 훈련하기 \n",
    "    sc.partial_fit(train_scaled, train_target, classes=classes)\n",
    "    # 훈련 및 테스트 정확도 리스트 변수에 담기 \n",
    "    train_score.append (sc.score(train_scaled,train_target))\n",
    "    test_score.append (sc.score(test_scaled, test_target))"
   ]
  },
  {
   "cell_type": "code",
   "execution_count": 49,
   "id": "919cf253",
   "metadata": {},
   "outputs": [
    {
     "name": "stdout",
     "output_type": "stream",
     "text": [
      "300 300\n"
     ]
    }
   ],
   "source": [
    "print(len(train_score), len(test_score))"
   ]
  },
  {
   "cell_type": "code",
   "execution_count": 54,
   "id": "41485a43",
   "metadata": {},
   "outputs": [
    {
     "data": {
      "text/plain": [
       "[<matplotlib.lines.Line2D at 0x15a047af910>]"
      ]
     },
     "execution_count": 54,
     "metadata": {},
     "output_type": "execute_result"
    },
    {
     "data": {
      "image/png": "[encoded data removed]",
      "text/plain": [
       "<Figure size 432x288 with 1 Axes>"
      ]
     },
     "metadata": {
      "needs_background": "light"
     },
     "output_type": "display_data"
    }
   ],
   "source": [
    "#반복횟수별로 정확도 확인하기 (반복 횟수 지점 찾기)\n",
    "import matplotlib.pyplot as plt\n",
    "\n",
    "plt.plot(train_score)\n",
    "plt.plot(test_score)\n"
   ]
  },
  {
   "cell_type": "code",
   "execution_count": 56,
   "id": "410179e7",
   "metadata": {},
   "outputs": [
    {
     "name": "stdout",
     "output_type": "stream",
     "text": [
      "0.957983193277311\n",
      "0.925\n"
     ]
    }
   ],
   "source": [
    "# tol = None : SGD 는 어느정도 지점에 도달해다고 판단하면 반복을 강제 종료 시킨다 \n",
    "# 우리가 지정한 max_iter만큼 무조건 반복을 수행하기 위하여 설정하는 값 \n",
    "sc = SGDClassifier(loss=\"log\", max_iter = 100, tol=None, random_state = 42)\n",
    "\n",
    "# 훈련시키기 \n",
    "sc.fit(train_scaled, train_target)\n",
    "\n",
    "#검증하기 \n",
    "print(sc.score(train_scaled,train_target))\n",
    "print(sc.score(test_scaled, test_target))\n"
   ]
  },
  {
   "cell_type": "code",
   "execution_count": null,
   "id": "9937ad27",
   "metadata": {},
   "outputs": [],
   "source": [
    "# 분류모델의시작 => 트리기반 "
   ]
  }
 ],
 "metadata": {
  "kernelspec": {
   "display_name": "pknu_bsae_kernel",
   "language": "python",
   "name": "pknu_base"
  },
  "language_info": {
   "codemirror_mode": {
    "name": "ipython",
    "version": 3
   },
   "file_extension": ".py",
   "mimetype": "text/x-python",
   "name": "python",
   "nbconvert_exporter": "python",
   "pygments_lexer": "ipython3",
   "version": "3.9.15"
  }
 },
 "nbformat": 4,
 "nbformat_minor": 5
}
