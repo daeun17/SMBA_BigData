{
 "cells": [
  {
   "cell_type": "code",
   "execution_count": 1,
   "id": "ca1df872",
   "metadata": {},
   "outputs": [],
   "source": [
    "# 패션데이터 읽어들이고, 훈련/테스트 데이터 셋 분류하기 "
   ]
  },
  {
   "cell_type": "code",
   "execution_count": 2,
   "id": "7b8953a6",
   "metadata": {},
   "outputs": [],
   "source": [
    "import tensorflow as tr\n",
    "from tensorflow import keras"
   ]
  },
  {
   "cell_type": "code",
   "execution_count": 3,
   "id": "2c93f41b",
   "metadata": {},
   "outputs": [],
   "source": [
    "# 케라스 내부의 fashion_mnist 이라는 데이터를 불러옴\n",
    "(train_input, train_target), (test_input, test_target) = keras.datasets.fashion_mnist.load_data()"
   ]
  },
  {
   "cell_type": "code",
   "execution_count": 4,
   "id": "2c85fa94",
   "metadata": {},
   "outputs": [
    {
     "data": {
      "text/plain": [
       "(60000, 28, 28)"
      ]
     },
     "execution_count": 4,
     "metadata": {},
     "output_type": "execute_result"
    }
   ],
   "source": [
    "# 255의 의미? => \n",
    "train_scaled = train_input / 255.0\n",
    "train_scaled.shape"
   ]
  },
  {
   "cell_type": "code",
   "execution_count": 5,
   "id": "3fd51f73",
   "metadata": {},
   "outputs": [
    {
     "name": "stdout",
     "output_type": "stream",
     "text": [
      "(48000, 28, 28) (48000,)\n",
      "(12000, 28, 28) (12000,)\n"
     ]
    }
   ],
   "source": [
    "# 라이브러리 호출 \n",
    "from sklearn.model_selection import train_test_split\n",
    "\n",
    "train_scaled, val_scaled,train_target, val_target = \\\n",
    "train_test_split (train_scaled, train_target, test_size = 0.2, random_state = 42)\n",
    "\n",
    "print(train_scaled.shape, train_target.shape)\n",
    "print (val_scaled.shape, val_target.shape)\n"
   ]
  },
  {
   "cell_type": "code",
   "execution_count": 6,
   "id": "4209360e",
   "metadata": {},
   "outputs": [],
   "source": [
    "# 신경망 모델 및 신경망층 생성 함수 만들기 \n",
    "\n",
    "def model_fn(add_layer=None) :\n",
    "    model = keras.Sequential()\n",
    "    # 전처리 층 : 1차원으로 만들기 \n",
    "    model.add(keras.layers.Flatten(input_shape=(28,28)))\n",
    "    # 은닉층(hidden layer) : 훈련에 관여 \n",
    "    model.add(keras.layers.Dense(100,activation=\"relu\"))\n",
    "    \n",
    "    if add_layer : \n",
    "        model.add(add_layer)\n",
    "        \n",
    "    #출력층 \n",
    "    model.add(keras.layers.Dense(10,activation=\"softmax\"))\n",
    "    \n",
    "    return model "
   ]
  },
  {
   "cell_type": "code",
   "execution_count": 7,
   "id": "846b875a",
   "metadata": {},
   "outputs": [
    {
     "name": "stdout",
     "output_type": "stream",
     "text": [
      "Model: \"sequential\"\n",
      "_________________________________________________________________\n",
      " Layer (type)                Output Shape              Param #   \n",
      "=================================================================\n",
      " flatten (Flatten)           (None, 784)               0         \n",
      "                                                                 \n",
      " dense (Dense)               (None, 100)               78500     \n",
      "                                                                 \n",
      " dense_1 (Dense)             (None, 10)                1010      \n",
      "                                                                 \n",
      "=================================================================\n",
      "Total params: 79,510\n",
      "Trainable params: 79,510\n",
      "Non-trainable params: 0\n",
      "_________________________________________________________________\n"
     ]
    }
   ],
   "source": [
    "# 반복 5번을 수행하는 모델 생성하기 \n",
    "model5 = model_fn()\n",
    "model5.summary()"
   ]
  },
  {
   "cell_type": "code",
   "execution_count": 8,
   "id": "20281a12",
   "metadata": {},
   "outputs": [
    {
     "data": {
      "text/plain": [
       "<keras.engine.sequential.Sequential at 0x20374a38ee0>"
      ]
     },
     "execution_count": 8,
     "metadata": {},
     "output_type": "execute_result"
    }
   ],
   "source": [
    "# 모델 설정하기 \n",
    "model5.compile(loss=\"sparse_categorical_crossentropy\",\n",
    "             metrics=\"accuracy\")\n",
    "model5"
   ]
  },
  {
   "cell_type": "code",
   "execution_count": 9,
   "id": "41d8ead3",
   "metadata": {},
   "outputs": [
    {
     "name": "stdout",
     "output_type": "stream",
     "text": [
      "Epoch 1/5\n",
      "1500/1500 [==============================] - 4s 2ms/step - loss: 0.5301 - accuracy: 0.8133\n",
      "Epoch 2/5\n",
      "1500/1500 [==============================] - 3s 2ms/step - loss: 0.3891 - accuracy: 0.8603\n",
      "Epoch 3/5\n",
      "1500/1500 [==============================] - 3s 2ms/step - loss: 0.3528 - accuracy: 0.8732\n",
      "Epoch 4/5\n",
      "1500/1500 [==============================] - 4s 3ms/step - loss: 0.3324 - accuracy: 0.8818\n",
      "Epoch 5/5\n",
      "1500/1500 [==============================] - 4s 3ms/step - loss: 0.3199 - accuracy: 0.8863\n"
     ]
    },
    {
     "data": {
      "text/plain": [
       "<keras.callbacks.History at 0x203793ca910>"
      ]
     },
     "execution_count": 9,
     "metadata": {},
     "output_type": "execute_result"
    }
   ],
   "source": [
    "# verbose : 0~2의 값 사용하여 출력결과 선택 가능\n",
    "# - 1 : 전체 다 보여주기 (기본값) -> 주로 사용\n",
    "# - 2 : 결과값만 보여주기 (진행bar가 안보임)\n",
    "# - 0 : 아무것도 안보여주기(속도를 향상시키지만, 결과값 확인은 어려움)\n",
    "history5 = model5.fit(train_scaled, train_target, epochs=5, verbose=1)\n",
    "history5"
   ]
  },
  {
   "cell_type": "code",
   "execution_count": 10,
   "id": "8d364642",
   "metadata": {},
   "outputs": [
    {
     "name": "stdout",
     "output_type": "stream",
     "text": [
      "반복횟수: [0, 1, 2, 3, 4]\n",
      "손실계수/정확도 :  {'loss': [0.5300624370574951, 0.3891109228134155, 0.352787584066391, 0.3324386477470398, 0.31985169649124146], 'accuracy': [0.8132916688919067, 0.8602708578109741, 0.8732083439826965, 0.8818125128746033, 0.8863124847412109]}\n",
      "훈련결과 키워드 :  dict_keys(['loss', 'accuracy'])\n"
     ]
    }
   ],
   "source": [
    "# 훈련결과 확인하기 \n",
    "print(\"반복횟수:\", history5.epoch)\n",
    "print(\"손실계수/정확도 : \", history5.history)\n",
    "print(\"훈련결과 키워드 : \", history5.history.keys())"
   ]
  },
  {
   "cell_type": "code",
   "execution_count": 11,
   "id": "4f6bef8a",
   "metadata": {},
   "outputs": [
    {
     "name": "stdout",
     "output_type": "stream",
     "text": [
      "epoch= 0 loss= 0.5301 accuracy= 0.8133\n",
      "epoch= 1 loss= 0.3891 accuracy= 0.8603\n",
      "epoch= 2 loss= 0.3528 accuracy= 0.8732\n",
      "epoch= 3 loss= 0.3324 accuracy= 0.8818\n",
      "epoch= 4 loss= 0.3199 accuracy= 0.8863\n"
     ]
    }
   ],
   "source": [
    "# 훈련결과 출력하기 \n",
    "# epoch= , loss= , accuracy= 형태로 출력하기\n",
    "for i in history5.epoch : \n",
    "    print(\"epoch=\",i, \n",
    "          \"loss=\",round(history5.history['loss'][i],4), \n",
    "          \"accuracy=\", round(history5.history['accuracy'][i],4))"
   ]
  },
  {
   "cell_type": "code",
   "execution_count": 10,
   "id": "6901b1b8",
   "metadata": {},
   "outputs": [
    {
     "ename": "NameError",
     "evalue": "name 'history5' is not defined",
     "output_type": "error",
     "traceback": [
      "\u001b[1;31m---------------------------------------------------------------------------\u001b[0m",
      "\u001b[1;31mNameError\u001b[0m                                 Traceback (most recent call last)",
      "\u001b[1;32m~\\AppData\\Local\\Temp/ipykernel_13296/3543908742.py\u001b[0m in \u001b[0;36m<module>\u001b[1;34m\u001b[0m\n\u001b[0;32m      7\u001b[0m \u001b[0mplt\u001b[0m\u001b[1;33m.\u001b[0m\u001b[0mrc\u001b[0m\u001b[1;33m(\u001b[0m\u001b[1;34m\"font\"\u001b[0m\u001b[1;33m,\u001b[0m \u001b[0mfamily\u001b[0m\u001b[1;33m=\u001b[0m\u001b[1;34m\"Malgun Gothic\"\u001b[0m\u001b[1;33m)\u001b[0m\u001b[1;33m\u001b[0m\u001b[1;33m\u001b[0m\u001b[0m\n\u001b[0;32m      8\u001b[0m \u001b[1;33m\u001b[0m\u001b[0m\n\u001b[1;32m----> 9\u001b[1;33m \u001b[0mplt\u001b[0m\u001b[1;33m.\u001b[0m\u001b[0mplot\u001b[0m\u001b[1;33m(\u001b[0m\u001b[0mhistory5\u001b[0m\u001b[1;33m.\u001b[0m\u001b[0mepoch\u001b[0m\u001b[1;33m,\u001b[0m \u001b[0mhistory5\u001b[0m\u001b[1;33m.\u001b[0m\u001b[0mhistory\u001b[0m\u001b[1;33m[\u001b[0m\u001b[1;34m\"loss\"\u001b[0m\u001b[1;33m]\u001b[0m\u001b[1;33m)\u001b[0m\u001b[1;33m\u001b[0m\u001b[1;33m\u001b[0m\u001b[0m\n\u001b[0m\u001b[0;32m     10\u001b[0m \u001b[0mplt\u001b[0m\u001b[1;33m.\u001b[0m\u001b[0mtitle\u001b[0m\u001b[1;33m(\u001b[0m\u001b[1;34m\"Epoch5 - loss\"\u001b[0m\u001b[1;33m)\u001b[0m\u001b[1;33m\u001b[0m\u001b[1;33m\u001b[0m\u001b[0m\n\u001b[0;32m     11\u001b[0m \u001b[0mplt\u001b[0m\u001b[1;33m.\u001b[0m\u001b[0mxlabel\u001b[0m\u001b[1;33m(\u001b[0m\u001b[1;34m\"epoch\"\u001b[0m\u001b[1;33m)\u001b[0m\u001b[1;33m\u001b[0m\u001b[1;33m\u001b[0m\u001b[0m\n",
      "\u001b[1;31mNameError\u001b[0m: name 'history5' is not defined"
     ]
    }
   ],
   "source": [
    "# 손실(loss) 곡선 그리기 \n",
    "# 손실률 (손실계수)의 변화 확인가능\n",
    "import matplotlib.pyplot as plt\n",
    "\n",
    "# 한글처리 \n",
    "from matplotlib import font_manager, rc\n",
    "plt.rc(\"font\", family=\"Malgun Gothic\")\n",
    "\n",
    "plt.plot(history5.epoch, history5.history[\"loss\"])\n",
    "plt.title(\"Epoch5 - loss\")\n",
    "plt.xlabel(\"epoch\")\n",
    "plt.ylabel(\"loss\")\n",
    "\n",
    "#그래프 저장하기 => 웹에서 저장한 그래프 보여주기 \n",
    "# 손실은 우하향 그래프가 좋은 결과\n",
    "plt.savefig(\"./images/01_Epoch5Loss\", dpi=300)\n",
    "plt.show()"
   ]
  },
  {
   "cell_type": "code",
   "execution_count": 13,
   "id": "ef958153",
   "metadata": {},
   "outputs": [
    {
     "data": {
      "image/png": "[encoded data removed]",
      "text/plain": [
       "<Figure size 432x288 with 1 Axes>"
      ]
     },
     "metadata": {
      "needs_background": "light"
     },
     "output_type": "display_data"
    }
   ],
   "source": [
    "# 정확도(accuracy) 곡선 그리기\n",
    "# 정확도의 변화 확인 가능 \n",
    "plt.plot(history5.epoch, history5.history[\"accuracy\"])\n",
    "plt.title(\"Epoch5 - accuracy\")\n",
    "plt.xlabel(\"epoch\")\n",
    "plt.ylabel(\"accuracy\")\n",
    "\n",
    "#그래프 저장하기 => 웹에서 저장한 그래프 보여주기 \n",
    "# 정확도는 우상향 그래프가 좋은 결과\n",
    "plt.savefig(\"./images/01_Epoch5Accuracy\", dpi=300)\n",
    "plt.show()"
   ]
  },
  {
   "cell_type": "code",
   "execution_count": 14,
   "id": "9e3c6457",
   "metadata": {},
   "outputs": [
    {
     "name": "stdout",
     "output_type": "stream",
     "text": [
      "Epoch 1/20\n",
      "1500/1500 [==============================] - 5s 3ms/step - loss: 0.5311 - accuracy: 0.8125\n",
      "Epoch 2/20\n",
      "1500/1500 [==============================] - 4s 3ms/step - loss: 0.3920 - accuracy: 0.8594\n",
      "Epoch 3/20\n",
      "1500/1500 [==============================] - 4s 2ms/step - loss: 0.3567 - accuracy: 0.8731\n",
      "Epoch 4/20\n",
      "1500/1500 [==============================] - 4s 2ms/step - loss: 0.3334 - accuracy: 0.8818\n",
      "Epoch 5/20\n",
      "1500/1500 [==============================] - 4s 2ms/step - loss: 0.3191 - accuracy: 0.8873\n",
      "Epoch 6/20\n",
      "1500/1500 [==============================] - 4s 3ms/step - loss: 0.3052 - accuracy: 0.8915\n",
      "Epoch 7/20\n",
      "1500/1500 [==============================] - 4s 3ms/step - loss: 0.2980 - accuracy: 0.8945\n",
      "Epoch 8/20\n",
      "1500/1500 [==============================] - 4s 3ms/step - loss: 0.2893 - accuracy: 0.8972\n",
      "Epoch 9/20\n",
      "1500/1500 [==============================] - 4s 3ms/step - loss: 0.2807 - accuracy: 0.9017\n",
      "Epoch 10/20\n",
      "1500/1500 [==============================] - 3s 2ms/step - loss: 0.2761 - accuracy: 0.9037\n",
      "Epoch 11/20\n",
      "1500/1500 [==============================] - 3s 2ms/step - loss: 0.2672 - accuracy: 0.9052\n",
      "Epoch 12/20\n",
      "1500/1500 [==============================] - 3s 2ms/step - loss: 0.2631 - accuracy: 0.9066\n",
      "Epoch 13/20\n",
      "1500/1500 [==============================] - 3s 2ms/step - loss: 0.2601 - accuracy: 0.9100\n",
      "Epoch 14/20\n",
      "1500/1500 [==============================] - 3s 2ms/step - loss: 0.2550 - accuracy: 0.9119\n",
      "Epoch 15/20\n",
      "1500/1500 [==============================] - 3s 2ms/step - loss: 0.2509 - accuracy: 0.9130\n",
      "Epoch 16/20\n",
      "1500/1500 [==============================] - 3s 2ms/step - loss: 0.2442 - accuracy: 0.9161\n",
      "Epoch 17/20\n",
      "1500/1500 [==============================] - 3s 2ms/step - loss: 0.2391 - accuracy: 0.9180\n",
      "Epoch 18/20\n",
      "1500/1500 [==============================] - 3s 2ms/step - loss: 0.2361 - accuracy: 0.9192\n",
      "Epoch 19/20\n",
      "1500/1500 [==============================] - 3s 2ms/step - loss: 0.2336 - accuracy: 0.9206\n",
      "Epoch 20/20\n",
      "1500/1500 [==============================] - 3s 2ms/step - loss: 0.2280 - accuracy: 0.9227\n"
     ]
    }
   ],
   "source": [
    "# 새로 모델 생성하고 \n",
    "# 반복횟수 20회로 훈련시킨 후 \n",
    "# 손실곡선과 정확도 곡선 그리기 \n",
    "\n",
    "model20 = model_fn()\n",
    "model20.compile(loss=\"sparse_categorical_crossentropy\",\n",
    "             metrics=\"accuracy\")\n",
    "history20 = model20.fit(train_scaled, train_target, epochs=20, verbose=1)"
   ]
  },
  {
   "cell_type": "code",
   "execution_count": 15,
   "id": "f72cc6a9",
   "metadata": {},
   "outputs": [],
   "source": [
    "def drow_plot(history_n) :\n",
    "    name_list = [\"loss\", \"accuracy\"]\n",
    "    for name in name_list :\n",
    "        plt.plot(history_n.epoch, history_n.history[name])\n",
    "        plt.title(\"Epoch5 - {}\".format(name))\n",
    "        plt.xlabel(\"epoch\")\n",
    "        plt.ylabel(name)\n",
    "        plt.savefig(\"./images/01_Epoch20{}\".format(name), dpi=300)\n",
    "        plt.show()"
   ]
  },
  {
   "cell_type": "code",
   "execution_count": 16,
   "id": "93d22f89",
   "metadata": {},
   "outputs": [
    {
     "data": {
      "image/png": "[encoded data removed]",
      "text/plain": [
       "<Figure size 432x288 with 1 Axes>"
      ]
     },
     "metadata": {
      "needs_background": "light"
     },
     "output_type": "display_data"
    },
    {
     "data": {
      "image/png": "[encoded data removed]",
      "text/plain": [
       "<Figure size 432x288 with 1 Axes>"
      ]
     },
     "metadata": {
      "needs_background": "light"
     },
     "output_type": "display_data"
    }
   ],
   "source": [
    "drow_plot(history20)"
   ]
  },
  {
   "cell_type": "code",
   "execution_count": 18,
   "id": "c2afaf52",
   "metadata": {},
   "outputs": [
    {
     "name": "stdout",
     "output_type": "stream",
     "text": [
      "Epoch 1/20\n",
      "1500/1500 [==============================] - 4s 2ms/step - loss: 0.5318 - accuracy: 0.8146 - val_loss: 0.4295 - val_accuracy: 0.8485\n",
      "Epoch 2/20\n",
      "1500/1500 [==============================] - 4s 2ms/step - loss: 0.3932 - accuracy: 0.8577 - val_loss: 0.3710 - val_accuracy: 0.8664\n",
      "Epoch 3/20\n",
      "1500/1500 [==============================] - 4s 2ms/step - loss: 0.3546 - accuracy: 0.8729 - val_loss: 0.3731 - val_accuracy: 0.8668\n",
      "Epoch 4/20\n",
      "1500/1500 [==============================] - 4s 2ms/step - loss: 0.3336 - accuracy: 0.8807 - val_loss: 0.3673 - val_accuracy: 0.8704\n",
      "Epoch 5/20\n",
      "1500/1500 [==============================] - 4s 2ms/step - loss: 0.3179 - accuracy: 0.8865 - val_loss: 0.3527 - val_accuracy: 0.8792\n",
      "Epoch 6/20\n",
      "1500/1500 [==============================] - 4s 2ms/step - loss: 0.3067 - accuracy: 0.8907 - val_loss: 0.3525 - val_accuracy: 0.8794\n",
      "Epoch 7/20\n",
      "1500/1500 [==============================] - 4s 2ms/step - loss: 0.2968 - accuracy: 0.8948 - val_loss: 0.3663 - val_accuracy: 0.8773\n",
      "Epoch 8/20\n",
      "1500/1500 [==============================] - 4s 2ms/step - loss: 0.2890 - accuracy: 0.8971 - val_loss: 0.4088 - val_accuracy: 0.8710\n",
      "Epoch 9/20\n",
      "1500/1500 [==============================] - 4s 2ms/step - loss: 0.2808 - accuracy: 0.9001 - val_loss: 0.3810 - val_accuracy: 0.8812\n",
      "Epoch 10/20\n",
      "1500/1500 [==============================] - 4s 2ms/step - loss: 0.2768 - accuracy: 0.9030 - val_loss: 0.3886 - val_accuracy: 0.8767\n",
      "Epoch 11/20\n",
      "1500/1500 [==============================] - 4s 2ms/step - loss: 0.2680 - accuracy: 0.9060 - val_loss: 0.3724 - val_accuracy: 0.8845\n",
      "Epoch 12/20\n",
      "1500/1500 [==============================] - 4s 2ms/step - loss: 0.2638 - accuracy: 0.9090 - val_loss: 0.4014 - val_accuracy: 0.8832\n",
      "Epoch 13/20\n",
      "1500/1500 [==============================] - 4s 2ms/step - loss: 0.2579 - accuracy: 0.9113 - val_loss: 0.4046 - val_accuracy: 0.8821\n",
      "Epoch 14/20\n",
      "1500/1500 [==============================] - 4s 2ms/step - loss: 0.2572 - accuracy: 0.9120 - val_loss: 0.3949 - val_accuracy: 0.8859\n",
      "Epoch 15/20\n",
      "1500/1500 [==============================] - 4s 2ms/step - loss: 0.2521 - accuracy: 0.9133 - val_loss: 0.4159 - val_accuracy: 0.8781\n",
      "Epoch 16/20\n",
      "1500/1500 [==============================] - 4s 2ms/step - loss: 0.2439 - accuracy: 0.9171 - val_loss: 0.4210 - val_accuracy: 0.8783\n",
      "Epoch 17/20\n",
      "1500/1500 [==============================] - 4s 2ms/step - loss: 0.2394 - accuracy: 0.9175 - val_loss: 0.4308 - val_accuracy: 0.8775\n",
      "Epoch 18/20\n",
      "1500/1500 [==============================] - 4s 3ms/step - loss: 0.2399 - accuracy: 0.9191 - val_loss: 0.4340 - val_accuracy: 0.8808\n",
      "Epoch 19/20\n",
      "1500/1500 [==============================] - 4s 3ms/step - loss: 0.2346 - accuracy: 0.9207 - val_loss: 0.4577 - val_accuracy: 0.8802\n",
      "Epoch 20/20\n",
      "1500/1500 [==============================] - 4s 2ms/step - loss: 0.2303 - accuracy: 0.9221 - val_loss: 0.4594 - val_accuracy: 0.8788\n"
     ]
    },
    {
     "data": {
      "text/plain": [
       "<keras.callbacks.History at 0x2037a498100>"
      ]
     },
     "execution_count": 18,
     "metadata": {},
     "output_type": "execute_result"
    }
   ],
   "source": [
    "# 모델 훈련 및 검증을 동시에 수행하기 \n",
    "model = model_fn()\n",
    "model.compile(loss=\"sparse_categorical_crossentropy\",\n",
    "             metrics=\"accuracy\")\n",
    "\n",
    "# 훈련과 검증을 동시에 훈련\n",
    "history = model.fit(train_scaled, train_target,epochs=20, verbose=1,\n",
    "                   validation_data=(val_scaled, val_target))\n",
    "history"
   ]
  },
  {
   "cell_type": "code",
   "execution_count": 45,
   "id": "77418cfc",
   "metadata": {},
   "outputs": [
    {
     "data": {
      "image/png": "[encoded data removed]",
      "text/plain": [
       "<Figure size 432x288 with 1 Axes>"
      ]
     },
     "metadata": {
      "needs_background": "light"
     },
     "output_type": "display_data"
    }
   ],
   "source": [
    "# 훈련 및 검증에 대한 손실곡선을 하나의 그래프에 그리기\n",
    "history.history.keys()\n",
    "\n",
    "plt.plot(history.epoch, history.history['loss'], history.history['val_loss'])\n",
    "plt.title(\"Epoch5 - loss - val_loss\")\n",
    "plt.xlabel(\"epoch\")\n",
    "plt.ylabel(\"loss | val_loss\")\n",
    "plt.savefig(\"./images/01_Epoch20_loss&val_loss\", dpi=300)\n",
    "plt.show()"
   ]
  },
  {
   "cell_type": "code",
   "execution_count": 19,
   "id": "7a104170",
   "metadata": {},
   "outputs": [
    {
     "name": "stdout",
     "output_type": "stream",
     "text": [
      "Epoch 1/20\n",
      "1500/1500 [==============================] - 3s 2ms/step - loss: 0.5267 - accuracy: 0.8161 - val_loss: 0.4182 - val_accuracy: 0.8555\n",
      "Epoch 2/20\n",
      "1500/1500 [==============================] - 3s 2ms/step - loss: 0.3953 - accuracy: 0.8598 - val_loss: 0.3907 - val_accuracy: 0.8613\n",
      "Epoch 3/20\n",
      "1500/1500 [==============================] - 3s 2ms/step - loss: 0.3531 - accuracy: 0.8721 - val_loss: 0.3466 - val_accuracy: 0.8758\n",
      "Epoch 4/20\n",
      "1500/1500 [==============================] - 4s 2ms/step - loss: 0.3246 - accuracy: 0.8809 - val_loss: 0.3384 - val_accuracy: 0.8750\n",
      "Epoch 5/20\n",
      "1500/1500 [==============================] - 3s 2ms/step - loss: 0.3067 - accuracy: 0.8878 - val_loss: 0.3323 - val_accuracy: 0.8782\n",
      "Epoch 6/20\n",
      "1500/1500 [==============================] - 3s 2ms/step - loss: 0.2908 - accuracy: 0.8929 - val_loss: 0.3183 - val_accuracy: 0.8852\n",
      "Epoch 7/20\n",
      "1500/1500 [==============================] - 3s 2ms/step - loss: 0.2768 - accuracy: 0.8973 - val_loss: 0.3377 - val_accuracy: 0.8811\n",
      "Epoch 8/20\n",
      "1500/1500 [==============================] - 3s 2ms/step - loss: 0.2653 - accuracy: 0.9014 - val_loss: 0.3274 - val_accuracy: 0.8838\n",
      "Epoch 9/20\n",
      "1500/1500 [==============================] - 3s 2ms/step - loss: 0.2572 - accuracy: 0.9038 - val_loss: 0.3206 - val_accuracy: 0.8898\n",
      "Epoch 10/20\n",
      "1500/1500 [==============================] - 3s 2ms/step - loss: 0.2470 - accuracy: 0.9079 - val_loss: 0.3244 - val_accuracy: 0.8875\n",
      "Epoch 11/20\n",
      "1500/1500 [==============================] - 3s 2ms/step - loss: 0.2399 - accuracy: 0.9099 - val_loss: 0.3428 - val_accuracy: 0.8811\n",
      "Epoch 12/20\n",
      "1500/1500 [==============================] - 3s 2ms/step - loss: 0.2332 - accuracy: 0.9129 - val_loss: 0.3416 - val_accuracy: 0.8838\n",
      "Epoch 13/20\n",
      "1500/1500 [==============================] - 3s 2ms/step - loss: 0.2243 - accuracy: 0.9162 - val_loss: 0.3184 - val_accuracy: 0.8882\n",
      "Epoch 14/20\n",
      "1500/1500 [==============================] - 3s 2ms/step - loss: 0.2197 - accuracy: 0.9170 - val_loss: 0.3224 - val_accuracy: 0.8873\n",
      "Epoch 15/20\n",
      "1500/1500 [==============================] - 3s 2ms/step - loss: 0.2116 - accuracy: 0.9204 - val_loss: 0.3337 - val_accuracy: 0.8870\n",
      "Epoch 16/20\n",
      "1500/1500 [==============================] - 3s 2ms/step - loss: 0.2077 - accuracy: 0.9219 - val_loss: 0.3271 - val_accuracy: 0.8880\n",
      "Epoch 17/20\n",
      "1500/1500 [==============================] - 4s 3ms/step - loss: 0.1994 - accuracy: 0.9253 - val_loss: 0.3278 - val_accuracy: 0.8904\n",
      "Epoch 18/20\n",
      "1500/1500 [==============================] - 4s 3ms/step - loss: 0.1955 - accuracy: 0.9259 - val_loss: 0.3335 - val_accuracy: 0.8943\n",
      "Epoch 19/20\n",
      "1500/1500 [==============================] - 4s 3ms/step - loss: 0.1905 - accuracy: 0.9296 - val_loss: 0.3332 - val_accuracy: 0.8875\n",
      "Epoch 20/20\n",
      "1500/1500 [==============================] - 3s 2ms/step - loss: 0.1852 - accuracy: 0.9310 - val_loss: 0.3582 - val_accuracy: 0.8846\n"
     ]
    }
   ],
   "source": [
    "# model_fn() 함수 이용해서 모델 생성하기 : 모델변수 : model\n",
    "# 옵티마이저 adam 알고리즘으로 모델 설정하기 \n",
    "# 훈련과 검증데이터로 훈련 시키기 : 훈련결과변수 => history \n",
    "\n",
    "model = model_fn()\n",
    "model.compile(optimizer=\"adam\",\n",
    "              loss=\"sparse_categorical_crossentropy\",\n",
    "              metrics=\"accuracy\")\n",
    "\n",
    "history = model.fit(train_scaled, train_target,epochs=20, verbose=1,\n",
    "                   validation_data=(val_scaled, val_target))"
   ]
  },
  {
   "cell_type": "code",
   "execution_count": 23,
   "id": "c7d32b04",
   "metadata": {},
   "outputs": [
    {
     "data": {
      "text/plain": [
       "{'loss': [0.5267416834831238,\n",
       "  0.3953281342983246,\n",
       "  0.35313716530799866,\n",
       "  0.3246381878852844,\n",
       "  0.30670690536499023,\n",
       "  0.2908337712287903,\n",
       "  0.2768399119377136,\n",
       "  0.26531606912612915,\n",
       "  0.25720199942588806,\n",
       "  0.24696463346481323,\n",
       "  0.23991544544696808,\n",
       "  0.23320992290973663,\n",
       "  0.2242504060268402,\n",
       "  0.21971899271011353,\n",
       "  0.21155023574829102,\n",
       "  0.20768405497074127,\n",
       "  0.19940342009067535,\n",
       "  0.19552379846572876,\n",
       "  0.19051429629325867,\n",
       "  0.18524132668972015],\n",
       " 'accuracy': [0.8161458373069763,\n",
       "  0.8597916960716248,\n",
       "  0.8721250295639038,\n",
       "  0.8809375166893005,\n",
       "  0.8877708315849304,\n",
       "  0.8928958177566528,\n",
       "  0.8973125219345093,\n",
       "  0.9014166593551636,\n",
       "  0.9038333296775818,\n",
       "  0.9079375267028809,\n",
       "  0.9099166393280029,\n",
       "  0.9129166603088379,\n",
       "  0.9161875247955322,\n",
       "  0.9169583320617676,\n",
       "  0.9203749895095825,\n",
       "  0.9218541383743286,\n",
       "  0.9252916574478149,\n",
       "  0.9258541464805603,\n",
       "  0.929645836353302,\n",
       "  0.9310208559036255],\n",
       " 'val_loss': [0.41815853118896484,\n",
       "  0.3906768262386322,\n",
       "  0.34659436345100403,\n",
       "  0.3383822739124298,\n",
       "  0.332280695438385,\n",
       "  0.31831419467926025,\n",
       "  0.33765214681625366,\n",
       "  0.32739779353141785,\n",
       "  0.3205791115760803,\n",
       "  0.3244292736053467,\n",
       "  0.3427993953227997,\n",
       "  0.34161511063575745,\n",
       "  0.3183944821357727,\n",
       "  0.32238292694091797,\n",
       "  0.33369630575180054,\n",
       "  0.32709041237831116,\n",
       "  0.327767938375473,\n",
       "  0.33348482847213745,\n",
       "  0.3332308530807495,\n",
       "  0.35822567343711853],\n",
       " 'val_accuracy': [0.8554999828338623,\n",
       "  0.8613333106040955,\n",
       "  0.8758333325386047,\n",
       "  0.875,\n",
       "  0.878166675567627,\n",
       "  0.8852499723434448,\n",
       "  0.8810833096504211,\n",
       "  0.8838333487510681,\n",
       "  0.8898333311080933,\n",
       "  0.887499988079071,\n",
       "  0.8810833096504211,\n",
       "  0.8837500214576721,\n",
       "  0.8882499933242798,\n",
       "  0.8872500061988831,\n",
       "  0.8870000243186951,\n",
       "  0.8880000114440918,\n",
       "  0.89041668176651,\n",
       "  0.8943333625793457,\n",
       "  0.887499988079071,\n",
       "  0.8845833539962769]}"
      ]
     },
     "execution_count": 23,
     "metadata": {},
     "output_type": "execute_result"
    }
   ],
   "source": [
    "# 0.1 이상 차이 나면 다른 모델도 한번 돌려보기 \n",
    "# 훈련에 대한 결과만\n",
    "history5.history \n",
    "history20.history\n",
    "# 훈련, 검증에 대한 결과 \n",
    "history.history"
   ]
  },
  {
   "cell_type": "code",
   "execution_count": 20,
   "id": "43870ef9",
   "metadata": {},
   "outputs": [],
   "source": [
    "# 훈련 또는 훈렴/검증 결과 출력 함수 만들기 \n",
    "# 훈련만 수행한 경우 \n",
    "# epoch=, train_loss=, train_accuracy=, 형태로 출력\n",
    "# 훈련 및 검증을 한경우 \n",
    "# epoch=, train_loss=, train_accuracy=, val_loss=, val_accuracy= 형태로 출력\n",
    "# 함수에 전달하는 값 : history\n",
    "\n",
    "def print_history (history) :\n",
    "    h_list = history.history.keys()\n",
    "\n",
    "    for i in range(0, len(history.epoch),1) :\n",
    "        if \"val_loss\" not in  h_list :\n",
    "            print(\"epoch=\",i, \"train_loss=\",round(history.history['loss'][i],4), \"train_accuracy=\",round(history.history['accuracy'][i],4))\n",
    "        else :\n",
    "            print(\"epoch=\",i, \"train_loss=\",round(history.history['loss'][i],4), \"train_accuracy=\",round(history.history['accuracy'][i],4),\n",
    "                 \"val_loss=\",round(history.history['val_loss'][i],4), \"val_accuracy=\",round(history.history['val_accuracy'][i],4) )\n",
    "            "
   ]
  },
  {
   "cell_type": "code",
   "execution_count": 43,
   "id": "745666fd",
   "metadata": {},
   "outputs": [
    {
     "name": "stdout",
     "output_type": "stream",
     "text": [
      "epoch= 0 train_loss= 0.5300624370574951 train_accuracy= 0.8132916688919067\n",
      "epoch= 1 train_loss= 0.3891109228134155 train_accuracy= 0.8602708578109741\n",
      "epoch= 2 train_loss= 0.352787584066391 train_accuracy= 0.8732083439826965\n",
      "epoch= 3 train_loss= 0.3324386477470398 train_accuracy= 0.8818125128746033\n",
      "epoch= 4 train_loss= 0.31985169649124146 train_accuracy= 0.8863124847412109\n"
     ]
    }
   ],
   "source": [
    "print_history(history5)"
   ]
  },
  {
   "cell_type": "code",
   "execution_count": 16,
   "id": "a4d869fd",
   "metadata": {},
   "outputs": [],
   "source": [
    "# 답 : 다 목침 \n",
    "def printAll_fn(p_history) :\n",
    "    for idx in p_history.epoch : \n",
    "        msg = \"epoch={}\".format(idx)\n",
    "    \n",
    "    for k in p_history.history.keys() :\n",
    "        msg += \"{}={}\".format(k, round(p_history.history[k][idx],4))\n",
    "    \n",
    "    print(msg)"
   ]
  },
  {
   "cell_type": "code",
   "execution_count": null,
   "id": "eb5520e0",
   "metadata": {},
   "outputs": [],
   "source": []
  },
  {
   "cell_type": "code",
   "execution_count": 48,
   "id": "9aee88dc",
   "metadata": {},
   "outputs": [
    {
     "data": {
      "image/png": "[encoded data removed]",
      "text/plain": [
       "<Figure size 432x288 with 1 Axes>"
      ]
     },
     "metadata": {
      "needs_background": "light"
     },
     "output_type": "display_data"
    }
   ],
   "source": [
    "# history 결과를 이용하여 손실곡선 그리기 \n",
    "# 훈련 손실과 검증 손실 비교 \n",
    "plt.plot(history.epoch, history.history['loss'], history.history['val_loss'])\n",
    "plt.title(\"Epoch5 -(Adam)loss - val_loss\")\n",
    "plt.xlabel(\"epoch\")\n",
    "plt.ylabel(\"loss | val_loss\")\n",
    "plt.savefig(\"./images/01_Epoch20_(Adam)loss&val_loss\", dpi=300)\n",
    "plt.show()\n"
   ]
  },
  {
   "cell_type": "code",
   "execution_count": 51,
   "id": "759c494c",
   "metadata": {},
   "outputs": [],
   "source": [
    "# 그래프 해석 : 벌어지는 지점 => 과대 적합이 일어나는 부분 \n",
    "# 전체적으로 계속 벌어진다 -> 과대적합이 일어나고 있다 \n",
    "# 최적의 epoch => 벌어지기 시작하느 지점 -> 최적의 epoch\n"
   ]
  },
  {
   "cell_type": "code",
   "execution_count": 54,
   "id": "6012e094",
   "metadata": {},
   "outputs": [
    {
     "data": {
      "image/png": "[encoded data removed]",
      "text/plain": [
       "<Figure size 432x288 with 1 Axes>"
      ]
     },
     "metadata": {
      "needs_background": "light"
     },
     "output_type": "display_data"
    }
   ],
   "source": [
    "# 훔련 및 검증 정호가도 비교하기 \n",
    "plt.plot( history.history['accuracy'])\n",
    "plt.plot( history.history['val_accuracy'])\n",
    "\n",
    "plt.title(\"Epoch5 -(Adam)loss - val_loss\")\n",
    "plt.xlabel(\"epoch\")\n",
    "plt.ylabel(\"loss | val_loss\")\n",
    "plt.savefig(\"./images/01_Epoch20_(Adam)loss&val_loss\", dpi=300)\n",
    "plt.show()"
   ]
  },
  {
   "cell_type": "markdown",
   "id": "0f1dd7c6",
   "metadata": {},
   "source": [
    "## 성능 규제 방법"
   ]
  },
  {
   "cell_type": "markdown",
   "id": "6f781194",
   "metadata": {},
   "source": [
    "과대적합을 해소하는 방법 : 성능 규제 방법\n",
    "#### 드롭아웃(Dropout)\n",
    "##### 성능향상방법 중 한가지, 신경망에서 대표적 규제방법(전처리계층으로 사용함)"
   ]
  },
  {
   "cell_type": "code",
   "execution_count": 55,
   "id": "56490e69",
   "metadata": {},
   "outputs": [
    {
     "data": {
      "text/plain": [
       "'\\n드롭아웃[Dropout]\\n- 훈련과정에서 층에 있는 일부 뉴런을 랜덤하게 꺼서 과대적합을 막는 방법\\n- 뉴런을 끈다는 것은 출력을 0으로 만든다는 의미 (일시적으로 훈련에 참여시키지 않음)\\n- 너무 똑똑해지는 것을 방지하는 것 ( 조금은 멍청하게 만들기)\\n'"
      ]
     },
     "execution_count": 55,
     "metadata": {},
     "output_type": "execute_result"
    }
   ],
   "source": [
    "\"\"\"\n",
    "드롭아웃[Dropout]\n",
    "- 훈련과정에서 층에 있는 일부 뉴런을 랜덤하게 꺼서 과대적합을 막는 방법\n",
    "- 뉴런을 끈다는 것은 출력을 0으로 만든다는 의미 (일시적으로 훈련에 참여시키지 않음)\n",
    "- 너무 똑똑해지는 것을 방지하는 것 ( 조금은 멍청하게 만들기)\n",
    "\n",
    "<드롬 아웃이 왜 과대적합을 막을까?>\n",
    " - 이전 층의 일부 뉴런이 랜덤하게 꺼지면, (일부러 랜덤하게 참여를 막아버림)\n",
    " - 특정 뉴런에 과대하게 의존하는 것을 줄일 수 있고, \n",
    " - 모든 입력에 대해 주의를 기울이게 되어,\n",
    " - 더욱 안정적인 예측을 만들 수 있다는 개념이 적용됨\n",
    " \n",
    "- 중간에 은닉층(hidden layer)으로 추가하여 사용됨 \n",
    "- 최종 출력층에서는 일시적으로 참여를 막았던 뉴런들을 다시 활성화 시켜서 \n",
    "    훈련에 참여시킴(모든 뉴런 정상화)\n",
    "- Dropout은 구글과 제프리 힌턴에 의해 2016념도에 특허등록되어 있음 \n",
    "\n",
    "\"\"\""
   ]
  },
  {
   "cell_type": "code",
   "execution_count": 31,
   "id": "9971980e",
   "metadata": {},
   "outputs": [
    {
     "name": "stdout",
     "output_type": "stream",
     "text": [
      "Model: \"sequential_3\"\n",
      "_________________________________________________________________\n",
      " Layer (type)                Output Shape              Param #   \n",
      "=================================================================\n",
      " flatten_3 (Flatten)         (None, 784)               0         \n",
      "                                                                 \n",
      " dense_6 (Dense)             (None, 100)               78500     \n",
      "                                                                 \n",
      " dropout_2 (Dropout)         (None, 100)               0         \n",
      "                                                                 \n",
      " dense_7 (Dense)             (None, 10)                1010      \n",
      "                                                                 \n",
      "=================================================================\n",
      "Total params: 79,510\n",
      "Trainable params: 79,510\n",
      "Non-trainable params: 0\n",
      "_________________________________________________________________\n"
     ]
    }
   ],
   "source": [
    "# 드롭아웃 전처리 계층 생성하기 \n",
    "# - 0.3의 의미 : 30% 정도를 랜덤하게 드롭아웃 처리 \n",
    "# - 전처리 계층 : PAram = 0 인 경우 모두 전처리 계층 \n",
    "model = model_fn(keras.layers.Dropout(0.3))\n",
    "model.summary()"
   ]
  },
  {
   "cell_type": "code",
   "execution_count": 32,
   "id": "57958f7b",
   "metadata": {},
   "outputs": [
    {
     "name": "stdout",
     "output_type": "stream",
     "text": [
      "Epoch 1/10\n",
      "1500/1500 [==============================] - 3s 2ms/step - loss: 0.5938 - accuracy: 0.7898 - val_loss: 0.4307 - val_accuracy: 0.8436\n",
      "Epoch 2/10\n",
      "1500/1500 [==============================] - 3s 2ms/step - loss: 0.4409 - accuracy: 0.8420 - val_loss: 0.3883 - val_accuracy: 0.8618\n",
      "Epoch 3/10\n",
      "1500/1500 [==============================] - 3s 2ms/step - loss: 0.4015 - accuracy: 0.8547 - val_loss: 0.3642 - val_accuracy: 0.8685\n",
      "Epoch 4/10\n",
      "1500/1500 [==============================] - 3s 2ms/step - loss: 0.3774 - accuracy: 0.8608 - val_loss: 0.3501 - val_accuracy: 0.8726\n",
      "Epoch 5/10\n",
      "1500/1500 [==============================] - 3s 2ms/step - loss: 0.3642 - accuracy: 0.8668 - val_loss: 0.3423 - val_accuracy: 0.8723\n",
      "Epoch 6/10\n",
      "1500/1500 [==============================] - 3s 2ms/step - loss: 0.3510 - accuracy: 0.8724 - val_loss: 0.3320 - val_accuracy: 0.8792\n",
      "Epoch 7/10\n",
      "1500/1500 [==============================] - 3s 2ms/step - loss: 0.3423 - accuracy: 0.8738 - val_loss: 0.3265 - val_accuracy: 0.8818\n",
      "Epoch 8/10\n",
      "1500/1500 [==============================] - 3s 2ms/step - loss: 0.3352 - accuracy: 0.8756 - val_loss: 0.3293 - val_accuracy: 0.8813\n",
      "Epoch 9/10\n",
      "1500/1500 [==============================] - 3s 2ms/step - loss: 0.3273 - accuracy: 0.8790 - val_loss: 0.3275 - val_accuracy: 0.8794\n",
      "Epoch 10/10\n",
      "1500/1500 [==============================] - 3s 2ms/step - loss: 0.3206 - accuracy: 0.8807 - val_loss: 0.3353 - val_accuracy: 0.8803\n"
     ]
    }
   ],
   "source": [
    "# 모델 설정하기 : 컴파일 \n",
    "#  옵티마이저 adam 사용\n",
    "# 훈련 및 검증 동시에 수행하기 \n",
    "# 훈련및 손실 곡선 그리기 \n",
    "# 훈련 및 검증에 대한 정확도 곡선 그리기 \n",
    "model.compile(optimizer=\"adam\",\n",
    "              loss=\"sparse_categorical_crossentropy\",\n",
    "              metrics=\"accuracy\")\n",
    "history = model.fit(train_scaled, train_target, epochs=10,verbose=1,\n",
    "                      validation_data=(val_scaled, val_target))"
   ]
  },
  {
   "cell_type": "code",
   "execution_count": 33,
   "id": "0d487da5",
   "metadata": {},
   "outputs": [
    {
     "data": {
      "image/png": "[encoded data removed]",
      "text/plain": [
       "<Figure size 432x288 with 1 Axes>"
      ]
     },
     "metadata": {
      "needs_background": "light"
     },
     "output_type": "display_data"
    }
   ],
   "source": [
    "plt.plot( history.history['accuracy'])\n",
    "plt.plot( history.history['val_accuracy'])\n",
    "\n",
    "plt.title(\"Epoch5 -(Adam-Droptout)loss - val_loss\")\n",
    "plt.xlabel(\"epoch\")\n",
    "plt.ylabel(\"loss | val_loss\")\n",
    "plt.savefig(\"./images/01_Epoch20_(Adam-Dropout)loss&val_loss\", dpi=300)\n",
    "plt.show()"
   ]
  },
  {
   "cell_type": "code",
   "execution_count": 34,
   "id": "35a3593c",
   "metadata": {},
   "outputs": [
    {
     "data": {
      "image/png": "[encoded data removed]",
      "text/plain": [
       "<Figure size 432x288 with 1 Axes>"
      ]
     },
     "metadata": {
      "needs_background": "light"
     },
     "output_type": "display_data"
    }
   ],
   "source": [
    "plt.plot(history.epoch, history.history['loss'], history.history['val_loss'])\n",
    "plt.title(\"Epoch5 -(Adam-Dropout)loss - val_loss\")\n",
    "plt.xlabel(\"epoch\")\n",
    "plt.ylabel(\"loss | val_loss\")\n",
    "plt.savefig(\"./images/01_Epoch20_(Adam-Dropout)loss&val_loss\", dpi=300)\n",
    "plt.show()"
   ]
  },
  {
   "cell_type": "code",
   "execution_count": 35,
   "id": "386e08de",
   "metadata": {},
   "outputs": [
    {
     "name": "stdout",
     "output_type": "stream",
     "text": [
      "epoch= 0 train_loss= 0.5938 train_accuracy= 0.7898 val_loss= 0.4307 val_accuracy= 0.8436\n",
      "epoch= 1 train_loss= 0.4409 train_accuracy= 0.842 val_loss= 0.3883 val_accuracy= 0.8618\n",
      "epoch= 2 train_loss= 0.4015 train_accuracy= 0.8547 val_loss= 0.3642 val_accuracy= 0.8685\n",
      "epoch= 3 train_loss= 0.3774 train_accuracy= 0.8608 val_loss= 0.3501 val_accuracy= 0.8726\n",
      "epoch= 4 train_loss= 0.3642 train_accuracy= 0.8668 val_loss= 0.3423 val_accuracy= 0.8723\n",
      "epoch= 5 train_loss= 0.351 train_accuracy= 0.8724 val_loss= 0.332 val_accuracy= 0.8792\n",
      "epoch= 6 train_loss= 0.3423 train_accuracy= 0.8738 val_loss= 0.3265 val_accuracy= 0.8818\n",
      "epoch= 7 train_loss= 0.3352 train_accuracy= 0.8756 val_loss= 0.3293 val_accuracy= 0.8813\n",
      "epoch= 8 train_loss= 0.3273 train_accuracy= 0.879 val_loss= 0.3275 val_accuracy= 0.8794\n",
      "epoch= 9 train_loss= 0.3206 train_accuracy= 0.8807 val_loss= 0.3353 val_accuracy= 0.8803\n"
     ]
    }
   ],
   "source": [
    "print_history(history)"
   ]
  },
  {
   "cell_type": "markdown",
   "id": "3d4a25c8",
   "metadata": {},
   "source": [
    "## 모델 저장하기 "
   ]
  },
  {
   "cell_type": "code",
   "execution_count": 36,
   "id": "421e9b86",
   "metadata": {},
   "outputs": [],
   "source": [
    "# (모델 저장 방법 - 1) => 모델을 개선 할 계획인 경우 주로 사용 \n",
    "# save_weights()\n",
    "# - 훈련에 사용된 가중치 (weight) 및 절편 값만 저장 시킴\n",
    "# - 읽어들일 때는 load_weight()함수를 이용해야 함 \n",
    "\n",
    "model.save_weights(\"./model/model_weights.h5\")"
   ]
  },
  {
   "cell_type": "code",
   "execution_count": 37,
   "id": "ad0a1c82",
   "metadata": {},
   "outputs": [],
   "source": [
    "# 모델 저장 방버 - 2 => 주로사용\n",
    "# save()\n",
    "# - 훔련모델 자체 (가중치 및 절편 포함한 모든 속성)를 저장\n",
    "# - 읽어들일 때는 load_model() 함수를 사용해야 함 \n",
    "model.save(\"./model/model_whole.h5\")"
   ]
  },
  {
   "cell_type": "code",
   "execution_count": 39,
   "id": "1e8ea0f5",
   "metadata": {},
   "outputs": [
    {
     "name": "stdout",
     "output_type": "stream",
     "text": [
      "Model: \"sequential_5\"\n",
      "_________________________________________________________________\n",
      " Layer (type)                Output Shape              Param #   \n",
      "=================================================================\n",
      " flatten_5 (Flatten)         (None, 784)               0         \n",
      "                                                                 \n",
      " dense_10 (Dense)            (None, 100)               78500     \n",
      "                                                                 \n",
      " dropout_4 (Dropout)         (None, 100)               0         \n",
      "                                                                 \n",
      " dense_11 (Dense)            (None, 10)                1010      \n",
      "                                                                 \n",
      "=================================================================\n",
      "Total params: 79,510\n",
      "Trainable params: 79,510\n",
      "Non-trainable params: 0\n",
      "_________________________________________________________________\n"
     ]
    }
   ],
   "source": [
    "# save_weight()으로 지정한 모델 사용하기  \n",
    "# - 먼저 모델 구조를 생성해 주어야 함 \n",
    "# 생성한 모델에 저장한 모델을 읽어 들여서 저장된 가중치와 절편 적용 \n",
    "model = model_fn(keras.layers.Dropout(0.3))\n",
    "model.summary()\n",
    "\n",
    "# 생성된 모델에 저장한 가중치와 절편 적용하기 \n",
    "model.load_weights(\"./model/model_weights.h5\")\n",
    "\n",
    "# dlgn qkdqjqdms zjavkdlf > 럇 > tjdsmdvudrk > 기존과 동일하게 진행 \n"
   ]
  },
  {
   "cell_type": "code",
   "execution_count": 47,
   "id": "b3146f39",
   "metadata": {},
   "outputs": [
    {
     "name": "stdout",
     "output_type": "stream",
     "text": [
      "[8 8 7 ... 8 8 6]\n",
      "12000\n",
      "[8 8 7 ... 8 8 1]\n"
     ]
    }
   ],
   "source": [
    "# 예측하기 \n",
    "# 1차원 데이터로 만들기 \n",
    "len(model.predict(val_scaled)[0])\n",
    "\n",
    "import numpy as np\n",
    "# np.argmax() : 가장 큰 값 추출하는 함수 \n",
    "# - axis = 1 : 컬럼단위 추출 (10개 컬럼 데이터를 의미함)\n",
    "val_lavels = np.argmax(model.predict(val_scaled), axis=1)\n",
    "print(val_lavels)\n",
    "print(len(val_lavels))\n",
    "print(val_target)"
   ]
  },
  {
   "cell_type": "code",
   "execution_count": 85,
   "id": "4ceb4340",
   "metadata": {},
   "outputs": [
    {
     "name": "stdout",
     "output_type": "stream",
     "text": [
      "10564 1436\n",
      "88.03333333333333 11.966666666666667\n"
     ]
    }
   ],
   "source": [
    "# 정확도와 오답률을 계산하기 \n",
    "list_v = np.equal(val_lavels, val_target)\n",
    "list_len = np.unique(list_v, return_counts=True)\n",
    "list_len\n",
    "x = list_len[1][0]\n",
    "o = list_len[1][1]\n",
    "print(o,x)\n",
    "print(o/len(val_target) * 100 , x/len(val_target)* 100)"
   ]
  },
  {
   "cell_type": "code",
   "execution_count": 51,
   "id": "41fc3660",
   "metadata": {},
   "outputs": [
    {
     "name": "stdout",
     "output_type": "stream",
     "text": [
      "10564 1436\n",
      "88.03333333333333 11.966666666666667\n"
     ]
    }
   ],
   "source": [
    "# 답\n",
    "o, x = 0, 0\n",
    "for i in range(0, len(val_target),1) :\n",
    "    if val_target[i] == val_lavels[i] :\n",
    "        o += 1\n",
    "    else :\n",
    "        x += 1 \n",
    "print (o,x) \n",
    "print(o/len(val_target) * 100 , x/len(val_target)* 100)"
   ]
  },
  {
   "cell_type": "code",
   "execution_count": 52,
   "id": "482cd984",
   "metadata": {},
   "outputs": [
    {
     "name": "stdout",
     "output_type": "stream",
     "text": [
      "375/375 [==============================] - 1s 1ms/step - loss: 0.3353 - accuracy: 0.8803\n"
     ]
    },
    {
     "data": {
      "text/plain": [
       "[0.33528992533683777, 0.8803333044052124]"
      ]
     },
     "execution_count": 52,
     "metadata": {},
     "output_type": "execute_result"
    }
   ],
   "source": [
    "# save()로 저장된 모델 읽어들이기 \n",
    "model = keras.models.load_model(\"./model/model_whole.h5\")\n",
    "model.evaluate(val_scaled, val_target)"
   ]
  },
  {
   "cell_type": "code",
   "execution_count": 53,
   "id": "d7228115",
   "metadata": {},
   "outputs": [
    {
     "name": "stdout",
     "output_type": "stream",
     "text": [
      "Model: \"sequential_3\"\n",
      "_________________________________________________________________\n",
      " Layer (type)                Output Shape              Param #   \n",
      "=================================================================\n",
      " flatten_3 (Flatten)         (None, 784)               0         \n",
      "                                                                 \n",
      " dense_6 (Dense)             (None, 100)               78500     \n",
      "                                                                 \n",
      " dropout_2 (Dropout)         (None, 100)               0         \n",
      "                                                                 \n",
      " dense_7 (Dense)             (None, 10)                1010      \n",
      "                                                                 \n",
      "=================================================================\n",
      "Total params: 79,510\n",
      "Trainable params: 79,510\n",
      "Non-trainable params: 0\n",
      "_________________________________________________________________\n"
     ]
    }
   ],
   "source": [
    "model.summary()"
   ]
  },
  {
   "cell_type": "markdown",
   "id": "ff6b9684",
   "metadata": {},
   "source": [
    "## 성능향상 방법"
   ]
  },
  {
   "cell_type": "markdown",
   "id": "038747c5",
   "metadata": {},
   "source": [
    "### 콜백(callback) 함수 "
   ]
  },
  {
   "cell_type": "code",
   "execution_count": 54,
   "id": "8be00893",
   "metadata": {},
   "outputs": [
    {
     "data": {
      "text/plain": [
       "'\\n[콜백 (callback) 함수]\\n- 모델 훈련 중간에 특정 작업(함수)를 호출 할 수 있는 기능 \\n- fit() 함수 내에 속성으로 정의하고, 콜백할 함수 이름을 리스트로 정의 \\n\\n'"
      ]
     },
     "execution_count": 54,
     "metadata": {},
     "output_type": "execute_result"
    }
   ],
   "source": [
    "\"\"\"\n",
    "[콜백 (callback) 함수]\n",
    "- 모델 훈련 중간에 특정 작업(함수)를 호출 할 수 있는 기능 \n",
    "- fit() 함수 내에 속성으로 정의하고, 콜백할 함수 이름을 리스트로 정의 \n",
    "\n",
    "\"\"\""
   ]
  },
  {
   "cell_type": "markdown",
   "id": "4dddc7bb",
   "metadata": {},
   "source": [
    "### ModelCheckpoint() 콜백 함수 "
   ]
  },
  {
   "cell_type": "code",
   "execution_count": 57,
   "id": "265736b0",
   "metadata": {
    "scrolled": true
   },
   "outputs": [
    {
     "name": "stdout",
     "output_type": "stream",
     "text": [
      "Epoch 1/20\n",
      "1500/1500 [==============================] - 4s 2ms/step - loss: 0.5979 - accuracy: 0.7897 - val_loss: 0.4253 - val_accuracy: 0.8487\n",
      "Epoch 2/20\n",
      "1500/1500 [==============================] - 3s 2ms/step - loss: 0.4435 - accuracy: 0.8409 - val_loss: 0.3972 - val_accuracy: 0.8543\n",
      "Epoch 3/20\n",
      "1500/1500 [==============================] - 3s 2ms/step - loss: 0.4091 - accuracy: 0.8507 - val_loss: 0.3707 - val_accuracy: 0.8633\n",
      "Epoch 4/20\n",
      "1500/1500 [==============================] - 3s 2ms/step - loss: 0.3871 - accuracy: 0.8583 - val_loss: 0.3593 - val_accuracy: 0.8704\n",
      "Epoch 5/20\n",
      "1500/1500 [==============================] - 3s 2ms/step - loss: 0.3708 - accuracy: 0.8642 - val_loss: 0.3498 - val_accuracy: 0.8741\n",
      "Epoch 6/20\n",
      "1500/1500 [==============================] - 3s 2ms/step - loss: 0.3577 - accuracy: 0.8705 - val_loss: 0.3360 - val_accuracy: 0.8752\n",
      "Epoch 7/20\n",
      "1500/1500 [==============================] - 3s 2ms/step - loss: 0.3463 - accuracy: 0.8718 - val_loss: 0.3274 - val_accuracy: 0.8788\n",
      "Epoch 8/20\n",
      "1500/1500 [==============================] - 3s 2ms/step - loss: 0.3400 - accuracy: 0.8744 - val_loss: 0.3331 - val_accuracy: 0.8770\n",
      "Epoch 9/20\n",
      "1500/1500 [==============================] - 3s 2ms/step - loss: 0.3311 - accuracy: 0.8782 - val_loss: 0.3269 - val_accuracy: 0.8807\n",
      "Epoch 10/20\n",
      "1500/1500 [==============================] - 3s 2ms/step - loss: 0.3227 - accuracy: 0.8810 - val_loss: 0.3290 - val_accuracy: 0.8791\n",
      "Epoch 11/20\n",
      "1500/1500 [==============================] - 3s 2ms/step - loss: 0.3173 - accuracy: 0.8827 - val_loss: 0.3374 - val_accuracy: 0.8767\n",
      "Epoch 12/20\n",
      "1500/1500 [==============================] - 3s 2ms/step - loss: 0.3107 - accuracy: 0.8839 - val_loss: 0.3261 - val_accuracy: 0.8821\n",
      "Epoch 13/20\n",
      "1500/1500 [==============================] - 3s 2ms/step - loss: 0.3074 - accuracy: 0.8861 - val_loss: 0.3358 - val_accuracy: 0.8797\n",
      "Epoch 14/20\n",
      "1500/1500 [==============================] - 3s 2ms/step - loss: 0.3053 - accuracy: 0.8854 - val_loss: 0.3126 - val_accuracy: 0.8873\n",
      "Epoch 15/20\n",
      "1500/1500 [==============================] - 3s 2ms/step - loss: 0.3015 - accuracy: 0.8866 - val_loss: 0.3277 - val_accuracy: 0.8821\n",
      "Epoch 16/20\n",
      "1500/1500 [==============================] - 3s 2ms/step - loss: 0.2926 - accuracy: 0.8896 - val_loss: 0.3296 - val_accuracy: 0.8818\n",
      "Epoch 17/20\n",
      "1500/1500 [==============================] - 3s 2ms/step - loss: 0.2907 - accuracy: 0.8918 - val_loss: 0.3184 - val_accuracy: 0.8858\n",
      "Epoch 18/20\n",
      "1500/1500 [==============================] - 3s 2ms/step - loss: 0.2860 - accuracy: 0.8922 - val_loss: 0.3180 - val_accuracy: 0.8868\n",
      "Epoch 19/20\n",
      "1500/1500 [==============================] - 3s 2ms/step - loss: 0.2821 - accuracy: 0.8936 - val_loss: 0.3167 - val_accuracy: 0.8857\n",
      "Epoch 20/20\n",
      "1500/1500 [==============================] - 3s 2ms/step - loss: 0.2788 - accuracy: 0.8937 - val_loss: 0.3218 - val_accuracy: 0.8850\n"
     ]
    },
    {
     "data": {
      "text/plain": [
       "<keras.callbacks.History at 0x265a4a60fd0>"
      ]
     },
     "execution_count": 57,
     "metadata": {},
     "output_type": "execute_result"
    }
   ],
   "source": [
    "model = model_fn(keras.layers.Dropout(0.3))\n",
    "model.compile(optimizer=\"adam\",\n",
    "              loss=\"sparse_categorical_crossentropy\",\n",
    "              metrics=\"accuracy\")\n",
    "\n",
    "# ModelCheckPoint() 콜백 함수 정의하기 \n",
    "# - epoch 실행시 마다 (훈련모델)을 저장하는 함수 \n",
    "\n",
    "# - save_best_only = True \n",
    "#     :앞서 저장된 훈련 모델의 [훈련손실]이 [검증 손실] 보다 \n",
    "#     향상된 경우에만 자동 저장함\n",
    "#     => 기존모델보다 향상된 경우 저장\n",
    "\n",
    "# -save_best_only = False \n",
    "#     :epoch 마다 훈련 모델을 저장시킴 \n",
    "        \n",
    "checkpoint_cb = keras.callbacks.ModelCheckpoint(\"./model/best_model.h5\",\n",
    "                                               save_best_only=True)\n",
    "\n",
    "# 훈련 시 콜백 함수 속성 지정하기 \n",
    "model.fit(train_scaled,train_target, epochs=20, verbose=1,\n",
    "         validation_data=(val_scaled,val_target),\n",
    "         callbacks=[checkpoint_cb])"
   ]
  },
  {
   "cell_type": "code",
   "execution_count": 58,
   "id": "e59b5e2c",
   "metadata": {},
   "outputs": [
    {
     "name": "stdout",
     "output_type": "stream",
     "text": [
      "375/375 [==============================] - 1s 1ms/step - loss: 0.3126 - accuracy: 0.8873\n"
     ]
    },
    {
     "data": {
      "text/plain": [
       "[0.3126406967639923, 0.8872500061988831]"
      ]
     },
     "execution_count": 58,
     "metadata": {},
     "output_type": "execute_result"
    }
   ],
   "source": [
    "# 저장된 best 모델 불러들이기 \n",
    "model = keras.models.load_model(\"./model/best_model.h5\")\n",
    "model.evaluate(val_scaled, val_target)"
   ]
  },
  {
   "cell_type": "markdown",
   "id": "1719baeb",
   "metadata": {},
   "source": [
    "## EarlyStopping() 콜백함수 "
   ]
  },
  {
   "cell_type": "code",
   "execution_count": 74,
   "id": "e9188edd",
   "metadata": {},
   "outputs": [
    {
     "name": "stdout",
     "output_type": "stream",
     "text": [
      "Epoch 1/50\n",
      "1500/1500 [==============================] - 3s 2ms/step - loss: 0.5983 - accuracy: 0.7905 - val_loss: 0.4303 - val_accuracy: 0.8489\n",
      "Epoch 2/50\n",
      "1500/1500 [==============================] - 3s 2ms/step - loss: 0.4399 - accuracy: 0.8436 - val_loss: 0.3772 - val_accuracy: 0.8638\n",
      "Epoch 3/50\n",
      "1500/1500 [==============================] - 3s 2ms/step - loss: 0.4054 - accuracy: 0.8546 - val_loss: 0.3669 - val_accuracy: 0.8652\n",
      "Epoch 4/50\n",
      "1500/1500 [==============================] - 3s 2ms/step - loss: 0.3813 - accuracy: 0.8614 - val_loss: 0.3567 - val_accuracy: 0.8699\n",
      "Epoch 5/50\n",
      "1500/1500 [==============================] - 3s 2ms/step - loss: 0.3654 - accuracy: 0.8664 - val_loss: 0.3503 - val_accuracy: 0.8726\n",
      "Epoch 6/50\n",
      "1500/1500 [==============================] - 3s 2ms/step - loss: 0.3556 - accuracy: 0.8706 - val_loss: 0.3351 - val_accuracy: 0.8798\n",
      "Epoch 7/50\n",
      "1500/1500 [==============================] - 3s 2ms/step - loss: 0.3437 - accuracy: 0.8740 - val_loss: 0.3412 - val_accuracy: 0.8763\n",
      "Epoch 8/50\n",
      "1500/1500 [==============================] - 3s 2ms/step - loss: 0.3366 - accuracy: 0.8745 - val_loss: 0.3348 - val_accuracy: 0.8760\n",
      "Epoch 9/50\n",
      "1500/1500 [==============================] - 4s 2ms/step - loss: 0.3287 - accuracy: 0.8777 - val_loss: 0.3374 - val_accuracy: 0.8804\n",
      "Epoch 10/50\n",
      "1500/1500 [==============================] - 3s 2ms/step - loss: 0.3236 - accuracy: 0.8793 - val_loss: 0.3373 - val_accuracy: 0.8767\n"
     ]
    }
   ],
   "source": [
    "model = model_fn(keras.layers.Dropout(0.3))\n",
    "model.compile(optimizer=\"adam\",\n",
    "              loss=\"sparse_categorical_crossentropy\",\n",
    "              metrics=\"accuracy\")\n",
    "\n",
    "# ModleCheckPoint() 몰백함수 정의\n",
    "checkpoint_cb = keras.callbacks.ModelCheckpoint(\"./model/best_model.h5\",\n",
    "                                               save_best_only=True)\n",
    "\n",
    "# EarlyStopping() 콜백함수 정의 => 성능규제 -> 제약을 두는 것 \n",
    "\"\"\"\n",
    "- 성능규제 함수로 사용됨 : 조기종료 시키는 기능\n",
    "- 일정 epoch 동안 [검증손실]이 향상되지 않으면, 훈련을 멈춤\n",
    "- 선택적으로 최상의 모델을 복원할 수도 있음(refore_best_weight=True)\n",
    "- 체크포인트 저장 콜백(MoelCheckPoint)함수 와 함께 사용하면 효율적으로 훈련가능 \n",
    "- 모델이 향상되지 ㅏㅇㄶ으면 훈련이 자동으로 중지됨\n",
    "    epoch의 숫자를 크게 지정해도 됨 \n",
    "- ** 과대적합이 시작되기 전에 훈련을 미리 조기 종료 시킴 ** \n",
    "\"\"\"\n",
    "# patience : 중단하기 전에 기다려야 하는 epoch 함수 \n",
    "# - 종료 시점 이후에 지정된 숫자만큼 훈련을 더 진행 \n",
    "#  - 더 진행해도 손실률에 변화가 없으면 훈련 종료 시킴\n",
    "# restore_best_weights =True \n",
    "# - 가장 낮은 검증 손실을 낸 모델이 하이퍼 파라미터 값들로 수정(복원) 함 \n",
    "# 최상의 가중치를 복원해 주기 때문에,\n",
    "# ㅓ장된 모델을 따로 복원하지 않아도 됨( 모델 그대로 사용)\n",
    "early_stopping_cb = keras.callbacks.EarlyStopping(patience=2, \n",
    "                                                restore_best_weights=True)\n",
    "\n",
    "\n",
    "# 훈련 시 콜백 함수 속성 지정하기 \n",
    "history = model.fit(train_scaled,train_target, epochs=50, verbose=1,\n",
    "          validation_data=(val_scaled,val_target),\n",
    "          callbacks=[checkpoint_cb, early_stopping_cb])"
   ]
  },
  {
   "cell_type": "code",
   "execution_count": 75,
   "id": "fc18e98e",
   "metadata": {},
   "outputs": [
    {
     "data": {
      "text/plain": [
       "8"
      ]
     },
     "execution_count": 75,
     "metadata": {},
     "output_type": "execute_result"
    }
   ],
   "source": [
    "# epoch 최종값 확인하기 \n",
    "early_stopping_cb.stopped_epoch - 1 "
   ]
  },
  {
   "cell_type": "code",
   "execution_count": 76,
   "id": "8ebe7c00",
   "metadata": {},
   "outputs": [
    {
     "data": {
      "image/png": "[encoded data removed]",
      "text/plain": [
       "<Figure size 432x288 with 1 Axes>"
      ]
     },
     "metadata": {
      "needs_background": "light"
     },
     "output_type": "display_data"
    }
   ],
   "source": [
    "# 훈련 및 검증 손실곡선 비교하기 \n",
    "# model = keras.models.load_model(\"./model/best_model.h5\")\n",
    "\n",
    "plt.plot(history.epoch, history.history['loss'], history.history['val_loss'])\n",
    "plt.title(\"Epoch5 -(Adam-Dropout)loss - val_loss\")\n",
    "plt.xlabel(\"epoch\")\n",
    "plt.ylabel(\"loss | val_loss\")\n",
    "plt.savefig(\"./images/01_Epoch20_(Adam-Dropout)loss&val_loss\", dpi=300)\n",
    "plt.show()\n"
   ]
  },
  {
   "cell_type": "code",
   "execution_count": 77,
   "id": "c94c41b1",
   "metadata": {},
   "outputs": [
    {
     "name": "stdout",
     "output_type": "stream",
     "text": [
      "375/375 [==============================] - 1s 1ms/step - loss: 0.3348 - accuracy: 0.8760\n"
     ]
    },
    {
     "data": {
      "text/plain": [
       "[0.3348396122455597, 0.8759999871253967]"
      ]
     },
     "execution_count": 77,
     "metadata": {},
     "output_type": "execute_result"
    }
   ],
   "source": [
    "# 모델 성능평가 \n",
    "model.evaluate(val_scaled, val_target)"
   ]
  },
  {
   "cell_type": "code",
   "execution_count": null,
   "id": "6ffaa2c8",
   "metadata": {},
   "outputs": [],
   "source": []
  }
 ],
 "metadata": {
  "kernelspec": {
   "display_name": "pknu_deep_kernel",
   "language": "python",
   "name": "pknu_deep"
  },
  "language_info": {
   "codemirror_mode": {
    "name": "ipython",
    "version": 3
   },
   "file_extension": ".py",
   "mimetype": "text/x-python",
   "name": "python",
   "nbconvert_exporter": "python",
   "pygments_lexer": "ipython3",
   "version": "3.9.16"
  }
 },
 "nbformat": 4,
 "nbformat_minor": 5
}
