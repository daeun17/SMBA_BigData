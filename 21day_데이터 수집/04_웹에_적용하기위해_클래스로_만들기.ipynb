{
 "cells": [
  {
   "cell_type": "code",
   "execution_count": 12,
   "id": "6088c6c4",
   "metadata": {},
   "outputs": [],
   "source": [
    "from selenium import webdriver\n",
    "from selenium.webdriver.common.by import By\n",
    "import time\n",
    "\n",
    "class WebCrawling :\n",
    "    # 멤버 변수 정의하기 : 클래스 내의 영역에서 사용 가능 \n",
    "    driver = \"\" # 문자열은 아니나 그냥 넣음 \n",
    "    # 생성자 \n",
    "    def __init__(self,url) :\n",
    "        self.url = url \n",
    "    # 웹크롤링 데이터 조회하기 \n",
    "    def getData(self) :\n",
    "        file_path = \"c:/ChromeDriver_exe/chrome_109_driver.exe\"\n",
    "        #url = \"http://www.melon.com/chart/index.htm\"\n",
    "        driver = webdriver.Chrome(file_path)\n",
    "        driver.get(self.url)\n",
    "\n",
    "        titles = driver.find_elements(By.CSS_SELECTOR,\"tr div.ellipsis.rank01 > span > a\")[0:10]\n",
    "        singers = driver.find_elements(By.CSS_SELECTOR,\"tr div.ellipsis.rank02 > a\")[0:10]\n",
    "        \n",
    "        melon_list = []\n",
    "        for i in range (0, len(titles), 1 ) :\n",
    "            melon_list.append(dict(zip(['no','title','singer'],[i+1,titles[i].text,singers[i].text])))\n",
    "        \n",
    "        self.driver = driver \n",
    "        \n",
    "        return melon_list\n",
    "    \n",
    "    # 웹드라이버 종료하기  \n",
    "    def webdriver_quit(self) :\n",
    "        time.sleep(3)\n",
    "        self.driver.quit()"
   ]
  },
  {
   "cell_type": "code",
   "execution_count": null,
   "id": "8f7b5309",
   "metadata": {},
   "outputs": [],
   "source": []
  },
  {
   "cell_type": "code",
   "execution_count": null,
   "id": "a3ad3618",
   "metadata": {},
   "outputs": [],
   "source": []
  },
  {
   "cell_type": "code",
   "execution_count": 13,
   "id": "029b0dfc",
   "metadata": {},
   "outputs": [
    {
     "name": "stderr",
     "output_type": "stream",
     "text": [
      "C:\\Users\\ekdms\\AppData\\Local\\Temp/ipykernel_23888/3675816823.py:15: DeprecationWarning: executable_path has been deprecated, please pass in a Service object\n",
      "  driver = webdriver.Chrome(file_path)\n"
     ]
    },
    {
     "data": {
      "text/plain": [
       "[{'no': 1, 'title': 'Ditto', 'singer': 'NewJeans'},\n",
       " {'no': 2, 'title': 'OMG', 'singer': 'NewJeans'},\n",
       " {'no': 3, 'title': 'Hype boy', 'singer': 'NewJeans'},\n",
       " {'no': 4, 'title': '사건의 지평선', 'singer': '윤하 (YOUNHA)'},\n",
       " {'no': 5, 'title': 'VIBE (feat. Jimin of BTS)', 'singer': '태양'},\n",
       " {'no': 6, 'title': 'Sugar Rush Ride', 'singer': '투모로우바이투게더'},\n",
       " {'no': 7, 'title': 'ANTIFRAGILE', 'singer': 'LE SSERAFIM (르세라핌)'},\n",
       " {'no': 8, 'title': 'Attention', 'singer': 'NewJeans'},\n",
       " {'no': 9, 'title': 'After LIKE', 'singer': 'IVE (아이브)'},\n",
       " {'no': 10, 'title': '사랑은 늘 도망가', 'singer': '임영웅'}]"
      ]
     },
     "execution_count": 13,
     "metadata": {},
     "output_type": "execute_result"
    }
   ],
   "source": [
    "# 클래스 사용하기\n",
    "# 틀래스 생성하기 \n",
    "wc = WebCrawling(\"http://www.melon.com/chart/index.htm\")\n",
    "# 웹 크롤링 데이터 조회하기 \n",
    "model_list = wc.getData()\n",
    "#웨드라이버 종료하기 \n",
    "wc.webdriver_quit()\n",
    "# 조회 결과 확인\n",
    "model_list"
   ]
  },
  {
   "cell_type": "code",
   "execution_count": null,
   "id": "5bc7cf39",
   "metadata": {},
   "outputs": [],
   "source": []
  }
 ],
 "metadata": {
  "kernelspec": {
   "display_name": "pknu_bsae_kernel",
   "language": "python",
   "name": "pknu_base"
  },
  "language_info": {
   "codemirror_mode": {
    "name": "ipython",
    "version": 3
   },
   "file_extension": ".py",
   "mimetype": "text/x-python",
   "name": "python",
   "nbconvert_exporter": "python",
   "pygments_lexer": "ipython3",
   "version": "3.9.15"
  }
 },
 "nbformat": 4,
 "nbformat_minor": 5
}
