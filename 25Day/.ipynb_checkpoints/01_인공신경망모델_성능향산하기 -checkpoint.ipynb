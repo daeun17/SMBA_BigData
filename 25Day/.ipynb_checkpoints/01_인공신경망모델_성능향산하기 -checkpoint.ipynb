{
 "cells": [
  {
   "cell_type": "code",
   "execution_count": 1,
   "id": "46946663",
   "metadata": {},
   "outputs": [
    {
     "data": {
      "text/plain": [
       "'\\n[심층신경망]\\n- layer 층이 1개 이상인 경우\\n- 층이 여러개라는 의미로 심층이라는 개념이 있음 \\n\\n'"
      ]
     },
     "execution_count": 1,
     "metadata": {},
     "output_type": "execute_result"
    }
   ],
   "source": [
    "\"\"\"\n",
    "[심층신경망]\n",
    "- layer 층이 1개 이상인 경우\n",
    "- 층이 여러개라는 의미로 심층이라는 개념이 있음 \n",
    "\n",
    "\"\"\""
   ]
  },
  {
   "cell_type": "code",
   "execution_count": 2,
   "id": "5cb6aaaf",
   "metadata": {},
   "outputs": [],
   "source": [
    "# 패션 데이터 읽어들이기 \n",
    "# - 차원확인 \n",
    "# train_input, train_target \n",
    "# test_input, test_target "
   ]
  },
  {
   "cell_type": "code",
   "execution_count": 3,
   "id": "71eecbd1",
   "metadata": {},
   "outputs": [],
   "source": [
    "import tensorflow as tr\n",
    "from tensorflow import keras"
   ]
  },
  {
   "cell_type": "code",
   "execution_count": 4,
   "id": "28249c8e",
   "metadata": {},
   "outputs": [],
   "source": [
    "(train_input, train_target), (test_input, test_target) = keras.datasets.fashion_mnist.load_data()"
   ]
  },
  {
   "cell_type": "code",
   "execution_count": 5,
   "id": "16f7e90c",
   "metadata": {},
   "outputs": [
    {
     "name": "stdout",
     "output_type": "stream",
     "text": [
      "훈련데이터 :  (60000, 28, 28) (60000,)\n",
      "테스트데이터: (10000, 28, 28) (10000,)\n"
     ]
    }
   ],
   "source": [
    "print(\"훈련데이터 : \",train_input.shape, train_target.shape)\n",
    "print(\"테스트데이터:\",test_input.shape, test_target.shape )"
   ]
  },
  {
   "cell_type": "code",
   "execution_count": 6,
   "id": "3656302c",
   "metadata": {},
   "outputs": [
    {
     "data": {
      "text/plain": [
       "(60000, 28, 28)"
      ]
     },
     "execution_count": 6,
     "metadata": {},
     "output_type": "execute_result"
    }
   ],
   "source": [
    "# 데이터 정규화 하기 \n",
    "# 255의 의미? => \n",
    "train_scaled = train_input / 255.0\n",
    "train_scaled.shape"
   ]
  },
  {
   "cell_type": "code",
   "execution_count": 7,
   "id": "4a8d8d24",
   "metadata": {},
   "outputs": [
    {
     "data": {
      "text/plain": [
       "(60000, 784)"
      ]
     },
     "execution_count": 7,
     "metadata": {},
     "output_type": "execute_result"
    }
   ],
   "source": [
    "# 픽셀 데이터를 1차원으로 만들기 \n",
    "# 3차원 데이터를 2차원 데이터로 변경 \n",
    "train_scaled = train_scaled.reshape(-1, 28*28)\n",
    "train_scaled.shape"
   ]
  },
  {
   "cell_type": "code",
   "execution_count": 8,
   "id": "c4ef700d",
   "metadata": {},
   "outputs": [
    {
     "name": "stdout",
     "output_type": "stream",
     "text": [
      "(48000, 784) (48000,)\n",
      "(12000, 784) (12000,)\n"
     ]
    }
   ],
   "source": [
    "# 훈련 및 검증 데이터셋으로 분리하기 \n",
    "from sklearn.model_selection import train_test_split\n",
    "\n",
    "train_scaled, val_scaled,train_target, val_target = \\\n",
    "train_test_split (train_scaled, train_target, test_size = 0.2, random_state = 42)\n",
    "\n",
    "print(train_scaled.shape, train_target.shape)\n",
    "print (val_scaled.shape, val_target.shape)"
   ]
  },
  {
   "cell_type": "markdown",
   "id": "37e68267",
   "metadata": {},
   "source": [
    "## 인공신경망 모델에 신경망층 추가하는 방법 (3가지)"
   ]
  },
  {
   "cell_type": "code",
   "execution_count": 9,
   "id": "b5d76f2b",
   "metadata": {},
   "outputs": [],
   "source": [
    "# 1. 층을 먼저 만들고, 신경망 모델 생성 시 추가하기..."
   ]
  },
  {
   "cell_type": "code",
   "execution_count": 10,
   "id": "c4e01c50",
   "metadata": {},
   "outputs": [
    {
     "name": "stdout",
     "output_type": "stream",
     "text": [
      "<keras.layers.core.dense.Dense object at 0x000001A16E36F1F0> <keras.layers.core.dense.Dense object at 0x000001A1755FFD60>\n"
     ]
    }
   ],
   "source": [
    "# input_shape 가 있으면 입력계층 (훈련에 가까움)\n",
    "dense1 = keras.layers.Dense(100, activation=\"sigmoid\", input_shape=(784,))\n",
    "# 마지막에 softmax 층은 출력 계층 ( 훈련에 가까움) \n",
    "dense2 = keras.layers.Dense(10, activation=\"softmax\")\n",
    "print(dense1,dense2)"
   ]
  },
  {
   "cell_type": "code",
   "execution_count": 11,
   "id": "24a4844b",
   "metadata": {},
   "outputs": [
    {
     "data": {
      "text/plain": [
       "<keras.engine.sequential.Sequential at 0x1a1756ac400>"
      ]
     },
     "execution_count": 11,
     "metadata": {},
     "output_type": "execute_result"
    }
   ],
   "source": [
    "# 인공신경망 (심층신경망) 생성하기 \n",
    "# - 훈련 모델 생성하기  \n",
    "model = keras.Sequential([dense1, dense2])\n",
    "model"
   ]
  },
  {
   "cell_type": "code",
   "execution_count": 12,
   "id": "66aead6e",
   "metadata": {},
   "outputs": [
    {
     "name": "stdout",
     "output_type": "stream",
     "text": [
      "Model: \"sequential\"\n",
      "_________________________________________________________________\n",
      " Layer (type)                Output Shape              Param #   \n",
      "=================================================================\n",
      " dense (Dense)               (None, 100)               78500     \n",
      "                                                                 \n",
      " dense_1 (Dense)             (None, 10)                1010      \n",
      "                                                                 \n",
      "=================================================================\n",
      "Total params: 79,510\n",
      "Trainable params: 79,510\n",
      "Non-trainable params: 0\n",
      "_________________________________________________________________\n"
     ]
    }
   ],
   "source": [
    "# 모델 구조 확인하기 \n",
    "model.summary()"
   ]
  },
  {
   "cell_type": "code",
   "execution_count": 13,
   "id": "e948991d",
   "metadata": {},
   "outputs": [],
   "source": [
    "# 2. 심층 신경망 모델 생성시 -> 신경망층을 함께 만들기 "
   ]
  },
  {
   "cell_type": "code",
   "execution_count": 14,
   "id": "9c33bdbc",
   "metadata": {},
   "outputs": [
    {
     "data": {
      "text/plain": [
       "<keras.engine.sequential.Sequential at 0x1a179fa4970>"
      ]
     },
     "execution_count": 14,
     "metadata": {},
     "output_type": "execute_result"
    }
   ],
   "source": [
    "\n",
    "model = keras.Sequential([\n",
    "    keras.layers.Dense(100, activation=\"sigmoid\", input_shape=(784, ), name =\"hidden\"),\n",
    "    keras.layers.Dense(10, activation=\"softmax\", name= \"output\")\n",
    "], name=\"패션 MNIST 심층 신경망 모델\")\n",
    "model"
   ]
  },
  {
   "cell_type": "code",
   "execution_count": 15,
   "id": "484a8d98",
   "metadata": {},
   "outputs": [
    {
     "name": "stdout",
     "output_type": "stream",
     "text": [
      "Model: \"패션 MNIST 심층 신경망 모델\"\n",
      "_________________________________________________________________\n",
      " Layer (type)                Output Shape              Param #   \n",
      "=================================================================\n",
      " hidden (Dense)              (None, 100)               78500     \n",
      "                                                                 \n",
      " output (Dense)              (None, 10)                1010      \n",
      "                                                                 \n",
      "=================================================================\n",
      "Total params: 79,510\n",
      "Trainable params: 79,510\n",
      "Non-trainable params: 0\n",
      "_________________________________________________________________\n"
     ]
    }
   ],
   "source": [
    "model.summary()"
   ]
  },
  {
   "cell_type": "code",
   "execution_count": 16,
   "id": "5d4f5cfd",
   "metadata": {},
   "outputs": [],
   "source": [
    "# 3. 심층 신경망 모델 생성 후 -> 신경망층 추가하기 (add 함수 사용)\n",
    "# 가장 많이 사용되는 방식 "
   ]
  },
  {
   "cell_type": "code",
   "execution_count": 17,
   "id": "0c8caeb5",
   "metadata": {},
   "outputs": [
    {
     "data": {
      "text/plain": [
       "<keras.engine.sequential.Sequential at 0x1a179fb7f70>"
      ]
     },
     "execution_count": 17,
     "metadata": {},
     "output_type": "execute_result"
    }
   ],
   "source": [
    "# 모델 생성하기 \n",
    "model = keras.Sequential()\n",
    "\n",
    "# 신경망층 추가하기 \n",
    "model.add(keras.layers.Dense(100, activation=\"sigmoid\", input_shape=(784, )))\n",
    "model.add(keras.layers.Dense(10, activation=\"softmax\"))\n",
    "\n",
    "model"
   ]
  },
  {
   "cell_type": "code",
   "execution_count": 18,
   "id": "d8e2eb14",
   "metadata": {},
   "outputs": [
    {
     "name": "stdout",
     "output_type": "stream",
     "text": [
      "Model: \"sequential_1\"\n",
      "_________________________________________________________________\n",
      " Layer (type)                Output Shape              Param #   \n",
      "=================================================================\n",
      " dense_2 (Dense)             (None, 100)               78500     \n",
      "                                                                 \n",
      " dense_3 (Dense)             (None, 10)                1010      \n",
      "                                                                 \n",
      "=================================================================\n",
      "Total params: 79,510\n",
      "Trainable params: 79,510\n",
      "Non-trainable params: 0\n",
      "_________________________________________________________________\n"
     ]
    }
   ],
   "source": [
    "model.summary()"
   ]
  },
  {
   "cell_type": "code",
   "execution_count": 19,
   "id": "1be15a7e",
   "metadata": {},
   "outputs": [
    {
     "data": {
      "text/plain": [
       "'\\n[손실함수 정리]\\n<회귀 문제에 사용되는 손실함수>\\n* 평균제곱오차(MSE : Mean Squared Error)\\n    - 선형 회귀를 학습할 때와 유사 \\n    - 연속형 변수를 예측할 때 주로 사용됨 \\n    - compile 함수의 loss 속성에 \"mse\" 라고 작성하면 됨 \\n    - 딥러닝은 대부분 분류 문제에 집중되어 있기 때문에 \\n    회귀문제를 제외한 나머니 손실함수는 crossentropy를 사용 \\n'"
      ]
     },
     "execution_count": 19,
     "metadata": {},
     "output_type": "execute_result"
    }
   ],
   "source": [
    "# 모델 설정하기 : 설정함수  compile \n",
    "# - 정수값을 이용한 분류 진행, 정확도 확인할 수 있도록 설정하기\n",
    "\n",
    "model.compile(loss=\"sparse_categorical_crossentropy\",\n",
    "             metrics=\"accuracy\")\n",
    "model \n",
    "\n",
    "# loss : 손실함수 \n",
    "# 손실함수는 실제값과 예측값의 차이를 수치화해주는 함수 \n",
    "# 이 두 값의 차이 즉, 오차가 클수록 손실함수의 값은 크고 \n",
    "# 오차가 적을 수록 손실함수의 값은 작아짐 \n",
    "# \"회귀\" 문제에서는 \"평균제곱 오차(MSE) 가 사용\"\n",
    "# \"분류\" 문제에서는 \"xxx crossentropy 가 사용\"\n",
    "\n",
    "# 딥러닝의 학습과정 : 손실함수의 값을 최소화하는 두 개의 매개변수인 \n",
    "#                     가중치와 편향의 값을 찾는 것이 원칙\n",
    "#                     손실함수 개념을 기억 \n",
    "\n",
    "\"\"\"\n",
    "[손실함수 정리]\n",
    "<회귀 문제에 사용되는 손실함수>\n",
    "* 평균제곱오차(MSE : Mean Squared Error)\n",
    "    - 선형 회귀를 학습할 때와 유사 \n",
    "    - 연속형 변수를 예측할 때 주로 사용됨 \n",
    "    - compile 함수의 loss 속성에 \"mse\" 라고 작성하면 됨 \n",
    "    - 딥러닝은 대부분 분류 문제에 집중되어 있기 때문에 \n",
    "    회귀문제를 제외한 나머니 손실함수는 crossentropy를 사용 \n",
    "\"\"\"\n",
    "# 정확도가 높고 손실율이 낮는 모델을 정해야 한다 \n",
    "# metrics : 훈련시 결과 확인(손실율과 정확도 확인)"
   ]
  },
  {
   "cell_type": "code",
   "execution_count": 20,
   "id": "ea017e8f",
   "metadata": {},
   "outputs": [
    {
     "name": "stdout",
     "output_type": "stream",
     "text": [
      "Epoch 1/10\n",
      "1500/1500 [==============================] - 4s 2ms/step - loss: 0.5616 - accuracy: 0.8106\n",
      "Epoch 2/10\n",
      "1500/1500 [==============================] - 3s 2ms/step - loss: 0.4065 - accuracy: 0.8550\n",
      "Epoch 3/10\n",
      "1500/1500 [==============================] - 3s 2ms/step - loss: 0.3736 - accuracy: 0.8655\n",
      "Epoch 4/10\n",
      "1500/1500 [==============================] - 3s 2ms/step - loss: 0.3523 - accuracy: 0.8724\n",
      "Epoch 5/10\n",
      "1500/1500 [==============================] - 3s 2ms/step - loss: 0.3350 - accuracy: 0.8787\n",
      "Epoch 6/10\n",
      "1500/1500 [==============================] - 3s 2ms/step - loss: 0.3214 - accuracy: 0.8838\n",
      "Epoch 7/10\n",
      "1500/1500 [==============================] - 3s 2ms/step - loss: 0.3104 - accuracy: 0.8877\n",
      "Epoch 8/10\n",
      "1500/1500 [==============================] - 3s 2ms/step - loss: 0.3009 - accuracy: 0.8907\n",
      "Epoch 9/10\n",
      "1500/1500 [==============================] - 3s 2ms/step - loss: 0.2903 - accuracy: 0.8952\n",
      "Epoch 10/10\n",
      "1500/1500 [==============================] - 3s 2ms/step - loss: 0.2826 - accuracy: 0.8965\n"
     ]
    },
    {
     "data": {
      "text/plain": [
       "<keras.callbacks.History at 0x1a179fbf460>"
      ]
     },
     "execution_count": 20,
     "metadata": {},
     "output_type": "execute_result"
    }
   ],
   "source": [
    "# 모델 훈련시키기 \n",
    "model.fit(train_scaled, train_target, epochs=10)"
   ]
  },
  {
   "cell_type": "code",
   "execution_count": 21,
   "id": "d9be661e",
   "metadata": {},
   "outputs": [
    {
     "name": "stdout",
     "output_type": "stream",
     "text": [
      "375/375 [==============================] - 1s 1ms/step - loss: 0.3334 - accuracy: 0.8823\n"
     ]
    },
    {
     "data": {
      "text/plain": [
       "[0.33337822556495667, 0.8823333382606506]"
      ]
     },
     "execution_count": 21,
     "metadata": {},
     "output_type": "execute_result"
    }
   ],
   "source": [
    "# 훈련모델 평가하기 (검증하기)\n",
    "# 정확도 : 0.9 이면 좋은 모델 \n",
    "# 정확도 : 0.85이상이면 괜찮은 모델\n",
    "model.evaluate(val_scaled, val_target)"
   ]
  },
  {
   "cell_type": "markdown",
   "id": "e1b3921a",
   "metadata": {},
   "source": [
    "## 전처리 계층 사용하기 "
   ]
  },
  {
   "cell_type": "code",
   "execution_count": 22,
   "id": "585259c2",
   "metadata": {},
   "outputs": [
    {
     "name": "stdout",
     "output_type": "stream",
     "text": [
      "(48000, 28, 28) (48000,)\n",
      "(12000, 28, 28) (12000,)\n"
     ]
    }
   ],
   "source": [
    "# 패션 데이터 읽어들이기 \n",
    "(train_input, train_target), (test_input, test_target) = keras.datasets.fashion_mnist.load_data()\n",
    "# 정규화 하기 \n",
    "train_scaled = train_input / 255.0\n",
    "# 차원축소는 하지 않기 :전처리 계층 (layer) 사용 \n",
    "# 훈련 및 검증 데이터 셋으로 분리하기 (8:2)\n",
    "train_scaled, val_scaled,train_target, val_target = \\\n",
    "train_test_split (train_scaled, train_target, test_size = 0.2, random_state = 42)\n",
    "\n",
    "# 분리된 데이터 확인 \n",
    "print(train_scaled.shape, train_target.shape)\n",
    "print (val_scaled.shape, val_target.shape)"
   ]
  },
  {
   "cell_type": "code",
   "execution_count": 23,
   "id": "a1f5e995",
   "metadata": {},
   "outputs": [
    {
     "data": {
      "text/plain": [
       "<keras.engine.sequential.Sequential at 0x1a17a09cee0>"
      ]
     },
     "execution_count": 23,
     "metadata": {},
     "output_type": "execute_result"
    }
   ],
   "source": [
    "# 훈련 모델 생성하기 \n",
    "model = keras.Sequential()\n",
    "model"
   ]
  },
  {
   "cell_type": "code",
   "execution_count": 24,
   "id": "751f8bbc",
   "metadata": {},
   "outputs": [],
   "source": [
    "# 신경망층 추가하기 : 전처리 계층 추가 \n",
    "# Flatten : 차원 축소 계층 (2차원을 1차원으로)\n",
    "# 훈련(fit) 시에 적용됨 \n",
    "# 훈련의 성능에 기여하지는 않으며, 데이터 전처리에만 사용되는 계층 \n",
    "model.add(keras.layers.Flatten(input_shape=(28,28)))"
   ]
  },
  {
   "cell_type": "code",
   "execution_count": 25,
   "id": "d9fc1d2c",
   "metadata": {},
   "outputs": [],
   "source": [
    "# 성능에 기여하는 계층 : 은닉층(hidden layer) 이라고 칭함 => 뜰채 같은 역할 \n",
    "\"\"\"\n",
    "[relu]\n",
    "- 층이 많은 심층 신경망에 주로 사용 됨 \n",
    "- sigmoid 함수의 단점을 보완한 알고리즘 \n",
    "    <sigmoid 단점>\n",
    "    - 시그모이드 한수는 오른쪽 또는 왼쪽 끝으로 데이터가 분포할 수록 \n",
    "    그래프가 누워있기 때문에 올바른 출력을 만드는데 신속하게 대응하기 어려움 \n",
    "    그래프가 누어았다는 의미 : 데이터의 분포가 애매모호한 형태 \n",
    "    심층 신경망에서는 학습을 어렵게하는 저해요인이 될수 있음 \n",
    "    \n",
    "- relu(렐루) 함수는 sigmoid 단점을 개선한 모델\n",
    "    입력값이 \"양수\"일 경우에는 활성화 함수를 그냥 \"통과\"\n",
    "    입력값이 \"음수\" 일 경우에는 무조건 0 으로 만들어서 \"통과 못하게\"\n",
    "    이미지 처리에 좋은 성능을 나타냄\n",
    "\"\"\"\n",
    "model.add(keras.layers.Dense(100, activation=\"relu\"))"
   ]
  },
  {
   "cell_type": "code",
   "execution_count": 26,
   "id": "4146a555",
   "metadata": {},
   "outputs": [],
   "source": [
    "# 출력층 (output layer) 추가하기 \n",
    "# 가장 하단에 위치하는 신경망층 \n",
    "# 훈련 성능에 기여함 \n",
    "model.add(keras.layers.Dense(10, activation=\"softmax\"))"
   ]
  },
  {
   "cell_type": "code",
   "execution_count": 27,
   "id": "dc757653",
   "metadata": {},
   "outputs": [],
   "source": [
    "# 사용되는 신경망층은 ? \n",
    "# 2개의 신경망층을 사용함 \n",
    "# 전처리 계층은 신경망층으로 보지 않음 \n",
    "# 학습을 수행하지 않는 층은 신경망층에서 제외함 \n"
   ]
  },
  {
   "cell_type": "code",
   "execution_count": 28,
   "id": "b5d9029b",
   "metadata": {},
   "outputs": [
    {
     "name": "stdout",
     "output_type": "stream",
     "text": [
      "Model: \"sequential_2\"\n",
      "_________________________________________________________________\n",
      " Layer (type)                Output Shape              Param #   \n",
      "=================================================================\n",
      " flatten (Flatten)           (None, 784)               0         \n",
      "                                                                 \n",
      " dense_4 (Dense)             (None, 100)               78500     \n",
      "                                                                 \n",
      " dense_5 (Dense)             (None, 10)                1010      \n",
      "                                                                 \n",
      "=================================================================\n",
      "Total params: 79,510\n",
      "Trainable params: 79,510\n",
      "Non-trainable params: 0\n",
      "_________________________________________________________________\n"
     ]
    }
   ],
   "source": [
    "model.summary()\n",
    "# Param 을 통해 훈련에 참여하는 계층 확인가능 -> 0 : 훈련에 참여 X"
   ]
  },
  {
   "cell_type": "code",
   "execution_count": 33,
   "id": "4f34d35b",
   "metadata": {},
   "outputs": [
    {
     "data": {
      "text/plain": [
       "<keras.engine.sequential.Sequential at 0x1a17a09cee0>"
      ]
     },
     "execution_count": 33,
     "metadata": {},
     "output_type": "execute_result"
    }
   ],
   "source": [
    "# 훈련 모델 설정하기 \n",
    "model.compile(loss=\"sparse_categorical_crossentropy\",\n",
    "             metrics=\"accuracy\")\n",
    "model"
   ]
  },
  {
   "cell_type": "code",
   "execution_count": 35,
   "id": "3762b89e",
   "metadata": {},
   "outputs": [
    {
     "name": "stdout",
     "output_type": "stream",
     "text": [
      "Epoch 1/10\n",
      "1500/1500 [==============================] - 3s 2ms/step - loss: 0.3064 - accuracy: 0.8905\n",
      "Epoch 2/10\n",
      "1500/1500 [==============================] - 3s 2ms/step - loss: 0.2969 - accuracy: 0.8945\n",
      "Epoch 3/10\n",
      "1500/1500 [==============================] - 3s 2ms/step - loss: 0.2865 - accuracy: 0.8988\n",
      "Epoch 4/10\n",
      "1500/1500 [==============================] - 3s 2ms/step - loss: 0.2821 - accuracy: 0.9005\n",
      "Epoch 5/10\n",
      "1500/1500 [==============================] - 3s 2ms/step - loss: 0.2737 - accuracy: 0.9028\n",
      "Epoch 6/10\n",
      "1500/1500 [==============================] - 3s 2ms/step - loss: 0.2660 - accuracy: 0.9072\n",
      "Epoch 7/10\n",
      "1500/1500 [==============================] - 3s 2ms/step - loss: 0.2646 - accuracy: 0.9075\n",
      "Epoch 8/10\n",
      "1500/1500 [==============================] - 3s 2ms/step - loss: 0.2588 - accuracy: 0.9104\n",
      "Epoch 9/10\n",
      "1500/1500 [==============================] - 3s 2ms/step - loss: 0.2519 - accuracy: 0.9112\n",
      "Epoch 10/10\n",
      "1500/1500 [==============================] - 3s 2ms/step - loss: 0.2479 - accuracy: 0.9150\n"
     ]
    },
    {
     "data": {
      "text/plain": [
       "<keras.callbacks.History at 0x1a12ad5afd0>"
      ]
     },
     "execution_count": 35,
     "metadata": {},
     "output_type": "execute_result"
    }
   ],
   "source": [
    "# 훈련 시키기 \n",
    "model.fit(train_scaled, train_target, epochs=10)\n",
    "# epochs 값을 찾는 것 : 하이퍼파리미터 튜닝 "
   ]
  },
  {
   "cell_type": "code",
   "execution_count": 36,
   "id": "b48ba9e6",
   "metadata": {},
   "outputs": [
    {
     "name": "stdout",
     "output_type": "stream",
     "text": [
      "375/375 [==============================] - 1s 1ms/step - loss: 0.4539 - accuracy: 0.8732\n"
     ]
    },
    {
     "data": {
      "text/plain": [
       "[0.45386624336242676, 0.8731666803359985]"
      ]
     },
     "execution_count": 36,
     "metadata": {},
     "output_type": "execute_result"
    }
   ],
   "source": [
    "# 성능평가하기 \n",
    "model.evaluate(val_scaled,val_target)"
   ]
  },
  {
   "cell_type": "markdown",
   "id": "c738a228",
   "metadata": {},
   "source": [
    "## 옵티마이저: 모델 설정시 사용되는 하이퍼파라메터"
   ]
  },
  {
   "cell_type": "code",
   "execution_count": null,
   "id": "31699862",
   "metadata": {},
   "outputs": [],
   "source": [
    "\"\"\"\n",
    "- 딥러닝에서 빠르고 정확하게 학습하는 것을 목표로 설정함 \n",
    "- 주로 Gradient Descent Alorithm을 기반으로 한 SGD에서 변형된 여러 종류 \n",
    "-케라스에서 훈련시 사용할 다양한 경사하강법 알고리즘을 옵티마이저라고 칭함\n",
    "\n",
    "\"\"\""
   ]
  },
  {
   "cell_type": "code",
   "execution_count": 37,
   "id": "aaf3d66a",
   "metadata": {},
   "outputs": [],
   "source": [
    "# SGD : 경사하강법 알고리즘 \n",
    "# 옵티마이저 설정 방법 1 => 주로 해당 방식 사용\n",
    "# 최초에 훈련 정확도만 확인하고자 할 때 사용 \n",
    "model.compile(optimizer=\"sgd\",\n",
    "             loss=\"sparse_categorical_crossentropy\",\n",
    "             metrics=\"accuracy\")\n"
   ]
  },
  {
   "cell_type": "code",
   "execution_count": 39,
   "id": "ee844a7f",
   "metadata": {},
   "outputs": [],
   "source": [
    "# 설정 방법 2 => 튜닝 시 주로 사용\n",
    "# 옵티마이저 클래스 튜닝시에는 방법2 사용 \n",
    "# 튜닝할 값이 있는 경우 주로 사용 \n",
    "sgd = keras.optimizers.SGD()\n",
    "model.compile(optimizer=sgd,\n",
    "             loss=\"sparse_categorical_crossentropy\",\n",
    "             metrics=\"accuracy\")"
   ]
  },
  {
   "cell_type": "code",
   "execution_count": 41,
   "id": "447a5d6a",
   "metadata": {},
   "outputs": [],
   "source": [
    "# 옵티마이저 튜닝 \n",
    "\"\"\"\n",
    "[learning_rate]\n",
    "- 훈련 모델의 성능을 향상 시키는방법중하나로, \n",
    "가장 loss가 적은 local minimum(경사하강의 종착지)까지 걸어간다고 생각할때 \n",
    "- 학습률(learning_rate)는 걸음의 보폭이라고 할 수 있음\n",
    "- 학습률이 너무 크면 minimum이 지나칠 수 있음\n",
    "- 반대로 학습률이 너무 적으면 local minimum까지 도달할 수 있어도 시간이 매우 오래 걸림 \n",
    "- 기본 학습률 : 0.01\n",
    "-보폭을 조절하다보면 최적의 정확도를 가지는 값이 나온다 \n",
    "\"\"\"\n",
    "sgd = keras.optimizers.SGD(learning_rate=0.1)\n",
    "model.compile(optimizer=sgd,\n",
    "             loss=\"sparse_categorical_crossentropy\",\n",
    "             metrics=\"accuracy\")"
   ]
  },
  {
   "cell_type": "code",
   "execution_count": 42,
   "id": "e75b1a3e",
   "metadata": {},
   "outputs": [],
   "source": [
    "# momentum  : 가는 방향을 유지하는 정도?\n",
    "# nesterov : \n",
    "\"\"\"\n",
    "[momentum(모멘텀)]\n",
    "경사하강법의 최적화 알고리즘 \n",
    "물리학에서 쓰이는 용어로 운동향, 동력을 뜻함\n",
    "- 물리학의 개념을 훈련에 적용한 알고리즘\n",
    "- 관성과 가속도를 넣어서 이동하던 한 방향으로 좀 더 이동 할수 있도록 하기 위한 개념 \n",
    "- 일반적으로 딥러닝의 경사하강번을 지그재그로 이동하면서 하강함 \n",
    "- 지그재그로 이동하는 방식을 관성과 가속도를 적용해서 \n",
    "  최대한 이동하는 방향을 유지하면서 지그재그로 이동할 수 있도록 처리함 \n",
    "  \n",
    "(모멘텀의 중요 개념)\n",
    " - 현재 이동하는 방향과는 별개로 과거에 이동을 했던 방향을 기억함 \n",
    " - 과거의 방향으로 일정량을 추가하여 이동을 하게 됨 \n",
    " - 과거의 행동을 저장하여 사용\n",
    "   즉, 누적된 과거 데이터를 현재 데이터에 보장하려는 방식 \n",
    " - 메모리 사용량이 많다는 단점이 있음\n",
    " \n",
    "[nestrov(네스테로프)]\n",
    "- 모멘텀 최적화 알고리즘의 변종 알고리즘 \n",
    "- 현재 위치가 아닌, 모멘텀의 방향으로 조금 앞서서 경사를 계산 \n",
    "\n",
    "\"\"\"\n",
    "\n",
    "sgd = keras.optimizers.SGD(learning_rate= 0.1 , momentum=0.9, nesterov=True)\n",
    "model.compile(optimizer=sgd,\n",
    "             loss=\"sparse_categorical_crossentropy\",\n",
    "             metrics=\"accuracy\")"
   ]
  },
  {
   "cell_type": "markdown",
   "id": "586a75a3",
   "metadata": {},
   "source": [
    "## 적응적 학습률"
   ]
  },
  {
   "cell_type": "code",
   "execution_count": null,
   "id": "dbcec67b",
   "metadata": {},
   "outputs": [],
   "source": [
    "# 적응적 학습률 : SGD 알고리즘에서 확장되어 개선된 학습률 알고리즘 \n",
    "# 모델이 죄적점에 가까이 갈수록 학습률을 낮추게 되면 \n",
    "# 일반적으로 최적점에 수렴할 가능성이 높아짐 \n",
    "# 최적점에 가까이 갈수록 학습률을 낮출 수 있도록 케라스 모델이 자동으로 값을 조정 \n",
    "# 옵티마이저의 기본값은 RMSprop\n",
    "# 적응적 학습률의 기본 학습률은 0.01\n",
    "\n",
    "# <적응적 학습을 적용한 대표적 옵티마이저>\n",
    "# - Adagrad, RMSprop,Adam 3가지 모델이 일반적으로 사용됨 \n"
   ]
  },
  {
   "cell_type": "code",
   "execution_count": 43,
   "id": "d9c00865",
   "metadata": {},
   "outputs": [],
   "source": [
    "# Adagrad()\n",
    "adagrad = keras.optimizers.Adagrad()\n",
    "model.compile(optimizer=adagrad,\n",
    "             loss=\"sparse_categorical_crossentropy\",\n",
    "             metrics=\"accuracy\")"
   ]
  },
  {
   "cell_type": "code",
   "execution_count": 64,
   "id": "01e08505",
   "metadata": {},
   "outputs": [],
   "source": [
    "# RMSprop()\n",
    "rmsprop = keras.optimizers.RMSprop()\n",
    "model.compile(optimizer=adagrad,\n",
    "             loss=\"sparse_categorical_crossentropy\",\n",
    "             metrics=\"accuracy\")"
   ]
  },
  {
   "cell_type": "code",
   "execution_count": null,
   "id": "bc73e465",
   "metadata": {},
   "outputs": [],
   "source": [
    "# Adam()\n",
    "adam = keras.optimizers.Adam()\n",
    "model.compile(optimizer=adam,\n",
    "             loss=\"sparse_categorical_crossentropy\",\n",
    "             metrics=\"accuracy\")"
   ]
  },
  {
   "cell_type": "code",
   "execution_count": 55,
   "id": "0af9a366",
   "metadata": {},
   "outputs": [],
   "source": [
    "# 모델 생성하기 \n",
    "model = keras.Sequential()"
   ]
  },
  {
   "cell_type": "code",
   "execution_count": 56,
   "id": "6a1690cd",
   "metadata": {},
   "outputs": [],
   "source": [
    "# 전처리 계층 추가하기 : 1차원으로 만들어 주는 계층 \n",
    "model.add(keras.layers.Flatten(input_shape=(28,28)))"
   ]
  },
  {
   "cell_type": "code",
   "execution_count": 57,
   "id": "e8ae031d",
   "metadata": {},
   "outputs": [],
   "source": [
    "# relu hiddem layer 추가\n",
    "# 100의 의미? => epoch 1번마다 레이어 하낙 통과되는데 이 중 확률이 가자 높은 100개 추림 \n",
    "model.add(keras.layers.Dense(100, activation=\"relu\"))"
   ]
  },
  {
   "cell_type": "code",
   "execution_count": 59,
   "id": "6e65c321",
   "metadata": {},
   "outputs": [],
   "source": [
    "# 출력층 추가\n",
    "# 추린 100 개 중에 확률이 가장 높은 10개의 출력 층을 추림 \n",
    "model.add(keras.layers.Dense(10,activation=\"softmax\"))"
   ]
  },
  {
   "cell_type": "code",
   "execution_count": 62,
   "id": "1f938c83",
   "metadata": {},
   "outputs": [
    {
     "name": "stdout",
     "output_type": "stream",
     "text": [
      "Model: \"sequential_3\"\n",
      "_________________________________________________________________\n",
      " Layer (type)                Output Shape              Param #   \n",
      "=================================================================\n",
      " flatten_1 (Flatten)         (None, 784)               0         \n",
      "                                                                 \n",
      " dense_6 (Dense)             (None, 100)               78500     \n",
      "                                                                 \n",
      " dense_7 (Dense)             (None, 10)                1010      \n",
      "                                                                 \n",
      "=================================================================\n",
      "Total params: 79,510\n",
      "Trainable params: 79,510\n",
      "Non-trainable params: 0\n",
      "_________________________________________________________________\n"
     ]
    }
   ],
   "source": [
    "#모델 설정하기 : 옵티마이저 adam 사용\n",
    "# 가장먼저 시도하면 좋은 알고리즘 \n",
    "# 방향과 학습률을 모두 적절하게 성능개선을 해주는 알고리즘 \n",
    "\n",
    "model.compile(optimizer=\"adam\",\n",
    "             loss=\"sparse_categorical_crossentropy\",\n",
    "             metrics=\"accuracy\")\n",
    "model.summary()"
   ]
  },
  {
   "cell_type": "code",
   "execution_count": 61,
   "id": "b84656c5",
   "metadata": {},
   "outputs": [
    {
     "name": "stdout",
     "output_type": "stream",
     "text": [
      "Epoch 1/10\n",
      "1500/1500 [==============================] - 3s 2ms/step - loss: 0.5237 - accuracy: 0.8179\n",
      "Epoch 2/10\n",
      "1500/1500 [==============================] - 3s 2ms/step - loss: 0.3929 - accuracy: 0.8598\n",
      "Epoch 3/10\n",
      "1500/1500 [==============================] - 3s 2ms/step - loss: 0.3512 - accuracy: 0.8731\n",
      "Epoch 4/10\n",
      "1500/1500 [==============================] - 3s 2ms/step - loss: 0.3246 - accuracy: 0.8830\n",
      "Epoch 5/10\n",
      "1500/1500 [==============================] - 3s 2ms/step - loss: 0.3055 - accuracy: 0.8881\n",
      "Epoch 6/10\n",
      "1500/1500 [==============================] - 3s 2ms/step - loss: 0.2906 - accuracy: 0.8941\n",
      "Epoch 7/10\n",
      "1500/1500 [==============================] - 3s 2ms/step - loss: 0.2760 - accuracy: 0.8971\n",
      "Epoch 8/10\n",
      "1500/1500 [==============================] - 3s 2ms/step - loss: 0.2665 - accuracy: 0.9025\n",
      "Epoch 9/10\n",
      "1500/1500 [==============================] - 3s 2ms/step - loss: 0.2577 - accuracy: 0.9047\n",
      "Epoch 10/10\n",
      "1500/1500 [==============================] - 3s 2ms/step - loss: 0.2484 - accuracy: 0.9065\n"
     ]
    },
    {
     "data": {
      "text/plain": [
       "<keras.callbacks.History at 0x1a10034ddf0>"
      ]
     },
     "execution_count": 61,
     "metadata": {},
     "output_type": "execute_result"
    }
   ],
   "source": [
    "# 훈련시키기 : 반복 10 회\n",
    "model.fit(train_scaled,train_target,epochs=10)"
   ]
  },
  {
   "cell_type": "code",
   "execution_count": 63,
   "id": "6b8fb15d",
   "metadata": {},
   "outputs": [
    {
     "name": "stdout",
     "output_type": "stream",
     "text": [
      "375/375 [==============================] - 1s 1ms/step - loss: 0.3260 - accuracy: 0.8827\n"
     ]
    },
    {
     "data": {
      "text/plain": [
       "[0.32597988843917847, 0.8827499747276306]"
      ]
     },
     "execution_count": 63,
     "metadata": {},
     "output_type": "execute_result"
    }
   ],
   "source": [
    "# 성능평가하기\n",
    "model.evaluate(val_scaled,val_target)"
   ]
  },
  {
   "cell_type": "markdown",
   "id": "7ba2befb",
   "metadata": {},
   "source": [
    "### RMSprop"
   ]
  },
  {
   "cell_type": "code",
   "execution_count": 65,
   "id": "d9ee42ce",
   "metadata": {},
   "outputs": [],
   "source": [
    "# 모델생성하기 \n",
    "model = keras.Sequential()"
   ]
  },
  {
   "cell_type": "code",
   "execution_count": 67,
   "id": "9056ec4b",
   "metadata": {},
   "outputs": [],
   "source": [
    "# 모델 전처리 계층 추가 \n",
    "model.add(keras.layers.Flatten(input_shape= (28,28)))"
   ]
  },
  {
   "cell_type": "code",
   "execution_count": 68,
   "id": "f068f815",
   "metadata": {},
   "outputs": [],
   "source": [
    "# 모델 렐루 레이어 추가 \n",
    "model.add(keras.layers.Dense(100, activation=\"relu\"))"
   ]
  },
  {
   "cell_type": "code",
   "execution_count": 69,
   "id": "e865a187",
   "metadata": {},
   "outputs": [],
   "source": [
    "# 모델 출력층 추가 \n",
    "model.add(keras.layers.Dense(10, activation=\"softmax\"))"
   ]
  },
  {
   "cell_type": "code",
   "execution_count": 70,
   "id": "e23dfc47",
   "metadata": {},
   "outputs": [],
   "source": [
    "# 모델 설정하기 : RMSprop \n",
    "model.compile(optimizer=\"RMSprop\",\n",
    "             loss=\"sparse_categorical_crossentropy\",\n",
    "             metrics=\"accuracy\")"
   ]
  },
  {
   "cell_type": "code",
   "execution_count": 71,
   "id": "65866be4",
   "metadata": {},
   "outputs": [
    {
     "name": "stdout",
     "output_type": "stream",
     "text": [
      "Epoch 1/10\n",
      "1500/1500 [==============================] - 3s 2ms/step - loss: 0.5300 - accuracy: 0.8135\n",
      "Epoch 2/10\n",
      "1500/1500 [==============================] - 3s 2ms/step - loss: 0.3904 - accuracy: 0.8595\n",
      "Epoch 3/10\n",
      "1500/1500 [==============================] - 3s 2ms/step - loss: 0.3528 - accuracy: 0.8726\n",
      "Epoch 4/10\n",
      "1500/1500 [==============================] - 3s 2ms/step - loss: 0.3329 - accuracy: 0.8815\n",
      "Epoch 5/10\n",
      "1500/1500 [==============================] - 3s 2ms/step - loss: 0.3191 - accuracy: 0.8866\n",
      "Epoch 6/10\n",
      "1500/1500 [==============================] - 3s 2ms/step - loss: 0.3081 - accuracy: 0.8910\n",
      "Epoch 7/10\n",
      "1500/1500 [==============================] - 3s 2ms/step - loss: 0.2960 - accuracy: 0.8950\n",
      "Epoch 8/10\n",
      "1500/1500 [==============================] - 3s 2ms/step - loss: 0.2907 - accuracy: 0.8963\n",
      "Epoch 9/10\n",
      "1500/1500 [==============================] - 3s 2ms/step - loss: 0.2821 - accuracy: 0.8991\n",
      "Epoch 10/10\n",
      "1500/1500 [==============================] - 3s 2ms/step - loss: 0.2732 - accuracy: 0.9031\n"
     ]
    },
    {
     "data": {
      "text/plain": [
       "<keras.callbacks.History at 0x1a1007d6a60>"
      ]
     },
     "execution_count": 71,
     "metadata": {},
     "output_type": "execute_result"
    }
   ],
   "source": [
    "# 훈련시키기 \n",
    "model.fit(train_scaled,train_target, epochs=10)"
   ]
  },
  {
   "cell_type": "code",
   "execution_count": 72,
   "id": "c02865e7",
   "metadata": {},
   "outputs": [
    {
     "name": "stdout",
     "output_type": "stream",
     "text": [
      "375/375 [==============================] - 1s 1ms/step - loss: 0.3835 - accuracy: 0.8808\n"
     ]
    },
    {
     "data": {
      "text/plain": [
       "[0.383456289768219, 0.8808333277702332]"
      ]
     },
     "execution_count": 72,
     "metadata": {},
     "output_type": "execute_result"
    }
   ],
   "source": [
    "# 성능 평가하기 \n",
    "model.evaluate(val_scaled, val_target)"
   ]
  },
  {
   "cell_type": "markdown",
   "id": "45385b3e",
   "metadata": {},
   "source": [
    "## Adagrad"
   ]
  },
  {
   "cell_type": "code",
   "execution_count": 73,
   "id": "ec20d4cd",
   "metadata": {},
   "outputs": [],
   "source": [
    "# 모델 생성하기 \n",
    "model = keras.Sequential()"
   ]
  },
  {
   "cell_type": "code",
   "execution_count": 74,
   "id": "38af48a7",
   "metadata": {},
   "outputs": [],
   "source": [
    "# 모델 전처리 계층 추가 \n",
    "model.add(keras.layers.Flatten(input_shape=(28,28)))"
   ]
  },
  {
   "cell_type": "code",
   "execution_count": 75,
   "id": "f8063161",
   "metadata": {},
   "outputs": [],
   "source": [
    "# 모델 렐루 계층 추가 \n",
    "model.add(keras.layers.Dense(100, activation=\"relu\"))"
   ]
  },
  {
   "cell_type": "code",
   "execution_count": 76,
   "id": "230ac367",
   "metadata": {},
   "outputs": [],
   "source": [
    "# 모델 출력층 추가 \n",
    "model.add(keras.layers.Dense(10, activation=\"softmax\"))"
   ]
  },
  {
   "cell_type": "code",
   "execution_count": 77,
   "id": "5f343492",
   "metadata": {},
   "outputs": [],
   "source": [
    "# 모델 설정하기 \n",
    "model.compile(optimizer=\"Adagrad\",\n",
    "             loss=\"sparse_categorical_crossentropy\",\n",
    "             metrics=\"accuracy\")"
   ]
  },
  {
   "cell_type": "code",
   "execution_count": 78,
   "id": "cbd11660",
   "metadata": {},
   "outputs": [
    {
     "name": "stdout",
     "output_type": "stream",
     "text": [
      "Epoch 1/10\n",
      "1500/1500 [==============================] - 3s 2ms/step - loss: 1.2207 - accuracy: 0.6244\n",
      "Epoch 2/10\n",
      "1500/1500 [==============================] - 3s 2ms/step - loss: 0.7816 - accuracy: 0.7446\n",
      "Epoch 3/10\n",
      "1500/1500 [==============================] - 3s 2ms/step - loss: 0.6919 - accuracy: 0.7743\n",
      "Epoch 4/10\n",
      "1500/1500 [==============================] - 3s 2ms/step - loss: 0.6450 - accuracy: 0.7898\n",
      "Epoch 5/10\n",
      "1500/1500 [==============================] - 3s 2ms/step - loss: 0.6145 - accuracy: 0.7995\n",
      "Epoch 6/10\n",
      "1500/1500 [==============================] - 3s 2ms/step - loss: 0.5924 - accuracy: 0.8058\n",
      "Epoch 7/10\n",
      "1500/1500 [==============================] - 3s 2ms/step - loss: 0.5755 - accuracy: 0.8108\n",
      "Epoch 8/10\n",
      "1500/1500 [==============================] - 3s 2ms/step - loss: 0.5621 - accuracy: 0.8143\n",
      "Epoch 9/10\n",
      "1500/1500 [==============================] - 3s 2ms/step - loss: 0.5509 - accuracy: 0.8179\n",
      "Epoch 10/10\n",
      "1500/1500 [==============================] - 3s 2ms/step - loss: 0.5416 - accuracy: 0.8208\n"
     ]
    },
    {
     "data": {
      "text/plain": [
       "<keras.callbacks.History at 0x1a101ca16d0>"
      ]
     },
     "execution_count": 78,
     "metadata": {},
     "output_type": "execute_result"
    }
   ],
   "source": [
    "# 훈련시키기 \n",
    "model.fit(train_scaled,train_target, epochs=10)"
   ]
  },
  {
   "cell_type": "code",
   "execution_count": 80,
   "id": "af13c832",
   "metadata": {},
   "outputs": [
    {
     "name": "stdout",
     "output_type": "stream",
     "text": [
      "375/375 [==============================] - 1s 1ms/step - loss: 0.5536 - accuracy: 0.8155\n"
     ]
    },
    {
     "data": {
      "text/plain": [
       "[0.5536308884620667, 0.815500020980835]"
      ]
     },
     "execution_count": 80,
     "metadata": {},
     "output_type": "execute_result"
    }
   ],
   "source": [
    "# 성능 평가하기 \n",
    "model.evaluate(val_scaled, val_target)"
   ]
  },
  {
   "cell_type": "code",
   "execution_count": 92,
   "id": "cc39d61b",
   "metadata": {},
   "outputs": [],
   "source": [
    "# Adagrad, RMSprop,Adam  중에 \n",
    "# 성능 평가 결과가 가장 높은 옵티마이저를 선택 할 수 있도록 \n",
    "# 한번에 처리가 가능하도록 처리해주세요 \n",
    "# Adagrad, RMSprop,Adam 을 함수 또는 반복을 통해,\n",
    "# 최종 출력결과는 성능값이 가장 높은 옵티마이저 이름과 성능 결과 출력\n",
    "# 함수에 전달하는 값 : 옵티마이저 이름, 반볻횟수 \n",
    "\n",
    "def CreateModel (O_name, time) :\n",
    "    model = keras.Sequential()\n",
    "    model.add(keras.layers.Flatten(input_shape=(28,28)))\n",
    "    model.add(keras.layers.Dense(100, activation=\"relu\"))\n",
    "    model.add(keras.layers.Dense(10, activation=\"softmax\"))\n",
    "    model.compile(optimizer=O_name,\n",
    "                  loss=\"sparse_categorical_crossentropy\",\n",
    "                  metrics=\"accuracy\")\n",
    "    model.fit(train_scaled,train_target, epochs=time)\n",
    "    result =  model.evaluate(val_scaled, val_target)\n",
    "    print(result)\n",
    "    return result"
   ]
  },
  {
   "cell_type": "code",
   "execution_count": 97,
   "id": "dc17c372",
   "metadata": {},
   "outputs": [
    {
     "name": "stdout",
     "output_type": "stream",
     "text": [
      "Epoch 1/10\n",
      "1500/1500 [==============================] - 3s 2ms/step - loss: 1.2457 - accuracy: 0.6417\n",
      "Epoch 2/10\n",
      "1500/1500 [==============================] - 3s 2ms/step - loss: 0.7896 - accuracy: 0.7628\n",
      "Epoch 3/10\n",
      "1500/1500 [==============================] - 3s 2ms/step - loss: 0.6928 - accuracy: 0.7852\n",
      "Epoch 4/10\n",
      "1500/1500 [==============================] - 3s 2ms/step - loss: 0.6438 - accuracy: 0.7968\n",
      "Epoch 5/10\n",
      "1500/1500 [==============================] - 3s 2ms/step - loss: 0.6119 - accuracy: 0.8049\n",
      "Epoch 6/10\n",
      "1500/1500 [==============================] - 3s 2ms/step - loss: 0.5890 - accuracy: 0.8101\n",
      "Epoch 7/10\n",
      "1500/1500 [==============================] - 3s 2ms/step - loss: 0.5715 - accuracy: 0.8156\n",
      "Epoch 8/10\n",
      "1500/1500 [==============================] - 3s 2ms/step - loss: 0.5575 - accuracy: 0.8185\n",
      "Epoch 9/10\n",
      "1500/1500 [==============================] - 3s 2ms/step - loss: 0.5458 - accuracy: 0.8220\n",
      "Epoch 10/10\n",
      "1500/1500 [==============================] - 3s 2ms/step - loss: 0.5361 - accuracy: 0.8248\n",
      "375/375 [==============================] - 1s 1ms/step - loss: 0.5439 - accuracy: 0.8207\n",
      "[0.5438781976699829, 0.8207499980926514]\n",
      "[0.5438781976699829, 0.8207499980926514]\n",
      "0.8207499980926514\n",
      "Epoch 1/10\n",
      "1500/1500 [==============================] - 4s 2ms/step - loss: 0.5325 - accuracy: 0.8133\n",
      "Epoch 2/10\n",
      "1500/1500 [==============================] - 3s 2ms/step - loss: 0.3942 - accuracy: 0.8577\n",
      "Epoch 3/10\n",
      "1500/1500 [==============================] - 3s 2ms/step - loss: 0.3567 - accuracy: 0.8723\n",
      "Epoch 4/10\n",
      "1500/1500 [==============================] - 3s 2ms/step - loss: 0.3359 - accuracy: 0.8799\n",
      "Epoch 5/10\n",
      "1500/1500 [==============================] - 3s 2ms/step - loss: 0.3221 - accuracy: 0.8853\n",
      "Epoch 6/10\n",
      "1500/1500 [==============================] - 3s 2ms/step - loss: 0.3110 - accuracy: 0.8902\n",
      "Epoch 7/10\n",
      "1500/1500 [==============================] - 4s 2ms/step - loss: 0.3026 - accuracy: 0.8936\n",
      "Epoch 8/10\n",
      "1500/1500 [==============================] - 3s 2ms/step - loss: 0.2931 - accuracy: 0.8967\n",
      "Epoch 9/10\n",
      "1500/1500 [==============================] - 3s 2ms/step - loss: 0.2860 - accuracy: 0.9000\n",
      "Epoch 10/10\n",
      "1500/1500 [==============================] - 4s 2ms/step - loss: 0.2787 - accuracy: 0.9029\n",
      "375/375 [==============================] - 1s 2ms/step - loss: 0.3991 - accuracy: 0.8773\n",
      "[0.39908304810523987, 0.8772500157356262]\n",
      "[0.39908304810523987, 0.8772500157356262]\n",
      "0.8772500157356262\n",
      "Epoch 1/10\n",
      "1500/1500 [==============================] - 3s 2ms/step - loss: 0.5271 - accuracy: 0.8168\n",
      "Epoch 2/10\n",
      "1500/1500 [==============================] - 3s 2ms/step - loss: 0.3949 - accuracy: 0.8590\n",
      "Epoch 3/10\n",
      "1500/1500 [==============================] - 3s 2ms/step - loss: 0.3522 - accuracy: 0.8720\n",
      "Epoch 4/10\n",
      "1500/1500 [==============================] - 3s 2ms/step - loss: 0.3246 - accuracy: 0.8811\n",
      "Epoch 5/10\n",
      "1500/1500 [==============================] - 3s 2ms/step - loss: 0.3067 - accuracy: 0.8861\n",
      "Epoch 6/10\n",
      "1500/1500 [==============================] - 3s 2ms/step - loss: 0.2901 - accuracy: 0.8941\n",
      "Epoch 7/10\n",
      "1500/1500 [==============================] - 3s 2ms/step - loss: 0.2785 - accuracy: 0.8975\n",
      "Epoch 8/10\n",
      "1500/1500 [==============================] - 3s 2ms/step - loss: 0.2666 - accuracy: 0.9009\n",
      "Epoch 9/10\n",
      "1500/1500 [==============================] - 3s 2ms/step - loss: 0.2572 - accuracy: 0.9038\n",
      "Epoch 10/10\n",
      "1500/1500 [==============================] - 3s 2ms/step - loss: 0.2479 - accuracy: 0.9082\n",
      "375/375 [==============================] - 1s 2ms/step - loss: 0.3231 - accuracy: 0.8850\n",
      "[0.3231382369995117, 0.8849999904632568]\n",
      "[0.3231382369995117, 0.8849999904632568]\n",
      "0.8849999904632568\n",
      "Adam 0.8849999904632568\n"
     ]
    }
   ],
   "source": [
    "list = [\"Adagrad\", \"RMSprop\",\"Adam\" ]\n",
    "model_result = {\"Adagrad\":[], \"RMSprop\":[],\"Adam\":[]}\n",
    "best = 0.0\n",
    "best_model = \"\"\n",
    "for i in list :\n",
    "    result = CreateModel(i,10)\n",
    "    print(result)\n",
    "    model_result[i] = result\n",
    "    print(model_result[i][1])\n",
    "    if best < model_result[i][1] :\n",
    "        best_model = i \n",
    "        best = model_result[i][1]\n",
    "\n",
    "print(best_model, best)\n",
    "\n",
    "    "
   ]
  },
  {
   "cell_type": "code",
   "execution_count": 107,
   "id": "3f8bd327",
   "metadata": {},
   "outputs": [],
   "source": [
    "def BestModel (O_list, time) :\n",
    "    model_result = {\"Adagrad\":[], \"RMSprop\":[],\"Adam\":[]}\n",
    "    best_score = 0.0\n",
    "    best_model = \"\"\n",
    "    best = []\n",
    "    for i in O_list :\n",
    "        model = keras.Sequential()\n",
    "        model.add(keras.layers.Flatten(input_shape=(28,28)))\n",
    "        model.add(keras.layers.Dense(100, activation=\"relu\"))\n",
    "        model.add(keras.layers.Dense(10, activation=\"softmax\"))\n",
    "        model.compile(optimizer=i,\n",
    "                      loss=\"sparse_categorical_crossentropy\",\n",
    "                      metrics=\"accuracy\")\n",
    "        model.fit(train_scaled,train_target, epochs=time)\n",
    "        result =  model.evaluate(val_scaled, val_target)\n",
    "        print(result)\n",
    "        model_result[i] = result\n",
    "        print(model_result[i][1])\n",
    "        if best_score < model_result[i][1] :\n",
    "            best_model = i \n",
    "            best_score = model_result[i][1]\n",
    "    best.append(best_model)\n",
    "    best.append(best_score)\n",
    "    return best"
   ]
  },
  {
   "cell_type": "code",
   "execution_count": 109,
   "id": "9b267e15",
   "metadata": {},
   "outputs": [
    {
     "name": "stdout",
     "output_type": "stream",
     "text": [
      "Epoch 1/10\n",
      "1500/1500 [==============================] - 3s 2ms/step - loss: 1.1551 - accuracy: 0.6525\n",
      "Epoch 2/10\n",
      "1500/1500 [==============================] - 3s 2ms/step - loss: 0.7607 - accuracy: 0.7571\n",
      "Epoch 3/10\n",
      "1500/1500 [==============================] - 3s 2ms/step - loss: 0.6796 - accuracy: 0.7820\n",
      "Epoch 4/10\n",
      "1500/1500 [==============================] - 3s 2ms/step - loss: 0.6374 - accuracy: 0.7936\n",
      "Epoch 5/10\n",
      "1500/1500 [==============================] - 3s 2ms/step - loss: 0.6098 - accuracy: 0.8014\n",
      "Epoch 6/10\n",
      "1500/1500 [==============================] - 3s 2ms/step - loss: 0.5897 - accuracy: 0.8069\n",
      "Epoch 7/10\n",
      "1500/1500 [==============================] - 3s 2ms/step - loss: 0.5740 - accuracy: 0.8111\n",
      "Epoch 8/10\n",
      "1500/1500 [==============================] - 3s 2ms/step - loss: 0.5613 - accuracy: 0.8149\n",
      "Epoch 9/10\n",
      "1500/1500 [==============================] - 3s 2ms/step - loss: 0.5509 - accuracy: 0.8173\n",
      "Epoch 10/10\n",
      "1500/1500 [==============================] - 3s 2ms/step - loss: 0.5420 - accuracy: 0.8200\n",
      "375/375 [==============================] - 1s 1ms/step - loss: 0.5505 - accuracy: 0.8177\n",
      "[0.5504960417747498, 0.8176666498184204]\n",
      "0.8176666498184204\n",
      "Epoch 1/10\n",
      "1500/1500 [==============================] - 4s 2ms/step - loss: 0.5332 - accuracy: 0.8113\n",
      "Epoch 2/10\n",
      "1500/1500 [==============================] - 3s 2ms/step - loss: 0.3939 - accuracy: 0.8580\n",
      "Epoch 3/10\n",
      "1500/1500 [==============================] - 3s 2ms/step - loss: 0.3545 - accuracy: 0.8741\n",
      "Epoch 4/10\n",
      "1500/1500 [==============================] - 3s 2ms/step - loss: 0.3338 - accuracy: 0.8805\n",
      "Epoch 5/10\n",
      "1500/1500 [==============================] - 3s 2ms/step - loss: 0.3160 - accuracy: 0.8872\n",
      "Epoch 6/10\n",
      "1500/1500 [==============================] - 3s 2ms/step - loss: 0.3075 - accuracy: 0.8904\n",
      "Epoch 7/10\n",
      "1500/1500 [==============================] - 3s 2ms/step - loss: 0.2980 - accuracy: 0.8949\n",
      "Epoch 8/10\n",
      "1500/1500 [==============================] - 3s 2ms/step - loss: 0.2900 - accuracy: 0.8995\n",
      "Epoch 9/10\n",
      "1500/1500 [==============================] - 3s 2ms/step - loss: 0.2821 - accuracy: 0.9011\n",
      "Epoch 10/10\n",
      "1500/1500 [==============================] - 3s 2ms/step - loss: 0.2748 - accuracy: 0.9045\n",
      "375/375 [==============================] - 1s 1ms/step - loss: 0.4117 - accuracy: 0.8742\n",
      "[0.4117439389228821, 0.8742499947547913]\n",
      "0.8742499947547913\n",
      "Epoch 1/10\n",
      "1500/1500 [==============================] - 3s 2ms/step - loss: 0.5259 - accuracy: 0.8160\n",
      "Epoch 2/10\n",
      "1500/1500 [==============================] - 3s 2ms/step - loss: 0.3951 - accuracy: 0.8591\n",
      "Epoch 3/10\n",
      "1500/1500 [==============================] - 3s 2ms/step - loss: 0.3543 - accuracy: 0.8715\n",
      "Epoch 4/10\n",
      "1500/1500 [==============================] - 3s 2ms/step - loss: 0.3280 - accuracy: 0.8792\n",
      "Epoch 5/10\n",
      "1500/1500 [==============================] - 3s 2ms/step - loss: 0.3081 - accuracy: 0.8864\n",
      "Epoch 6/10\n",
      "1500/1500 [==============================] - 3s 2ms/step - loss: 0.2917 - accuracy: 0.8921\n",
      "Epoch 7/10\n",
      "1500/1500 [==============================] - 3s 2ms/step - loss: 0.2790 - accuracy: 0.8966\n",
      "Epoch 8/10\n",
      "1500/1500 [==============================] - 3s 2ms/step - loss: 0.2688 - accuracy: 0.8997\n",
      "Epoch 9/10\n",
      "1500/1500 [==============================] - 3s 2ms/step - loss: 0.2571 - accuracy: 0.9051\n",
      "Epoch 10/10\n",
      "1500/1500 [==============================] - 3s 2ms/step - loss: 0.2476 - accuracy: 0.9074\n",
      "375/375 [==============================] - 1s 2ms/step - loss: 0.3136 - accuracy: 0.8904\n",
      "[0.31360718607902527, 0.89041668176651]\n",
      "0.89041668176651\n",
      "['Adam', 0.89041668176651]\n"
     ]
    }
   ],
   "source": [
    "list = [\"Adagrad\", \"RMSprop\",\"Adam\" ]\n",
    "print(BestModel(list,10))"
   ]
  },
  {
   "cell_type": "code",
   "execution_count": 115,
   "id": "a3e5d2e7",
   "metadata": {},
   "outputs": [],
   "source": [
    "# 강사님코드 \n",
    "def getBestEval(opt,epoch) :\n",
    "    model = keras.Sequential()\n",
    "    model.add(keras.layers.Flatten(input_shape=(28,28)))\n",
    "    model.add(keras.layers.Dense(100, activation=\"relu\"))\n",
    "    model.add(keras.layers.Dense(10, activation=\"softmax\"))\n",
    "    model.compile(optimizer=opt,\n",
    "                  loss=\"sparse_categorical_crossentropy\",\n",
    "                  metrics=\"accuracy\")\n",
    "    model.fit(train_scaled,train_target, epochs=epoch)\n",
    "    result =  model.evaluate(val_scaled, val_target)\n",
    "    print(result)\n",
    "    return result\n",
    "    \n"
   ]
  },
  {
   "cell_type": "code",
   "execution_count": 117,
   "id": "12b665c6",
   "metadata": {},
   "outputs": [
    {
     "name": "stdout",
     "output_type": "stream",
     "text": [
      "Epoch 1/2\n",
      "1500/1500 [==============================] - 3s 2ms/step - loss: 1.1999 - accuracy: 0.6375\n",
      "Epoch 2/2\n",
      "1500/1500 [==============================] - 3s 2ms/step - loss: 0.7773 - accuracy: 0.7514\n",
      "375/375 [==============================] - 1s 1ms/step - loss: 0.7361 - accuracy: 0.7547\n",
      "[0.7361075282096863, 0.7546666860580444]\n",
      "opt= Adagrad | rs = [0.7361075282096863, 0.7546666860580444]\n",
      "Epoch 1/2\n",
      "1500/1500 [==============================] - 3s 2ms/step - loss: 0.5251 - accuracy: 0.8142\n",
      "Epoch 2/2\n",
      "1500/1500 [==============================] - 3s 2ms/step - loss: 0.3894 - accuracy: 0.8604\n",
      "375/375 [==============================] - 1s 1ms/step - loss: 0.3915 - accuracy: 0.8622\n",
      "[0.3915471136569977, 0.8621666431427002]\n",
      "opt= RMSprop | rs = [0.3915471136569977, 0.8621666431427002]\n",
      "Epoch 1/2\n",
      "1500/1500 [==============================] - 3s 2ms/step - loss: 0.5214 - accuracy: 0.8181\n",
      "Epoch 2/2\n",
      "1500/1500 [==============================] - 3s 2ms/step - loss: 0.3923 - accuracy: 0.8587\n",
      "375/375 [==============================] - 1s 1ms/step - loss: 0.3974 - accuracy: 0.8489\n",
      "[0.3973644971847534, 0.8489166498184204]\n",
      "opt= Adam | rs = [0.3973644971847534, 0.8489166498184204]\n",
      "best_opt=  RMSprop | best_eval =  0.8621666431427002\n",
      "best_loss_opt=  RMSprop | best_loss =  0.3915471136569977\n"
     ]
    }
   ],
   "source": [
    "optimizer = [\"Adagrad\", \"RMSprop\",\"Adam\" ]\n",
    "\n",
    "best_eval = 0.0 \n",
    "best_opt = \"\"\n",
    "best_loss= 1.0 # 가장 낮은 손실률 \n",
    "best_loss_opt = \"\" # 가장 낮은 손실률일 때의 옵티마이저 \n",
    "\n",
    "for opt in optimizer :\n",
    "    # 함수호출\n",
    "    rs = getBestEval(opt, 2)\n",
    "    print(\"opt=\" ,opt, \"| rs =\",rs)\n",
    "    \n",
    "    # 가장 낮은 손실률과 이 떼의 옵티마이저 처리하기 \n",
    "    if best_loss > rs[0] :\n",
    "        best_loss = rs[0]\n",
    "        best_loss_opt = opt \n",
    "    \n",
    "    # 가장 높은 정확도와 이 때의 옵티마이저 처리하기 \n",
    "    if best_eval < rs[1] :\n",
    "        best_eval = rs[1]\n",
    "        best_opt = opt     \n",
    "    \n",
    "print(\"best_opt= \", best_opt, \"| best_eval = \", best_eval )\n",
    "print(\"best_loss_opt= \", best_loss_opt, \"| best_loss = \", best_loss )   \n"
   ]
  },
  {
   "cell_type": "code",
   "execution_count": null,
   "id": "bb1afaeb",
   "metadata": {},
   "outputs": [],
   "source": [
    "# 옵티마이저 선택시 \n",
    "# - 성능이 높은 쪽과 손실률이 낮은 쪽 중에 \n",
    "# - 선택은 손실률 기준으로 : 손실률이 낮은 것을 선택 (정확도가 차이가 많이 안나는 경우)\n",
    "# 결국은 분석가 마음 : 성능 따지는 사람 -> 성능 좋은거 \n",
    "# 이론적으로 접근 : 손실률 낮은거 고르기 "
   ]
  }
 ],
 "metadata": {
  "kernelspec": {
   "display_name": "pknu_deep_kernel",
   "language": "python",
   "name": "pknu_deep"
  },
  "language_info": {
   "codemirror_mode": {
    "name": "ipython",
    "version": 3
   },
   "file_extension": ".py",
   "mimetype": "text/x-python",
   "name": "python",
   "nbconvert_exporter": "python",
   "pygments_lexer": "ipython3",
   "version": "3.9.16"
  }
 },
 "nbformat": 4,
 "nbformat_minor": 5
}
