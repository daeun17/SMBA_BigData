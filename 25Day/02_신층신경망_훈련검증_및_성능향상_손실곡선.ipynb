{
 "cells": [
  {
   "cell_type": "code",
   "execution_count": 2,
   "id": "ca1df872",
   "metadata": {},
   "outputs": [],
   "source": [
    "# 패션데이터 읽어들이고, 훈련/테스트 데이터 셋 분류하기 "
   ]
  },
  {
   "cell_type": "code",
   "execution_count": 9,
   "id": "7b8953a6",
   "metadata": {},
   "outputs": [],
   "source": [
    "import tensorflow as tr\n",
    "from tensorflow import keras"
   ]
  },
  {
   "cell_type": "code",
   "execution_count": 10,
   "id": "2c93f41b",
   "metadata": {},
   "outputs": [],
   "source": [
    "# 케라스 내부의 fashion_mnist 이라는 데이터를 불러옴\n",
    "(train_input, train_target), (test_input, test_target) = keras.datasets.fashion_mnist.load_data()"
   ]
  },
  {
   "cell_type": "code",
   "execution_count": 11,
   "id": "2c85fa94",
   "metadata": {},
   "outputs": [
    {
     "data": {
      "text/plain": [
       "(60000, 28, 28)"
      ]
     },
     "execution_count": 11,
     "metadata": {},
     "output_type": "execute_result"
    }
   ],
   "source": [
    "# 255의 의미? => \n",
    "train_scaled = train_input / 255.0\n",
    "train_scaled.shape"
   ]
  },
  {
   "cell_type": "code",
   "execution_count": 12,
   "id": "3fd51f73",
   "metadata": {},
   "outputs": [
    {
     "name": "stdout",
     "output_type": "stream",
     "text": [
      "(48000, 28, 28) (48000,)\n",
      "(12000, 28, 28) (12000,)\n"
     ]
    }
   ],
   "source": [
    "# 라이브러리 호출 \n",
    "from sklearn.model_selection import train_test_split\n",
    "\n",
    "train_scaled, val_scaled,train_target, val_target = \\\n",
    "train_test_split (train_scaled, train_target, test_size = 0.2, random_state = 42)\n",
    "\n",
    "print(train_scaled.shape, train_target.shape)\n",
    "print (val_scaled.shape, val_target.shape)\n"
   ]
  },
  {
   "cell_type": "code",
   "execution_count": 16,
   "id": "4209360e",
   "metadata": {},
   "outputs": [],
   "source": [
    "# 신경망 모델 및 신경망층 생성 함수 만들기 \n",
    "\n",
    "def model_fn(add_layer=None) :\n",
    "    model = keras.Sequential()\n",
    "    # 전처리 층 : 1차원으로 만들기 \n",
    "    model.add(keras.layers.Flatten(input_shape=(28,28)))\n",
    "    # 은닉층(hidden layer) : 훈련에 관여 \n",
    "    model.add(keras.layers.Dense(100,activation=\"relu\"))\n",
    "    \n",
    "    if add_layer : \n",
    "        model.add(add_layer)\n",
    "        \n",
    "    #출력층 \n",
    "    model.add(keras.layers.Dense(10,activation=\"softmax\"))\n",
    "    \n",
    "    return model "
   ]
  },
  {
   "cell_type": "code",
   "execution_count": 17,
   "id": "846b875a",
   "metadata": {},
   "outputs": [
    {
     "name": "stdout",
     "output_type": "stream",
     "text": [
      "Model: \"sequential_1\"\n",
      "_________________________________________________________________\n",
      " Layer (type)                Output Shape              Param #   \n",
      "=================================================================\n",
      " flatten_1 (Flatten)         (None, 784)               0         \n",
      "                                                                 \n",
      " dense_1 (Dense)             (None, 100)               78500     \n",
      "                                                                 \n",
      " dense_2 (Dense)             (None, 10)                1010      \n",
      "                                                                 \n",
      "=================================================================\n",
      "Total params: 79,510\n",
      "Trainable params: 79,510\n",
      "Non-trainable params: 0\n",
      "_________________________________________________________________\n"
     ]
    }
   ],
   "source": [
    "# 반복 5번을 수행하는 모델 생성하기 \n",
    "model5 = model_fn()\n",
    "model5.summary()"
   ]
  },
  {
   "cell_type": "code",
   "execution_count": 18,
   "id": "20281a12",
   "metadata": {},
   "outputs": [
    {
     "data": {
      "text/plain": [
       "<keras.engine.sequential.Sequential at 0x1de2fb88070>"
      ]
     },
     "execution_count": 18,
     "metadata": {},
     "output_type": "execute_result"
    }
   ],
   "source": [
    "# 모델 설정하기 \n",
    "model5.compile(loss=\"sparse_categorical_crossentropy\",\n",
    "             metrics=\"accuracy\")\n",
    "model5"
   ]
  },
  {
   "cell_type": "code",
   "execution_count": 22,
   "id": "41d8ead3",
   "metadata": {},
   "outputs": [
    {
     "name": "stdout",
     "output_type": "stream",
     "text": [
      "Epoch 1/5\n",
      "1500/1500 [==============================] - 3s 2ms/step - loss: 0.2463 - accuracy: 0.9148\n",
      "Epoch 2/5\n",
      "1500/1500 [==============================] - 3s 2ms/step - loss: 0.2423 - accuracy: 0.9164\n",
      "Epoch 3/5\n",
      "1500/1500 [==============================] - 4s 3ms/step - loss: 0.2399 - accuracy: 0.9182\n",
      "Epoch 4/5\n",
      "1500/1500 [==============================] - 3s 2ms/step - loss: 0.2336 - accuracy: 0.9204\n",
      "Epoch 5/5\n",
      "1500/1500 [==============================] - 3s 2ms/step - loss: 0.2327 - accuracy: 0.9215\n"
     ]
    },
    {
     "data": {
      "text/plain": [
       "<keras.callbacks.History at 0x1de300a69d0>"
      ]
     },
     "execution_count": 22,
     "metadata": {},
     "output_type": "execute_result"
    }
   ],
   "source": [
    "# verbose : 0~2의 값 사용하여 출력결과 선택 가능\n",
    "# - 1 : 전체 다 보여주기 (기본값) -> 주로 사용\n",
    "# - 2 : 결과값만 보여주기 (진행bar가 안보임)\n",
    "# - 0 : 아무것도 안보여주기(속도를 향상시키지만, 결과값 확인은 어려움)\n",
    "history5 = model5.fit(train_scaled, train_target, epochs=5, verbose=1)\n",
    "history5"
   ]
  },
  {
   "cell_type": "code",
   "execution_count": 27,
   "id": "8d364642",
   "metadata": {},
   "outputs": [
    {
     "name": "stdout",
     "output_type": "stream",
     "text": [
      "반복횟수: [0, 1, 2, 3, 4]\n",
      "손실계수/정확도 :  {'loss': [0.2462751865386963, 0.24225714802742004, 0.23986174166202545, 0.2336031049489975, 0.2327021211385727], 'accuracy': [0.9148333072662354, 0.9163749814033508, 0.9181874990463257, 0.9203541874885559, 0.9214583039283752]}\n",
      "훈련결과 키워드 :  dict_keys(['loss', 'accuracy'])\n"
     ]
    }
   ],
   "source": [
    "# 훈련결과 확인하기 \n",
    "print(\"반복횟수:\", history5.epoch)\n",
    "print(\"손실계수/정확도 : \", history5.history)\n",
    "print(\"훈련결과 키워드 : \", history5.history.keys())"
   ]
  },
  {
   "cell_type": "code",
   "execution_count": 30,
   "id": "4f6bef8a",
   "metadata": {},
   "outputs": [
    {
     "name": "stdout",
     "output_type": "stream",
     "text": [
      "epoch= 0 loss= 0.2463 accuracy= 0.9148\n",
      "epoch= 1 loss= 0.2423 accuracy= 0.9164\n",
      "epoch= 2 loss= 0.2399 accuracy= 0.9182\n",
      "epoch= 3 loss= 0.2336 accuracy= 0.9204\n",
      "epoch= 4 loss= 0.2327 accuracy= 0.9215\n"
     ]
    }
   ],
   "source": [
    "# 훈련결과 출력하기 \n",
    "# epoch= , loss= , accuracy= 형태로 출력하기\n",
    "for i in history5.epoch : \n",
    "    print(\"epoch=\",i, \n",
    "          \"loss=\",round(history5.history['loss'][i],4), \n",
    "          \"accuracy=\", round(history5.history['accuracy'][i],4))"
   ]
  },
  {
   "cell_type": "code",
   "execution_count": 33,
   "id": "6901b1b8",
   "metadata": {},
   "outputs": [
    {
     "data": {
      "image/png": "[encoded data removed]",
      "text/plain": [
       "<Figure size 432x288 with 1 Axes>"
      ]
     },
     "metadata": {
      "needs_background": "light"
     },
     "output_type": "display_data"
    }
   ],
   "source": [
    "# 손실(loss) 곡선 그리기 \n",
    "# 손실률 (손실계수)의 변화 확인가능\n",
    "import matplotlib.pyplot as plt\n",
    "\n",
    "# 한글처리 \n",
    "from matplotlib import font_manager, rc\n",
    "plt.rc(\"font\", family=\"Malgun Gothic\")\n",
    "\n",
    "plt.plot(history5.epoch, history5.history[\"loss\"])\n",
    "plt.title(\"Epoch5 - loss\")\n",
    "plt.xlabel(\"epoch\")\n",
    "plt.ylabel(\"loss\")\n",
    "\n",
    "#그래프 저장하기 => 웹에서 저장한 그래프 보여주기 \n",
    "# 손실은 우하향 그래프가 좋은 결과\n",
    "plt.savefig(\"./images/01_Epoch5Loss\", dpi=300)\n",
    "plt.show()"
   ]
  },
  {
   "cell_type": "code",
   "execution_count": 35,
   "id": "ef958153",
   "metadata": {},
   "outputs": [
    {
     "data": {
      "image/png": "[encoded data removed]",
      "text/plain": [
       "<Figure size 432x288 with 1 Axes>"
      ]
     },
     "metadata": {
      "needs_background": "light"
     },
     "output_type": "display_data"
    }
   ],
   "source": [
    "# 정확도(accuracy) 곡선 그리기\n",
    "# 정확도의 변화 확인 가능 \n",
    "plt.plot(history5.epoch, history5.history[\"accuracy\"])\n",
    "plt.title(\"Epoch5 - accuracy\")\n",
    "plt.xlabel(\"epoch\")\n",
    "plt.ylabel(\"accuracy\")\n",
    "\n",
    "#그래프 저장하기 => 웹에서 저장한 그래프 보여주기 \n",
    "# 정확도는 우상향 그래프가 좋은 결과\n",
    "plt.savefig(\"./images/01_Epoch5Accuracy\", dpi=300)\n",
    "plt.show()"
   ]
  },
  {
   "cell_type": "code",
   "execution_count": 37,
   "id": "9e3c6457",
   "metadata": {},
   "outputs": [
    {
     "name": "stdout",
     "output_type": "stream",
     "text": [
      "Epoch 1/20\n",
      "1500/1500 [==============================] - 3s 2ms/step - loss: 0.5374 - accuracy: 0.8116\n",
      "Epoch 2/20\n",
      "1500/1500 [==============================] - 3s 2ms/step - loss: 0.3940 - accuracy: 0.8589\n",
      "Epoch 3/20\n",
      "1500/1500 [==============================] - 3s 2ms/step - loss: 0.3559 - accuracy: 0.8722\n",
      "Epoch 4/20\n",
      "1500/1500 [==============================] - 3s 2ms/step - loss: 0.3358 - accuracy: 0.8788\n",
      "Epoch 5/20\n",
      "1500/1500 [==============================] - 3s 2ms/step - loss: 0.3204 - accuracy: 0.8852\n",
      "Epoch 6/20\n",
      "1500/1500 [==============================] - 3s 2ms/step - loss: 0.3054 - accuracy: 0.8906\n",
      "Epoch 7/20\n",
      "1500/1500 [==============================] - 3s 2ms/step - loss: 0.2964 - accuracy: 0.8946\n",
      "Epoch 8/20\n",
      "1500/1500 [==============================] - 3s 2ms/step - loss: 0.2880 - accuracy: 0.8989\n",
      "Epoch 9/20\n",
      "1500/1500 [==============================] - 3s 2ms/step - loss: 0.2832 - accuracy: 0.9008\n",
      "Epoch 10/20\n",
      "1500/1500 [==============================] - 3s 2ms/step - loss: 0.2734 - accuracy: 0.9045\n",
      "Epoch 11/20\n",
      "1500/1500 [==============================] - 3s 2ms/step - loss: 0.2680 - accuracy: 0.9056\n",
      "Epoch 12/20\n",
      "1500/1500 [==============================] - 3s 2ms/step - loss: 0.2658 - accuracy: 0.9086\n",
      "Epoch 13/20\n",
      "1500/1500 [==============================] - 3s 2ms/step - loss: 0.2604 - accuracy: 0.9097\n",
      "Epoch 14/20\n",
      "1500/1500 [==============================] - 3s 2ms/step - loss: 0.2564 - accuracy: 0.9112\n",
      "Epoch 15/20\n",
      "1500/1500 [==============================] - 3s 2ms/step - loss: 0.2510 - accuracy: 0.9138\n",
      "Epoch 16/20\n",
      "1500/1500 [==============================] - 3s 2ms/step - loss: 0.2465 - accuracy: 0.9150\n",
      "Epoch 17/20\n",
      "1500/1500 [==============================] - 3s 2ms/step - loss: 0.2441 - accuracy: 0.9169\n",
      "Epoch 18/20\n",
      "1500/1500 [==============================] - 3s 2ms/step - loss: 0.2388 - accuracy: 0.9196\n",
      "Epoch 19/20\n",
      "1500/1500 [==============================] - 3s 2ms/step - loss: 0.2383 - accuracy: 0.9184\n",
      "Epoch 20/20\n",
      "1500/1500 [==============================] - 3s 2ms/step - loss: 0.2301 - accuracy: 0.9227\n"
     ]
    }
   ],
   "source": [
    "# 새로 모델 생성하고 \n",
    "# 반복횟수 20회로 훈련시킨 후 \n",
    "# 손실곡선과 정확도 곡선 그리기 \n",
    "\n",
    "model20 = model_fn()\n",
    "model20.compile(loss=\"sparse_categorical_crossentropy\",\n",
    "             metrics=\"accuracy\")\n",
    "history20 = model20.fit(train_scaled, train_target, epochs=20, verbose=1)"
   ]
  },
  {
   "cell_type": "code",
   "execution_count": 52,
   "id": "f72cc6a9",
   "metadata": {},
   "outputs": [],
   "source": [
    "def drow_plot(history_n) :\n",
    "    name_list = [\"loss\", \"accuracy\"]\n",
    "    for name in name_list :\n",
    "        plt.plot(history_n.epoch, history_n.history[name])\n",
    "        plt.title(\"Epoch5 - {}\".format(name))\n",
    "        plt.xlabel(\"epoch\")\n",
    "        plt.ylabel(name)\n",
    "        plt.savefig(\"./images/01_Epoch20{}\".format(name), dpi=300)\n",
    "        plt.show()"
   ]
  },
  {
   "cell_type": "code",
   "execution_count": 53,
   "id": "93d22f89",
   "metadata": {},
   "outputs": [
    {
     "data": {
      "image/png": "[encoded data removed]",
      "text/plain": [
       "<Figure size 432x288 with 1 Axes>"
      ]
     },
     "metadata": {
      "needs_background": "light"
     },
     "output_type": "display_data"
    },
    {
     "data": {
      "image/png": "[encoded data removed]",
      "text/plain": [
       "<Figure size 432x288 with 1 Axes>"
      ]
     },
     "metadata": {
      "needs_background": "light"
     },
     "output_type": "display_data"
    }
   ],
   "source": [
    "drow_plot(history20)"
   ]
  },
  {
   "cell_type": "code",
   "execution_count": 41,
   "id": "c2afaf52",
   "metadata": {},
   "outputs": [
    {
     "name": "stdout",
     "output_type": "stream",
     "text": [
      "Epoch 1/20\n",
      "1500/1500 [==============================] - 4s 3ms/step - loss: 0.5291 - accuracy: 0.8129 - val_loss: 0.4205 - val_accuracy: 0.8521\n",
      "Epoch 2/20\n",
      "1500/1500 [==============================] - 4s 2ms/step - loss: 0.3913 - accuracy: 0.8592 - val_loss: 0.3847 - val_accuracy: 0.8652\n",
      "Epoch 3/20\n",
      "1500/1500 [==============================] - 4s 2ms/step - loss: 0.3553 - accuracy: 0.8723 - val_loss: 0.3931 - val_accuracy: 0.8653\n",
      "Epoch 4/20\n",
      "1500/1500 [==============================] - 4s 2ms/step - loss: 0.3326 - accuracy: 0.8796 - val_loss: 0.3787 - val_accuracy: 0.8700\n",
      "Epoch 5/20\n",
      "1500/1500 [==============================] - 4s 2ms/step - loss: 0.3192 - accuracy: 0.8862 - val_loss: 0.3751 - val_accuracy: 0.8687\n",
      "Epoch 6/20\n",
      "1500/1500 [==============================] - 4s 2ms/step - loss: 0.3077 - accuracy: 0.8905 - val_loss: 0.3679 - val_accuracy: 0.8794\n",
      "Epoch 7/20\n",
      "1500/1500 [==============================] - 4s 2ms/step - loss: 0.2971 - accuracy: 0.8944 - val_loss: 0.4015 - val_accuracy: 0.8684\n",
      "Epoch 8/20\n",
      "1500/1500 [==============================] - 4s 3ms/step - loss: 0.2897 - accuracy: 0.8976 - val_loss: 0.3819 - val_accuracy: 0.8773\n",
      "Epoch 9/20\n",
      "1500/1500 [==============================] - 4s 3ms/step - loss: 0.2829 - accuracy: 0.9011 - val_loss: 0.3750 - val_accuracy: 0.8805\n",
      "Epoch 10/20\n",
      "1500/1500 [==============================] - 4s 2ms/step - loss: 0.2779 - accuracy: 0.9032 - val_loss: 0.4093 - val_accuracy: 0.8739\n",
      "Epoch 11/20\n",
      "1500/1500 [==============================] - 4s 3ms/step - loss: 0.2678 - accuracy: 0.9061 - val_loss: 0.3989 - val_accuracy: 0.8813\n",
      "Epoch 12/20\n",
      "1500/1500 [==============================] - 4s 2ms/step - loss: 0.2633 - accuracy: 0.9072 - val_loss: 0.3944 - val_accuracy: 0.8816\n",
      "Epoch 13/20\n",
      "1500/1500 [==============================] - 4s 2ms/step - loss: 0.2604 - accuracy: 0.9093 - val_loss: 0.4084 - val_accuracy: 0.8818\n",
      "Epoch 14/20\n",
      "1500/1500 [==============================] - 4s 2ms/step - loss: 0.2588 - accuracy: 0.9103 - val_loss: 0.4300 - val_accuracy: 0.8820\n",
      "Epoch 15/20\n",
      "1500/1500 [==============================] - 4s 3ms/step - loss: 0.2480 - accuracy: 0.9146 - val_loss: 0.4371 - val_accuracy: 0.8818\n",
      "Epoch 16/20\n",
      "1500/1500 [==============================] - 4s 3ms/step - loss: 0.2469 - accuracy: 0.9153 - val_loss: 0.4355 - val_accuracy: 0.8792\n",
      "Epoch 17/20\n",
      "1500/1500 [==============================] - 4s 3ms/step - loss: 0.2425 - accuracy: 0.9160 - val_loss: 0.4735 - val_accuracy: 0.8723\n",
      "Epoch 18/20\n",
      "1500/1500 [==============================] - 4s 2ms/step - loss: 0.2390 - accuracy: 0.9185 - val_loss: 0.4584 - val_accuracy: 0.8823\n",
      "Epoch 19/20\n",
      "1500/1500 [==============================] - 4s 2ms/step - loss: 0.2314 - accuracy: 0.9206 - val_loss: 0.4705 - val_accuracy: 0.8728\n",
      "Epoch 20/20\n",
      "1500/1500 [==============================] - 4s 2ms/step - loss: 0.2312 - accuracy: 0.9223 - val_loss: 0.4484 - val_accuracy: 0.8854\n"
     ]
    }
   ],
   "source": [
    "# 모델 훈련 및 검증을 동시에 수행하기 \n",
    "model = model_fn()\n",
    "model.compile(loss=\"sparse_categorical_crossentropy\",\n",
    "             metrics=\"accuracy\")\n",
    "\n",
    "# 훈련과 검증을 동시에 훈련\n",
    "history = model.fit(train_scaled, train_target,epochs=20, verbose=1,\n",
    "                   validation_data=(val_scaled, val_target))\n",
    "history."
   ]
  },
  {
   "cell_type": "code",
   "execution_count": 54,
   "id": "77418cfc",
   "metadata": {},
   "outputs": [
    {
     "data": {
      "image/png": "[encoded data removed]",
      "text/plain": [
       "<Figure size 432x288 with 1 Axes>"
      ]
     },
     "metadata": {
      "needs_background": "light"
     },
     "output_type": "display_data"
    }
   ],
   "source": [
    "# 훈련 및 검증에 대한 손실곡선을 하나의 그래프에 그리기\n",
    "history.history.keys()\n",
    "\n",
    "plt.plot(history.epoch, history.history['loss'], history.history['val_loss'])\n",
    "plt.title(\"Epoch5 - loss - val_loss\")\n",
    "plt.xlabel(\"epoch\")\n",
    "plt.ylabel(\"loss | val_loss\")\n",
    "plt.savefig(\"./images/01_Epoch20_loss&val_loss\", dpi=300)\n",
    "plt.show()"
   ]
  },
  {
   "cell_type": "code",
   "execution_count": null,
   "id": "7a104170",
   "metadata": {},
   "outputs": [],
   "source": []
  },
  {
   "cell_type": "code",
   "execution_count": null,
   "id": "c7d32b04",
   "metadata": {},
   "outputs": [],
   "source": []
  }
 ],
 "metadata": {
  "kernelspec": {
   "display_name": "pknu_deep_kernel",
   "language": "python",
   "name": "pknu_deep"
  },
  "language_info": {
   "codemirror_mode": {
    "name": "ipython",
    "version": 3
   },
   "file_extension": ".py",
   "mimetype": "text/x-python",
   "name": "python",
   "nbconvert_exporter": "python",
   "pygments_lexer": "ipython3",
   "version": "3.9.16"
  }
 },
 "nbformat": 4,
 "nbformat_minor": 5
}
