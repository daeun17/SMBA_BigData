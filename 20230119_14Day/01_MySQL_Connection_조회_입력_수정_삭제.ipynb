{
 "cells": [
  {
   "cell_type": "code",
   "execution_count": 12,
   "id": "e4c9a7bc",
   "metadata": {},
   "outputs": [],
   "source": [
    "# 드라이버 설치하기 \n",
    "# 새 프롬포트 창 열어서 mysql 로 이동한 후 아래 명령어 수행 \n",
    "# conda install -c conda-forge PyMySQL\n",
    "import pymysql \n",
    "import pandas as pd"
   ]
  },
  {
   "cell_type": "markdown",
   "id": "d6da9594",
   "metadata": {},
   "source": [
    "## mysql 접속하기"
   ]
  },
  {
   "cell_type": "code",
   "execution_count": 3,
   "id": "2cce4180",
   "metadata": {},
   "outputs": [],
   "source": [
    "host = \"localhost\" # ip : 127.0.0.1\n",
    "user = \"pknu\"\n",
    "password = \"0107\"\n",
    "db = \"pknu\"\n",
    "charset = \"utf8\" # 한글 처리\n",
    "autocommit = True # 입력/수정/삭제 시에 메모리에 자동 적용\n",
    "cursorclass = pymysql.cursors.DictCursor # 조회시에 컬럼명과 데이터 함께 조회 "
   ]
  },
  {
   "cell_type": "code",
   "execution_count": 5,
   "id": "05b80cf2",
   "metadata": {},
   "outputs": [
    {
     "name": "stdout",
     "output_type": "stream",
     "text": [
      "<pymysql.connections.Connection object at 0x000001BC55B33C40>\n"
     ]
    }
   ],
   "source": [
    "# Db랑 연결하기 \n",
    "# DB랑 연결 안되어 있을 시 예외 처리하기 \n",
    "try : \n",
    "    conn = pymysql.connect(host = host, \n",
    "                           user = user,\n",
    "                           password = password,\n",
    "                           db = db,\n",
    "                           charset = charset,\n",
    "                           autocommit = autocommit,\n",
    "                           cursorclass = cursorclass)\n",
    "    print(conn)\n",
    "except :\n",
    "    print(\"서버를 확인해 주세요!!\")"
   ]
  },
  {
   "cell_type": "markdown",
   "id": "42b3bbe3",
   "metadata": {},
   "source": [
    "### MySQL로 부터 cursor 받아오기   "
   ]
  },
  {
   "cell_type": "code",
   "execution_count": 6,
   "id": "30e7999d",
   "metadata": {},
   "outputs": [
    {
     "name": "stdout",
     "output_type": "stream",
     "text": [
      "<pymysql.cursors.DictCursor object at 0x000001BC55AA7E20>\n"
     ]
    }
   ],
   "source": [
    "# cursor : sql 문장을 실어나르고, MYSQL 서버가 실행한 결과를 받아오는 역할 수행\n",
    "# 데이터를 실어나르는 것 만들기\n",
    "cur = conn.cursor()\n",
    "print(cur)"
   ]
  },
  {
   "cell_type": "markdown",
   "id": "4f04a835",
   "metadata": {},
   "source": [
    "### 여러건(행) 조회하기 "
   ]
  },
  {
   "cell_type": "code",
   "execution_count": 13,
   "id": "da7b14ed",
   "metadata": {},
   "outputs": [
    {
     "name": "stdout",
     "output_type": "stream",
     "text": [
      "135건이 조회되었습니다\n",
      "[{'cart_member': 'a001', 'cart_no': '2005040100001', 'cart_prod': 'P101000001', 'cart_qty': 5}, {'cart_member': 'a001', 'cart_no': '2005040100001', 'cart_prod': 'P201000018', 'cart_qty': 16}, {'cart_member': 'a001', 'cart_no': '2005040100001', 'cart_prod': 'P302000003', 'cart_qty': 7}, {'cart_member': 't001', 'cart_no': '2005040100002', 'cart_prod': 'P101000002', 'cart_qty': 2}, {'cart_member': 't001', 'cart_no': '2005040100002', 'cart_prod': 'P302000004', 'cart_qty': 2}, {'cart_member': 'w001', 'cart_no': '2005040100003', 'cart_prod': 'P101000003', 'cart_qty': 3}, {'cart_member': 'w001', 'cart_no': '2005040100003', 'cart_prod': 'P201000019', 'cart_qty': 2}, {'cart_member': 'w001', 'cart_no': '2005040100003', 'cart_prod': 'P201000020', 'cart_qty': 21}, {'cart_member': 'w001', 'cart_no': '2005040100003', 'cart_prod': 'P302000005', 'cart_qty': 9}, {'cart_member': 'r001', 'cart_no': '2005040500001', 'cart_prod': 'P101000004', 'cart_qty': 2}, {'cart_member': 'r001', 'cart_no': '2005040500001', 'cart_prod': 'P201000021', 'cart_qty': 2}, {'cart_member': 'r001', 'cart_no': '2005040500001', 'cart_prod': 'P302000006', 'cart_qty': 2}, {'cart_member': 'q001', 'cart_no': '2005040500002', 'cart_prod': 'P101000005', 'cart_qty': 4}, {'cart_member': 'q001', 'cart_no': '2005040500002', 'cart_prod': 'P202000001', 'cart_qty': 12}, {'cart_member': 'q001', 'cart_no': '2005040500002', 'cart_prod': 'P302000011', 'cart_qty': 11}, {'cart_member': 'p001', 'cart_no': '2005040600001', 'cart_prod': 'P101000006', 'cart_qty': 2}, {'cart_member': 'p001', 'cart_no': '2005040600001', 'cart_prod': 'P202000002', 'cart_qty': 2}, {'cart_member': 'o001', 'cart_no': '2005040600002', 'cart_prod': 'P102000001', 'cart_qty': 6}, {'cart_member': 'o001', 'cart_no': '2005040600002', 'cart_prod': 'P202000003', 'cart_qty': 9}, {'cart_member': 'o001', 'cart_no': '2005040600002', 'cart_prod': 'P302000013', 'cart_qty': 9}, {'cart_member': 'f001', 'cart_no': '2005040800001', 'cart_prod': 'P102000002', 'cart_qty': 2}, {'cart_member': 'f001', 'cart_no': '2005040800001', 'cart_prod': 'P202000004', 'cart_qty': 2}, {'cart_member': 'f001', 'cart_no': '2005040800001', 'cart_prod': 'P302000014', 'cart_qty': 2}, {'cart_member': 'm001', 'cart_no': '2005040800002', 'cart_prod': 'P102000003', 'cart_qty': 9}, {'cart_member': 'm001', 'cart_no': '2005040800002', 'cart_prod': 'P202000005', 'cart_qty': 8}, {'cart_member': 'm001', 'cart_no': '2005040800002', 'cart_prod': 'P302000015', 'cart_qty': 8}, {'cart_member': 'l001', 'cart_no': '2005041000001', 'cart_prod': 'P102000004', 'cart_qty': 2}, {'cart_member': 'l001', 'cart_no': '2005041000001', 'cart_prod': 'P202000006', 'cart_qty': 2}, {'cart_member': 'l001', 'cart_no': '2005041000001', 'cart_prod': 'P302000016', 'cart_qty': 2}, {'cart_member': 'f001', 'cart_no': '2005041000002', 'cart_prod': 'P102000005', 'cart_qty': 8}, {'cart_member': 'f001', 'cart_no': '2005041000002', 'cart_prod': 'P202000007', 'cart_qty': 7}, {'cart_member': 'f001', 'cart_no': '2005041000002', 'cart_prod': 'P302000021', 'cart_qty': 7}, {'cart_member': 'j001', 'cart_no': '2005041200001', 'cart_prod': 'P102000006', 'cart_qty': 2}, {'cart_member': 'j001', 'cart_no': '2005041200001', 'cart_prod': 'P202000008', 'cart_qty': 2}, {'cart_member': 'j001', 'cart_no': '2005041200001', 'cart_prod': 'P202000009', 'cart_qty': 6}, {'cart_member': 'j001', 'cart_no': '2005041200001', 'cart_prod': 'P302000022', 'cart_qty': 2}, {'cart_member': 'm001', 'cart_no': '2005041200002', 'cart_prod': 'P102000007', 'cart_qty': 7}, {'cart_member': 'm001', 'cart_no': '2005041200002', 'cart_prod': 'P202000010', 'cart_qty': 2}, {'cart_member': 'm001', 'cart_no': '2005041200002', 'cart_prod': 'P302000023', 'cart_qty': 6}, {'cart_member': 'f001', 'cart_no': '2005041500001', 'cart_prod': 'P201000001', 'cart_qty': 2}, {'cart_member': 'f001', 'cart_no': '2005041500001', 'cart_prod': 'P302000001', 'cart_qty': 2}, {'cart_member': 'j001', 'cart_no': '2005041500002', 'cart_prod': 'P201000002', 'cart_qty': 5}, {'cart_member': 'j001', 'cart_no': '2005041500002', 'cart_prod': 'P202000011', 'cart_qty': 5}, {'cart_member': 'j001', 'cart_no': '2005041500002', 'cart_prod': 'P302000002', 'cart_qty': 5}, {'cart_member': 'f001', 'cart_no': '2005041600001', 'cart_prod': 'P201000003', 'cart_qty': 2}, {'cart_member': 'f001', 'cart_no': '2005041600001', 'cart_prod': 'P202000012', 'cart_qty': 2}, {'cart_member': 'f001', 'cart_no': '2005041600001', 'cart_prod': 'P302000003', 'cart_qty': 2}, {'cart_member': 'e001', 'cart_no': '2005041600002', 'cart_prod': 'P201000004', 'cart_qty': 3}, {'cart_member': 'e001', 'cart_no': '2005041600002', 'cart_prod': 'P202000013', 'cart_qty': 4}, {'cart_member': 'e001', 'cart_no': '2005041600002', 'cart_prod': 'P302000004', 'cart_qty': 4}, {'cart_member': 'd001', 'cart_no': '2005041800001', 'cart_prod': 'P201000005', 'cart_qty': 2}, {'cart_member': 'd001', 'cart_no': '2005041800001', 'cart_prod': 'P202000014', 'cart_qty': 2}, {'cart_member': 'd001', 'cart_no': '2005041800001', 'cart_prod': 'P302000005', 'cart_qty': 2}, {'cart_member': 'c001', 'cart_no': '2005041800002', 'cart_prod': 'P201000006', 'cart_qty': 1}, {'cart_member': 'c001', 'cart_no': '2005041800002', 'cart_prod': 'P202000015', 'cart_qty': 3}, {'cart_member': 'c001', 'cart_no': '2005041800002', 'cart_prod': 'P302000006', 'cart_qty': 3}, {'cart_member': 'b001', 'cart_no': '2005042000001', 'cart_prod': 'P201000007', 'cart_qty': 2}, {'cart_member': 'b001', 'cart_no': '2005042000001', 'cart_prod': 'P201000008', 'cart_qty': 5}, {'cart_member': 'b001', 'cart_no': '2005042000001', 'cart_prod': 'P202000016', 'cart_qty': 2}, {'cart_member': 'b001', 'cart_no': '2005042000001', 'cart_prod': 'P202000017', 'cart_qty': 1}, {'cart_member': 'b001', 'cart_no': '2005042000001', 'cart_prod': 'P302000011', 'cart_qty': 2}, {'cart_member': 'c001', 'cart_no': '2005042000002', 'cart_prod': 'P201000009', 'cart_qty': 2}, {'cart_member': 'c001', 'cart_no': '2005042000002', 'cart_prod': 'P201000010', 'cart_qty': 4}, {'cart_member': 'c001', 'cart_no': '2005042000002', 'cart_prod': 'P202000018', 'cart_qty': 2}, {'cart_member': 'c001', 'cart_no': '2005042000002', 'cart_prod': 'P202000019', 'cart_qty': 2}, {'cart_member': 'c001', 'cart_no': '2005042000002', 'cart_prod': 'P202000020', 'cart_qty': 2}, {'cart_member': 'x001', 'cart_no': '2005042400001', 'cart_prod': 'P201000011', 'cart_qty': 2}, {'cart_member': 'x001', 'cart_no': '2005042400001', 'cart_prod': 'P201000012', 'cart_qty': 3}, {'cart_member': 'x001', 'cart_no': '2005042400001', 'cart_prod': 'P202000021', 'cart_qty': 4}, {'cart_member': 'e001', 'cart_no': '2005042400002', 'cart_prod': 'P201000013', 'cart_qty': 2}, {'cart_member': 'e001', 'cart_no': '2005042400002', 'cart_prod': 'P201000014', 'cart_qty': 13}, {'cart_member': 'e001', 'cart_no': '2005042400002', 'cart_prod': 'P301000001', 'cart_qty': 2}, {'cart_member': 'e001', 'cart_no': '2005042400002', 'cart_prod': 'P301000002', 'cart_qty': 5}, {'cart_member': 'c001', 'cart_no': '2005042800001', 'cart_prod': 'P201000015', 'cart_qty': 2}, {'cart_member': 'c001', 'cart_no': '2005042800001', 'cart_prod': 'P301000003', 'cart_qty': 2}, {'cart_member': 'b001', 'cart_no': '2005042800002', 'cart_prod': 'P201000016', 'cart_qty': 15}, {'cart_member': 'b001', 'cart_no': '2005042800002', 'cart_prod': 'P201000017', 'cart_qty': 2}, {'cart_member': 'b001', 'cart_no': '2005042800002', 'cart_prod': 'P302000001', 'cart_qty': 6}, {'cart_member': 'b001', 'cart_no': '2005042800002', 'cart_prod': 'P302000002', 'cart_qty': 2}, {'cart_member': 'b001', 'cart_no': '2005050100001', 'cart_prod': 'P201000013', 'cart_qty': 5}, {'cart_member': 'b001', 'cart_no': '2005050100001', 'cart_prod': 'P301000002', 'cart_qty': 5}, {'cart_member': 'c001', 'cart_no': '2005050100002', 'cart_prod': 'P201000014', 'cart_qty': 3}, {'cart_member': 'c001', 'cart_no': '2005050100002', 'cart_prod': 'P201000015', 'cart_qty': 7}, {'cart_member': 'c001', 'cart_no': '2005050100002', 'cart_prod': 'P301000003', 'cart_qty': 6}, {'cart_member': 'd001', 'cart_no': '2005050300001', 'cart_prod': 'P302000001', 'cart_qty': 4}, {'cart_member': 'd001', 'cart_no': '2005050300001', 'cart_prod': 'P302000002', 'cart_qty': 3}, {'cart_member': 'e001', 'cart_no': '2005050300002', 'cart_prod': 'P201000016', 'cart_qty': 8}, {'cart_member': 'e001', 'cart_no': '2005050300002', 'cart_prod': 'P201000017', 'cart_qty': 21}, {'cart_member': 'g001', 'cart_no': '2005050500001', 'cart_prod': 'P201000018', 'cart_qty': 11}, {'cart_member': 'g001', 'cart_no': '2005050500001', 'cart_prod': 'P302000003', 'cart_qty': 4}, {'cart_member': 'g001', 'cart_no': '2005050500001', 'cart_prod': 'P302000004', 'cart_qty': 3}, {'cart_member': 'a001', 'cart_no': '2005050500002', 'cart_prod': 'P201000019', 'cart_qty': 12}, {'cart_member': 'a001', 'cart_no': '2005050700001', 'cart_prod': 'P101000001', 'cart_qty': 3}, {'cart_member': 'a001', 'cart_no': '2005050700001', 'cart_prod': 'P101000002', 'cart_qty': 1}, {'cart_member': 'a001', 'cart_no': '2005050700001', 'cart_prod': 'P302000005', 'cart_qty': 5}, {'cart_member': 'b001', 'cart_no': '2005050700002', 'cart_prod': 'P201000020', 'cart_qty': 2}, {'cart_member': 'b001', 'cart_no': '2005050700002', 'cart_prod': 'P302000006', 'cart_qty': 6}, {'cart_member': 'b001', 'cart_no': '2005050700002', 'cart_prod': 'P302000011', 'cart_qty': 7}, {'cart_member': 'c001', 'cart_no': '2005051000001', 'cart_prod': 'P101000003', 'cart_qty': 2}, {'cart_member': 'c001', 'cart_no': '2005051000001', 'cart_prod': 'P101000004', 'cart_qty': 4}, {'cart_member': 'c001', 'cart_no': '2005051000001', 'cart_prod': 'P201000021', 'cart_qty': 5}, {'cart_member': 'd001', 'cart_no': '2005051000002', 'cart_prod': 'P101000005', 'cart_qty': 5}, {'cart_member': 'd001', 'cart_no': '2005051000002', 'cart_prod': 'P202000001', 'cart_qty': 6}, {'cart_member': 'd001', 'cart_no': '2005051000002', 'cart_prod': 'P202000002', 'cart_qty': 7}, {'cart_member': 'd001', 'cart_no': '2005051000002', 'cart_prod': 'P302000012', 'cart_qty': 8}, {'cart_member': 'd001', 'cart_no': '2005051000002', 'cart_prod': 'P302000013', 'cart_qty': 3}, {'cart_member': 'f001', 'cart_no': '2005051200001', 'cart_prod': 'P101000006', 'cart_qty': 6}, {'cart_member': 'f001', 'cart_no': '2005051200001', 'cart_prod': 'P102000001', 'cart_qty': 1}, {'cart_member': 'f001', 'cart_no': '2005051200001', 'cart_prod': 'P202000003', 'cart_qty': 8}, {'cart_member': 'f001', 'cart_no': '2005051200001', 'cart_prod': 'P302000014', 'cart_qty': 4}, {'cart_member': 'f001', 'cart_no': '2005051200001', 'cart_prod': 'P302000015', 'cart_qty': 5}, {'cart_member': 'g001', 'cart_no': '2005051300001', 'cart_prod': 'P102000002', 'cart_qty': 2}, {'cart_member': 'g001', 'cart_no': '2005051300001', 'cart_prod': 'P202000004', 'cart_qty': 9}, {'cart_member': 'g001', 'cart_no': '2005051300001', 'cart_prod': 'P202000005', 'cart_qty': 11}, {'cart_member': 'g001', 'cart_no': '2005051300001', 'cart_prod': 'P302000016', 'cart_qty': 6}, {'cart_member': 'g001', 'cart_no': '2005051300001', 'cart_prod': 'P302000021', 'cart_qty': 3}, {'cart_member': 'i001', 'cart_no': '2005051500001', 'cart_prod': 'P102000003', 'cart_qty': 3}, {'cart_member': 'i001', 'cart_no': '2005051500001', 'cart_prod': 'P202000006', 'cart_qty': 12}, {'cart_member': 'j001', 'cart_no': '2005051600001', 'cart_prod': 'P102000004', 'cart_qty': 4}, {'cart_member': 'j001', 'cart_no': '2005051600001', 'cart_prod': 'P202000007', 'cart_qty': 17}, {'cart_member': 'j001', 'cart_no': '2005051600001', 'cart_prod': 'P302000022', 'cart_qty': 1}, {'cart_member': 'k001', 'cart_no': '2005051600002', 'cart_prod': 'P102000005', 'cart_qty': 5}, {'cart_member': 'k001', 'cart_no': '2005051600002', 'cart_prod': 'P102000006', 'cart_qty': 6}, {'cart_member': 'k001', 'cart_no': '2005051600002', 'cart_prod': 'P202000008', 'cart_qty': 21}, {'cart_member': 'k001', 'cart_no': '2005051600002', 'cart_prod': 'P202000009', 'cart_qty': 13}, {'cart_member': 'k001', 'cart_no': '2005051600002', 'cart_prod': 'P302000023', 'cart_qty': 3}, {'cart_member': 'l001', 'cart_no': '2005051800001', 'cart_prod': 'P302000001', 'cart_qty': 4}, {'cart_member': 'l001', 'cart_no': '2005051800001', 'cart_prod': 'P302000002', 'cart_qty': 6}, {'cart_member': 'm001', 'cart_no': '2005051800002', 'cart_prod': 'P102000007', 'cart_qty': 3}, {'cart_member': 'm001', 'cart_no': '2005051800002', 'cart_prod': 'P201000001', 'cart_qty': 5}, {'cart_member': 'm001', 'cart_no': '2005051800002', 'cart_prod': 'P202000010', 'cart_qty': 23}, {'cart_member': 'm001', 'cart_no': '2005051800002', 'cart_prod': 'P202000011', 'cart_qty': 25}, {'cart_member': 'm001', 'cart_no': '2005051800002', 'cart_prod': 'P302000003', 'cart_qty': 7}, {'cart_member': 'm001', 'cart_no': '2005051800002', 'cart_prod': 'P302000004', 'cart_qty': 2}, {'cart_member': 'o001', 'cart_no': '2005052100001', 'cart_prod': 'P201000002', 'cart_qty': 2}]\n"
     ]
    }
   ],
   "source": [
    "sql = \"\"\"\n",
    "    select * from cart\n",
    "    \n",
    "\"\"\"\n",
    "# execute : DB 서버에 실어나르로 결과 받아오라는 명령 \n",
    "rs_cnt = cur.execute(sql)\n",
    "if rs_cnt > 0 :\n",
    "    print(\"{}건이 조회되었습니다\".format(rs_cnt))\n",
    "    # 데이터 가져오기 \n",
    "    # 여러건 조회 결과를 가지고 있는 변수는 : 커서\n",
    "    # fetchall = >전부다 \n",
    "    # fetchone => 하나만 \n",
    "    rows = cur.fetchall()\n",
    "    print(rows)\n",
    "    # 조회 결과 => 전체는 리스트 ->  안에는 딕셔너리 \n",
    "    # 데이터 프레임에 담기 \n",
    "    member_all = pd.DataFrame(rows)\n",
    "    \n",
    "else : \n",
    "    print(\"조회결과가 없습니다\")"
   ]
  },
  {
   "cell_type": "code",
   "execution_count": 15,
   "id": "50138fa2",
   "metadata": {},
   "outputs": [
    {
     "data": {
      "text/html": [
       "<div>\n",
       "<style scoped>\n",
       "    .dataframe tbody tr th:only-of-type {\n",
       "        vertical-align: middle;\n",
       "    }\n",
       "\n",
       "    .dataframe tbody tr th {\n",
       "        vertical-align: top;\n",
       "    }\n",
       "\n",
       "    .dataframe thead th {\n",
       "        text-align: right;\n",
       "    }\n",
       "</style>\n",
       "<table border=\"1\" class=\"dataframe\">\n",
       "  <thead>\n",
       "    <tr style=\"text-align: right;\">\n",
       "      <th></th>\n",
       "      <th>cart_member</th>\n",
       "      <th>cart_no</th>\n",
       "      <th>cart_prod</th>\n",
       "      <th>cart_qty</th>\n",
       "    </tr>\n",
       "  </thead>\n",
       "  <tbody>\n",
       "    <tr>\n",
       "      <th>0</th>\n",
       "      <td>a001</td>\n",
       "      <td>2005040100001</td>\n",
       "      <td>P101000001</td>\n",
       "      <td>5</td>\n",
       "    </tr>\n",
       "    <tr>\n",
       "      <th>1</th>\n",
       "      <td>a001</td>\n",
       "      <td>2005040100001</td>\n",
       "      <td>P201000018</td>\n",
       "      <td>16</td>\n",
       "    </tr>\n",
       "    <tr>\n",
       "      <th>2</th>\n",
       "      <td>a001</td>\n",
       "      <td>2005040100001</td>\n",
       "      <td>P302000003</td>\n",
       "      <td>7</td>\n",
       "    </tr>\n",
       "    <tr>\n",
       "      <th>3</th>\n",
       "      <td>t001</td>\n",
       "      <td>2005040100002</td>\n",
       "      <td>P101000002</td>\n",
       "      <td>2</td>\n",
       "    </tr>\n",
       "    <tr>\n",
       "      <th>4</th>\n",
       "      <td>t001</td>\n",
       "      <td>2005040100002</td>\n",
       "      <td>P302000004</td>\n",
       "      <td>2</td>\n",
       "    </tr>\n",
       "    <tr>\n",
       "      <th>...</th>\n",
       "      <td>...</td>\n",
       "      <td>...</td>\n",
       "      <td>...</td>\n",
       "      <td>...</td>\n",
       "    </tr>\n",
       "    <tr>\n",
       "      <th>130</th>\n",
       "      <td>m001</td>\n",
       "      <td>2005051800002</td>\n",
       "      <td>P202000010</td>\n",
       "      <td>23</td>\n",
       "    </tr>\n",
       "    <tr>\n",
       "      <th>131</th>\n",
       "      <td>m001</td>\n",
       "      <td>2005051800002</td>\n",
       "      <td>P202000011</td>\n",
       "      <td>25</td>\n",
       "    </tr>\n",
       "    <tr>\n",
       "      <th>132</th>\n",
       "      <td>m001</td>\n",
       "      <td>2005051800002</td>\n",
       "      <td>P302000003</td>\n",
       "      <td>7</td>\n",
       "    </tr>\n",
       "    <tr>\n",
       "      <th>133</th>\n",
       "      <td>m001</td>\n",
       "      <td>2005051800002</td>\n",
       "      <td>P302000004</td>\n",
       "      <td>2</td>\n",
       "    </tr>\n",
       "    <tr>\n",
       "      <th>134</th>\n",
       "      <td>o001</td>\n",
       "      <td>2005052100001</td>\n",
       "      <td>P201000002</td>\n",
       "      <td>2</td>\n",
       "    </tr>\n",
       "  </tbody>\n",
       "</table>\n",
       "<p>135 rows × 4 columns</p>\n",
       "</div>"
      ],
      "text/plain": [
       "    cart_member        cart_no   cart_prod  cart_qty\n",
       "0          a001  2005040100001  P101000001         5\n",
       "1          a001  2005040100001  P201000018        16\n",
       "2          a001  2005040100001  P302000003         7\n",
       "3          t001  2005040100002  P101000002         2\n",
       "4          t001  2005040100002  P302000004         2\n",
       "..          ...            ...         ...       ...\n",
       "130        m001  2005051800002  P202000010        23\n",
       "131        m001  2005051800002  P202000011        25\n",
       "132        m001  2005051800002  P302000003         7\n",
       "133        m001  2005051800002  P302000004         2\n",
       "134        o001  2005052100001  P201000002         2\n",
       "\n",
       "[135 rows x 4 columns]"
      ]
     },
     "execution_count": 15,
     "metadata": {},
     "output_type": "execute_result"
    }
   ],
   "source": [
    "member_all"
   ]
  },
  {
   "cell_type": "markdown",
   "id": "89a56834",
   "metadata": {},
   "source": [
    "## 1건 조회시"
   ]
  },
  {
   "cell_type": "code",
   "execution_count": 19,
   "id": "0fa0e648",
   "metadata": {},
   "outputs": [
    {
     "name": "stdout",
     "output_type": "stream",
     "text": [
      "1건이 조회되었습니다\n",
      "{'mem_id': 'a001', 'mem_pass': 'asdfasdf', 'mem_name': '김은대', 'mem_regno1': '760115', 'mem_regno2': '1406420', 'mem_bir': datetime.datetime(1976, 1, 15, 0, 0), 'mem_zip': '135-972', 'mem_add1': '대전시 동구 용운동', 'mem_add2': '222-2번지', 'mem_hometel': '042-621-4615', 'mem_comtel': '042-621-4615', 'mem_hp': '011-621-4615', 'mem_mail': 'pyoedab@lycos.co.kr', 'mem_job': '주부', 'mem_like': '수영', 'mem_memorial': '결혼기념일', 'mem_memorialday': datetime.datetime(1999, 1, 12, 0, 0), 'mem_mileage': 1000, 'mem_delete': ''}\n"
     ]
    }
   ],
   "source": [
    "sql = \"\"\"\n",
    "    select * \n",
    "    from member\n",
    "    where mem_id = 'a001'\n",
    "    \n",
    "\"\"\"\n",
    "# execute : DB 서버에 실어나르로 결과 받아오라는 명령 \n",
    "rs_cnt = cur.execute(sql)\n",
    "if rs_cnt > 0 :\n",
    "    print(\"{}건이 조회되었습니다\".format(rs_cnt))\n",
    "    # 데이터 가져오기 \n",
    "    # 여러건 조회 결과를 가지고 있는 변수는 : 커서\n",
    "    # fetchall = >전부다 \n",
    "    # fetchone => 하나만 \n",
    "    row = cur.fetchone()\n",
    "    print(row)\n",
    "    # 조회 결과 => 딕셔너리 \n",
    "    # 리스트로 감싼 후 데이터 프레임으로 변경\n",
    "    member_one = pd.DataFrame([row])\n",
    "    \n",
    "else : \n",
    "    print(\"조회결과가 없습니다\")"
   ]
  },
  {
   "cell_type": "code",
   "execution_count": 20,
   "id": "d2e37f76",
   "metadata": {},
   "outputs": [
    {
     "data": {
      "text/html": [
       "<div>\n",
       "<style scoped>\n",
       "    .dataframe tbody tr th:only-of-type {\n",
       "        vertical-align: middle;\n",
       "    }\n",
       "\n",
       "    .dataframe tbody tr th {\n",
       "        vertical-align: top;\n",
       "    }\n",
       "\n",
       "    .dataframe thead th {\n",
       "        text-align: right;\n",
       "    }\n",
       "</style>\n",
       "<table border=\"1\" class=\"dataframe\">\n",
       "  <thead>\n",
       "    <tr style=\"text-align: right;\">\n",
       "      <th></th>\n",
       "      <th>mem_id</th>\n",
       "      <th>mem_pass</th>\n",
       "      <th>mem_name</th>\n",
       "      <th>mem_regno1</th>\n",
       "      <th>mem_regno2</th>\n",
       "      <th>mem_bir</th>\n",
       "      <th>mem_zip</th>\n",
       "      <th>mem_add1</th>\n",
       "      <th>mem_add2</th>\n",
       "      <th>mem_hometel</th>\n",
       "      <th>mem_comtel</th>\n",
       "      <th>mem_hp</th>\n",
       "      <th>mem_mail</th>\n",
       "      <th>mem_job</th>\n",
       "      <th>mem_like</th>\n",
       "      <th>mem_memorial</th>\n",
       "      <th>mem_memorialday</th>\n",
       "      <th>mem_mileage</th>\n",
       "      <th>mem_delete</th>\n",
       "    </tr>\n",
       "  </thead>\n",
       "  <tbody>\n",
       "    <tr>\n",
       "      <th>0</th>\n",
       "      <td>a001</td>\n",
       "      <td>asdfasdf</td>\n",
       "      <td>김은대</td>\n",
       "      <td>760115</td>\n",
       "      <td>1406420</td>\n",
       "      <td>1976-01-15</td>\n",
       "      <td>135-972</td>\n",
       "      <td>대전시 동구 용운동</td>\n",
       "      <td>222-2번지</td>\n",
       "      <td>042-621-4615</td>\n",
       "      <td>042-621-4615</td>\n",
       "      <td>011-621-4615</td>\n",
       "      <td>pyoedab@lycos.co.kr</td>\n",
       "      <td>주부</td>\n",
       "      <td>수영</td>\n",
       "      <td>결혼기념일</td>\n",
       "      <td>1999-01-12</td>\n",
       "      <td>1000</td>\n",
       "      <td></td>\n",
       "    </tr>\n",
       "  </tbody>\n",
       "</table>\n",
       "</div>"
      ],
      "text/plain": [
       "  mem_id  mem_pass mem_name mem_regno1 mem_regno2    mem_bir  mem_zip  \\\n",
       "0   a001  asdfasdf      김은대     760115    1406420 1976-01-15  135-972   \n",
       "\n",
       "     mem_add1 mem_add2   mem_hometel    mem_comtel        mem_hp  \\\n",
       "0  대전시 동구 용운동  222-2번지  042-621-4615  042-621-4615  011-621-4615   \n",
       "\n",
       "              mem_mail mem_job mem_like mem_memorial mem_memorialday  \\\n",
       "0  pyoedab@lycos.co.kr      주부       수영        결혼기념일      1999-01-12   \n",
       "\n",
       "   mem_mileage mem_delete  \n",
       "0         1000             "
      ]
     },
     "execution_count": 20,
     "metadata": {},
     "output_type": "execute_result"
    }
   ],
   "source": [
    "member_one"
   ]
  },
  {
   "cell_type": "markdown",
   "id": "317574e0",
   "metadata": {},
   "source": [
    "## 입력/수정/삭제"
   ]
  },
  {
   "cell_type": "code",
   "execution_count": 26,
   "id": "1160c276",
   "metadata": {},
   "outputs": [
    {
     "name": "stdout",
     "output_type": "stream",
     "text": [
      "1건이 입력되었습니다\n"
     ]
    }
   ],
   "source": [
    "# 입력\n",
    "sql = \"\"\"\n",
    "    Insert Into cart(cart_member, cart_no, cart_prod, cart_qty)\n",
    "        Values('t001','202301190001','P101000002',4)\n",
    "\"\"\"\n",
    "rs_cnt = cur.execute(sql)\n",
    "if rs_cnt > 0 :\n",
    "    print(\"{}건이 입력되었습니다\".format(rs_cnt))\n",
    "else : \n",
    "    print(\"입력되지 않았습니다\")"
   ]
  },
  {
   "cell_type": "code",
   "execution_count": 27,
   "id": "047792a4",
   "metadata": {},
   "outputs": [
    {
     "name": "stdout",
     "output_type": "stream",
     "text": [
      "1건이 수정 되었습니다\n"
     ]
    }
   ],
   "source": [
    "# 수정 \n",
    "sql = \"\"\"\n",
    "    Update cart \n",
    "        Set cart_qty = 14 \n",
    "    Where cart_no = '202301190001'\n",
    "\"\"\"\n",
    "rs_cnt = cur.execute(sql)\n",
    "if rs_cnt > 0 :\n",
    "    print(\"{}건이 수정 되었습니다\".format(rs_cnt))\n",
    "else : \n",
    "    print(\"수정되지 않았습니다\")"
   ]
  },
  {
   "cell_type": "code",
   "execution_count": 28,
   "id": "068bed60",
   "metadata": {},
   "outputs": [
    {
     "name": "stdout",
     "output_type": "stream",
     "text": [
      "1건이 삭제 되었습니다\n"
     ]
    }
   ],
   "source": [
    "# 삭제 \n",
    "sql = \"\"\"\n",
    "    Delete from cart \n",
    "    Where cart_no = '202301190001'\n",
    "\"\"\"\n",
    "rs_cnt = cur.execute(sql)\n",
    "if rs_cnt > 0 :\n",
    "    print(\"{}건이 삭제 되었습니다\".format(rs_cnt))\n",
    "else : \n",
    "    print(\"삭제되지 않았습니다\")"
   ]
  },
  {
   "cell_type": "markdown",
   "id": "230db17a",
   "metadata": {},
   "source": [
    "## DB와 연결끊기 "
   ]
  },
  {
   "cell_type": "code",
   "execution_count": 30,
   "id": "03cd3e29",
   "metadata": {},
   "outputs": [
    {
     "name": "stdout",
     "output_type": "stream",
     "text": [
      "서버에 이상이 있거나, 이미 접속을 끊었습니다\n"
     ]
    }
   ],
   "source": [
    "# 연결 끊는 순서 : 커서 close , 접속 close \n",
    "# 이미 중지된 경우 error 예외 처리하기 \n",
    "try : \n",
    "    cur.close()\n",
    "    conn.close()\n",
    "except : \n",
    "    print(\"서버에 이상이 있거나, 이미 접속을 끊었습니다\")"
   ]
  },
  {
   "cell_type": "code",
   "execution_count": null,
   "id": "29a34992",
   "metadata": {},
   "outputs": [],
   "source": [
    "# CRUD : create select update delete \n",
    "# join : 인터넷 따로 공부하기 "
   ]
  }
 ],
 "metadata": {
  "kernelspec": {
   "display_name": "mysql_base_kernel",
   "language": "python",
   "name": "mysql"
  },
  "language_info": {
   "codemirror_mode": {
    "name": "ipython",
    "version": 3
   },
   "file_extension": ".py",
   "mimetype": "text/x-python",
   "name": "python",
   "nbconvert_exporter": "python",
   "pygments_lexer": "ipython3",
   "version": "3.9.16"
  }
 },
 "nbformat": 4,
 "nbformat_minor": 5
}
