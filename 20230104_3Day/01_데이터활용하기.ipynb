{
 "cells": [
  {
   "cell_type": "code",
   "execution_count": 1,
   "id": "2cecf90f",
   "metadata": {},
   "outputs": [],
   "source": [
    "# 데이터 불러오기 \n",
    "# 데이터 프레임 : 데이터를 보기 쉽게 가져 올 수 있는 방식\n"
   ]
  },
  {
   "cell_type": "code",
   "execution_count": 2,
   "id": "c5ffd683",
   "metadata": {},
   "outputs": [],
   "source": [
    "# 행렬의 데이터를 처리하는데 필요한 기능들이 많이 있음 \n",
    "# 데이터 처리에 편리함 \n",
    "import pandas as pd "
   ]
  },
  {
   "cell_type": "code",
   "execution_count": 22,
   "id": "f91b2f21",
   "metadata": {},
   "outputs": [],
   "source": [
    "# 데이터를 읽어 들일 때는 read_excel() 함수 사용 \n",
    "# read_ 로 시작되는 것 => 파일을 읽어오는 것 \n",
    "# 읽어들인 데이터의 형태는 데이터 프레임 형태라고 칭한다\n",
    "# 데이터 프레임 : 행과 열과  되어 있는 형태 \n",
    "# 1번째 값 : 파일 위치, 파일 명 \n",
    "# 2번째 header : 제목의 위치 header = 0 이면 생략 가능 \n",
    "# 3번째 skipfooter : 제일 하단에 읽어들이지 않을 행을 지정 skipfooter = 0 이면 생략 가능 \n",
    "# 4번쨰 usecols (사용자 데이터 변수) : 읽어들일 변수 (컬럼 == 제목)의 열을 지정, usecols 전체 가져 올거다 -> 생략 가능\n",
    "# 기본적으로 0번째 시트를 불러옴 \n",
    "# 가져 온 결과 : 데이터 프레임 형태 -> 바로 사용이 안됨 -> 사용을 하려면 저장 필요 \n",
    "# 데이터 프레임 변수(sample_1)로 받아와야 한다 \n",
    "\n",
    "sample_1 = pd.read_excel(\"./files_01/sample_1.xlsx\", \n",
    "              header = 1,\n",
    "              skipfooter = 2,\n",
    "              usecols = \"A:C\")"
   ]
  },
  {
   "cell_type": "code",
   "execution_count": 23,
   "id": "a0148672",
   "metadata": {},
   "outputs": [
    {
     "data": {
      "text/html": [
       "<div>\n",
       "<style scoped>\n",
       "    .dataframe tbody tr th:only-of-type {\n",
       "        vertical-align: middle;\n",
       "    }\n",
       "\n",
       "    .dataframe tbody tr th {\n",
       "        vertical-align: top;\n",
       "    }\n",
       "\n",
       "    .dataframe thead th {\n",
       "        text-align: right;\n",
       "    }\n",
       "</style>\n",
       "<table border=\"1\" class=\"dataframe\">\n",
       "  <thead>\n",
       "    <tr style=\"text-align: right;\">\n",
       "      <th></th>\n",
       "      <th>국적코드</th>\n",
       "      <th>성별</th>\n",
       "      <th>입국객수</th>\n",
       "    </tr>\n",
       "  </thead>\n",
       "  <tbody>\n",
       "    <tr>\n",
       "      <th>0</th>\n",
       "      <td>A01</td>\n",
       "      <td>남성</td>\n",
       "      <td>106320</td>\n",
       "    </tr>\n",
       "    <tr>\n",
       "      <th>1</th>\n",
       "      <td>A01</td>\n",
       "      <td>여성</td>\n",
       "      <td>191436</td>\n",
       "    </tr>\n",
       "    <tr>\n",
       "      <th>2</th>\n",
       "      <td>A31</td>\n",
       "      <td>남성</td>\n",
       "      <td>319</td>\n",
       "    </tr>\n",
       "    <tr>\n",
       "      <th>3</th>\n",
       "      <td>A31</td>\n",
       "      <td>여성</td>\n",
       "      <td>42</td>\n",
       "    </tr>\n",
       "    <tr>\n",
       "      <th>4</th>\n",
       "      <td>A18</td>\n",
       "      <td>남성</td>\n",
       "      <td>158912</td>\n",
       "    </tr>\n",
       "    <tr>\n",
       "      <th>5</th>\n",
       "      <td>A18</td>\n",
       "      <td>여성</td>\n",
       "      <td>232943</td>\n",
       "    </tr>\n",
       "  </tbody>\n",
       "</table>\n",
       "</div>"
      ],
      "text/plain": [
       "  국적코드  성별    입국객수\n",
       "0  A01  남성  106320\n",
       "1  A01  여성  191436\n",
       "2  A31  남성     319\n",
       "3  A31  여성      42\n",
       "4  A18  남성  158912\n",
       "5  A18  여성  232943"
      ]
     },
     "execution_count": 23,
     "metadata": {},
     "output_type": "execute_result"
    }
   ],
   "source": [
    "sample_1"
   ]
  },
  {
   "cell_type": "code",
   "execution_count": 28,
   "id": "c7a6b64f",
   "metadata": {},
   "outputs": [
    {
     "name": "stdout",
     "output_type": "stream",
     "text": [
      "<class 'pandas.core.frame.DataFrame'>\n",
      "RangeIndex: 6 entries, 0 to 5\n",
      "Data columns (total 3 columns):\n",
      " #   Column  Non-Null Count  Dtype \n",
      "---  ------  --------------  ----- \n",
      " 0   국적코드    6 non-null      object\n",
      " 1   성별      6 non-null      object\n",
      " 2   입국객수    6 non-null      int64 \n",
      "dtypes: int64(1), object(2)\n",
      "memory usage: 272.0+ bytes\n"
     ]
    }
   ],
   "source": [
    "# 데이터 프레임의 정보 확인하기 : info() 함수\n",
    "# 데이터 프레임 : 행과 열의 데이터 셋 \n",
    "# <class 'pandas.core.frame.DataFrame'>  \n",
    "# DataFrame : class 다  그 전의 내용은 경로 \n",
    "# RangeIndex: 6 entries, 0 to 5 \n",
    "# entries 전체 행의 개수 : 6 / 0to5 : 행의 인덱스 번호\n",
    "# Data columns (total 3 columns) : 컬럼을 3개 가져옴 \n",
    "# 각 컬럼의 인덱스 번호 :  #   Column\n",
    "# 각 컬럼 별 로우의 개수 (null이 아닌 값만 카운트): Non-Null Count\n",
    "# Dtype : data type \n",
    "# object : 문자열 ( 숫자가 아닌 문자를 모두 object)\n",
    "# 데이터 처리 전에 꼭 info 해서 rangeindex 개수와 각 컬럼의 개수가 동일 한지 확인 해야 한다 \n",
    "# -> 아닌 경우 : 결측치 존재 하는 것 \n",
    "\n",
    "# <info> 에서 확인할 사항 \n",
    "# RangeIndex(전체 행의 개수) 와 각 Column(컬럼)의 개수가 동일한지 확인 \n",
    "#     (동일하지 않다면 Column에 누락된 값이 있을 수 있음 -> 결측치)\n",
    "# Dtype(데이터타입) 확인하기 -> 의심되는 타입이 있으면 데이터 확인하기 \n",
    "\n",
    "sample_1.info()"
   ]
  },
  {
   "cell_type": "code",
   "execution_count": 35,
   "id": "9a15cbb2",
   "metadata": {},
   "outputs": [
    {
     "data": {
      "text/html": [
       "<div>\n",
       "<style scoped>\n",
       "    .dataframe tbody tr th:only-of-type {\n",
       "        vertical-align: middle;\n",
       "    }\n",
       "\n",
       "    .dataframe tbody tr th {\n",
       "        vertical-align: top;\n",
       "    }\n",
       "\n",
       "    .dataframe thead th {\n",
       "        text-align: right;\n",
       "    }\n",
       "</style>\n",
       "<table border=\"1\" class=\"dataframe\">\n",
       "  <thead>\n",
       "    <tr style=\"text-align: right;\">\n",
       "      <th></th>\n",
       "      <th>국적코드</th>\n",
       "      <th>성별</th>\n",
       "      <th>입국객수</th>\n",
       "    </tr>\n",
       "  </thead>\n",
       "  <tbody>\n",
       "    <tr>\n",
       "      <th>0</th>\n",
       "      <td>A01</td>\n",
       "      <td>남성</td>\n",
       "      <td>106320</td>\n",
       "    </tr>\n",
       "    <tr>\n",
       "      <th>1</th>\n",
       "      <td>A01</td>\n",
       "      <td>여성</td>\n",
       "      <td>191436</td>\n",
       "    </tr>\n",
       "  </tbody>\n",
       "</table>\n",
       "</div>"
      ],
      "text/plain": [
       "  국적코드  성별    입국객수\n",
       "0  A01  남성  106320\n",
       "1  A01  여성  191436"
      ]
     },
     "execution_count": 35,
     "metadata": {},
     "output_type": "execute_result"
    }
   ],
   "source": [
    "# 데이터 확인하기 \n",
    "# 기본적으로 상위 5개의 데이터를 조회 시켜준다 \n",
    "# head()에 값을 넣어주면 값만큼 조회시켜 준다 \n",
    "sample_1.head(2)"
   ]
  },
  {
   "cell_type": "code",
   "execution_count": 38,
   "id": "1fb02ac6",
   "metadata": {},
   "outputs": [
    {
     "data": {
      "text/html": [
       "<div>\n",
       "<style scoped>\n",
       "    .dataframe tbody tr th:only-of-type {\n",
       "        vertical-align: middle;\n",
       "    }\n",
       "\n",
       "    .dataframe tbody tr th {\n",
       "        vertical-align: top;\n",
       "    }\n",
       "\n",
       "    .dataframe thead th {\n",
       "        text-align: right;\n",
       "    }\n",
       "</style>\n",
       "<table border=\"1\" class=\"dataframe\">\n",
       "  <thead>\n",
       "    <tr style=\"text-align: right;\">\n",
       "      <th></th>\n",
       "      <th>국적코드</th>\n",
       "      <th>성별</th>\n",
       "      <th>입국객수</th>\n",
       "    </tr>\n",
       "  </thead>\n",
       "  <tbody>\n",
       "    <tr>\n",
       "      <th>1</th>\n",
       "      <td>A01</td>\n",
       "      <td>여성</td>\n",
       "      <td>191436</td>\n",
       "    </tr>\n",
       "    <tr>\n",
       "      <th>2</th>\n",
       "      <td>A31</td>\n",
       "      <td>남성</td>\n",
       "      <td>319</td>\n",
       "    </tr>\n",
       "    <tr>\n",
       "      <th>3</th>\n",
       "      <td>A31</td>\n",
       "      <td>여성</td>\n",
       "      <td>42</td>\n",
       "    </tr>\n",
       "    <tr>\n",
       "      <th>4</th>\n",
       "      <td>A18</td>\n",
       "      <td>남성</td>\n",
       "      <td>158912</td>\n",
       "    </tr>\n",
       "    <tr>\n",
       "      <th>5</th>\n",
       "      <td>A18</td>\n",
       "      <td>여성</td>\n",
       "      <td>232943</td>\n",
       "    </tr>\n",
       "  </tbody>\n",
       "</table>\n",
       "</div>"
      ],
      "text/plain": [
       "  국적코드  성별    입국객수\n",
       "1  A01  여성  191436\n",
       "2  A31  남성     319\n",
       "3  A31  여성      42\n",
       "4  A18  남성  158912\n",
       "5  A18  여성  232943"
      ]
     },
     "execution_count": 38,
     "metadata": {},
     "output_type": "execute_result"
    }
   ],
   "source": [
    "# 데이터 확인하기 \n",
    "# 기본적으로 밑에서 있는 데이터 부터 5개 조회\n",
    "# 값을 넣어주면 값만큼 조회시켜 준다\n",
    "sample_1.tail()"
   ]
  },
  {
   "cell_type": "code",
   "execution_count": 39,
   "id": "da8a2903",
   "metadata": {},
   "outputs": [
    {
     "data": {
      "text/html": [
       "<div>\n",
       "<style scoped>\n",
       "    .dataframe tbody tr th:only-of-type {\n",
       "        vertical-align: middle;\n",
       "    }\n",
       "\n",
       "    .dataframe tbody tr th {\n",
       "        vertical-align: top;\n",
       "    }\n",
       "\n",
       "    .dataframe thead th {\n",
       "        text-align: right;\n",
       "    }\n",
       "</style>\n",
       "<table border=\"1\" class=\"dataframe\">\n",
       "  <thead>\n",
       "    <tr style=\"text-align: right;\">\n",
       "      <th></th>\n",
       "      <th>입국객수</th>\n",
       "    </tr>\n",
       "  </thead>\n",
       "  <tbody>\n",
       "    <tr>\n",
       "      <th>count</th>\n",
       "      <td>6.000000</td>\n",
       "    </tr>\n",
       "    <tr>\n",
       "      <th>mean</th>\n",
       "      <td>114995.333333</td>\n",
       "    </tr>\n",
       "    <tr>\n",
       "      <th>std</th>\n",
       "      <td>98105.752006</td>\n",
       "    </tr>\n",
       "    <tr>\n",
       "      <th>min</th>\n",
       "      <td>42.000000</td>\n",
       "    </tr>\n",
       "    <tr>\n",
       "      <th>25%</th>\n",
       "      <td>26819.250000</td>\n",
       "    </tr>\n",
       "    <tr>\n",
       "      <th>50%</th>\n",
       "      <td>132616.000000</td>\n",
       "    </tr>\n",
       "    <tr>\n",
       "      <th>75%</th>\n",
       "      <td>183305.000000</td>\n",
       "    </tr>\n",
       "    <tr>\n",
       "      <th>max</th>\n",
       "      <td>232943.000000</td>\n",
       "    </tr>\n",
       "  </tbody>\n",
       "</table>\n",
       "</div>"
      ],
      "text/plain": [
       "                입국객수\n",
       "count       6.000000\n",
       "mean   114995.333333\n",
       "std     98105.752006\n",
       "min        42.000000\n",
       "25%     26819.250000\n",
       "50%    132616.000000\n",
       "75%    183305.000000\n",
       "max    232943.000000"
      ]
     },
     "execution_count": 39,
     "metadata": {},
     "output_type": "execute_result"
    }
   ],
   "source": [
    "# 기초 통계값 확인하기 \n",
    "# 카운트, 평균, 표준편차, 최소값, 최대 값, 4분위 값들 \n",
    "# int float 타입의 데이터만 처리를 해준다 \n",
    "# 해당 통계 값을 확인 해서 이상치가 있는 지 확인 해본다 \n",
    "\n",
    "sample_1.describe()"
   ]
  },
  {
   "cell_type": "code",
   "execution_count": null,
   "id": "c08e1489",
   "metadata": {},
   "outputs": [],
   "source": []
  }
 ],
 "metadata": {
  "kernelspec": {
   "display_name": "Python 3 (ipykernel)",
   "language": "python",
   "name": "python3"
  },
  "language_info": {
   "codemirror_mode": {
    "name": "ipython",
    "version": 3
   },
   "file_extension": ".py",
   "mimetype": "text/x-python",
   "name": "python",
   "nbconvert_exporter": "python",
   "pygments_lexer": "ipython3",
   "version": "3.9.13"
  }
 },
 "nbformat": 4,
 "nbformat_minor": 5
}
