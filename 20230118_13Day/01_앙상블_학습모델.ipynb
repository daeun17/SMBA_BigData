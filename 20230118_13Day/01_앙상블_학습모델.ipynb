{
 "cells": [
  {
   "cell_type": "code",
   "execution_count": 1,
   "id": "b3f27126",
   "metadata": {},
   "outputs": [
    {
     "ename": "SyntaxError",
     "evalue": "invalid syntax (Temp/ipykernel_21488/4112067850.py, line 1)",
     "output_type": "error",
     "traceback": [
      "\u001b[1;36m  File \u001b[1;32m\"C:\\Users\\ekdms\\AppData\\Local\\Temp/ipykernel_21488/4112067850.py\"\u001b[1;36m, line \u001b[1;32m1\u001b[0m\n\u001b[1;33m    -앙상블 모델은 결정트리(DT)를 기반으로 만들어진 모델들이다\u001b[0m\n\u001b[1;37m         ^\u001b[0m\n\u001b[1;31mSyntaxError\u001b[0m\u001b[1;31m:\u001b[0m invalid syntax\n"
     ]
    }
   ],
   "source": [
    "-앙상블 모델은 결정트리(DT)를 기반으로 만들어진 모델들이다\n",
    "- 앙상블 학습모델(분류 및 회귀 모두사용 가능한 모델)\n",
    "    :랜덤포레스트(RandomForest : RT)\n",
    "    : 엑스트라 트리(Extra Trees : ET)\n",
    "    : 그레디언트 부스팅 (Gradient Boosting : GB)\n",
    "    "
   ]
  },
  {
   "cell_type": "markdown",
   "id": "2e1d2af6",
   "metadata": {},
   "source": [
    "## 랜덤포레스트 (RandomForest)"
   ]
  },
  {
   "cell_type": "code",
   "execution_count": 2,
   "id": "67c54808",
   "metadata": {},
   "outputs": [],
   "source": [
    "# - 앙상블 학습모델의 가장 대표적인 모델 -> 무조건 한다 \n",
    "# - 안정적인 성능으로 널리 사용되고 있음 \n",
    "# - 과대적합되는 것을 막아준다 \n",
    "# - 검증 및 테스트 뎅터에서 안정적인 성능을 얻을 수 있다 \n",
    "# 분류를 할때는 랜덤 포레스트를 먼저 시작 \n",
    "# 랜덤포레스트느 회귀 분류 모두 가능한 모델이다 \n",
    "# 회귀도 랜덤포레스트 부터 시작 \n",
    "# <처리순서>\n",
    "# - 결정트리를 랜덤하게 만들어 숲을 만든다\n",
    "# - 훈련데이터에서 랜덤하게 샘플을 추출 \n",
    "# - 다 사용된 샘플은 다시 훈련데이터에 넣어서 샘플 훈련데이터 생성\n",
    "# - 추출한 샘플 훈련데이터는 일부 중복된 값들로 추출될 수 있음 \n",
    "\n",
    "# 랜덤하게 데이터를 추출해서 랜덤하게 훈련 \n",
    "# 훈련데이터에서 추출해서 학습 후 사용 데이터를 반환하고 -> 해당 데이터를 다시 재사용 => 일부 데이터가 중복 되서 학습하는 경우가 있ㅇ다 \n",
    "# 이를 부팅 샘플링이라고 한다 \n",
    "# <부트스트랩 샘플링 Bootstrap Sample>\n",
    "# - 데이터 원본에서 중복을 허용하여 데이터를 샘플링하는 방식 \n",
    "# - 원본에서 램덤하게 샘플을 추출 \n",
    "# - 사용이 끝난 샘플을 원본에 다시 반환\n",
    "# - 위의 순서를 반복하여 다시 원본에서 샘플을 추출하는 방식 \n"
   ]
  },
  {
   "cell_type": "code",
   "execution_count": 6,
   "id": "38caf2ea",
   "metadata": {},
   "outputs": [
    {
     "name": "stdout",
     "output_type": "stream",
     "text": [
      "<class 'pandas.core.frame.DataFrame'>\n",
      "RangeIndex: 6497 entries, 0 to 6496\n",
      "Data columns (total 4 columns):\n",
      " #   Column   Non-Null Count  Dtype  \n",
      "---  ------   --------------  -----  \n",
      " 0   alcohol  6497 non-null   float64\n",
      " 1   sugar    6497 non-null   float64\n",
      " 2   pH       6497 non-null   float64\n",
      " 3   class    6497 non-null   float64\n",
      "dtypes: float64(4)\n",
      "memory usage: 203.2 KB\n",
      "(6497,) (6497, 3)\n",
      "(5197, 3) (5197,)\n",
      "(1300, 3) (1300,)\n"
     ]
    }
   ],
   "source": [
    "# 데이터가져오기 \n",
    "import pandas as pd \n",
    "wine = pd.read_csv('./data/08_wine.csv')\n",
    "wine.info()\n",
    "\n",
    "# 독립 종속 분리 \n",
    "data = wine[['alcohol', 'sugar', 'pH']].to_numpy()\n",
    "target = wine['class'].to_numpy()\n",
    "\n",
    "print(target.shape, data.shape)\n",
    "\n",
    "# train, test 분리 \n",
    "from sklearn.model_selection import train_test_split\n",
    "train_input, test_input,train_target, test_target = train_test_split(data, target, test_size = 0.2, random_state = 42)\n",
    "print(train_input.shape, train_target.shape)\n",
    "print (test_input.shape, test_target.shape)"
   ]
  },
  {
   "cell_type": "code",
   "execution_count": 14,
   "id": "5b6f2096",
   "metadata": {},
   "outputs": [
    {
     "name": "stdout",
     "output_type": "stream",
     "text": [
      "{'fit_time': array([0.68958116, 0.70157242, 0.69422245, 0.68477225, 0.67943764]), 'score_time': array([0.08156347, 0.07944369, 0.0778842 , 0.08035016, 0.0836885 ]), 'test_score': array([0.88461538, 0.88942308, 0.90279115, 0.88931665, 0.88642926]), 'train_score': array([0.9971133 , 0.99663219, 0.9978355 , 0.9973545 , 0.9978355 ])}\n",
      "0.9973541965122431 0.8905151032797809\n"
     ]
    }
   ],
   "source": [
    "# 교차검증을 통해서 랜덤포레스트 모델 사용 \n",
    "from sklearn.model_selection import cross_validate \n",
    "from sklearn.ensemble import RandomForestClassifier \n",
    "import numpy as np\n",
    "\n",
    "#모델 생성하기 \n",
    "rf = RandomForestClassifier(n_jobs = -1 , random_state =42 )\n",
    "\n",
    "# 교차검증 \n",
    "# return_train_score : 훈련 및 검증결과 보여주기 \n",
    "scores = cross_validate(rf, train_input, train_target,\n",
    "                       return_train_score=True, n_jobs = -1 )\n",
    "print(scores)\n",
    "#최종 훈련결과 및 검증 결과 : 기본 5개씩 나온다 \n",
    "train_mean = np.mean(scores[\"train_score\"])\n",
    "test_mean = np.mean(scores[\"test_score\"])\n",
    "print (train_mean, test_mean)\n",
    "# 약간의 과대 적합 발생 "
   ]
  },
  {
   "cell_type": "code",
   "execution_count": 15,
   "id": "777fbf38",
   "metadata": {},
   "outputs": [
    {
     "name": "stdout",
     "output_type": "stream",
     "text": [
      "[0.23167441 0.50039841 0.26792718]\n"
     ]
    }
   ],
   "source": [
    "# 특성중요도 확인하기\n",
    "# 랜덤포레스트 자체 훈련시키기 \n",
    "rf.fit(train_input, train_target)\n",
    "print(rf.feature_importances_)\n",
    "\n",
    "#특성의 순서 : 알콜도수, 당도, 농도 \n",
    "# 특성에 대한 데이터를 랜덤하게 보아서 성능이 골고루 분배되게 된다 \n",
    "# -> 효과적으로 데이터가 샘플링 된다 "
   ]
  },
  {
   "cell_type": "code",
   "execution_count": 20,
   "id": "6a4dcf8b",
   "metadata": {},
   "outputs": [
    {
     "name": "stdout",
     "output_type": "stream",
     "text": [
      "0.8934000384837406\n",
      "0.996921300750433\n",
      "0.8892307692307693\n"
     ]
    }
   ],
   "source": [
    "# 랜덤 포레스트만의 특징을 살려서 훈련시키기 \n",
    "\n",
    "# 모델 생성하기 \n",
    "# - oob_score (Out of Bag) : 샘플링 \n",
    "#     : 교차검증 중에 훈련에 참여하지 모산 샘플이 발생할 수 있는데, \n",
    "#     : 이러한 샘플을 훈련에 참여시킴으로서 훈련의 정확도를 올림 \n",
    "#      -> 훈련이 끝난 후 참여하지 못한 데이터를 이용해 또 훈련\n",
    "#     최적화가 잘된다 \n",
    "rf = RandomForestClassifier(oob_score = True, n_jobs = -1 , random_state= 42)\n",
    "\n",
    "#훈련 시키기 \n",
    "rf.fit(train_input, train_target)\n",
    "print(rf.oob_score_)\n",
    "print(rf.score(train_input, train_target))\n",
    "print(rf.score(test_input, test_target))\n",
    "# 해석 \n",
    "# oob 가 사용 된 score 비교시애는 \n",
    "# oob 건증결과(oob_score_)와 테스트 검증 결괄르 비교한다 \n",
    "# 0.89 vs 0.88로 성능은 높지 않지만, 과대적합은 해소 되었다 "
   ]
  },
  {
   "cell_type": "markdown",
   "id": "17f7603f",
   "metadata": {},
   "source": [
    "## 엑스트라 트리 (Extra Tree)"
   ]
  },
  {
   "cell_type": "code",
   "execution_count": null,
   "id": "4339d9b8",
   "metadata": {},
   "outputs": [],
   "source": [
    "# - 랜덤 포레스트와 유사 \n",
    "# 기본적으로 100개의 결정트리를 훈련\n",
    "# 랜덤포래스트와의 차이점 \n",
    "#     : 부트스트랩을 지원하지 않음 \n",
    "#         훈련데이터 전체를 이용 \n",
    "#         무작위로 트리 분할 \n",
    "# - 특성이 많지 않은 경우에는 랜덤포레스트와 큰 차이 없다 \n",
    "# - 랜덤하게 트리를 분할하기 때문에(알아서), 계산속도가 빠르다 "
   ]
  }
 ],
 "metadata": {
  "kernelspec": {
   "display_name": "pknu_bsae_kernel",
   "language": "python",
   "name": "pknu_base"
  },
  "language_info": {
   "codemirror_mode": {
    "name": "ipython",
    "version": 3
   },
   "file_extension": ".py",
   "mimetype": "text/x-python",
   "name": "python",
   "nbconvert_exporter": "python",
   "pygments_lexer": "ipython3",
   "version": "3.9.15"
  }
 },
 "nbformat": 4,
 "nbformat_minor": 5
}
