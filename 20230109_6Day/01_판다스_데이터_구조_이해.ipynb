{
 "cells": [
  {
   "cell_type": "markdown",
   "id": "3d34bbe7",
   "metadata": {},
   "source": [
    "# 1주차 내용 복습"
   ]
  },
  {
   "cell_type": "code",
   "execution_count": 1,
   "id": "f9d3732c",
   "metadata": {},
   "outputs": [],
   "source": [
    "# 패키지 불러들이기 \n",
    "import pandas as pd"
   ]
  },
  {
   "cell_type": "markdown",
   "id": "ebd16d41",
   "metadata": {},
   "source": [
    "## 판다스 데이터구조 -시리즈"
   ]
  },
  {
   "cell_type": "code",
   "execution_count": 5,
   "id": "91dd61c8",
   "metadata": {},
   "outputs": [
    {
     "data": {
      "text/plain": [
       "0       Dog\n",
       "1       Cat\n",
       "2     Tiger\n",
       "3      Lion\n",
       "4    Monkey\n",
       "dtype: object"
      ]
     },
     "execution_count": 5,
     "metadata": {},
     "output_type": "execute_result"
    }
   ],
   "source": [
    "# 리스트 -> 시리즈 데이터 생성하기 \n",
    "# 시리즈 : 컬럼명이 없음, 인덱스 - 값 으로 나오는 형태\n",
    "# 값에 접근하기 위해서 인덱스 번호를 이용해야 한다 \n",
    "# 인덱스를 지정해줘야함 \n",
    "sd1 = pd.Series([\"Dog\",\"Cat\",\"Tiger\",\"Lion\",\"Monkey\"],\n",
    "              index =[0,1,2,3,4])\n",
    "sd1[0]\n",
    "sd1"
   ]
  },
  {
   "cell_type": "code",
   "execution_count": 11,
   "id": "1d00495a",
   "metadata": {},
   "outputs": [
    {
     "name": "stdout",
     "output_type": "stream",
     "text": [
      "type:  <class 'pandas.core.series.Series'>\n"
     ]
    },
    {
     "data": {
      "text/plain": [
       "a      Doc\n",
       "b      Cat\n",
       "c    TIger\n",
       "dtype: object"
      ]
     },
     "execution_count": 11,
     "metadata": {},
     "output_type": "execute_result"
    }
   ],
   "source": [
    "# 딕셔너리 -> 시리즈 데이터로 생성하기 \n",
    "# 키값을 인덱스로 사용 \n",
    "dict_data = {0 : \"Doc\", 1: \"Cat\", 2: \"TIger\"}\n",
    "dict_data\n",
    "\n",
    "dict_data = {\"a\" : \"Doc\", \"b\": \"Cat\", \"c\": \"TIger\"}\n",
    "\n",
    "sd2 = pd.Series(dict_data)\n",
    "print(\"type: \", type(sd2))\n",
    "sd2"
   ]
  },
  {
   "cell_type": "code",
   "execution_count": 15,
   "id": "38aa7d92",
   "metadata": {},
   "outputs": [
    {
     "data": {
      "text/plain": [
       "0      Dog\n",
       "1      Cat\n",
       "2    Tiger\n",
       "dtype: object"
      ]
     },
     "execution_count": 15,
     "metadata": {},
     "output_type": "execute_result"
    }
   ],
   "source": [
    "# 인덱스 자동 지정 \n",
    "list_data = [\"Dog\", \"Cat\", \"Tiger\"]\n",
    "sd3 = pd.Series(list_data)\n",
    "sd3"
   ]
  },
  {
   "cell_type": "code",
   "execution_count": 22,
   "id": "1dce6272",
   "metadata": {},
   "outputs": [
    {
     "data": {
      "text/plain": [
       "0      Dog\n",
       "1      Cat\n",
       "2    Tiger\n",
       "dtype: object"
      ]
     },
     "execution_count": 22,
     "metadata": {},
     "output_type": "execute_result"
    }
   ],
   "source": [
    "# 튜플 데이터를ㄹ -> 시리즈로 만들기 \n",
    "# 튜플 : 리스트와 동일한 구조를 가지며, 사용법이 동일하다 \n",
    "#      :단 수정이 안되며, 수정 시 삭제 후 다시 만드어야 한다 \n",
    "tup_data = (\"Dog\", \"Cat\", \"Tiger\")\n",
    "tup_data\n",
    "\n",
    "sd4 = pd.Series(tup_data)\n",
    "sd4"
   ]
  },
  {
   "cell_type": "markdown",
   "id": "3552f31e",
   "metadata": {},
   "source": [
    "## 데이터 프레임 생성하기"
   ]
  },
  {
   "cell_type": "code",
   "execution_count": 26,
   "id": "27f98157",
   "metadata": {},
   "outputs": [
    {
     "data": {
      "text/html": [
       "<div>\n",
       "<style scoped>\n",
       "    .dataframe tbody tr th:only-of-type {\n",
       "        vertical-align: middle;\n",
       "    }\n",
       "\n",
       "    .dataframe tbody tr th {\n",
       "        vertical-align: top;\n",
       "    }\n",
       "\n",
       "    .dataframe thead th {\n",
       "        text-align: right;\n",
       "    }\n",
       "</style>\n",
       "<table border=\"1\" class=\"dataframe\">\n",
       "  <thead>\n",
       "    <tr style=\"text-align: right;\">\n",
       "      <th></th>\n",
       "      <th>동물</th>\n",
       "      <th>나이</th>\n",
       "    </tr>\n",
       "  </thead>\n",
       "  <tbody>\n",
       "    <tr>\n",
       "      <th>0</th>\n",
       "      <td>dog</td>\n",
       "      <td>7</td>\n",
       "    </tr>\n",
       "    <tr>\n",
       "      <th>1</th>\n",
       "      <td>cat</td>\n",
       "      <td>8</td>\n",
       "    </tr>\n",
       "    <tr>\n",
       "      <th>2</th>\n",
       "      <td>tiger</td>\n",
       "      <td>2</td>\n",
       "    </tr>\n",
       "    <tr>\n",
       "      <th>3</th>\n",
       "      <td>lion</td>\n",
       "      <td>3</td>\n",
       "    </tr>\n",
       "    <tr>\n",
       "      <th>4</th>\n",
       "      <td>monkey</td>\n",
       "      <td>1</td>\n",
       "    </tr>\n",
       "  </tbody>\n",
       "</table>\n",
       "</div>"
      ],
      "text/plain": [
       "       동물  나이\n",
       "0     dog   7\n",
       "1     cat   8\n",
       "2   tiger   2\n",
       "3    lion   3\n",
       "4  monkey   1"
      ]
     },
     "execution_count": 26,
     "metadata": {},
     "output_type": "execute_result"
    }
   ],
   "source": [
    "# 딕셔너리 형태로 생성하기 \n",
    "# key 값(칼럼) : 일반 문자열 \n",
    "# values(로우) : 리스트로 \n",
    "# 각 칼럼의 로우의 개수가 동일해야 한다\n",
    "\n",
    "\n",
    "dict_data = {\"동물\" : [\"dog\", \"cat\", \"tiger\", \"lion\", \"monkey\"],\n",
    "            \"나이\" : [7,8,2,3,1]}\n",
    "dict_data\n",
    "\n",
    "df1 = pd.DataFrame(dict_data)\n",
    "df1"
   ]
  },
  {
   "cell_type": "code",
   "execution_count": 29,
   "id": "e58abfec",
   "metadata": {},
   "outputs": [
    {
     "data": {
      "text/plain": [
       "[['dog', 7], ['cat', 8], ['tiger', 2], ['lion', 3]]"
      ]
     },
     "execution_count": 29,
     "metadata": {},
     "output_type": "execute_result"
    }
   ],
   "source": [
    "# 리스트 형태로 -> 데이터 프레임 생성하기 \n",
    "list_data = [[\"dog\", 7], [\"cat\", 8],[\"tiger\", 2],[\"lion\",3] ]\n",
    "list_data"
   ]
  },
  {
   "cell_type": "code",
   "execution_count": 31,
   "id": "73c7532c",
   "metadata": {},
   "outputs": [
    {
     "ename": "TypeError",
     "evalue": "__init__() got an unexpected keyword argument 'colimns'",
     "output_type": "error",
     "traceback": [
      "\u001b[1;31m---------------------------------------------------------------------------\u001b[0m",
      "\u001b[1;31mTypeError\u001b[0m                                 Traceback (most recent call last)",
      "\u001b[1;32m~\\AppData\\Local\\Temp/ipykernel_23224/2625533303.py\u001b[0m in \u001b[0;36m<module>\u001b[1;34m\u001b[0m\n\u001b[0;32m      1\u001b[0m \u001b[0mdata_list\u001b[0m \u001b[1;33m=\u001b[0m \u001b[1;33m[\u001b[0m\u001b[1;34m\"Dog\"\u001b[0m\u001b[1;33m,\u001b[0m\u001b[1;36m7\u001b[0m\u001b[1;33m]\u001b[0m\u001b[1;33m\u001b[0m\u001b[1;33m\u001b[0m\u001b[0m\n\u001b[0;32m      2\u001b[0m \u001b[0mcol_name\u001b[0m \u001b[1;33m=\u001b[0m \u001b[1;33m[\u001b[0m\u001b[1;34m\"동물\"\u001b[0m\u001b[1;33m,\u001b[0m \u001b[1;34m\"나이\"\u001b[0m\u001b[1;33m]\u001b[0m\u001b[1;33m\u001b[0m\u001b[1;33m\u001b[0m\u001b[0m\n\u001b[1;32m----> 3\u001b[1;33m \u001b[0mdf2\u001b[0m \u001b[1;33m=\u001b[0m \u001b[0mpd\u001b[0m\u001b[1;33m.\u001b[0m\u001b[0mDataFrame\u001b[0m\u001b[1;33m(\u001b[0m\u001b[1;33m[\u001b[0m\u001b[0mdata_list\u001b[0m\u001b[1;33m]\u001b[0m\u001b[1;33m,\u001b[0m \u001b[0mcolimns\u001b[0m\u001b[1;33m=\u001b[0m\u001b[0mcol_name\u001b[0m\u001b[1;33m)\u001b[0m\u001b[1;33m\u001b[0m\u001b[1;33m\u001b[0m\u001b[0m\n\u001b[0m\u001b[0;32m      4\u001b[0m \u001b[1;33m\u001b[0m\u001b[0m\n\u001b[0;32m      5\u001b[0m \u001b[0mdf2\u001b[0m \u001b[1;33m=\u001b[0m \u001b[0mpd\u001b[0m\u001b[1;33m.\u001b[0m\u001b[0mDataFrame\u001b[0m\u001b[1;33m(\u001b[0m\u001b[0mlist_data\u001b[0m\u001b[1;33m,\u001b[0m \u001b[0mcolumns\u001b[0m \u001b[1;33m=\u001b[0m \u001b[1;33m[\u001b[0m\u001b[1;34m\"동물\"\u001b[0m\u001b[1;33m,\u001b[0m \u001b[1;34m\"나이\"\u001b[0m\u001b[1;33m]\u001b[0m\u001b[1;33m)\u001b[0m\u001b[1;33m\u001b[0m\u001b[1;33m\u001b[0m\u001b[0m\n",
      "\u001b[1;31mTypeError\u001b[0m: __init__() got an unexpected keyword argument 'colimns'"
     ]
    }
   ],
   "source": [
    "data_list = [\"Dog\",7]\n",
    "col_name = [\"동물\", \"나이\"]\n",
    "df2 = pd.DataFrame([data_list], colimns=col_name)\n",
    "\n",
    "df2 = pd.DataFrame(list_data, columns = [\"동물\", \"나이\"])\n",
    "print(type(df2))\n",
    "df2"
   ]
  },
  {
   "cell_type": "code",
   "execution_count": null,
   "id": "e976a190",
   "metadata": {},
   "outputs": [],
   "source": []
  }
 ],
 "metadata": {
  "kernelspec": {
   "display_name": "pknu_bsae_kernel",
   "language": "python",
   "name": "pknu_base"
  },
  "language_info": {
   "codemirror_mode": {
    "name": "ipython",
    "version": 3
   },
   "file_extension": ".py",
   "mimetype": "text/x-python",
   "name": "python",
   "nbconvert_exporter": "python",
   "pygments_lexer": "ipython3",
   "version": "3.9.15"
  }
 },
 "nbformat": 4,
 "nbformat_minor": 5
}
