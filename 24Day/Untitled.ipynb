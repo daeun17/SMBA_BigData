{
 "cells": [
  {
   "cell_type": "markdown",
   "id": "89a870bf",
   "metadata": {},
   "source": [
    "## 텐서(tensor)\n",
    "! [텐서(Tensor)의 형태](https://codetorial.net/tensorflow/_images/basics_of_tensor_01.png)"
   ]
  },
  {
   "cell_type": "code",
   "execution_count": 1,
   "id": "18eaf27b",
   "metadata": {},
   "outputs": [
    {
     "data": {
      "text/plain": [
       "'\\n 텐서에서 사용되는 값은 \"숫자\"만 가능 \\n 텐서는 다차원 배열 의미함\\n 텐서는 벡터와 행렬을 일반화한 것으로 3차원으로 확장 가능 \\n Tensorflow 패키지의 가장 주요한 객체가 tensor임 \\n Tensorflow의 작업은 주로 텐서의 연산으로 이루어짐 \\n Tensorflow의 정의 : 텐서(Tensor)를 정의하고 연산을 수행하도록하는 프레임 워크 \\n\\n'"
      ]
     },
     "execution_count": 1,
     "metadata": {},
     "output_type": "execute_result"
    }
   ],
   "source": [
    "\"\"\"\n",
    " 텐서에서 사용되는 값은 \"숫자\"만 가능 \n",
    " 텐서는 다차원 배열 의미함\n",
    " 텐서는 벡터와 행렬을 일반화한 것으로 3차원으로 확장 가능 \n",
    " Tensorflow 패키지의 가장 주요한 객체가 tensor임 \n",
    " Tensorflow의 작업은 주로 텐서의 연산으로 이루어짐 \n",
    " Tensorflow의 정의 : 텐서(Tensor)를 정의하고 연산을 수행하도록하는 프레임 워크 \n",
    "\n",
    "\"\"\""
   ]
  },
  {
   "cell_type": "code",
   "execution_count": 2,
   "id": "b9e66968",
   "metadata": {},
   "outputs": [],
   "source": [
    "# numpy의 array()를 이용해서 텐서 형태 확인\n",
    "# 스칼라(scala) 테선 => 0차원 텐서, 0D텐서, rank0인 텐서라고 다양하게 칭함\n",
    "# 하나의 숫자만 담고 있는 텐서 \n",
    "# 하나의 값을 가지는 일반 변수라고 생각하면 이해편함 \n"
   ]
  },
  {
   "cell_type": "code",
   "execution_count": 3,
   "id": "c9c457d6",
   "metadata": {},
   "outputs": [
    {
     "name": "stdout",
     "output_type": "stream",
     "text": [
      "스칼라 텐서:  12\n",
      "차원 ()\n",
      "rank확인 0\n"
     ]
    }
   ],
   "source": [
    "import numpy as np \n",
    "x = np.array(12)\n",
    "print(\"스칼라 텐서: \", x)\n",
    "print(\"차원\", x.shape)\n",
    "print(\"rank확인\", x.ndim)"
   ]
  },
  {
   "cell_type": "code",
   "execution_count": 7,
   "id": "a719a028",
   "metadata": {},
   "outputs": [
    {
     "name": "stdout",
     "output_type": "stream",
     "text": [
      "5개의 값을 가지는 벡터:  [12  3  6 14  7]\n",
      "차원 (5,)\n",
      "rank확인 1\n",
      "6\n"
     ]
    }
   ],
   "source": [
    "# 벡터(vector) 텐서 : 1D 텐서, rnak1텐서\n",
    "# 여러가지 숫자를 담고 있는 1차원 배열\n",
    "# 1차원 리스트[]와 유사한 형태\n",
    "\n",
    "x = np.array([12,3,6,14,7])\n",
    "print(\"5개의 값을 가지는 벡터: \", x)\n",
    "print(\"차원\", x.shape)\n",
    "print(\"rank확인\", x.ndim)\n",
    "print(x[2])"
   ]
  },
  {
   "cell_type": "code",
   "execution_count": 13,
   "id": "91661ce5",
   "metadata": {},
   "outputs": [
    {
     "name": "stdout",
     "output_type": "stream",
     "text": [
      "행렬:  [[ 5 78  2 34  0]\n",
      " [ 6 79  3 35  1]\n",
      " [ 7 80  4 36  2]]\n",
      "차원 (3, 5)\n",
      "rank확인 2\n"
     ]
    },
    {
     "data": {
      "text/plain": [
       "array([5, 6, 7])"
      ]
     },
     "execution_count": 13,
     "metadata": {},
     "output_type": "execute_result"
    }
   ],
   "source": [
    "# 행렬(Matrix) 텐서 : 2D 텐서, rank2텐서 \n",
    "# 여러개의 벡터를 담고 있는 새로운 배열을 행렬(matrix)텐서라 칭함\n",
    "# 2차원 : [[]]이 형태\n",
    "# 데이터 프레임 형태와 유사 \n",
    "\n",
    "x =np.array([[5,78,2,34,0],\n",
    "           [6,79,3,35,1],\n",
    "           [7,80,4,36,2]])\n",
    "print(\"행렬: \", x)\n",
    "print(\"차원\", x.shape)\n",
    "print(\"rank확인\", x.ndim)\n",
    "x[:,0]"
   ]
  },
  {
   "cell_type": "code",
   "execution_count": null,
   "id": "d9508fa5",
   "metadata": {},
   "outputs": [],
   "source": [
    "# 3D 텐서 : rank3 텐서 \n",
    "# 행렬이 여러개 모여 있는 것 \n",
    "# 숫자가 채워진 직육면체\n"
   ]
  },
  {
   "cell_type": "code",
   "execution_count": 15,
   "id": "c7038df5",
   "metadata": {},
   "outputs": [
    {
     "name": "stdout",
     "output_type": "stream",
     "text": [
      "3D텐서:  [[[ 5 78  2 34  0]\n",
      "  [ 6 79  3 35  1]\n",
      "  [ 7 80  4 36  2]]\n",
      "\n",
      " [[ 5 78  2 34  0]\n",
      "  [ 6 79  3 35  1]\n",
      "  [ 7 80  4 36  2]]\n",
      "\n",
      " [[ 5 78  2 34  0]\n",
      "  [ 6 79  3 35  1]\n",
      "  [ 7 80  4 36  2]]]\n",
      "차원 (3, 3, 5)\n",
      "rank확인 3\n"
     ]
    },
    {
     "data": {
      "text/plain": [
       "array([ 6, 79,  3, 35,  1])"
      ]
     },
     "execution_count": 15,
     "metadata": {},
     "output_type": "execute_result"
    }
   ],
   "source": [
    "x =np.array([[[5,78,2,34,0],[6,79,3,35,1],[7,80,4,36,2]],\n",
    "            [[5,78,2,34,0],[6,79,3,35,1],[7,80,4,36,2]],\n",
    "            [[5,78,2,34,0],[6,79,3,35,1],[7,80,4,36,2]]])\n",
    "print(\"3D텐서: \", x)\n",
    "print(\"차원\", x.shape)\n",
    "print(\"rank확인\", x.ndim)\n",
    "x[1,1]"
   ]
  },
  {
   "cell_type": "code",
   "execution_count": null,
   "id": "444b7a79",
   "metadata": {},
   "outputs": [],
   "source": []
  },
  {
   "cell_type": "code",
   "execution_count": null,
   "id": "5e481fd8",
   "metadata": {},
   "outputs": [],
   "source": []
  },
  {
   "cell_type": "code",
   "execution_count": null,
   "id": "f3e0ac7b",
   "metadata": {},
   "outputs": [],
   "source": []
  },
  {
   "cell_type": "code",
   "execution_count": null,
   "id": "21b5d362",
   "metadata": {},
   "outputs": [],
   "source": []
  },
  {
   "cell_type": "code",
   "execution_count": null,
   "id": "23f9e629",
   "metadata": {},
   "outputs": [],
   "source": []
  },
  {
   "cell_type": "code",
   "execution_count": null,
   "id": "a73a18f6",
   "metadata": {},
   "outputs": [],
   "source": []
  },
  {
   "cell_type": "code",
   "execution_count": null,
   "id": "546e2de7",
   "metadata": {},
   "outputs": [],
   "source": []
  },
  {
   "cell_type": "code",
   "execution_count": null,
   "id": "bc036815",
   "metadata": {},
   "outputs": [],
   "source": []
  }
 ],
 "metadata": {
  "kernelspec": {
   "display_name": "pknu_deep_kernel",
   "language": "python",
   "name": "pknu_deep"
  },
  "language_info": {
   "codemirror_mode": {
    "name": "ipython",
    "version": 3
   },
   "file_extension": ".py",
   "mimetype": "text/x-python",
   "name": "python",
   "nbconvert_exporter": "python",
   "pygments_lexer": "ipython3",
   "version": "3.9.16"
  }
 },
 "nbformat": 4,
 "nbformat_minor": 5
}
